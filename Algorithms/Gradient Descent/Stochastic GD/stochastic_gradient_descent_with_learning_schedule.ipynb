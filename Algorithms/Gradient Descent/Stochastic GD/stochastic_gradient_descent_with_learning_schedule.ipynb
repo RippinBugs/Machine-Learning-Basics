{
 "cells": [
  {
   "cell_type": "code",
   "execution_count": 1,
   "id": "4559c1d7",
   "metadata": {},
   "outputs": [],
   "source": [
    "import numpy as np\n",
    "import random\n",
    "\n",
    "from sklearn.datasets import load_diabetes\n",
    "from sklearn.linear_model import SGDRegressor\n",
    "from sklearn.model_selection import train_test_split\n",
    "from sklearn.metrics import r2_score"
   ]
  },
  {
   "cell_type": "code",
   "execution_count": 2,
   "id": "a59fd111",
   "metadata": {},
   "outputs": [],
   "source": [
    "X,y = load_diabetes(return_X_y=True)\n",
    "X_train,X_test,y_train,y_test = train_test_split(X,y,random_state=13,test_size=0.2)"
   ]
  },
  {
   "cell_type": "markdown",
   "id": "2c151cfb",
   "metadata": {},
   "source": [
    "Not accurate to our model also we used huber loss instead of squared error. Using the below code just for learning purposes."
   ]
  },
  {
   "cell_type": "code",
   "execution_count": 42,
   "id": "8890c010",
   "metadata": {},
   "outputs": [],
   "source": [
    "reg = SGDRegressor(loss='huber',fit_intercept=True,max_iter=50,learning_rate='optimal',eta0=0.01,random_state=33,alpha = 0.00000005)\n",
    "reg.fit(X_train,y_train)\n",
    "\n",
    "y_pred = reg.predict(X_test)"
   ]
  },
  {
   "cell_type": "code",
   "execution_count": 43,
   "id": "78bef18c",
   "metadata": {},
   "outputs": [
    {
     "name": "stdout",
     "output_type": "stream",
     "text": [
      "[150.92692911]\n",
      "[ -25.1202666  -217.52279434  478.03110566  334.62246417  -30.85617837\n",
      " -106.65557014 -216.74118272  133.6195899   403.49515647  143.74926445]\n"
     ]
    }
   ],
   "source": [
    "print(reg.intercept_)\n",
    "print(reg.coef_)"
   ]
  },
  {
   "cell_type": "code",
   "execution_count": 44,
   "id": "54ee6c04",
   "metadata": {},
   "outputs": [
    {
     "data": {
      "text/plain": [
       "0.38521906881574275"
      ]
     },
     "execution_count": 44,
     "metadata": {},
     "output_type": "execute_result"
    }
   ],
   "source": [
    "r2 = r2_score(y_test,y_pred)\n",
    "r2"
   ]
  },
  {
   "cell_type": "code",
   "execution_count": 41,
   "id": "2ca11a70",
   "metadata": {},
   "outputs": [],
   "source": [
    "t0,t1 = 5,50\n",
    "def learn_rate(t):\n",
    "    return t0/(t+t1)"
   ]
  },
  {
   "cell_type": "markdown",
   "id": "77ad9f8b",
   "metadata": {},
   "source": [
    "Stochastic Gradient Descent with Learning Shcedule."
   ]
  },
  {
   "cell_type": "code",
   "execution_count": 30,
   "id": "a9beb875",
   "metadata": {},
   "outputs": [],
   "source": [
    "class StochasticGDRegressor():\n",
    "    def __init__(self,epochs = 1000):\n",
    "        self.intercept_ = None\n",
    "        self.coef_ = None\n",
    "        self.epochs = epochs\n",
    "        #self.lr = learning_rate\n",
    "        \n",
    "    def fit(self,X_train,y_train):\n",
    "        self.intercept_ = 0\n",
    "        self.coef_ = np.ones(X_train.shape[1])\n",
    "        \n",
    "        for i in range(self.epochs):\n",
    "            for j in range(X_train.shape[0]):\n",
    "                self.lr = learn_rate(i * X_train.shape[0] + j)\n",
    "                id_num = np.random.randint(0,X_train.shape[0])\n",
    "                \n",
    "                y_pred =np.dot(X_train[id_num],self.coef_) + self.intercept_\n",
    "                der_intercept = -2 * (y_train[id_num] - y_pred)\n",
    "                self.intercept_ = self.intercept_ - self.lr * der_intercept\n",
    "                \n",
    "                der_coef = -2 * np.dot((y_train[id_num] - y_pred),X_train[id_num])\n",
    "                self.coef_ = self.coef_ - self.lr * der_coef\n",
    "                \n",
    "        print(self.intercept_,self.coef_)\n",
    "                \n",
    "        \n",
    "    def predict(self,X_test):\n",
    "        return np.dot(X_test,self.coef_) + self.intercept_"
   ]
  },
  {
   "cell_type": "code",
   "execution_count": 31,
   "id": "5683bc4d",
   "metadata": {},
   "outputs": [
    {
     "name": "stdout",
     "output_type": "stream",
     "text": [
      "153.10191665508256 [ 31.60015354  -1.37902466 122.22938724  82.65469464  36.0032022\n",
      "  27.08012884 -64.83162637  75.15888712 103.4722243   73.44469092]\n"
     ]
    }
   ],
   "source": [
    "sgd = StochasticGDRegressor(epochs = 70)\n",
    "sgd.fit(X_train,y_train)"
   ]
  },
  {
   "cell_type": "code",
   "execution_count": 32,
   "id": "35f56195",
   "metadata": {},
   "outputs": [],
   "source": [
    "y_pred = sgd.predict(X_test)"
   ]
  },
  {
   "cell_type": "code",
   "execution_count": 33,
   "id": "d2f9ea32",
   "metadata": {},
   "outputs": [
    {
     "data": {
      "text/plain": [
       "0.25555556621449593"
      ]
     },
     "execution_count": 33,
     "metadata": {},
     "output_type": "execute_result"
    }
   ],
   "source": [
    "r2s = r2_score(y_test,y_pred)\n",
    "r2s"
   ]
  },
  {
   "cell_type": "code",
   "execution_count": null,
   "id": "8d658767",
   "metadata": {},
   "outputs": [],
   "source": []
  }
 ],
 "metadata": {
  "kernelspec": {
   "display_name": "Python 3 (ipykernel)",
   "language": "python",
   "name": "python3"
  },
  "language_info": {
   "codemirror_mode": {
    "name": "ipython",
    "version": 3
   },
   "file_extension": ".py",
   "mimetype": "text/x-python",
   "name": "python",
   "nbconvert_exporter": "python",
   "pygments_lexer": "ipython3",
   "version": "3.9.12"
  }
 },
 "nbformat": 4,
 "nbformat_minor": 5
}
