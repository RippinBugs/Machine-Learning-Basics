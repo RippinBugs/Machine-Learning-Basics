{
 "cells": [
  {
   "cell_type": "markdown",
   "id": "f68bd67b",
   "metadata": {},
   "source": [
    "Stochastic Gradient Descent will converge faster as it will take less number of epochs compared to Batch Gradient Descent. But the result will be different every single time if you run the code several times because of the randomness. But that doesn't mean the result will be way out of the optimum result. It will always be close to the optimal result."
   ]
  },
  {
   "cell_type": "markdown",
   "id": "e21fc60d",
   "metadata": {},
   "source": [
    "Using the sklearn SGDRegressor."
   ]
  },
  {
   "cell_type": "code",
   "execution_count": 135,
   "id": "4989bfec",
   "metadata": {},
   "outputs": [],
   "source": [
    "import numpy as np\n",
    "import random\n",
    "\n",
    "from sklearn.datasets import load_diabetes\n",
    "from sklearn.linear_model import SGDRegressor\n",
    "from sklearn.model_selection import train_test_split\n",
    "from sklearn.metrics import r2_score"
   ]
  },
  {
   "cell_type": "code",
   "execution_count": 136,
   "id": "d23fec4d",
   "metadata": {},
   "outputs": [],
   "source": [
    "X,y = load_diabetes(return_X_y=True)"
   ]
  },
  {
   "cell_type": "code",
   "execution_count": 137,
   "id": "3ee7776f",
   "metadata": {},
   "outputs": [],
   "source": [
    "X_train,X_test,y_train,y_test = train_test_split(X,y,random_state=32,test_size=0.2)"
   ]
  },
  {
   "cell_type": "code",
   "execution_count": 138,
   "id": "444e1c1a",
   "metadata": {},
   "outputs": [],
   "source": [
    "reg = SGDRegressor(max_iter=100,learning_rate='constant',eta0=0.01,random_state=13)\n",
    "reg.fit(X_train,y_train)\n",
    "\n",
    "y_pred = reg.predict(X_test)"
   ]
  },
  {
   "cell_type": "code",
   "execution_count": 139,
   "id": "caaee34a",
   "metadata": {},
   "outputs": [
    {
     "name": "stdout",
     "output_type": "stream",
     "text": [
      "[156.83598183]\n",
      "[  58.42655606  -66.39515464  299.27488581  223.30520732   25.13964966\n",
      "   -6.37350383 -163.93842378  132.45833025  261.9732631   148.70191095]\n"
     ]
    }
   ],
   "source": [
    "print(reg.intercept_)\n",
    "print(reg.coef_)"
   ]
  },
  {
   "cell_type": "code",
   "execution_count": 140,
   "id": "c0534dc9",
   "metadata": {},
   "outputs": [
    {
     "data": {
      "text/plain": [
       "0.40735173596154983"
      ]
     },
     "execution_count": 140,
     "metadata": {},
     "output_type": "execute_result"
    }
   ],
   "source": [
    "r2 = r2_score(y_test,y_pred)\n",
    "r2"
   ]
  },
  {
   "cell_type": "markdown",
   "id": "5a514a46",
   "metadata": {},
   "source": [
    "SGDRegressor from scratch"
   ]
  },
  {
   "cell_type": "code",
   "execution_count": 141,
   "id": "93c83665",
   "metadata": {},
   "outputs": [],
   "source": [
    "class StochasticGDRegressor():\n",
    "    def __init__(self,epochs = 1000,learning_rate = 0.01):\n",
    "        self.intercept_ = None\n",
    "        self.coef_ = None\n",
    "        self.epochs = epochs\n",
    "        self.lr = learning_rate\n",
    "        \n",
    "    def fit(self,X_train,y_train):\n",
    "        self.intercept_ = 0\n",
    "        self.coef_ = np.ones(X_train.shape[1])\n",
    "        \n",
    "        for i in range(self.epochs):\n",
    "            for j in range(X_train.shape[0]):\n",
    "                id_num = np.random.randint(0,X_train.shape[0])\n",
    "                \n",
    "                y_pred =np.dot(X_train[id_num],self.coef_) + self.intercept_\n",
    "                der_intercept = -2 * (y_train[id_num] - y_pred)\n",
    "                self.intercept_ = self.intercept_ - self.lr * der_intercept\n",
    "                \n",
    "                der_coef = -2 * np.dot((y_train[id_num] - y_pred),X_train[id_num])\n",
    "                self.coef_ = self.coef_ - self.lr * der_coef\n",
    "                \n",
    "        print(self.intercept_,self.coef_)\n",
    "                \n",
    "        \n",
    "    def predict(self,X_test):\n",
    "        return np.dot(X_test,self.coef_) + self.intercept_"
   ]
  },
  {
   "cell_type": "code",
   "execution_count": 155,
   "id": "44108bbe",
   "metadata": {},
   "outputs": [
    {
     "name": "stdout",
     "output_type": "stream",
     "text": [
      "154.73776016382254 [  61.178051    -76.72102894  313.1280732   243.9079181    16.43913503\n",
      "  -16.68542235 -168.21183456  131.85417436  271.21971047  154.0469652 ]\n"
     ]
    }
   ],
   "source": [
    "sgd = StochasticGDRegressor(epochs = 40,learning_rate=0.01)\n",
    "sgd.fit(X_train,y_train)"
   ]
  },
  {
   "cell_type": "code",
   "execution_count": 156,
   "id": "f4b7039a",
   "metadata": {},
   "outputs": [],
   "source": [
    "y_pred = sgd.predict(X_test)"
   ]
  },
  {
   "cell_type": "code",
   "execution_count": 157,
   "id": "32d7753f",
   "metadata": {},
   "outputs": [
    {
     "data": {
      "text/plain": [
       "0.41919378099370885"
      ]
     },
     "execution_count": 157,
     "metadata": {},
     "output_type": "execute_result"
    }
   ],
   "source": [
    "r2s = r2_score(y_test,y_pred)\n",
    "r2s"
   ]
  },
  {
   "cell_type": "code",
   "execution_count": null,
   "id": "2953ea03",
   "metadata": {},
   "outputs": [],
   "source": []
  }
 ],
 "metadata": {
  "kernelspec": {
   "display_name": "Python 3 (ipykernel)",
   "language": "python",
   "name": "python3"
  },
  "language_info": {
   "codemirror_mode": {
    "name": "ipython",
    "version": 3
   },
   "file_extension": ".py",
   "mimetype": "text/x-python",
   "name": "python",
   "nbconvert_exporter": "python",
   "pygments_lexer": "ipython3",
   "version": "3.9.12"
  }
 },
 "nbformat": 4,
 "nbformat_minor": 5
}
