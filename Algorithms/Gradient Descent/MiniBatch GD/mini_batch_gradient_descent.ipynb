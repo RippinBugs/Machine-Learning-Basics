{
 "cells": [
  {
   "cell_type": "markdown",
   "id": "9202a29e",
   "metadata": {},
   "source": [
    "Mini Batch Gradient Descent from scratch"
   ]
  },
  {
   "cell_type": "code",
   "execution_count": 31,
   "id": "42a8e14c",
   "metadata": {},
   "outputs": [],
   "source": [
    "import numpy as np\n",
    "import random\n",
    "\n",
    "from sklearn.datasets import load_diabetes\n",
    "from sklearn.linear_model import LinearRegression\n",
    "from sklearn.model_selection import train_test_split\n",
    "from sklearn.metrics import r2_score"
   ]
  },
  {
   "cell_type": "code",
   "execution_count": 32,
   "id": "024049cc",
   "metadata": {},
   "outputs": [],
   "source": [
    "X,y = load_diabetes(return_X_y=True)\n",
    "X_train,X_test,y_train,y_test = train_test_split(X,y,random_state=2,test_size=0.2)"
   ]
  },
  {
   "cell_type": "code",
   "execution_count": 33,
   "id": "2473e898",
   "metadata": {},
   "outputs": [],
   "source": [
    "reg = LinearRegression()\n",
    "reg.fit(X_train,y_train)\n",
    "\n",
    "y_pred = reg.predict(X_test)"
   ]
  },
  {
   "cell_type": "code",
   "execution_count": 34,
   "id": "ee8ed26c",
   "metadata": {},
   "outputs": [
    {
     "name": "stdout",
     "output_type": "stream",
     "text": [
      "151.88334520854633\n",
      "[  -9.16088483 -205.46225988  516.68462383  340.62734108 -895.54360867\n",
      "  561.21453306  153.88478595  126.73431596  861.12139955   52.41982836]\n"
     ]
    }
   ],
   "source": [
    "print(reg.intercept_)\n",
    "print(reg.coef_)"
   ]
  },
  {
   "cell_type": "code",
   "execution_count": 35,
   "id": "7b787659",
   "metadata": {},
   "outputs": [
    {
     "data": {
      "text/plain": [
       "0.4399387660024645"
      ]
     },
     "execution_count": 35,
     "metadata": {},
     "output_type": "execute_result"
    }
   ],
   "source": [
    "r2 = r2_score(y_test,y_pred)\n",
    "r2"
   ]
  },
  {
   "cell_type": "code",
   "execution_count": 68,
   "id": "1a6970d8",
   "metadata": {},
   "outputs": [],
   "source": [
    "class MiniBatchGDRegressor():\n",
    "    def __init__(self,epochs = 75,learning_rate = 0.01,batch_size = 10):\n",
    "        self.intercept_ = None\n",
    "        self.coef_ = None\n",
    "        self.epochs = epochs\n",
    "        self.lr = learning_rate\n",
    "        self.batch_size = batch_size\n",
    "        \n",
    "    def fit(self,X_train,y_train):\n",
    "        self.intercept_ = 0\n",
    "        self.coef_ = np.ones(X_train.shape[1])\n",
    "        \n",
    "        for i in range(self.epochs):\n",
    "            for j in range(int(X_train.shape[0] / self.batch_size)):\n",
    "                #generating multiple random numbers(rows in this case)\n",
    "                batch = random.sample(range(X_train.shape[0]),self.batch_size)\n",
    "                \n",
    "                y_pred =np.dot(X_train[batch],self.coef_) + self.intercept_\n",
    "                der_intercept = -2 * np.mean(y_train[batch] - y_pred)\n",
    "                self.intercept_ = self.intercept_ - self.lr * der_intercept\n",
    "                \n",
    "                der_coef = -2 * np.dot((y_train[batch] - y_pred),X_train[batch])\n",
    "                self.coef_ = self.coef_ - self.lr * der_coef\n",
    "                \n",
    "        #print(self.intercept_,self.coef_)\n",
    "                \n",
    "        \n",
    "    def predict(self,X_test):\n",
    "        return np.dot(X_test,self.coef_) + self.intercept_"
   ]
  },
  {
   "cell_type": "code",
   "execution_count": 75,
   "id": "a197b420",
   "metadata": {},
   "outputs": [],
   "source": [
    "mbgd = MiniBatchGDRegressor(epochs = 75,learning_rate=0.01,batch_size = int(X_train.shape[0]/10))\n",
    "mbgd.fit(X_train,y_train)"
   ]
  },
  {
   "cell_type": "code",
   "execution_count": 76,
   "id": "68121047",
   "metadata": {},
   "outputs": [
    {
     "data": {
      "text/plain": [
       "array([ 3.94786285e+01, -1.12573292e+02,  4.16931234e+02,  2.84249736e+02,\n",
       "        1.85338993e-01, -6.11149450e+01, -1.80827174e+02,  1.21766300e+02,\n",
       "        3.75521262e+02,  1.23281046e+02])"
      ]
     },
     "execution_count": 76,
     "metadata": {},
     "output_type": "execute_result"
    }
   ],
   "source": [
    "mbgd.coef_"
   ]
  },
  {
   "cell_type": "code",
   "execution_count": 77,
   "id": "c29d6863",
   "metadata": {},
   "outputs": [
    {
     "data": {
      "text/plain": [
       "150.16066597793204"
      ]
     },
     "execution_count": 77,
     "metadata": {},
     "output_type": "execute_result"
    }
   ],
   "source": [
    "mbgd.intercept_"
   ]
  },
  {
   "cell_type": "code",
   "execution_count": 78,
   "id": "b2ae2751",
   "metadata": {},
   "outputs": [],
   "source": [
    "y_pred = mbgd.predict(X_test)"
   ]
  },
  {
   "cell_type": "code",
   "execution_count": 79,
   "id": "c4a63af4",
   "metadata": {},
   "outputs": [
    {
     "data": {
      "text/plain": [
       "0.44752229302661006"
      ]
     },
     "execution_count": 79,
     "metadata": {},
     "output_type": "execute_result"
    }
   ],
   "source": [
    "r2s = r2_score(y_test,y_pred)\n",
    "r2s"
   ]
  },
  {
   "cell_type": "code",
   "execution_count": 80,
   "id": "dcda5032",
   "metadata": {},
   "outputs": [
    {
     "data": {
      "text/plain": [
       "[81, 6, 227, 341, 217, 290, 275, 160, 154, 218]"
      ]
     },
     "execution_count": 80,
     "metadata": {},
     "output_type": "execute_result"
    }
   ],
   "source": [
    "\"\"\"\n",
    "What random.sample() method does.\n",
    "\"\"\"\n",
    "\n",
    "random.sample(range(X_train.shape[0]),10)"
   ]
  },
  {
   "cell_type": "markdown",
   "id": "7a44412d",
   "metadata": {},
   "source": [
    "Mini batch gradient descent using sklearn.\n",
    "\n",
    "The fact is that there is no built in class for mini-batch gradient descent. You have to come up with your own solution to perfomr mini batch gd."
   ]
  },
  {
   "cell_type": "code",
   "execution_count": 81,
   "id": "8f8acf44",
   "metadata": {},
   "outputs": [],
   "source": [
    "from sklearn.linear_model import SGDRegressor"
   ]
  },
  {
   "cell_type": "code",
   "execution_count": 82,
   "id": "32a757b5",
   "metadata": {},
   "outputs": [],
   "source": [
    "sgd = SGDRegressor(learning_rate='constant',eta0=0.2)"
   ]
  },
  {
   "cell_type": "markdown",
   "id": "bf5f10ce",
   "metadata": {},
   "source": [
    "partial_fit(X, y, sample_weight=None)\n",
    "\n",
    "\n",
    "Perform one epoch of stochastic gradient descent on given samples."
   ]
  },
  {
   "cell_type": "code",
   "execution_count": 89,
   "id": "a492cf5d",
   "metadata": {},
   "outputs": [],
   "source": [
    "batch_size = 35\n",
    "\n",
    "#epoch is 100\n",
    "for i in range(100):\n",
    "    batch = random.sample(range(X_train.shape[0]),batch_size)\n",
    "    sgd.partial_fit(X_train[batch],y_train[batch])\n",
    "    "
   ]
  },
  {
   "cell_type": "code",
   "execution_count": 90,
   "id": "32085e8b",
   "metadata": {},
   "outputs": [
    {
     "data": {
      "text/plain": [
       "array([  -0.7113234 , -211.43262086,  499.84967973,  332.50693335,\n",
       "        -49.41104497, -127.44867408, -190.26912592,  120.38638676,\n",
       "        477.53591312,   88.49343577])"
      ]
     },
     "execution_count": 90,
     "metadata": {},
     "output_type": "execute_result"
    }
   ],
   "source": [
    "sgd.coef_"
   ]
  },
  {
   "cell_type": "code",
   "execution_count": 91,
   "id": "2c79837e",
   "metadata": {},
   "outputs": [
    {
     "data": {
      "text/plain": [
       "array([156.11586344])"
      ]
     },
     "execution_count": 91,
     "metadata": {},
     "output_type": "execute_result"
    }
   ],
   "source": [
    "sgd.intercept_"
   ]
  },
  {
   "cell_type": "code",
   "execution_count": 92,
   "id": "0f263ee1",
   "metadata": {},
   "outputs": [],
   "source": [
    "y_pred = sgd.predict(X_test)"
   ]
  },
  {
   "cell_type": "code",
   "execution_count": 93,
   "id": "b462b1ea",
   "metadata": {},
   "outputs": [
    {
     "data": {
      "text/plain": [
       "0.45274526049604"
      ]
     },
     "execution_count": 93,
     "metadata": {},
     "output_type": "execute_result"
    }
   ],
   "source": [
    "r2s = r2_score(y_test,y_pred)\n",
    "r2s"
   ]
  },
  {
   "cell_type": "code",
   "execution_count": null,
   "id": "fe1d9858",
   "metadata": {},
   "outputs": [],
   "source": []
  }
 ],
 "metadata": {
  "kernelspec": {
   "display_name": "Python 3 (ipykernel)",
   "language": "python",
   "name": "python3"
  },
  "language_info": {
   "codemirror_mode": {
    "name": "ipython",
    "version": 3
   },
   "file_extension": ".py",
   "mimetype": "text/x-python",
   "name": "python",
   "nbconvert_exporter": "python",
   "pygments_lexer": "ipython3",
   "version": "3.9.12"
  }
 },
 "nbformat": 4,
 "nbformat_minor": 5
}
