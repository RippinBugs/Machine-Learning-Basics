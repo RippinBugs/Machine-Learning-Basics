{
 "cells": [
  {
   "cell_type": "markdown",
   "id": "33eb71de",
   "metadata": {},
   "source": [
    "In this notebook we have applied Gradient Descent both from scratch and using sklearn SGDRegressor class to Linear Regression."
   ]
  },
  {
   "cell_type": "code",
   "execution_count": 183,
   "id": "a823048c",
   "metadata": {},
   "outputs": [],
   "source": [
    "import numpy as np\n",
    "import matplotlib.pyplot as plt\n",
    "\n",
    "from sklearn.datasets import make_regression\n",
    "from sklearn.model_selection import train_test_split\n",
    "from sklearn.metrics import r2_score"
   ]
  },
  {
   "cell_type": "code",
   "execution_count": 184,
   "id": "7ee0a36a",
   "metadata": {},
   "outputs": [],
   "source": [
    "X,y = make_regression(n_samples=100,n_features=1,n_informative=1,n_targets=1,noise=20,random_state=2)"
   ]
  },
  {
   "cell_type": "code",
   "execution_count": 185,
   "id": "2ad8f83e",
   "metadata": {},
   "outputs": [],
   "source": [
    "X_train,X_test,y_train,y_test = train_test_split(X,y,test_size = 0.2,random_state=13)"
   ]
  },
  {
   "cell_type": "code",
   "execution_count": 186,
   "id": "3db1f836",
   "metadata": {},
   "outputs": [
    {
     "data": {
      "text/plain": [
       "<matplotlib.collections.PathCollection at 0x2a201938c40>"
      ]
     },
     "execution_count": 186,
     "metadata": {},
     "output_type": "execute_result"
    },
    {
     "data": {
      "image/png": "[encoded data removed]",
      "text/plain": [
       "<Figure size 432x288 with 1 Axes>"
      ]
     },
     "metadata": {
      "needs_background": "light"
     },
     "output_type": "display_data"
    }
   ],
   "source": [
    "plt.scatter(X,y)"
   ]
  },
  {
   "cell_type": "code",
   "execution_count": 207,
   "id": "23539467",
   "metadata": {},
   "outputs": [
    {
     "name": "stdout",
     "output_type": "stream",
     "text": [
      "[58.00131999]\n",
      "[1.45965271]\n"
     ]
    }
   ],
   "source": [
    "\"\"\"\n",
    "Linear Regression using Stochastic Gradient Descent.\n",
    "\"\"\"\n",
    "from sklearn.linear_model import SGDRegressor\n",
    "\n",
    "reg = SGDRegressor()\n",
    "reg.fit(X_train,y_train)\n",
    "\n",
    "print(reg.coef_)\n",
    "print(reg.intercept_)"
   ]
  },
  {
   "cell_type": "code",
   "execution_count": 199,
   "id": "fb8ca6e4",
   "metadata": {},
   "outputs": [
    {
     "data": {
      "text/plain": [
       "array([   9.44506047,    2.51352804,   32.12925769,   51.91525767,\n",
       "          6.92428027,  -15.18039423,   -1.37114106,    1.63049652,\n",
       "        -16.85774471,   61.17460846,  115.44179673,  -26.07994395,\n",
       "        -32.18524905,  -77.51141039,   -9.2643982 ,  -64.53825927,\n",
       "        -70.08095861,  -84.85367831,  -59.45098934, -167.01636233])"
      ]
     },
     "execution_count": 199,
     "metadata": {},
     "output_type": "execute_result"
    }
   ],
   "source": [
    "y_test"
   ]
  },
  {
   "cell_type": "code",
   "execution_count": 200,
   "id": "34d028c3",
   "metadata": {},
   "outputs": [
    {
     "data": {
      "text/plain": [
       "array([  14.08181678,   21.90196143,   31.96391966,   50.4250767 ,\n",
       "         20.45801113,  -21.89403023,    1.54229835,   -2.77941808,\n",
       "        -22.64055263,   59.58774761,  131.01631053,  -16.64951384,\n",
       "        -41.85331924,  -67.36921586,  -12.16279572,  -47.30047813,\n",
       "        -36.36297452,  -81.98140837,  -70.71584178, -152.77225148])"
      ]
     },
     "execution_count": 200,
     "metadata": {},
     "output_type": "execute_result"
    }
   ],
   "source": [
    "y_pred = reg.predict(X_test)\n",
    "y_pred"
   ]
  },
  {
   "cell_type": "code",
   "execution_count": 201,
   "id": "4ca6917d",
   "metadata": {},
   "outputs": [
    {
     "data": {
      "text/plain": [
       "0.9577953976216946"
      ]
     },
     "execution_count": 201,
     "metadata": {},
     "output_type": "execute_result"
    }
   ],
   "source": [
    "r2_score(y_test,y_pred)"
   ]
  },
  {
   "cell_type": "code",
   "execution_count": 206,
   "id": "defe5b97",
   "metadata": {},
   "outputs": [],
   "source": [
    "\"\"\"\n",
    "Create a class from scratch to perform Gradient Descent on Linear Regression.\n",
    "\"\"\"\n",
    "class GDRegressor:\n",
    "    def __init__(self,learning_rate,epochs):\n",
    "        self.m = 1\n",
    "        self.b = 0\n",
    "        self.lr = learning_rate\n",
    "        self.epochs = epochs\n",
    "        pass \n",
    "    def fit(self,X,y):\n",
    "        for i in range(self.epochs):\n",
    "            slope_b = -2 * np.sum(y - (self.m * X.ravel()) - self.b)\n",
    "            slope_m = -2 * np.sum((y - (self.m * X.ravel()) - self.b) * X.ravel())\n",
    "            \n",
    "            self.b = self.b - (self.lr * slope_b)\n",
    "            self.m = self.m - (self.lr * slope_m)\n",
    "        print(self.b,self.m)\n",
    "    \n",
    "    def predict(self,X):\n",
    "        return self.m * X + self.b"
   ]
  },
  {
   "cell_type": "code",
   "execution_count": 203,
   "id": "e542c36e",
   "metadata": {},
   "outputs": [],
   "source": [
    "\"\"\"\n",
    "If you don't have an accurate learning rate your model either might converge very slowly or shoots off from the optimal value.\n",
    "\"\"\"\n",
    "reg1 = GDRegressor(0.001,70)"
   ]
  },
  {
   "cell_type": "code",
   "execution_count": 204,
   "id": "6329112d",
   "metadata": {},
   "outputs": [
    {
     "name": "stdout",
     "output_type": "stream",
     "text": [
      "1.514084314936032 58.00604366226165\n"
     ]
    }
   ],
   "source": [
    "reg1.fit(X_train,y_train)"
   ]
  },
  {
   "cell_type": "code",
   "execution_count": 205,
   "id": "e26dc5b8",
   "metadata": {},
   "outputs": [],
   "source": [
    "y_pred = reg1.predict(X_test)"
   ]
  },
  {
   "cell_type": "code",
   "execution_count": 197,
   "id": "18e7c19e",
   "metadata": {},
   "outputs": [
    {
     "data": {
      "text/plain": [
       "0.9578610443300801"
      ]
     },
     "execution_count": 197,
     "metadata": {},
     "output_type": "execute_result"
    }
   ],
   "source": [
    "r2_score(y_test,y_pred)"
   ]
  },
  {
   "cell_type": "code",
   "execution_count": null,
   "id": "b9308ee2",
   "metadata": {},
   "outputs": [],
   "source": []
  }
 ],
 "metadata": {
  "kernelspec": {
   "display_name": "Python 3 (ipykernel)",
   "language": "python",
   "name": "python3"
  },
  "language_info": {
   "codemirror_mode": {
    "name": "ipython",
    "version": 3
   },
   "file_extension": ".py",
   "mimetype": "text/x-python",
   "name": "python",
   "nbconvert_exporter": "python",
   "pygments_lexer": "ipython3",
   "version": "3.9.12"
  }
 },
 "nbformat": 4,
 "nbformat_minor": 5
}
