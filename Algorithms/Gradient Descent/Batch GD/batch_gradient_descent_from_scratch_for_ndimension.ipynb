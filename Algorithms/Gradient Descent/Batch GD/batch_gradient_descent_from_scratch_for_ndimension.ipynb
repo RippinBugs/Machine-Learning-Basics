{
 "cells": [
  {
   "cell_type": "markdown",
   "id": "b42a16f7",
   "metadata": {},
   "source": [
    "In this notebook, we applied batch gradient descent from scratch on diabetes dataset."
   ]
  },
  {
   "cell_type": "code",
   "execution_count": 2,
   "id": "b885d880",
   "metadata": {},
   "outputs": [],
   "source": [
    "import numpy as np\n",
    "import random\n",
    "\n",
    "from sklearn.linear_model import LinearRegression\n",
    "from sklearn.datasets import load_diabetes \n",
    "from sklearn.model_selection import train_test_split\n",
    "from sklearn.metrics import r2_score"
   ]
  },
  {
   "cell_type": "code",
   "execution_count": 3,
   "id": "25eda2d0",
   "metadata": {},
   "outputs": [],
   "source": [
    "#return_X_y, If True, returns ``(data, target)``\n",
    "X,y= load_diabetes(return_X_y=True)   "
   ]
  },
  {
   "cell_type": "code",
   "execution_count": 4,
   "id": "46174628",
   "metadata": {},
   "outputs": [
    {
     "name": "stdout",
     "output_type": "stream",
     "text": [
      "(442, 10)\n",
      "(442,)\n"
     ]
    }
   ],
   "source": [
    "print(X.shape)\n",
    "print(y.shape)"
   ]
  },
  {
   "cell_type": "code",
   "execution_count": 5,
   "id": "67305b06",
   "metadata": {},
   "outputs": [],
   "source": [
    "X_train,X_test,y_train,y_test = train_test_split(X,y,random_state=42,test_size=.2)"
   ]
  },
  {
   "cell_type": "code",
   "execution_count": 6,
   "id": "1569ea10",
   "metadata": {},
   "outputs": [],
   "source": [
    "reg = LinearRegression()\n",
    "\n",
    "reg.fit(X_train,y_train)\n",
    "y_pred = reg.predict(X_test)\n"
   ]
  },
  {
   "cell_type": "code",
   "execution_count": 7,
   "id": "3f3fce14",
   "metadata": {},
   "outputs": [
    {
     "name": "stdout",
     "output_type": "stream",
     "text": [
      "Intercept is:  151.3456553477407\n",
      "Coefficients are:  [  37.90031426 -241.96624835  542.42575342  347.70830529 -931.46126093\n",
      "  518.04405547  163.40353476  275.31003837  736.18909839   48.67112488]\n"
     ]
    }
   ],
   "source": [
    "\"\"\"\n",
    "We will get 10 coefficients and 1 intercept for our diabetes dataset as there are 10 input columns.\n",
    "\"\"\"\n",
    "print(\"Intercept is: \",reg.intercept_)\n",
    "print(\"Coefficients are: \",reg.coef_)"
   ]
  },
  {
   "cell_type": "code",
   "execution_count": 8,
   "id": "a713e99c",
   "metadata": {},
   "outputs": [
    {
     "name": "stdout",
     "output_type": "stream",
     "text": [
      "0.452606602161738\n"
     ]
    }
   ],
   "source": [
    "r2 = r2_score(y_test,y_pred)\n",
    "print(r2)"
   ]
  },
  {
   "cell_type": "markdown",
   "id": "80e5ffbe",
   "metadata": {},
   "source": [
    "Dot product of vector and matrix performs accordingly by matching the dimensions. Either by treating the vector as a column vector or a row vector, depending on the scenario."
   ]
  },
  {
   "cell_type": "code",
   "execution_count": 45,
   "id": "61171985",
   "metadata": {},
   "outputs": [],
   "source": [
    "class BatchGDRegressor():\n",
    "    def __init__(self,learning_rate = 0.01,epochs = 100):\n",
    "        self.coef_ = None\n",
    "        self.intercept_ = None\n",
    "        self.lr = learning_rate\n",
    "        self.epochs = epochs\n",
    "        \n",
    "    def fit(self,X_train,y_train):\n",
    "        self.intercept_ = 0\n",
    "        self.coef_ = np.ones(X_train.shape[1])\n",
    "        \n",
    "        #Updating all the coefficients and the intercept.\n",
    "        for i in range(self.epochs):\n",
    "            #Updating the intercept.\n",
    "            y_pred = np.dot(X_train,self.coef_) + self.intercept_\n",
    "            der_intercept = -2 * np.mean(y_train - y_pred)\n",
    "            self.intercept_ = self.intercept_ - self.lr * der_intercept\n",
    "            \n",
    "            #Updating all the coefficients\n",
    "            der_coef = -2 * np.dot((y_train - y_pred),X_train) / X_train.shape[0]\n",
    "            self.coef_ = self.coef_ - self.lr * der_coef\n",
    "    \n",
    "    def predict(self,X_test):\n",
    "        return np.dot(X_test,self.coef_) + self.intercept_\n",
    "    \n",
    "    "
   ]
  },
  {
   "cell_type": "code",
   "execution_count": 131,
   "id": "58878dc8",
   "metadata": {},
   "outputs": [],
   "source": [
    "reg = BatchGDRegressor(.8,250)"
   ]
  },
  {
   "cell_type": "code",
   "execution_count": 132,
   "id": "32df3b1c",
   "metadata": {},
   "outputs": [
    {
     "name": "stdout",
     "output_type": "stream",
     "text": [
      "[  56.45497537 -105.1126865   384.61219732  262.84764018   -9.52422369\n",
      "  -48.89006569 -188.36902077  149.70628344  299.47024639  148.55118809]\n",
      "151.76603368318544\n"
     ]
    }
   ],
   "source": [
    "reg.fit(X_train,y_train)\n",
    "print(reg.coef_)\n",
    "print(reg.intercept_)"
   ]
  },
  {
   "cell_type": "code",
   "execution_count": 133,
   "id": "cb28ed80",
   "metadata": {},
   "outputs": [],
   "source": [
    "y_pred = reg.predict(X_test)"
   ]
  },
  {
   "cell_type": "code",
   "execution_count": 134,
   "id": "bb80e635",
   "metadata": {},
   "outputs": [
    {
     "name": "stdout",
     "output_type": "stream",
     "text": [
      "0.4512096265970631\n"
     ]
    }
   ],
   "source": [
    "r2s = r2_score(y_test,y_pred)\n",
    "print(r2s)"
   ]
  },
  {
   "cell_type": "code",
   "execution_count": null,
   "id": "118dbda4",
   "metadata": {},
   "outputs": [],
   "source": []
  }
 ],
 "metadata": {
  "kernelspec": {
   "display_name": "Python 3 (ipykernel)",
   "language": "python",
   "name": "python3"
  },
  "language_info": {
   "codemirror_mode": {
    "name": "ipython",
    "version": 3
   },
   "file_extension": ".py",
   "mimetype": "text/x-python",
   "name": "python",
   "nbconvert_exporter": "python",
   "pygments_lexer": "ipython3",
   "version": "3.9.12"
  }
 },
 "nbformat": 4,
 "nbformat_minor": 5
}
