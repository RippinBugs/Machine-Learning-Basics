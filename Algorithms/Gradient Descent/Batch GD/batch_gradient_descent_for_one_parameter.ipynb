{
 "cells": [
  {
   "cell_type": "markdown",
   "id": "916b2bb9",
   "metadata": {},
   "source": [
    "Using Gradient Descent we will apply Linear Regression to our data."
   ]
  },
  {
   "cell_type": "code",
   "execution_count": 1,
   "id": "4d3b37b5",
   "metadata": {},
   "outputs": [],
   "source": [
    "import numpy as np\n",
    "import matplotlib.pyplot as plt\n",
    "\n",
    "from sklearn.datasets import make_regression"
   ]
  },
  {
   "cell_type": "code",
   "execution_count": 2,
   "id": "bbb5172b",
   "metadata": {},
   "outputs": [],
   "source": [
    "X,y = make_regression(n_samples=4,n_features=1,n_informative=1,n_targets=1,noise=80,random_state=13)"
   ]
  },
  {
   "cell_type": "code",
   "execution_count": 3,
   "id": "401f32ac",
   "metadata": {},
   "outputs": [
    {
     "data": {
      "text/plain": [
       "(4, 1)"
      ]
     },
     "execution_count": 3,
     "metadata": {},
     "output_type": "execute_result"
    }
   ],
   "source": [
    "X.shape"
   ]
  },
  {
   "cell_type": "code",
   "execution_count": 4,
   "id": "a24f7e48",
   "metadata": {},
   "outputs": [
    {
     "data": {
      "text/plain": [
       "<matplotlib.collections.PathCollection at 0x1ecfb4563a0>"
      ]
     },
     "execution_count": 4,
     "metadata": {},
     "output_type": "execute_result"
    },
    {
     "data": {
      "image/png": "[encoded data removed]",
      "text/plain": [
       "<Figure size 432x288 with 1 Axes>"
      ]
     },
     "metadata": {
      "needs_background": "light"
     },
     "output_type": "display_data"
    }
   ],
   "source": [
    "plt.scatter(X,y)"
   ]
  },
  {
   "cell_type": "markdown",
   "id": "7e783931",
   "metadata": {},
   "source": [
    "Using OLS"
   ]
  },
  {
   "cell_type": "code",
   "execution_count": 5,
   "id": "20e821f3",
   "metadata": {},
   "outputs": [],
   "source": [
    "from sklearn.linear_model import LinearRegression\n",
    "\n",
    "regressor = LinearRegression()"
   ]
  },
  {
   "cell_type": "code",
   "execution_count": 6,
   "id": "ab7aca54",
   "metadata": {},
   "outputs": [
    {
     "data": {
      "text/plain": [
       "LinearRegression()"
      ]
     },
     "execution_count": 6,
     "metadata": {},
     "output_type": "execute_result"
    }
   ],
   "source": [
    "regressor.fit(X,y)"
   ]
  },
  {
   "cell_type": "code",
   "execution_count": 7,
   "id": "2249cbce",
   "metadata": {},
   "outputs": [
    {
     "data": {
      "text/plain": [
       "array([78.35063668])"
      ]
     },
     "execution_count": 7,
     "metadata": {},
     "output_type": "execute_result"
    }
   ],
   "source": [
    "regressor.coef_"
   ]
  },
  {
   "cell_type": "code",
   "execution_count": 8,
   "id": "5dd8d388",
   "metadata": {},
   "outputs": [
    {
     "data": {
      "text/plain": [
       "26.15963284313262"
      ]
     },
     "execution_count": 8,
     "metadata": {},
     "output_type": "execute_result"
    }
   ],
   "source": [
    "regressor.intercept_"
   ]
  },
  {
   "cell_type": "code",
   "execution_count": 9,
   "id": "9f5bd847",
   "metadata": {},
   "outputs": [
    {
     "data": {
      "text/plain": [
       "[<matplotlib.lines.Line2D at 0x1ecfb7c4910>]"
      ]
     },
     "execution_count": 9,
     "metadata": {},
     "output_type": "execute_result"
    },
    {
     "data": {
      "image/png": "[encoded data removed]",
      "text/plain": [
       "<Figure size 432x288 with 1 Axes>"
      ]
     },
     "metadata": {
      "needs_background": "light"
     },
     "output_type": "display_data"
    }
   ],
   "source": [
    "plt.scatter(X,y)\n",
    "plt.plot(X,regressor.predict(X),color = 'red')"
   ]
  },
  {
   "cell_type": "markdown",
   "id": "c424fc6b",
   "metadata": {},
   "source": [
    "Using Gradient Descent"
   ]
  },
  {
   "cell_type": "code",
   "execution_count": 10,
   "id": "3bff85f5",
   "metadata": {},
   "outputs": [],
   "source": [
    "#lets assume b = 0 and m = 78.35\n",
    "b = 0\n",
    "y_pred = ((78.35 * X) + 0).ravel()"
   ]
  },
  {
   "cell_type": "code",
   "execution_count": 11,
   "id": "58351044",
   "metadata": {},
   "outputs": [
    {
     "data": {
      "text/plain": [
       "array([-55.81580837,  35.39949674,  -3.48681619,  59.05759577])"
      ]
     },
     "execution_count": 11,
     "metadata": {},
     "output_type": "execute_result"
    }
   ],
   "source": [
    "y_pred"
   ]
  },
  {
   "cell_type": "code",
   "execution_count": 12,
   "id": "cee1a0ec",
   "metadata": {},
   "outputs": [
    {
     "data": {
      "image/png": "[encoded data removed]",
      "text/plain": [
       "<Figure size 432x288 with 1 Axes>"
      ]
     },
     "metadata": {
      "needs_background": "light"
     },
     "output_type": "display_data"
    }
   ],
   "source": [
    "plt.scatter(X,y)\n",
    "plt.plot(X,regressor.predict(X),color = 'red',label = 'OLS')\n",
    "plt.plot(X,y_pred,color='blue',label = 'b = 0')\n",
    "plt.legend()\n",
    "plt.show()"
   ]
  },
  {
   "cell_type": "code",
   "execution_count": 13,
   "id": "271dfb6a",
   "metadata": {},
   "outputs": [
    {
     "name": "stdout",
     "output_type": "stream",
     "text": [
      "0\n",
      "1\n",
      "2\n"
     ]
    }
   ],
   "source": [
    "for i in range(3):\n",
    "    print(i)"
   ]
  },
  {
   "cell_type": "code",
   "execution_count": 14,
   "id": "6d3e29e8",
   "metadata": {},
   "outputs": [],
   "source": [
    "for i in range(500):\n",
    "    b = b- 0.01 * (-2 * np.sum(y - (78.35 * X.ravel()) - b))"
   ]
  },
  {
   "cell_type": "code",
   "execution_count": 15,
   "id": "13219fb1",
   "metadata": {},
   "outputs": [
    {
     "data": {
      "text/plain": [
       "26.1597042602615"
      ]
     },
     "execution_count": 15,
     "metadata": {},
     "output_type": "execute_result"
    }
   ],
   "source": [
    "b"
   ]
  },
  {
   "cell_type": "code",
   "execution_count": 16,
   "id": "66230273",
   "metadata": {},
   "outputs": [
    {
     "data": {
      "text/plain": [
       "-209.27763408209216"
      ]
     },
     "execution_count": 16,
     "metadata": {},
     "output_type": "execute_result"
    }
   ],
   "source": [
    "m = 78.35\n",
    "b = 0\n",
    "\n",
    "lr = 0.1\n",
    "slope_b = -2*np.sum(y-m*X.ravel()-b)\n",
    "slope_b"
   ]
  },
  {
   "cell_type": "code",
   "execution_count": 17,
   "id": "f615e405",
   "metadata": {},
   "outputs": [
    {
     "data": {
      "text/plain": [
       "-20.927763408209216"
      ]
     },
     "execution_count": 17,
     "metadata": {},
     "output_type": "execute_result"
    }
   ],
   "source": [
    "step_size = lr * slope_b\n",
    "step_size"
   ]
  },
  {
   "cell_type": "code",
   "execution_count": 18,
   "id": "0bd3adcf",
   "metadata": {},
   "outputs": [
    {
     "data": {
      "text/plain": [
       "20.927763408209216"
      ]
     },
     "execution_count": 18,
     "metadata": {},
     "output_type": "execute_result"
    }
   ],
   "source": [
    "b = b - step_size\n",
    "b"
   ]
  },
  {
   "cell_type": "code",
   "execution_count": 58,
   "id": "6410add7",
   "metadata": {},
   "outputs": [
    {
     "data": {
      "image/png": "[encoded data removed]",
      "text/plain": [
       "<Figure size 432x288 with 1 Axes>"
      ]
     },
     "metadata": {
      "needs_background": "light"
     },
     "output_type": "display_data"
    }
   ],
   "source": [
    "m = 78.35\n",
    "b = 0\n",
    "lr = 0.1\n",
    "epochs = 10\n",
    "\n",
    "plt.scatter(X,y)\n",
    "plt.plot(X,regressor.predict(X),color = 'red',label = 'OLS')\n",
    "\n",
    "for i in range(epochs):\n",
    "    slope_b = -2 * np.sum(y - (78.35 * X.ravel()) - b)\n",
    "    b = b - lr * slope_b    #step_size = lr * slope\n",
    "    #print(b)\n",
    "    \n",
    "    y_pred = ((78.35 * X) + b).ravel()\n",
    "    \n",
    "    plt.plot(X,y_pred,label = 'b = {}'.format(b))\n",
    "    plt.legend(bbox_to_anchor=(1.02, 1), loc='upper left')   \n",
    "\n",
    "plt.show()"
   ]
  },
  {
   "cell_type": "code",
   "execution_count": null,
   "id": "43c15d3c",
   "metadata": {},
   "outputs": [],
   "source": []
  },
  {
   "cell_type": "code",
   "execution_count": null,
   "id": "1a75eaf1",
   "metadata": {},
   "outputs": [],
   "source": []
  }
 ],
 "metadata": {
  "kernelspec": {
   "display_name": "Python 3 (ipykernel)",
   "language": "python",
   "name": "python3"
  },
  "language_info": {
   "codemirror_mode": {
    "name": "ipython",
    "version": 3
   },
   "file_extension": ".py",
   "mimetype": "text/x-python",
   "name": "python",
   "nbconvert_exporter": "python",
   "pygments_lexer": "ipython3",
   "version": "3.9.12"
  }
 },
 "nbformat": 4,
 "nbformat_minor": 5
}
