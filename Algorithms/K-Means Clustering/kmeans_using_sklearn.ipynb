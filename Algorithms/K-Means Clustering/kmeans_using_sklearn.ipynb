{
 "cells": [
  {
   "cell_type": "code",
   "execution_count": 3,
   "id": "e8e989e2",
   "metadata": {},
   "outputs": [],
   "source": [
    "import numpy as np\n",
    "import pandas as pd\n",
    "import matplotlib.pyplot as plt"
   ]
  },
  {
   "cell_type": "code",
   "execution_count": 4,
   "id": "dc08349b",
   "metadata": {},
   "outputs": [
    {
     "name": "stdout",
     "output_type": "stream",
     "text": [
      "Shape of the data is (200, 2)\n"
     ]
    },
    {
     "data": {
      "text/html": [
       "<div>\n",
       "<style scoped>\n",
       "    .dataframe tbody tr th:only-of-type {\n",
       "        vertical-align: middle;\n",
       "    }\n",
       "\n",
       "    .dataframe tbody tr th {\n",
       "        vertical-align: top;\n",
       "    }\n",
       "\n",
       "    .dataframe thead th {\n",
       "        text-align: right;\n",
       "    }\n",
       "</style>\n",
       "<table border=\"1\" class=\"dataframe\">\n",
       "  <thead>\n",
       "    <tr style=\"text-align: right;\">\n",
       "      <th></th>\n",
       "      <th>cgpa</th>\n",
       "      <th>iq</th>\n",
       "    </tr>\n",
       "  </thead>\n",
       "  <tbody>\n",
       "    <tr>\n",
       "      <th>58</th>\n",
       "      <td>5.87</td>\n",
       "      <td>109</td>\n",
       "    </tr>\n",
       "    <tr>\n",
       "      <th>49</th>\n",
       "      <td>5.67</td>\n",
       "      <td>109</td>\n",
       "    </tr>\n",
       "    <tr>\n",
       "      <th>119</th>\n",
       "      <td>4.98</td>\n",
       "      <td>87</td>\n",
       "    </tr>\n",
       "    <tr>\n",
       "      <th>118</th>\n",
       "      <td>8.97</td>\n",
       "      <td>117</td>\n",
       "    </tr>\n",
       "    <tr>\n",
       "      <th>111</th>\n",
       "      <td>8.86</td>\n",
       "      <td>117</td>\n",
       "    </tr>\n",
       "    <tr>\n",
       "      <th>62</th>\n",
       "      <td>8.65</td>\n",
       "      <td>95</td>\n",
       "    </tr>\n",
       "  </tbody>\n",
       "</table>\n",
       "</div>"
      ],
      "text/plain": [
       "     cgpa   iq\n",
       "58   5.87  109\n",
       "49   5.67  109\n",
       "119  4.98   87\n",
       "118  8.97  117\n",
       "111  8.86  117\n",
       "62   8.65   95"
      ]
     },
     "execution_count": 4,
     "metadata": {},
     "output_type": "execute_result"
    }
   ],
   "source": [
    "df = pd.read_csv('student_clustering.csv')\n",
    "print(f\"Shape of the data is {df.shape}\")\n",
    "df.sample(6)"
   ]
  },
  {
   "cell_type": "code",
   "execution_count": 5,
   "id": "6e3b49e8",
   "metadata": {},
   "outputs": [
    {
     "data": {
      "text/plain": [
       "<matplotlib.collections.PathCollection at 0x23a1659f1c0>"
      ]
     },
     "execution_count": 5,
     "metadata": {},
     "output_type": "execute_result"
    },
    {
     "data": {
      "image/png": "[encoded data removed]",
      "text/plain": [
       "<Figure size 432x288 with 1 Axes>"
      ]
     },
     "metadata": {
      "needs_background": "light"
     },
     "output_type": "display_data"
    }
   ],
   "source": [
    "plt.scatter(df['cgpa'],df['iq'])"
   ]
  },
  {
   "cell_type": "markdown",
   "id": "068f9527",
   "metadata": {},
   "source": [
    "### Elbow Method"
   ]
  },
  {
   "cell_type": "code",
   "execution_count": 6,
   "id": "ab5d1b1d",
   "metadata": {},
   "outputs": [],
   "source": [
    "from sklearn.cluster import KMeans"
   ]
  },
  {
   "cell_type": "code",
   "execution_count": 9,
   "id": "49a724e7",
   "metadata": {},
   "outputs": [
    {
     "name": "stderr",
     "output_type": "stream",
     "text": [
      "C:\\Users\\User\\anaconda3\\lib\\site-packages\\sklearn\\cluster\\_kmeans.py:881: UserWarning: KMeans is known to have a memory leak on Windows with MKL, when there are less chunks than available threads. You can avoid it by setting the environment variable OMP_NUM_THREADS=1.\n",
      "  warnings.warn(\n"
     ]
    }
   ],
   "source": [
    "#hyperparameter no. clusters.\n",
    "wcss = []\n",
    "\n",
    "for i in range(1,11):\n",
    "    km = KMeans(n_clusters=i)\n",
    "    km.fit_predict(df)\n",
    "    wcss.append(km.inertia_)"
   ]
  },
  {
   "cell_type": "code",
   "execution_count": 11,
   "id": "862b5b6f",
   "metadata": {},
   "outputs": [
    {
     "data": {
      "text/plain": [
       "[29957.898287999997,\n",
       " 4184.141269999999,\n",
       " 2362.7133490000015,\n",
       " 681.9696600000001,\n",
       " 514.1616803171117,\n",
       " 398.4039118468834,\n",
       " 295.4391895943191,\n",
       " 233.54082485509016,\n",
       " 206.316445212957,\n",
       " 184.01537465571434]"
      ]
     },
     "execution_count": 11,
     "metadata": {},
     "output_type": "execute_result"
    }
   ],
   "source": [
    "wcss"
   ]
  },
  {
   "cell_type": "code",
   "execution_count": 13,
   "id": "7b6ab00a",
   "metadata": {},
   "outputs": [
    {
     "data": {
      "text/plain": [
       "[<matplotlib.lines.Line2D at 0x23a19a78cd0>]"
      ]
     },
     "execution_count": 13,
     "metadata": {},
     "output_type": "execute_result"
    },
    {
     "data": {
      "image/png": "[encoded data removed]",
      "text/plain": [
       "<Figure size 432x288 with 1 Axes>"
      ]
     },
     "metadata": {
      "needs_background": "light"
     },
     "output_type": "display_data"
    }
   ],
   "source": [
    "plt.plot(range(1,11),wcss)"
   ]
  },
  {
   "cell_type": "code",
   "execution_count": 19,
   "id": "0c3a43c3",
   "metadata": {},
   "outputs": [],
   "source": [
    "X = df.iloc[:,:].values\n",
    "km = KMeans(n_clusters=4)\n",
    "y_means = km.fit_predict(X)"
   ]
  },
  {
   "cell_type": "code",
   "execution_count": 20,
   "id": "720444a5",
   "metadata": {},
   "outputs": [
    {
     "data": {
      "text/plain": [
       "array([0, 3, 2, 2, 3, 3, 2, 1, 3, 2, 0, 3, 2, 0, 3, 2, 3, 2, 3, 3, 2, 0,\n",
       "       2, 0, 0, 2, 0, 1, 2, 3, 1, 3, 1, 3, 2, 2, 1, 3, 0, 3, 0, 2, 2, 0,\n",
       "       1, 1, 2, 3, 1, 3, 0, 0, 1, 2, 1, 3, 3, 1, 3, 1, 3, 2, 2, 1, 0, 1,\n",
       "       2, 0, 3, 2, 3, 1, 2, 0, 3, 1, 3, 1, 0, 2, 2, 1, 3, 0, 1, 0, 1, 3,\n",
       "       1, 3, 1, 1, 2, 0, 2, 2, 1, 2, 0, 1, 3, 0, 0, 1, 0, 0, 2, 0, 1, 1,\n",
       "       2, 1, 3, 3, 2, 1, 2, 3, 1, 0, 0, 3, 2, 1, 2, 0, 2, 3, 0, 2, 2, 3,\n",
       "       0, 0, 3, 1, 3, 0, 2, 2, 2, 0, 3, 0, 0, 1, 0, 1, 3, 0, 1, 0, 1, 1,\n",
       "       0, 2, 3, 1, 3, 2, 0, 1, 3, 2, 1, 0, 3, 0, 0, 1, 1, 3, 1, 0, 0, 2,\n",
       "       1, 3, 0, 1, 1, 3, 3, 3, 2, 0, 2, 2, 1, 3, 2, 2, 0, 0, 2, 0, 1, 3,\n",
       "       3, 1])"
      ]
     },
     "execution_count": 20,
     "metadata": {},
     "output_type": "execute_result"
    }
   ],
   "source": [
    "y_means"
   ]
  },
  {
   "cell_type": "code",
   "execution_count": 28,
   "id": "c02d998e",
   "metadata": {},
   "outputs": [
    {
     "data": {
      "text/plain": [
       "array([8.36, 8.27, 8.41, 8.09, 8.16, 8.31, 7.87, 7.47, 7.78, 7.93, 8.04,\n",
       "       7.77, 8.  , 8.43, 8.02, 8.14, 8.12, 8.34, 8.65, 8.53, 8.29, 7.93,\n",
       "       8.72, 8.14, 8.2 , 8.67, 8.18, 8.61, 7.99, 8.08, 8.26, 8.25, 8.4 ,\n",
       "       7.84, 8.08, 8.25, 8.3 , 7.9 , 7.97, 8.21, 8.23, 8.35, 8.33, 8.46,\n",
       "       7.89, 7.91, 8.23, 8.4 , 8.44, 8.79])"
      ]
     },
     "execution_count": 28,
     "metadata": {},
     "output_type": "execute_result"
    }
   ],
   "source": [
    "X[y_means == 2,0]"
   ]
  },
  {
   "cell_type": "code",
   "execution_count": 30,
   "id": "af9ce3f9",
   "metadata": {},
   "outputs": [
    {
     "data": {
      "text/plain": [
       "<matplotlib.collections.PathCollection at 0x23a1b0b54c0>"
      ]
     },
     "execution_count": 30,
     "metadata": {},
     "output_type": "execute_result"
    },
    {
     "data": {
      "image/png": "[encoded data removed]",
      "text/plain": [
       "<Figure size 432x288 with 1 Axes>"
      ]
     },
     "metadata": {
      "needs_background": "light"
     },
     "output_type": "display_data"
    }
   ],
   "source": [
    "plt.scatter(X[y_means == 0,0],X[y_means == 0,1],color = 'blue')\n",
    "plt.scatter(X[y_means == 1,0],X[y_means == 1,1],color = 'red')\n",
    "plt.scatter(X[y_means == 2,0],X[y_means == 2,1],color = 'green')\n",
    "plt.scatter(X[y_means == 3,0],X[y_means == 3,1],color = 'orange')"
   ]
  },
  {
   "cell_type": "markdown",
   "id": "a76cb8eb",
   "metadata": {},
   "source": [
    "### Kmeans on 3-D data"
   ]
  },
  {
   "cell_type": "code",
   "execution_count": 78,
   "id": "4b873d35",
   "metadata": {},
   "outputs": [],
   "source": [
    "from sklearn.datasets import make_blobs\n",
    "\n",
    "#centroids = [(-5,-5,5),(5,5,-5),(3.5,-2.5,4),(-2.5,2.5,-4),(2,2,2)]\n",
    "centroids = [(0,0,0),(0,0,0),(0,0,0),(0,0,0),(0,0,0)]\n",
    "cluster_std = [1,1,1,1,0.5]\n",
    "\n",
    "X,y = make_blobs(n_samples=400,cluster_std=cluster_std,centers=centroids,n_features=3,random_state=1)"
   ]
  },
  {
   "cell_type": "code",
   "execution_count": 79,
   "id": "f84834ee",
   "metadata": {},
   "outputs": [
    {
     "data": {
      "text/plain": [
       "array([[ 1.06032751, -1.71116766,  1.65712464],\n",
       "       [ 1.19891788,  0.18515642, -0.37528495],\n",
       "       [-1.04553425,  0.35528451,  0.75539203],\n",
       "       ...,\n",
       "       [ 0.37756379,  0.12182127,  1.12948391],\n",
       "       [-0.74996962,  2.0546241 ,  0.05340954],\n",
       "       [-0.33128317,  0.38653915, -0.85145566]])"
      ]
     },
     "execution_count": 79,
     "metadata": {},
     "output_type": "execute_result"
    }
   ],
   "source": [
    "X"
   ]
  },
  {
   "cell_type": "code",
   "execution_count": 80,
   "id": "719b9779",
   "metadata": {},
   "outputs": [
    {
     "data": {
      "text/plain": [
       "array([3, 0, 3, 4, 2, 1, 0, 2, 1, 4, 0, 4, 1, 1, 3, 1, 3, 4, 0, 4, 2, 1,\n",
       "       3, 1, 0, 0, 1, 1, 2, 2, 0, 4, 1, 4, 2, 3, 2, 4, 0, 2, 1, 1, 4, 4,\n",
       "       1, 3, 0, 4, 2, 0, 4, 1, 3, 3, 2, 4, 2, 0, 4, 4, 3, 2, 3, 2, 1, 3,\n",
       "       0, 2, 2, 1, 2, 4, 3, 0, 3, 1, 3, 3, 1, 2, 1, 0, 4, 1, 4, 3, 1, 3,\n",
       "       4, 4, 3, 0, 3, 0, 3, 3, 0, 4, 4, 2, 0, 0, 4, 3, 0, 4, 3, 1, 0, 2,\n",
       "       0, 1, 0, 0, 4, 2, 1, 3, 0, 3, 3, 4, 0, 2, 2, 2, 4, 2, 3, 0, 4, 1,\n",
       "       4, 1, 4, 2, 2, 4, 4, 0, 0, 2, 1, 4, 4, 4, 1, 2, 1, 3, 3, 3, 0, 3,\n",
       "       0, 4, 2, 2, 3, 0, 3, 0, 3, 1, 0, 1, 0, 0, 0, 3, 2, 2, 1, 2, 2, 2,\n",
       "       0, 0, 1, 0, 0, 0, 2, 0, 1, 1, 0, 4, 1, 2, 4, 4, 1, 4, 4, 0, 0, 0,\n",
       "       2, 1, 1, 0, 1, 2, 1, 2, 1, 3, 0, 2, 0, 4, 1, 3, 4, 4, 3, 3, 1, 3,\n",
       "       3, 4, 1, 0, 3, 4, 1, 3, 0, 4, 1, 4, 2, 3, 4, 2, 2, 0, 3, 0, 3, 4,\n",
       "       0, 4, 0, 3, 3, 3, 1, 1, 2, 1, 3, 3, 1, 2, 4, 1, 1, 2, 0, 3, 3, 2,\n",
       "       2, 4, 4, 0, 0, 2, 0, 2, 3, 3, 3, 2, 1, 0, 1, 3, 2, 4, 4, 1, 3, 2,\n",
       "       2, 3, 4, 0, 3, 3, 2, 2, 0, 1, 4, 4, 2, 3, 4, 1, 3, 3, 3, 2, 3, 2,\n",
       "       4, 1, 2, 4, 4, 3, 4, 4, 4, 1, 0, 1, 2, 3, 0, 1, 0, 2, 3, 0, 0, 2,\n",
       "       4, 1, 4, 1, 3, 3, 2, 1, 2, 4, 4, 2, 3, 4, 2, 1, 0, 4, 4, 1, 2, 4,\n",
       "       0, 2, 3, 0, 2, 0, 2, 1, 3, 3, 0, 4, 1, 3, 1, 1, 3, 1, 2, 1, 3, 2,\n",
       "       4, 0, 0, 4, 0, 0, 2, 1, 1, 4, 1, 0, 1, 4, 2, 2, 0, 2, 2, 2, 3, 1,\n",
       "       4, 0, 1, 1])"
      ]
     },
     "execution_count": 80,
     "metadata": {},
     "output_type": "execute_result"
    }
   ],
   "source": [
    "y"
   ]
  },
  {
   "cell_type": "code",
   "execution_count": 81,
   "id": "fe24ebb3",
   "metadata": {},
   "outputs": [
    {
     "data": {
      "application/vnd.plotly.v1+json": {
       "config": {
        "plotlyServerURL": "https://plot.ly"
       },
       "data": [
        {
         "hovertemplate": "x=%{x}<br>y=%{y}<br>z=%{z}<extra></extra>",
         "legendgroup": "",
         "marker": {
          "color": "#636efa",
          "symbol": "circle"
         },
         "mode": "markers",
         "name": "",
         "scene": "scene",
         "showlegend": false,
         "type": "scatter3d",
         "x": [
          1.0603275091568074,
          1.198917879901507,
          -1.0455342473768945,
          -0.09996969661063972,
          1.0138224669717055,
          0.8360047194342688,
          0.12015895248162915,
          -0.10193203926360005,
          0.8088443602656821,
          -0.3649633061438197,
          0.5294653243527092,
          0.6470911566295872,
          0.46116409997701746,
          -0.5998045310708474,
          0.7009821215232441,
          0.45161595055524156,
          -0.2604660588653798,
          0.1583186178519788,
          -0.691660751725309,
          -0.09347750826637478,
          1.9197922864280879,
          0.13404819655462313,
          -0.806178211953457,
          0.4295261400219645,
          -0.26621850600362207,
          0.19829972012676975,
          0.352494364369333,
          -0.7013444262571769,
          1.018552474767882,
          -0.45993010443458127,
          -0.3224172040135075,
          -0.44513577605412447,
          -1.4023291454531368,
          -0.10316545602243991,
          1.1071754509490623,
          -1.0903383324548148,
          -2.304907937770138,
          0.30113256376926884,
          -0.32649949807818424,
          -0.9154243682317061,
          -0.04970257915867584,
          -1.6840599858682372,
          0.018098731380217663,
          0.9932825554712,
          -0.0845080274046298,
          1.5365363280210986,
          -0.9357694342590688,
          0.2808190482617027,
          -0.8088471964721285,
          -0.6369956465693534,
          -0.09153099348098676,
          1.1158411079241686,
          0.425920176502816,
          1.4176740129993604,
          -0.35340998286701436,
          0.9487554035696751,
          1.197830841721251,
          -0.6657545181991266,
          -1.1386489983301828,
          0.10816647881023703,
          0.9351477795910749,
          0.025999994185658175,
          1.8514378945735097,
          0.3196569419445935,
          -0.8805775998441709,
          -0.5596814219185569,
          -0.2493703754774101,
          0.8074559170052702,
          -0.5089722778228615,
          0.6210827008390084,
          -0.870008223190852,
          -0.004600772121699846,
          0.09499611006916124,
          -0.5865239388215925,
          -0.3946896809955576,
          1.000881423680301,
          -0.934181843147949,
          0.7804699297583744,
          -0.0568244808858473,
          -1.6374495930083417,
          0.9200179332477632,
          0.04221374671559283,
          -0.6725050101341876,
          -0.11877117210308928,
          0.7833431005480721,
          0.17195713216759081,
          -2.037201225680795,
          -1.5526987831768355,
          -0.4910804790143345,
          0.18167395928713254,
          0.1855356209665554,
          1.6276507531489064,
          1.6316915136307972,
          -1.3964963354881377,
          -0.8300109855676734,
          1.0334508032642373,
          0.2300947353643834,
          0.7812097647464816,
          -0.7524456418897562,
          0.7130490503032691,
          -0.6235307296797916,
          -0.35224984649351865,
          -0.17762075674848082,
          -1.4702370890213132,
          0.35054597866410736,
          -0.1561148306889061,
          -0.1221540151116833,
          0.7847706510155895,
          1.1447237098396141,
          0.8160436843240609,
          0.8018610318713447,
          0.8408615581411037,
          -0.2088942333747781,
          0.6980320340722189,
          0.08028249587125579,
          -0.40725204301996576,
          -0.7972697854931297,
          1.0097873349475586,
          1.5588055406198593,
          -1.229574253546429,
          -0.1920036966310444,
          -1.1540192568141496,
          0.7420441605773356,
          -1.0971543602553622,
          0.057120996082092076,
          1.693809113288081,
          0.14539397323435277,
          -0.8061848173822241,
          -0.03599018172719132,
          0.9008559492644118,
          -0.5153990138793918,
          2.0563555231982935,
          -0.29446558802187217,
          -0.5574947217860433,
          0.16066291673129376,
          -0.027529386267978004,
          -0.36261208757725877,
          -0.018189321882047294,
          0.5599495017780693,
          -0.7003985049212547,
          -0.6387304074542224,
          0.10734329382358966,
          0.47761018181755727,
          0.5885261278883208,
          0.21150160479163793,
          0.6899399505354733,
          -0.4791570987860799,
          -1.1640079711612021,
          0.0954250871912577,
          2.428876969522979,
          -0.030911417604135967,
          -0.4525249732840256,
          -0.024616955875778355,
          0.7314025171250657,
          0.043668993178389105,
          -0.4615389785421647,
          0.6365834094146309,
          0.040371431022839264,
          0.7448845364406519,
          0.9311020813035573,
          -1.4191487771444868,
          0.8633453175440216,
          -0.01900052154731654,
          -0.5322340208981775,
          -1.1220187287468883,
          1.0449944096738975,
          2.1906997289697334,
          -0.07311270374727777,
          -0.17470315974250095,
          0.6778075711198115,
          0.515413801783241,
          1.470739856691369,
          0.5643828554943137,
          -0.5181455523987548,
          -0.13971173044107246,
          -0.05936790254849916,
          0.31515939204229176,
          -1.3319516665172482,
          -0.8224671889042517,
          2.1869796469742577,
          -0.31011677351806,
          0.4034916417908,
          0.03494358936374005,
          0.12910157971072544,
          0.21112475500771674,
          1.1926860677546935,
          -1.6274383406162574,
          0.029153691372041993,
          -2.4135030011737877,
          -1.1077125022845524,
          0.3404894636570257,
          0.17730102605641396,
          0.6185391307862932,
          0.5776308777090753,
          0.31358851769576274,
          0.6233621765780327,
          -0.10174587252914521,
          0.6183802619985245,
          1.0112070637749084,
          0.3672318138838647,
          -2.114163921916826,
          -1.2300581356669618,
          -1.3057269225577375,
          0.08968640732259017,
          -1.396620424595432,
          -0.10646012155553987,
          -0.10679398677922511,
          0.5718048788649898,
          -1.0729686221561705,
          -0.45994283084068716,
          -0.2873078634760189,
          0.5875893437786776,
          -0.1902210250848615,
          -0.21873345896770915,
          -0.09290542839016434,
          -0.12035025087599316,
          -0.5632366041174566,
          3.3210787561703645,
          -0.4982135636310781,
          -0.9509092510507696,
          -0.1505043256504516,
          0.05202669485454472,
          -0.41893789767812306,
          0.1693824330586681,
          1.923815425970925,
          -0.09978035899810825,
          -1.8731609776353015,
          0.24050555214736213,
          1.6243453636632417,
          0.09708750814688852,
          -1.7559256402328518,
          -0.48663379262462003,
          -1.072964278711645,
          -0.07667936270573186,
          0.08897277898080534,
          0.6745707069560037,
          -1.1134361029729902,
          0.5627610966190263,
          -0.8926466735128841,
          -0.7543979409966528,
          -0.017817549053938987,
          -0.12350824544286768,
          -1.1173103486352778,
          0.2419418246706617,
          -0.7471582937508376,
          1.0212481260989013,
          0.6147262758274484,
          -0.8708876496519611,
          -2.79308500014654,
          0.32427424344842104,
          0.8858257989659072,
          -1.0445893819077916,
          1.0492182907525678,
          0.7255505180787332,
          0.013352676347176594,
          -0.2828635516348445,
          -0.4944822285457688,
          -0.1754589686617526,
          -0.22876582887016242,
          -1.8239198526251938,
          -0.20075806892999745,
          1.4958847658844756,
          0.6065484004132948,
          -1.0807106924455065,
          0.14164053766580517,
          0.46636070684404596,
          0.28456229791238935,
          -0.29809283510271567,
          0.20183017887400403,
          -0.25898285340053234,
          1.131629387451427,
          -0.9960108890883996,
          0.9312556787681191,
          -0.9484396564537968,
          -0.09243231854158614,
          0.35111689651096534,
          0.8245846250334574,
          0.8240056184504077,
          0.8532812219556223,
          -0.3645380497066375,
          1.0329837789497511,
          -0.4622706057880238,
          0.8989596831940558,
          0.08646440652428741,
          -0.43899766366627757,
          -0.593343754242419,
          -0.9798902516618007,
          0.23333912626012182,
          -0.8816249004956157,
          -0.8452056414987196,
          -1.458324460393154,
          -0.44669920347712,
          -0.4148469012882354,
          0.9039991740035269,
          -0.3438536755710756,
          0.2624674454632686,
          -0.41999445730612356,
          -0.2455072163495551,
          -0.3290515493410809,
          0.004000841975375483,
          0.12951595089600185,
          0.4381663472912375,
          0.5053819027529176,
          -1.014803690858671,
          -2.698361741666047,
          0.41026574539684446,
          1.1525991350106037,
          0.31665889515665435,
          0.09568195756946,
          -0.10839206717353982,
          0.9863521802120643,
          -0.7244957742610225,
          0.4290057260455405,
          0.017955891650826426,
          -0.2625516969694696,
          -0.12742647362194454,
          0.19689386562465933,
          0.008548945436024693,
          0.16003706944783047,
          -1.5256803162293577,
          0.15001627872780374,
          -0.13935180545092124,
          1.9046587083409812,
          0.8849088144648833,
          1.74481176421648,
          0.7330232317190783,
          -0.5691486535119704,
          -1.0998912673140309,
          -0.8905555841630485,
          -1.1549826349293644,
          0.1395777268173319,
          -0.4422292795131728,
          0.35914536787717144,
          1.3887793963702684,
          -0.5223564651356952,
          -2.1444440467284505,
          1.1010002026684818,
          -0.7223919054141509,
          -0.9268719392086243,
          -1.257462312202889,
          0.5638756724751147,
          -0.2889973430098159,
          1.2198743790306215,
          0.2539921683076896,
          -0.918440038300026,
          0.03536009705475734,
          0.2487991613877705,
          -0.6758246926588372,
          0.26132758704906106,
          0.6179855339203347,
          0.3724568515114425,
          -0.17859376280150815,
          -2.022201215824003,
          -0.8286279788564058,
          -2.076802021923554,
          0.8109516728035557,
          -0.4244927905709274,
          2.4493686490613973,
          0.12837699015594436,
          -1.426555420520532,
          0.8616231013412039,
          0.3923349111243075,
          1.9671017492547347,
          -0.05536420702054921,
          -0.42914227823509377,
          0.7781741790995664,
          1.3998439424809859,
          0.5150736136393657,
          -1.8814108671660597,
          -0.5938430672545096,
          0.7852269196346882,
          2.1106050536007097,
          -0.4569878575935375,
          0.28807816700515054,
          -0.13350208967095734,
          1.2932258825322618,
          -0.12046457178850745,
          -0.10134695385373116,
          -1.6157723547032947,
          0.901486891648711,
          0.6274370827531105,
          -0.7255971191344275,
          -1.1164700178847444,
          -0.7721978906933491,
          -1.44087602429184,
          -0.13644474389603303,
          2.0657833202188343,
          -0.4357110327974788,
          -0.22875417122021255,
          -0.30912131864186215,
          -1.2725587552459943,
          0.1343731160397544,
          1.853009485069379,
          -0.27584606256114336,
          0.10803081731234535,
          0.8709698025322423,
          -0.3106258852151224,
          0.3775637863209194,
          -0.7499696172756662,
          -0.3312831699326283
         ],
         "y": [
          -1.7111676596244927,
          0.18515641748394385,
          0.35528450700622954,
          0.003694491853091927,
          -2.2271126318500145,
          1.5433591108044837,
          0.6172031097074192,
          0.7433565435138623,
          1.7897546832062712,
          -0.3083732125305833,
          0.13770120999738608,
          -0.3508242660819818,
          -1.1759826714413153,
          1.1234121620219353,
          -0.198937450283896,
          1.1041743263032135,
          0.445096710344572,
          -1.3320629696310695,
          -0.39675352685597737,
          -0.07661808088354584,
          -1.3916938760540336,
          1.2020548621997058,
          0.04906169237310281,
          -0.6069983982000461,
          0.03261454669335856,
          0.11900864580745882,
          -0.2364369518129867,
          -0.5372230238753384,
          1.2305581999547246,
          -0.7907999537751678,
          -0.38405435466841564,
          0.05566863319148501,
          0.4511229387345986,
          0.01058591429407446,
          1.4428769284963092,
          1.700188146645526,
          -0.03181717269879145,
          0.24042305663258437,
          -1.342675789377436,
          1.2251558492732308,
          0.46664326722884075,
          -1.1601701049822761,
          1.0149987437202306,
          -0.639713078156761,
          -0.2973618827735036,
          -0.00037500875835609604,
          -0.2678880796260159,
          0.7573751912411255,
          0.5574394528580334,
          0.19091548466746602,
          -0.11051445089416781,
          0.3102722877837673,
          0.049080397141630476,
          0.05031708614713537,
          -1.7879128911997157,
          -0.005867107188278834,
          1.7045941713724069,
          -1.674195807618932,
          -0.03481226972756456,
          -0.657100516263411,
          1.8125278151175406,
          -1.3486964467972422,
          0.20909667657552103,
          0.31815419967868935,
          -0.27909772154329027,
          1.3797581916062172,
          1.462107937044974,
          0.3122386890129999,
          -0.16648595488595935,
          0.9561217041246964,
          0.36919046954687373,
          0.33330534270305523,
          0.08075098862302005,
          -1.2368533765413974,
          -1.1718133792211223,
          -0.38483224883279044,
          0.542645294566316,
          -1.4640535735805917,
          0.4923365559366488,
          3.9586027040379634,
          -0.19505734087590118,
          0.5828152137158222,
          -0.6476289426405436,
          -0.19899818380372442,
          -0.11887404907268176,
          0.4905610438096389,
          -1.9425891814764555,
          0.578464420256242,
          -0.22365408087668873,
          -0.4898600957224898,
          0.3944280300121126,
          0.3380116965744758,
          0.8608912410184296,
          -1.4441138054295894,
          -1.0195198494057163,
          -0.1462732746113538,
          0.7620111803120247,
          -0.4354007763040304,
          -0.9719608791658937,
          1.3062060651354486,
          0.5205763370733708,
          -1.1425181980221402,
          0.04805707116976032,
          0.6064039443038369,
          -1.3122834112374318,
          -0.35532788534039145,
          -0.6808515740173174,
          -0.9554252623736892,
          0.9015907205927955,
          -0.6124069731288238,
          0.04656729842414554,
          -0.1028872175735376,
          0.5866231911821976,
          -0.4471285647859982,
          -0.06007498781437449,
          0.9849516717192109,
          0.28267571224842025,
          -1.5569415578650314,
          0.10940269642542817,
          1.108616757989675,
          -3.053764380426305,
          0.16353420378468364,
          -0.19183555236161492,
          0.8386347472283774,
          -0.7995474906917599,
          0.19686977925029145,
          -0.21902725374381174,
          -0.2516742076314244,
          1.0370389817739079,
          -0.6837278591743331,
          -0.1359693998422752,
          1.7602492264490932,
          0.425894818757658,
          0.9391687441964878,
          0.2572057802831611,
          1.7464350892279725,
          -1.4851564513254543,
          0.9503896598619128,
          -0.9939147656973109,
          -0.20339444896455844,
          0.4234943540641129,
          -1.3988128186664763,
          -1.0218859446413093,
          -0.3205539075989446,
          -0.0671242823151593,
          -0.07842130525738424,
          0.3501671588282789,
          0.6933662256603845,
          0.9214500686595114,
          1.0056866803112163,
          0.35571726157601685,
          1.1612856933418074,
          -0.7751616191691596,
          0.9544956665476875,
          -0.22631424251360518,
          -0.0650976041008378,
          1.4092533893640082,
          -0.15699367249331792,
          -0.036281288553702225,
          0.2855873252542588,
          -0.31690119652834625,
          -0.18092030207815046,
          -0.22676019216958399,
          1.1181333967176956,
          -0.5170944579202279,
          0.6085146984848496,
          -1.8963609228910925,
          1.1603385699937696,
          0.986335187821242,
          -1.1065730673918852,
          -1.1148710523659369,
          0.33722093830845856,
          2.1378280674394823,
          -1.4614036047221062,
          1.3863142642463189,
          1.4489894041582356,
          0.8461606475850334,
          -1.7606885603987834,
          0.7217112921126926,
          0.44136444356858207,
          -2.434837764107139,
          0.593578523237067,
          1.4539175816088175,
          1.6169495988573002,
          0.01652756730561561,
          -0.23794193575218264,
          0.602319280295629,
          0.8159679243275141,
          -1.7775663758059874,
          -0.01771831791014226,
          0.8813044507083239,
          -0.10618664274531017,
          -0.44317193070063776,
          0.17302887314233698,
          0.0814041251533959,
          -0.4349566829552277,
          0.8688861570058679,
          0.23249455917873788,
          -1.4765626605201803,
          1.2328991923762371,
          -0.41163916318848254,
          0.5505374959762154,
          -0.34498721015497946,
          -0.6011568006493835,
          -0.861316360776042,
          -2.7909964066938464,
          1.4514292605909354,
          -0.03681765651702741,
          0.8654076293246785,
          0.6443536660303223,
          0.6800698398781045,
          0.7972323159111107,
          -0.44873803267162277,
          1.5392070096550627,
          1.1173608688129428,
          -0.42783569619724926,
          2.3901459623335115,
          -0.6002253303773148,
          -0.3109849783028509,
          -0.7043503315234588,
          0.9154992680625726,
          0.2640017110359182,
          -0.47918491512740585,
          0.7405564510962748,
          -0.6059813205385978,
          -0.327301584262489,
          0.9206151180549562,
          -0.9994265013581795,
          -0.6117564136500754,
          1.2827263903583899,
          0.7147895974858154,
          0.08758386460903435,
          0.49515861120031657,
          0.5729627259567562,
          -0.13060095972825586,
          1.460892380463078,
          -0.06741002494685439,
          0.24073709223773224,
          -0.16119831954123737,
          1.2528681552332879,
          -0.600138799235613,
          -0.06044465524316825,
          0.23441569781709215,
          0.7793441272611906,
          1.6924546010277466,
          0.5247504922968238,
          -0.34898419091555255,
          0.5014295898933301,
          1.9375288136160798,
          0.02186283662655242,
          0.18986164938309566,
          2.0511734428574444,
          0.9662208625783415,
          -0.32420421948521105,
          -0.6946935952872263,
          -0.2663268843187201,
          -0.47493192974382953,
          -0.9339146556265013,
          1.6133613745631155,
          1.167075165999964,
          0.1865613909882843,
          0.6754538092042119,
          -0.7372896277599319,
          0.7254740044815357,
          -2.516303860965749,
          -0.2650599001000258,
          0.09865799587389522,
          0.48851814653749703,
          0.6610202875986929,
          0.1892931975586576,
          1.5198168164221988,
          -1.1958615103244818,
          0.9498088152113293,
          -0.4234782972255359,
          -0.2378752654568325,
          -0.06877046307863847,
          0.6545801525867004,
          -0.5623054310190898,
          -0.4130293097110322,
          -0.45971768103806804,
          -0.22241402852990858,
          -0.874702710864611,
          -0.34563447838108113,
          -2.1424667290773685,
          0.5900394641608302,
          0.5103075967452559,
          0.6925743475393558,
          0.43499832426284113,
          0.6939869047744827,
          -0.671246130836819,
          0.49434165098237876,
          0.20437739492116297,
          0.45194603732122307,
          1.5754679085723808,
          0.04359685683424694,
          0.27649930482218366,
          -1.149102940268926,
          0.33965057247483144,
          1.3471054646704976,
          0.3212659144838316,
          0.007224207508893229,
          1.1223283216570923,
          1.2179409008013473,
          0.43598619629640983,
          -1.2133381258287046,
          0.8598709717969121,
          -0.22423577212349852,
          -1.895266947476466,
          -0.08572059373876667,
          0.45015551276717897,
          -0.466154856825928,
          0.3897459330261058,
          -0.6793984205509648,
          -1.2704607763854796,
          0.19386733137147505,
          -0.0704553761950791,
          -0.11407034535022809,
          -0.16819883974471597,
          0.8761689211162249,
          0.7950260944248447,
          0.4635343217316655,
          -0.7285374894247015,
          1.1110566985605046,
          -0.8772815189181883,
          -0.7612069008951028,
          -1.8988120593192948,
          -1.061796761310848,
          -0.17242820755043575,
          -1.119115398559728,
          -0.17763219598355098,
          0.8202768242776345,
          0.3235273536014321,
          0.6455944514254379,
          -0.6613442431530187,
          -0.36925590182896817,
          -0.3695624253374333,
          0.7800271353386294,
          1.0989963327471792,
          -0.18242040636309756,
          0.40731250749214415,
          0.02514661951352429,
          -0.3918162398080484,
          -1.133792035393578,
          -0.1620161645100033,
          -0.10534471250754213,
          -1.5387932457446432,
          -0.29664115237086275,
          -0.7046046382360956,
          -0.17770674524607077,
          -0.18417632565374534,
          -0.14848980305939366,
          -0.260688192704019,
          -0.3062040126283718,
          0.528879745585174,
          0.9475011673456759,
          1.0444420947072588,
          -0.7315309817303334,
          -0.5457741679825677,
          1.7604151835753223,
          1.7679599483110264,
          -2.0863905654565262,
          0.44838065078168743,
          -1.857981864446752,
          -0.2146929866065066,
          1.208456328551963,
          0.30981675860748836,
          -0.7819116826868007,
          -2.7825344676529227,
          0.4972690986459772,
          -0.3439007092103924,
          -0.6648677669672133,
          -1.3065340728440185,
          1.0689859716189178,
          1.498108183577034,
          -0.6119398252876224,
          -0.11044702641731631,
          -1.2331207354464266,
          0.07282590864324383,
          1.121417708235664,
          2.528325706806398,
          0.7513372351604846,
          -0.8677686776235903,
          0.0809271009732786,
          -0.7732805199843286,
          1.232253070828436,
          -0.11905418777480989,
          -1.471156925832625,
          -0.4324149707327936,
          -0.17961229465135792,
          0.5109377744920892,
          0.31354772046343216,
          -0.26837130412057664,
          0.14225137252631778,
          1.2289555856506973,
          0.02941761897076564,
          -0.5084571342754007,
          0.5253073244336361,
          0.12182127099143693,
          2.054624102518116,
          0.3865391451330911
         ],
         "z": [
          1.6571246380429256,
          -0.3752849500901142,
          0.7553920291908554,
          0.13783203757503595,
          -1.6993336047222958,
          0.7588056600979309,
          0.3001703199558275,
          -1.5095726842240433,
          0.4512840160401709,
          -0.006652110653748474,
          0.07782112791270591,
          -0.20368484258719213,
          1.0101271773347245,
          0.30526704024401075,
          0.3019600454061449,
          -0.28173626906561283,
          0.09811224622199123,
          -0.21321430881676118,
          -0.6871727001195994,
          -1.2162542563235565,
          0.4502177420378455,
          0.28474811084905793,
          -0.596086334587662,
          0.1062227240352178,
          -1.3731173202467557,
          -0.6706622862890306,
          0.7278134999996488,
          0.15626385027008327,
          -1.181103172771823,
          1.2237222119601092,
          1.1337694423354374,
          -0.009761279160136653,
          -0.6949209011852391,
          0.21432936981694306,
          -0.5396815622024924,
          0.6087836589081088,
          0.11248774241419583,
          0.05465918195271764,
          1.114382976779792,
          -1.053546073700315,
          1.033686867939501,
          1.350106818681726,
          -0.31720235515042305,
          -0.6701045879517503,
          0.41730200497486253,
          1.2935496206633084,
          0.530355466738186,
          0.3239624061564591,
          0.18103874435787085,
          2.100255136478842,
          0.09987977759631378,
          -2.094247816222812,
          1.1022367325853422,
          0.6503232142523461,
          0.36184731583956825,
          -0.3552503373334775,
          1.0400891531540952,
          0.8250298244389859,
          0.17693521344142019,
          -0.1209009326614364,
          0.14010988130475283,
          1.3025355364861801,
          1.5550159943330888,
          -0.01923163409763723,
          1.622849085954001,
          0.6024509012396099,
          -2.060140709497654,
          -0.1933216404740039,
          1.4236144293489872,
          -0.7058405074022839,
          0.8532821858237332,
          0.050195861199773796,
          -0.7678037460245601,
          0.8758389276492995,
          0.9840122369402405,
          1.4581082386095199,
          -1.9581690855990108,
          -0.1544911938105286,
          -0.6806781410088858,
          0.6486436440906672,
          0.8053934242321815,
          -1.1006191772129212,
          0.037160276841315856,
          1.8664713751521251,
          0.2794014940925557,
          -1.395283025065327,
          -2.506440652676061,
          -0.96126359903051,
          -0.41407379459413696,
          -0.3877352173519611,
          0.7255225582535588,
          -1.199268032335186,
          -0.8801890645415797,
          -0.5044658629464512,
          -0.2146538422260227,
          -0.857496824739772,
          -0.22232814261035927,
          0.587622496354027,
          -0.5870118382714219,
          -0.604602969164376,
          -1.1443413896231427,
          -0.3493427224128775,
          0.07602617046671452,
          2.293717612357178,
          -0.038695509266051115,
          0.5655643002124809,
          -1.0678765764865552,
          0.5859104311026156,
          0.5024943389018682,
          0.3931092448539835,
          -0.18656977190734877,
          1.146900376399483,
          0.8389834138745049,
          1.2245077048054989,
          0.19280114617216262,
          1.0712524278458908,
          -0.8260974318473202,
          -0.6124421282843443,
          -1.2197443969790327,
          -0.7029204029101687,
          0.4798523711538174,
          -0.18955980540041933,
          -0.8876289640848363,
          -1.039182322034903,
          -0.2915945955008327,
          0.1698692553475717,
          0.08702723308086428,
          0.3827151737243639,
          0.672619748121479,
          -0.12289022551864817,
          -0.9878650709369183,
          -0.06065249177480989,
          0.8173012506847075,
          -1.9433234056683528,
          -0.008625432629858607,
          -0.7750702870734348,
          -0.5924612851532695,
          -0.7121668375905008,
          0.4306442576957251,
          0.24266944108179458,
          0.07734006834855942,
          0.08176781880561644,
          0.7945282396010823,
          0.66134699255432,
          -0.893868854208921,
          -0.323245513391997,
          0.017164726374088564,
          -0.7580673285562323,
          0.060750195799506745,
          0.3535672160026291,
          0.8495868450948219,
          1.069965538950133,
          1.2737559301587766,
          0.09574677111013467,
          1.3314571125875918,
          0.2525268761460488,
          1.6209122856217475,
          -1.3352027230151915,
          -0.8323953476886892,
          0.8851411642707281,
          0.6409858663835063,
          -0.6039206277932573,
          -1.5645078538111965,
          0.6743961048208689,
          -0.997026827650263,
          -0.06932869669048287,
          -0.646916688254908,
          0.36949271637572373,
          0.21353390133544178,
          -0.3592240957107388,
          -0.7673098263317347,
          1.0080654330757632,
          -0.7855339969202355,
          -0.5163479086460222,
          0.5481295846881931,
          -0.4775808546567209,
          -0.8595159408319863,
          -1.6507212658241002,
          -0.625342001465988,
          -0.10015523328349978,
          1.038824601859414,
          -1.0949118457410418,
          0.6616810764659825,
          0.5027408819999043,
          0.17718772027596041,
          1.1552878860882252,
          0.42028220364705954,
          -0.20089441691594354,
          -0.7778588266274128,
          -1.719394474619523,
          -0.1787571070095065,
          -0.8872979941124168,
          1.8105349141254563,
          -0.06674433468303034,
          0.14430835783840265,
          1.4075400002412286,
          0.7504116398650081,
          0.6825514068644851,
          -0.14319574500723764,
          -0.4228569613907754,
          1.2785280828417218,
          0.7928068659193477,
          -0.23083974313546946,
          0.5560735100773853,
          0.6747115256879723,
          -0.45611755514868535,
          -0.6180368476815788,
          0.11236848879221897,
          -2.3015386968802827,
          0.37167029121186534,
          -0.3198015988986712,
          -0.4477207619749597,
          -0.6724480387865963,
          -1.1487042296369459,
          0.023423102429150647,
          -1.0241002293703876,
          0.24542284918911964,
          -0.37951751553387963,
          -0.0018914828380037015,
          -0.04586668606976747,
          -0.4382002673386686,
          -0.15728193095864365,
          -1.9521052872452325,
          -0.9537006018079346,
          1.8035889814864974,
          0.15900714820958442,
          -0.03536792487871091,
          0.3985983881614373,
          -0.5281717522634557,
          -0.23205745282410284,
          0.8527040617252863,
          -0.026741846367578172,
          -0.952062100706259,
          0.45794707630974174,
          0.4316316994687074,
          0.5924728014240198,
          1.1614399816743937,
          0.28066507712263905,
          -0.28638491539517374,
          0.5129298204180088,
          0.14676526338688947,
          -0.1302802953111756,
          1.6598021771098705,
          1.184865094532452,
          0.05080775477602897,
          -0.47712420646933207,
          -0.977773001532967,
          -0.47861407386118443,
          0.36633201454005826,
          -0.46867381627789134,
          0.7980637952989431,
          0.5856620001723825,
          0.7259168525208212,
          0.8143431291489254,
          0.6218035043055724,
          1.0689716222012626,
          -0.661872705614277,
          -0.5330203260835993,
          -0.3748046873026527,
          -0.03966870009048212,
          0.4100516472082563,
          0.5992132354592584,
          0.16466506584920662,
          -0.039178256209496685,
          -0.5956678809102903,
          -0.2036200120059654,
          -0.09322063564194208,
          -0.07557171302105573,
          1.792158208975567,
          -0.5637887345823027,
          2.1855754065331614,
          2.505980285318673,
          0.9255012147023857,
          1.0079664776005783,
          -0.7556627651019651,
          -1.3477649412536636,
          -0.05118844760766421,
          1.9548780750090344,
          1.8347176266496867,
          1.7054835177554424,
          1.4701603438257402,
          0.6629613417442409,
          0.5712819600026108,
          -0.830168864022708,
          -0.6793837829972343,
          -0.9157918490686792,
          -0.4786723564156615,
          0.9104236030030839,
          0.11309987842157834,
          -0.01266459891890136,
          -1.4941937652746844,
          0.612232523128053,
          -1.5791562853944654,
          1.2066078980355681,
          -0.6200008439481293,
          -0.7332716038953129,
          0.7282636932363885,
          0.7137734756636723,
          -1.0490677451686161,
          -0.7252149257453662,
          -0.739790017308056,
          -0.9970197955296825,
          -1.9406809643648932,
          -0.6874873930601744,
          0.07225189915588459,
          -0.8986831933186461,
          -0.32606130576013626,
          0.08972911744465112,
          0.09346852288599769,
          1.7653351005190716,
          1.3849913436486387,
          -0.5431504536054459,
          -0.5186445846774923,
          0.2829955338110016,
          -0.17739938100533703,
          -0.33094591746983626,
          0.29016505630161465,
          -0.1741803443079907,
          0.31563494724160523,
          -0.37443831884322065,
          0.39788042488185116,
          0.5311637934562251,
          0.6590497961002102,
          -0.8677872228729256,
          0.31903909605709857,
          -1.1171106924391125,
          0.13224777891978462,
          -0.8778584179213718,
          1.956078903703642,
          -1.5104563750875688,
          0.2054364689995355,
          -0.10999149016360682,
          -0.058222074135832025,
          3.0308571123720305,
          0.2656424025142851,
          -0.017454951836177974,
          -0.62944160405378,
          -0.901634490475998,
          -0.49112513779081807,
          0.13805137696163755,
          -0.4077736756023731,
          0.684001328181953,
          -0.19054829766145195,
          -0.7555383039551014,
          0.630195670684911,
          -0.4478951847161186,
          0.4952113239779604,
          0.5653626772645655,
          0.04947112301624813,
          -0.11598518547239624,
          -0.1834001973200239,
          -0.1150570317256336,
          0.8279746426072462,
          -2.2370865111124707,
          -0.5039739491423175,
          -0.40087819178892664,
          -1.5657381506559054,
          -0.19883786288889674,
          0.9665392502290573,
          -0.4753728751379821,
          0.3618016405710469,
          1.1253234986642537,
          1.2361640304528203,
          -0.23729493353970402,
          1.1157018027844863,
          1.0513207678487513,
          -0.437508982828581,
          0.5846466104774262,
          0.23733269933959658,
          -1.0001691898725158,
          -1.9450469586120391,
          0.076380480159592,
          -0.20975293542255413,
          -0.30097615395533844,
          0.27913210928381865,
          -0.6173620637123609,
          -1.1823181265096336,
          -1.0905139835409747,
          0.4089005379368278,
          -0.24863477771546005,
          0.14039543644735017,
          -0.13597732610058932,
          -0.18657899351146628,
          0.29330925930042223,
          -0.2541798676073683,
          0.0174094083000046,
          -0.8301718953151139,
          0.3043745411708511,
          0.5017251093451655,
          1.7106618386711354,
          0.5031848134353261,
          -0.13167562628701832,
          0.5135054799885475,
          1.3097059056826534,
          -0.13479312929572362,
          0.7774192052488628,
          0.22989085010509192,
          1.1294839079119197,
          0.05340953679834792,
          -0.8514556565308268
         ]
        }
       ],
       "layout": {
        "legend": {
         "tracegroupgap": 0
        },
        "margin": {
         "t": 60
        },
        "scene": {
         "domain": {
          "x": [
           0,
           1
          ],
          "y": [
           0,
           1
          ]
         },
         "xaxis": {
          "title": {
           "text": "x"
          }
         },
         "yaxis": {
          "title": {
           "text": "y"
          }
         },
         "zaxis": {
          "title": {
           "text": "z"
          }
         }
        },
        "template": {
         "data": {
          "bar": [
           {
            "error_x": {
             "color": "#2a3f5f"
            },
            "error_y": {
             "color": "#2a3f5f"
            },
            "marker": {
             "line": {
              "color": "#E5ECF6",
              "width": 0.5
             },
             "pattern": {
              "fillmode": "overlay",
              "size": 10,
              "solidity": 0.2
             }
            },
            "type": "bar"
           }
          ],
          "barpolar": [
           {
            "marker": {
             "line": {
              "color": "#E5ECF6",
              "width": 0.5
             },
             "pattern": {
              "fillmode": "overlay",
              "size": 10,
              "solidity": 0.2
             }
            },
            "type": "barpolar"
           }
          ],
          "carpet": [
           {
            "aaxis": {
             "endlinecolor": "#2a3f5f",
             "gridcolor": "white",
             "linecolor": "white",
             "minorgridcolor": "white",
             "startlinecolor": "#2a3f5f"
            },
            "baxis": {
             "endlinecolor": "#2a3f5f",
             "gridcolor": "white",
             "linecolor": "white",
             "minorgridcolor": "white",
             "startlinecolor": "#2a3f5f"
            },
            "type": "carpet"
           }
          ],
          "choropleth": [
           {
            "colorbar": {
             "outlinewidth": 0,
             "ticks": ""
            },
            "type": "choropleth"
           }
          ],
          "contour": [
           {
            "colorbar": {
             "outlinewidth": 0,
             "ticks": ""
            },
            "colorscale": [
             [
              0,
              "#0d0887"
             ],
             [
              0.1111111111111111,
              "#46039f"
             ],
             [
              0.2222222222222222,
              "#7201a8"
             ],
             [
              0.3333333333333333,
              "#9c179e"
             ],
             [
              0.4444444444444444,
              "#bd3786"
             ],
             [
              0.5555555555555556,
              "#d8576b"
             ],
             [
              0.6666666666666666,
              "#ed7953"
             ],
             [
              0.7777777777777778,
              "#fb9f3a"
             ],
             [
              0.8888888888888888,
              "#fdca26"
             ],
             [
              1,
              "#f0f921"
             ]
            ],
            "type": "contour"
           }
          ],
          "contourcarpet": [
           {
            "colorbar": {
             "outlinewidth": 0,
             "ticks": ""
            },
            "type": "contourcarpet"
           }
          ],
          "heatmap": [
           {
            "colorbar": {
             "outlinewidth": 0,
             "ticks": ""
            },
            "colorscale": [
             [
              0,
              "#0d0887"
             ],
             [
              0.1111111111111111,
              "#46039f"
             ],
             [
              0.2222222222222222,
              "#7201a8"
             ],
             [
              0.3333333333333333,
              "#9c179e"
             ],
             [
              0.4444444444444444,
              "#bd3786"
             ],
             [
              0.5555555555555556,
              "#d8576b"
             ],
             [
              0.6666666666666666,
              "#ed7953"
             ],
             [
              0.7777777777777778,
              "#fb9f3a"
             ],
             [
              0.8888888888888888,
              "#fdca26"
             ],
             [
              1,
              "#f0f921"
             ]
            ],
            "type": "heatmap"
           }
          ],
          "heatmapgl": [
           {
            "colorbar": {
             "outlinewidth": 0,
             "ticks": ""
            },
            "colorscale": [
             [
              0,
              "#0d0887"
             ],
             [
              0.1111111111111111,
              "#46039f"
             ],
             [
              0.2222222222222222,
              "#7201a8"
             ],
             [
              0.3333333333333333,
              "#9c179e"
             ],
             [
              0.4444444444444444,
              "#bd3786"
             ],
             [
              0.5555555555555556,
              "#d8576b"
             ],
             [
              0.6666666666666666,
              "#ed7953"
             ],
             [
              0.7777777777777778,
              "#fb9f3a"
             ],
             [
              0.8888888888888888,
              "#fdca26"
             ],
             [
              1,
              "#f0f921"
             ]
            ],
            "type": "heatmapgl"
           }
          ],
          "histogram": [
           {
            "marker": {
             "pattern": {
              "fillmode": "overlay",
              "size": 10,
              "solidity": 0.2
             }
            },
            "type": "histogram"
           }
          ],
          "histogram2d": [
           {
            "colorbar": {
             "outlinewidth": 0,
             "ticks": ""
            },
            "colorscale": [
             [
              0,
              "#0d0887"
             ],
             [
              0.1111111111111111,
              "#46039f"
             ],
             [
              0.2222222222222222,
              "#7201a8"
             ],
             [
              0.3333333333333333,
              "#9c179e"
             ],
             [
              0.4444444444444444,
              "#bd3786"
             ],
             [
              0.5555555555555556,
              "#d8576b"
             ],
             [
              0.6666666666666666,
              "#ed7953"
             ],
             [
              0.7777777777777778,
              "#fb9f3a"
             ],
             [
              0.8888888888888888,
              "#fdca26"
             ],
             [
              1,
              "#f0f921"
             ]
            ],
            "type": "histogram2d"
           }
          ],
          "histogram2dcontour": [
           {
            "colorbar": {
             "outlinewidth": 0,
             "ticks": ""
            },
            "colorscale": [
             [
              0,
              "#0d0887"
             ],
             [
              0.1111111111111111,
              "#46039f"
             ],
             [
              0.2222222222222222,
              "#7201a8"
             ],
             [
              0.3333333333333333,
              "#9c179e"
             ],
             [
              0.4444444444444444,
              "#bd3786"
             ],
             [
              0.5555555555555556,
              "#d8576b"
             ],
             [
              0.6666666666666666,
              "#ed7953"
             ],
             [
              0.7777777777777778,
              "#fb9f3a"
             ],
             [
              0.8888888888888888,
              "#fdca26"
             ],
             [
              1,
              "#f0f921"
             ]
            ],
            "type": "histogram2dcontour"
           }
          ],
          "mesh3d": [
           {
            "colorbar": {
             "outlinewidth": 0,
             "ticks": ""
            },
            "type": "mesh3d"
           }
          ],
          "parcoords": [
           {
            "line": {
             "colorbar": {
              "outlinewidth": 0,
              "ticks": ""
             }
            },
            "type": "parcoords"
           }
          ],
          "pie": [
           {
            "automargin": true,
            "type": "pie"
           }
          ],
          "scatter": [
           {
            "fillpattern": {
             "fillmode": "overlay",
             "size": 10,
             "solidity": 0.2
            },
            "type": "scatter"
           }
          ],
          "scatter3d": [
           {
            "line": {
             "colorbar": {
              "outlinewidth": 0,
              "ticks": ""
             }
            },
            "marker": {
             "colorbar": {
              "outlinewidth": 0,
              "ticks": ""
             }
            },
            "type": "scatter3d"
           }
          ],
          "scattercarpet": [
           {
            "marker": {
             "colorbar": {
              "outlinewidth": 0,
              "ticks": ""
             }
            },
            "type": "scattercarpet"
           }
          ],
          "scattergeo": [
           {
            "marker": {
             "colorbar": {
              "outlinewidth": 0,
              "ticks": ""
             }
            },
            "type": "scattergeo"
           }
          ],
          "scattergl": [
           {
            "marker": {
             "colorbar": {
              "outlinewidth": 0,
              "ticks": ""
             }
            },
            "type": "scattergl"
           }
          ],
          "scattermapbox": [
           {
            "marker": {
             "colorbar": {
              "outlinewidth": 0,
              "ticks": ""
             }
            },
            "type": "scattermapbox"
           }
          ],
          "scatterpolar": [
           {
            "marker": {
             "colorbar": {
              "outlinewidth": 0,
              "ticks": ""
             }
            },
            "type": "scatterpolar"
           }
          ],
          "scatterpolargl": [
           {
            "marker": {
             "colorbar": {
              "outlinewidth": 0,
              "ticks": ""
             }
            },
            "type": "scatterpolargl"
           }
          ],
          "scatterternary": [
           {
            "marker": {
             "colorbar": {
              "outlinewidth": 0,
              "ticks": ""
             }
            },
            "type": "scatterternary"
           }
          ],
          "surface": [
           {
            "colorbar": {
             "outlinewidth": 0,
             "ticks": ""
            },
            "colorscale": [
             [
              0,
              "#0d0887"
             ],
             [
              0.1111111111111111,
              "#46039f"
             ],
             [
              0.2222222222222222,
              "#7201a8"
             ],
             [
              0.3333333333333333,
              "#9c179e"
             ],
             [
              0.4444444444444444,
              "#bd3786"
             ],
             [
              0.5555555555555556,
              "#d8576b"
             ],
             [
              0.6666666666666666,
              "#ed7953"
             ],
             [
              0.7777777777777778,
              "#fb9f3a"
             ],
             [
              0.8888888888888888,
              "#fdca26"
             ],
             [
              1,
              "#f0f921"
             ]
            ],
            "type": "surface"
           }
          ],
          "table": [
           {
            "cells": {
             "fill": {
              "color": "#EBF0F8"
             },
             "line": {
              "color": "white"
             }
            },
            "header": {
             "fill": {
              "color": "#C8D4E3"
             },
             "line": {
              "color": "white"
             }
            },
            "type": "table"
           }
          ]
         },
         "layout": {
          "annotationdefaults": {
           "arrowcolor": "#2a3f5f",
           "arrowhead": 0,
           "arrowwidth": 1
          },
          "autotypenumbers": "strict",
          "coloraxis": {
           "colorbar": {
            "outlinewidth": 0,
            "ticks": ""
           }
          },
          "colorscale": {
           "diverging": [
            [
             0,
             "#8e0152"
            ],
            [
             0.1,
             "#c51b7d"
            ],
            [
             0.2,
             "#de77ae"
            ],
            [
             0.3,
             "#f1b6da"
            ],
            [
             0.4,
             "#fde0ef"
            ],
            [
             0.5,
             "#f7f7f7"
            ],
            [
             0.6,
             "#e6f5d0"
            ],
            [
             0.7,
             "#b8e186"
            ],
            [
             0.8,
             "#7fbc41"
            ],
            [
             0.9,
             "#4d9221"
            ],
            [
             1,
             "#276419"
            ]
           ],
           "sequential": [
            [
             0,
             "#0d0887"
            ],
            [
             0.1111111111111111,
             "#46039f"
            ],
            [
             0.2222222222222222,
             "#7201a8"
            ],
            [
             0.3333333333333333,
             "#9c179e"
            ],
            [
             0.4444444444444444,
             "#bd3786"
            ],
            [
             0.5555555555555556,
             "#d8576b"
            ],
            [
             0.6666666666666666,
             "#ed7953"
            ],
            [
             0.7777777777777778,
             "#fb9f3a"
            ],
            [
             0.8888888888888888,
             "#fdca26"
            ],
            [
             1,
             "#f0f921"
            ]
           ],
           "sequentialminus": [
            [
             0,
             "#0d0887"
            ],
            [
             0.1111111111111111,
             "#46039f"
            ],
            [
             0.2222222222222222,
             "#7201a8"
            ],
            [
             0.3333333333333333,
             "#9c179e"
            ],
            [
             0.4444444444444444,
             "#bd3786"
            ],
            [
             0.5555555555555556,
             "#d8576b"
            ],
            [
             0.6666666666666666,
             "#ed7953"
            ],
            [
             0.7777777777777778,
             "#fb9f3a"
            ],
            [
             0.8888888888888888,
             "#fdca26"
            ],
            [
             1,
             "#f0f921"
            ]
           ]
          },
          "colorway": [
           "#636efa",
           "#EF553B",
           "#00cc96",
           "#ab63fa",
           "#FFA15A",
           "#19d3f3",
           "#FF6692",
           "#B6E880",
           "#FF97FF",
           "#FECB52"
          ],
          "font": {
           "color": "#2a3f5f"
          },
          "geo": {
           "bgcolor": "white",
           "lakecolor": "white",
           "landcolor": "#E5ECF6",
           "showlakes": true,
           "showland": true,
           "subunitcolor": "white"
          },
          "hoverlabel": {
           "align": "left"
          },
          "hovermode": "closest",
          "mapbox": {
           "style": "light"
          },
          "paper_bgcolor": "white",
          "plot_bgcolor": "#E5ECF6",
          "polar": {
           "angularaxis": {
            "gridcolor": "white",
            "linecolor": "white",
            "ticks": ""
           },
           "bgcolor": "#E5ECF6",
           "radialaxis": {
            "gridcolor": "white",
            "linecolor": "white",
            "ticks": ""
           }
          },
          "scene": {
           "xaxis": {
            "backgroundcolor": "#E5ECF6",
            "gridcolor": "white",
            "gridwidth": 2,
            "linecolor": "white",
            "showbackground": true,
            "ticks": "",
            "zerolinecolor": "white"
           },
           "yaxis": {
            "backgroundcolor": "#E5ECF6",
            "gridcolor": "white",
            "gridwidth": 2,
            "linecolor": "white",
            "showbackground": true,
            "ticks": "",
            "zerolinecolor": "white"
           },
           "zaxis": {
            "backgroundcolor": "#E5ECF6",
            "gridcolor": "white",
            "gridwidth": 2,
            "linecolor": "white",
            "showbackground": true,
            "ticks": "",
            "zerolinecolor": "white"
           }
          },
          "shapedefaults": {
           "line": {
            "color": "#2a3f5f"
           }
          },
          "ternary": {
           "aaxis": {
            "gridcolor": "white",
            "linecolor": "white",
            "ticks": ""
           },
           "baxis": {
            "gridcolor": "white",
            "linecolor": "white",
            "ticks": ""
           },
           "bgcolor": "#E5ECF6",
           "caxis": {
            "gridcolor": "white",
            "linecolor": "white",
            "ticks": ""
           }
          },
          "title": {
           "x": 0.05
          },
          "xaxis": {
           "automargin": true,
           "gridcolor": "white",
           "linecolor": "white",
           "ticks": "",
           "title": {
            "standoff": 15
           },
           "zerolinecolor": "white",
           "zerolinewidth": 2
          },
          "yaxis": {
           "automargin": true,
           "gridcolor": "white",
           "linecolor": "white",
           "ticks": "",
           "title": {
            "standoff": 15
           },
           "zerolinecolor": "white",
           "zerolinewidth": 2
          }
         }
        }
       }
      },
      "text/html": [
       "<div>                            <div id=\"09cd37cc-3365-4a9b-857d-b477570e289a\" class=\"plotly-graph-div\" style=\"height:525px; width:100%;\"></div>            <script type=\"text/javascript\">                require([\"plotly\"], function(Plotly) {                    window.PLOTLYENV=window.PLOTLYENV || {};                                    if (document.getElementById(\"09cd37cc-3365-4a9b-857d-b477570e289a\")) {                    Plotly.newPlot(                        \"09cd37cc-3365-4a9b-857d-b477570e289a\",                        [{\"hovertemplate\":\"x=%{x}<br>y=%{y}<br>z=%{z}<extra></extra>\",\"legendgroup\":\"\",\"marker\":{\"color\":\"#636efa\",\"symbol\":\"circle\"},\"mode\":\"markers\",\"name\":\"\",\"scene\":\"scene\",\"showlegend\":false,\"x\":[1.0603275091568074,1.198917879901507,-1.0455342473768945,-0.09996969661063972,1.0138224669717055,0.8360047194342688,0.12015895248162915,-0.10193203926360005,0.8088443602656821,-0.3649633061438197,0.5294653243527092,0.6470911566295872,0.46116409997701746,-0.5998045310708474,0.7009821215232441,0.45161595055524156,-0.2604660588653798,0.1583186178519788,-0.691660751725309,-0.09347750826637478,1.9197922864280879,0.13404819655462313,-0.806178211953457,0.4295261400219645,-0.26621850600362207,0.19829972012676975,0.352494364369333,-0.7013444262571769,1.018552474767882,-0.45993010443458127,-0.3224172040135075,-0.44513577605412447,-1.4023291454531368,-0.10316545602243991,1.1071754509490623,-1.0903383324548148,-2.304907937770138,0.30113256376926884,-0.32649949807818424,-0.9154243682317061,-0.04970257915867584,-1.6840599858682372,0.018098731380217663,0.9932825554712,-0.0845080274046298,1.5365363280210986,-0.9357694342590688,0.2808190482617027,-0.8088471964721285,-0.6369956465693534,-0.09153099348098676,1.1158411079241686,0.425920176502816,1.4176740129993604,-0.35340998286701436,0.9487554035696751,1.197830841721251,-0.6657545181991266,-1.1386489983301828,0.10816647881023703,0.9351477795910749,0.025999994185658175,1.8514378945735097,0.3196569419445935,-0.8805775998441709,-0.5596814219185569,-0.2493703754774101,0.8074559170052702,-0.5089722778228615,0.6210827008390084,-0.870008223190852,-0.004600772121699846,0.09499611006916124,-0.5865239388215925,-0.3946896809955576,1.000881423680301,-0.934181843147949,0.7804699297583744,-0.0568244808858473,-1.6374495930083417,0.9200179332477632,0.04221374671559283,-0.6725050101341876,-0.11877117210308928,0.7833431005480721,0.17195713216759081,-2.037201225680795,-1.5526987831768355,-0.4910804790143345,0.18167395928713254,0.1855356209665554,1.6276507531489064,1.6316915136307972,-1.3964963354881377,-0.8300109855676734,1.0334508032642373,0.2300947353643834,0.7812097647464816,-0.7524456418897562,0.7130490503032691,-0.6235307296797916,-0.35224984649351865,-0.17762075674848082,-1.4702370890213132,0.35054597866410736,-0.1561148306889061,-0.1221540151116833,0.7847706510155895,1.1447237098396141,0.8160436843240609,0.8018610318713447,0.8408615581411037,-0.2088942333747781,0.6980320340722189,0.08028249587125579,-0.40725204301996576,-0.7972697854931297,1.0097873349475586,1.5588055406198593,-1.229574253546429,-0.1920036966310444,-1.1540192568141496,0.7420441605773356,-1.0971543602553622,0.057120996082092076,1.693809113288081,0.14539397323435277,-0.8061848173822241,-0.03599018172719132,0.9008559492644118,-0.5153990138793918,2.0563555231982935,-0.29446558802187217,-0.5574947217860433,0.16066291673129376,-0.027529386267978004,-0.36261208757725877,-0.018189321882047294,0.5599495017780693,-0.7003985049212547,-0.6387304074542224,0.10734329382358966,0.47761018181755727,0.5885261278883208,0.21150160479163793,0.6899399505354733,-0.4791570987860799,-1.1640079711612021,0.0954250871912577,2.428876969522979,-0.030911417604135967,-0.4525249732840256,-0.024616955875778355,0.7314025171250657,0.043668993178389105,-0.4615389785421647,0.6365834094146309,0.040371431022839264,0.7448845364406519,0.9311020813035573,-1.4191487771444868,0.8633453175440216,-0.01900052154731654,-0.5322340208981775,-1.1220187287468883,1.0449944096738975,2.1906997289697334,-0.07311270374727777,-0.17470315974250095,0.6778075711198115,0.515413801783241,1.470739856691369,0.5643828554943137,-0.5181455523987548,-0.13971173044107246,-0.05936790254849916,0.31515939204229176,-1.3319516665172482,-0.8224671889042517,2.1869796469742577,-0.31011677351806,0.4034916417908,0.03494358936374005,0.12910157971072544,0.21112475500771674,1.1926860677546935,-1.6274383406162574,0.029153691372041993,-2.4135030011737877,-1.1077125022845524,0.3404894636570257,0.17730102605641396,0.6185391307862932,0.5776308777090753,0.31358851769576274,0.6233621765780327,-0.10174587252914521,0.6183802619985245,1.0112070637749084,0.3672318138838647,-2.114163921916826,-1.2300581356669618,-1.3057269225577375,0.08968640732259017,-1.396620424595432,-0.10646012155553987,-0.10679398677922511,0.5718048788649898,-1.0729686221561705,-0.45994283084068716,-0.2873078634760189,0.5875893437786776,-0.1902210250848615,-0.21873345896770915,-0.09290542839016434,-0.12035025087599316,-0.5632366041174566,3.3210787561703645,-0.4982135636310781,-0.9509092510507696,-0.1505043256504516,0.05202669485454472,-0.41893789767812306,0.1693824330586681,1.923815425970925,-0.09978035899810825,-1.8731609776353015,0.24050555214736213,1.6243453636632417,0.09708750814688852,-1.7559256402328518,-0.48663379262462003,-1.072964278711645,-0.07667936270573186,0.08897277898080534,0.6745707069560037,-1.1134361029729902,0.5627610966190263,-0.8926466735128841,-0.7543979409966528,-0.017817549053938987,-0.12350824544286768,-1.1173103486352778,0.2419418246706617,-0.7471582937508376,1.0212481260989013,0.6147262758274484,-0.8708876496519611,-2.79308500014654,0.32427424344842104,0.8858257989659072,-1.0445893819077916,1.0492182907525678,0.7255505180787332,0.013352676347176594,-0.2828635516348445,-0.4944822285457688,-0.1754589686617526,-0.22876582887016242,-1.8239198526251938,-0.20075806892999745,1.4958847658844756,0.6065484004132948,-1.0807106924455065,0.14164053766580517,0.46636070684404596,0.28456229791238935,-0.29809283510271567,0.20183017887400403,-0.25898285340053234,1.131629387451427,-0.9960108890883996,0.9312556787681191,-0.9484396564537968,-0.09243231854158614,0.35111689651096534,0.8245846250334574,0.8240056184504077,0.8532812219556223,-0.3645380497066375,1.0329837789497511,-0.4622706057880238,0.8989596831940558,0.08646440652428741,-0.43899766366627757,-0.593343754242419,-0.9798902516618007,0.23333912626012182,-0.8816249004956157,-0.8452056414987196,-1.458324460393154,-0.44669920347712,-0.4148469012882354,0.9039991740035269,-0.3438536755710756,0.2624674454632686,-0.41999445730612356,-0.2455072163495551,-0.3290515493410809,0.004000841975375483,0.12951595089600185,0.4381663472912375,0.5053819027529176,-1.014803690858671,-2.698361741666047,0.41026574539684446,1.1525991350106037,0.31665889515665435,0.09568195756946,-0.10839206717353982,0.9863521802120643,-0.7244957742610225,0.4290057260455405,0.017955891650826426,-0.2625516969694696,-0.12742647362194454,0.19689386562465933,0.008548945436024693,0.16003706944783047,-1.5256803162293577,0.15001627872780374,-0.13935180545092124,1.9046587083409812,0.8849088144648833,1.74481176421648,0.7330232317190783,-0.5691486535119704,-1.0998912673140309,-0.8905555841630485,-1.1549826349293644,0.1395777268173319,-0.4422292795131728,0.35914536787717144,1.3887793963702684,-0.5223564651356952,-2.1444440467284505,1.1010002026684818,-0.7223919054141509,-0.9268719392086243,-1.257462312202889,0.5638756724751147,-0.2889973430098159,1.2198743790306215,0.2539921683076896,-0.918440038300026,0.03536009705475734,0.2487991613877705,-0.6758246926588372,0.26132758704906106,0.6179855339203347,0.3724568515114425,-0.17859376280150815,-2.022201215824003,-0.8286279788564058,-2.076802021923554,0.8109516728035557,-0.4244927905709274,2.4493686490613973,0.12837699015594436,-1.426555420520532,0.8616231013412039,0.3923349111243075,1.9671017492547347,-0.05536420702054921,-0.42914227823509377,0.7781741790995664,1.3998439424809859,0.5150736136393657,-1.8814108671660597,-0.5938430672545096,0.7852269196346882,2.1106050536007097,-0.4569878575935375,0.28807816700515054,-0.13350208967095734,1.2932258825322618,-0.12046457178850745,-0.10134695385373116,-1.6157723547032947,0.901486891648711,0.6274370827531105,-0.7255971191344275,-1.1164700178847444,-0.7721978906933491,-1.44087602429184,-0.13644474389603303,2.0657833202188343,-0.4357110327974788,-0.22875417122021255,-0.30912131864186215,-1.2725587552459943,0.1343731160397544,1.853009485069379,-0.27584606256114336,0.10803081731234535,0.8709698025322423,-0.3106258852151224,0.3775637863209194,-0.7499696172756662,-0.3312831699326283],\"y\":[-1.7111676596244927,0.18515641748394385,0.35528450700622954,0.003694491853091927,-2.2271126318500145,1.5433591108044837,0.6172031097074192,0.7433565435138623,1.7897546832062712,-0.3083732125305833,0.13770120999738608,-0.3508242660819818,-1.1759826714413153,1.1234121620219353,-0.198937450283896,1.1041743263032135,0.445096710344572,-1.3320629696310695,-0.39675352685597737,-0.07661808088354584,-1.3916938760540336,1.2020548621997058,0.04906169237310281,-0.6069983982000461,0.03261454669335856,0.11900864580745882,-0.2364369518129867,-0.5372230238753384,1.2305581999547246,-0.7907999537751678,-0.38405435466841564,0.05566863319148501,0.4511229387345986,0.01058591429407446,1.4428769284963092,1.700188146645526,-0.03181717269879145,0.24042305663258437,-1.342675789377436,1.2251558492732308,0.46664326722884075,-1.1601701049822761,1.0149987437202306,-0.639713078156761,-0.2973618827735036,-0.00037500875835609604,-0.2678880796260159,0.7573751912411255,0.5574394528580334,0.19091548466746602,-0.11051445089416781,0.3102722877837673,0.049080397141630476,0.05031708614713537,-1.7879128911997157,-0.005867107188278834,1.7045941713724069,-1.674195807618932,-0.03481226972756456,-0.657100516263411,1.8125278151175406,-1.3486964467972422,0.20909667657552103,0.31815419967868935,-0.27909772154329027,1.3797581916062172,1.462107937044974,0.3122386890129999,-0.16648595488595935,0.9561217041246964,0.36919046954687373,0.33330534270305523,0.08075098862302005,-1.2368533765413974,-1.1718133792211223,-0.38483224883279044,0.542645294566316,-1.4640535735805917,0.4923365559366488,3.9586027040379634,-0.19505734087590118,0.5828152137158222,-0.6476289426405436,-0.19899818380372442,-0.11887404907268176,0.4905610438096389,-1.9425891814764555,0.578464420256242,-0.22365408087668873,-0.4898600957224898,0.3944280300121126,0.3380116965744758,0.8608912410184296,-1.4441138054295894,-1.0195198494057163,-0.1462732746113538,0.7620111803120247,-0.4354007763040304,-0.9719608791658937,1.3062060651354486,0.5205763370733708,-1.1425181980221402,0.04805707116976032,0.6064039443038369,-1.3122834112374318,-0.35532788534039145,-0.6808515740173174,-0.9554252623736892,0.9015907205927955,-0.6124069731288238,0.04656729842414554,-0.1028872175735376,0.5866231911821976,-0.4471285647859982,-0.06007498781437449,0.9849516717192109,0.28267571224842025,-1.5569415578650314,0.10940269642542817,1.108616757989675,-3.053764380426305,0.16353420378468364,-0.19183555236161492,0.8386347472283774,-0.7995474906917599,0.19686977925029145,-0.21902725374381174,-0.2516742076314244,1.0370389817739079,-0.6837278591743331,-0.1359693998422752,1.7602492264490932,0.425894818757658,0.9391687441964878,0.2572057802831611,1.7464350892279725,-1.4851564513254543,0.9503896598619128,-0.9939147656973109,-0.20339444896455844,0.4234943540641129,-1.3988128186664763,-1.0218859446413093,-0.3205539075989446,-0.0671242823151593,-0.07842130525738424,0.3501671588282789,0.6933662256603845,0.9214500686595114,1.0056866803112163,0.35571726157601685,1.1612856933418074,-0.7751616191691596,0.9544956665476875,-0.22631424251360518,-0.0650976041008378,1.4092533893640082,-0.15699367249331792,-0.036281288553702225,0.2855873252542588,-0.31690119652834625,-0.18092030207815046,-0.22676019216958399,1.1181333967176956,-0.5170944579202279,0.6085146984848496,-1.8963609228910925,1.1603385699937696,0.986335187821242,-1.1065730673918852,-1.1148710523659369,0.33722093830845856,2.1378280674394823,-1.4614036047221062,1.3863142642463189,1.4489894041582356,0.8461606475850334,-1.7606885603987834,0.7217112921126926,0.44136444356858207,-2.434837764107139,0.593578523237067,1.4539175816088175,1.6169495988573002,0.01652756730561561,-0.23794193575218264,0.602319280295629,0.8159679243275141,-1.7775663758059874,-0.01771831791014226,0.8813044507083239,-0.10618664274531017,-0.44317193070063776,0.17302887314233698,0.0814041251533959,-0.4349566829552277,0.8688861570058679,0.23249455917873788,-1.4765626605201803,1.2328991923762371,-0.41163916318848254,0.5505374959762154,-0.34498721015497946,-0.6011568006493835,-0.861316360776042,-2.7909964066938464,1.4514292605909354,-0.03681765651702741,0.8654076293246785,0.6443536660303223,0.6800698398781045,0.7972323159111107,-0.44873803267162277,1.5392070096550627,1.1173608688129428,-0.42783569619724926,2.3901459623335115,-0.6002253303773148,-0.3109849783028509,-0.7043503315234588,0.9154992680625726,0.2640017110359182,-0.47918491512740585,0.7405564510962748,-0.6059813205385978,-0.327301584262489,0.9206151180549562,-0.9994265013581795,-0.6117564136500754,1.2827263903583899,0.7147895974858154,0.08758386460903435,0.49515861120031657,0.5729627259567562,-0.13060095972825586,1.460892380463078,-0.06741002494685439,0.24073709223773224,-0.16119831954123737,1.2528681552332879,-0.600138799235613,-0.06044465524316825,0.23441569781709215,0.7793441272611906,1.6924546010277466,0.5247504922968238,-0.34898419091555255,0.5014295898933301,1.9375288136160798,0.02186283662655242,0.18986164938309566,2.0511734428574444,0.9662208625783415,-0.32420421948521105,-0.6946935952872263,-0.2663268843187201,-0.47493192974382953,-0.9339146556265013,1.6133613745631155,1.167075165999964,0.1865613909882843,0.6754538092042119,-0.7372896277599319,0.7254740044815357,-2.516303860965749,-0.2650599001000258,0.09865799587389522,0.48851814653749703,0.6610202875986929,0.1892931975586576,1.5198168164221988,-1.1958615103244818,0.9498088152113293,-0.4234782972255359,-0.2378752654568325,-0.06877046307863847,0.6545801525867004,-0.5623054310190898,-0.4130293097110322,-0.45971768103806804,-0.22241402852990858,-0.874702710864611,-0.34563447838108113,-2.1424667290773685,0.5900394641608302,0.5103075967452559,0.6925743475393558,0.43499832426284113,0.6939869047744827,-0.671246130836819,0.49434165098237876,0.20437739492116297,0.45194603732122307,1.5754679085723808,0.04359685683424694,0.27649930482218366,-1.149102940268926,0.33965057247483144,1.3471054646704976,0.3212659144838316,0.007224207508893229,1.1223283216570923,1.2179409008013473,0.43598619629640983,-1.2133381258287046,0.8598709717969121,-0.22423577212349852,-1.895266947476466,-0.08572059373876667,0.45015551276717897,-0.466154856825928,0.3897459330261058,-0.6793984205509648,-1.2704607763854796,0.19386733137147505,-0.0704553761950791,-0.11407034535022809,-0.16819883974471597,0.8761689211162249,0.7950260944248447,0.4635343217316655,-0.7285374894247015,1.1110566985605046,-0.8772815189181883,-0.7612069008951028,-1.8988120593192948,-1.061796761310848,-0.17242820755043575,-1.119115398559728,-0.17763219598355098,0.8202768242776345,0.3235273536014321,0.6455944514254379,-0.6613442431530187,-0.36925590182896817,-0.3695624253374333,0.7800271353386294,1.0989963327471792,-0.18242040636309756,0.40731250749214415,0.02514661951352429,-0.3918162398080484,-1.133792035393578,-0.1620161645100033,-0.10534471250754213,-1.5387932457446432,-0.29664115237086275,-0.7046046382360956,-0.17770674524607077,-0.18417632565374534,-0.14848980305939366,-0.260688192704019,-0.3062040126283718,0.528879745585174,0.9475011673456759,1.0444420947072588,-0.7315309817303334,-0.5457741679825677,1.7604151835753223,1.7679599483110264,-2.0863905654565262,0.44838065078168743,-1.857981864446752,-0.2146929866065066,1.208456328551963,0.30981675860748836,-0.7819116826868007,-2.7825344676529227,0.4972690986459772,-0.3439007092103924,-0.6648677669672133,-1.3065340728440185,1.0689859716189178,1.498108183577034,-0.6119398252876224,-0.11044702641731631,-1.2331207354464266,0.07282590864324383,1.121417708235664,2.528325706806398,0.7513372351604846,-0.8677686776235903,0.0809271009732786,-0.7732805199843286,1.232253070828436,-0.11905418777480989,-1.471156925832625,-0.4324149707327936,-0.17961229465135792,0.5109377744920892,0.31354772046343216,-0.26837130412057664,0.14225137252631778,1.2289555856506973,0.02941761897076564,-0.5084571342754007,0.5253073244336361,0.12182127099143693,2.054624102518116,0.3865391451330911],\"z\":[1.6571246380429256,-0.3752849500901142,0.7553920291908554,0.13783203757503595,-1.6993336047222958,0.7588056600979309,0.3001703199558275,-1.5095726842240433,0.4512840160401709,-0.006652110653748474,0.07782112791270591,-0.20368484258719213,1.0101271773347245,0.30526704024401075,0.3019600454061449,-0.28173626906561283,0.09811224622199123,-0.21321430881676118,-0.6871727001195994,-1.2162542563235565,0.4502177420378455,0.28474811084905793,-0.596086334587662,0.1062227240352178,-1.3731173202467557,-0.6706622862890306,0.7278134999996488,0.15626385027008327,-1.181103172771823,1.2237222119601092,1.1337694423354374,-0.009761279160136653,-0.6949209011852391,0.21432936981694306,-0.5396815622024924,0.6087836589081088,0.11248774241419583,0.05465918195271764,1.114382976779792,-1.053546073700315,1.033686867939501,1.350106818681726,-0.31720235515042305,-0.6701045879517503,0.41730200497486253,1.2935496206633084,0.530355466738186,0.3239624061564591,0.18103874435787085,2.100255136478842,0.09987977759631378,-2.094247816222812,1.1022367325853422,0.6503232142523461,0.36184731583956825,-0.3552503373334775,1.0400891531540952,0.8250298244389859,0.17693521344142019,-0.1209009326614364,0.14010988130475283,1.3025355364861801,1.5550159943330888,-0.01923163409763723,1.622849085954001,0.6024509012396099,-2.060140709497654,-0.1933216404740039,1.4236144293489872,-0.7058405074022839,0.8532821858237332,0.050195861199773796,-0.7678037460245601,0.8758389276492995,0.9840122369402405,1.4581082386095199,-1.9581690855990108,-0.1544911938105286,-0.6806781410088858,0.6486436440906672,0.8053934242321815,-1.1006191772129212,0.037160276841315856,1.8664713751521251,0.2794014940925557,-1.395283025065327,-2.506440652676061,-0.96126359903051,-0.41407379459413696,-0.3877352173519611,0.7255225582535588,-1.199268032335186,-0.8801890645415797,-0.5044658629464512,-0.2146538422260227,-0.857496824739772,-0.22232814261035927,0.587622496354027,-0.5870118382714219,-0.604602969164376,-1.1443413896231427,-0.3493427224128775,0.07602617046671452,2.293717612357178,-0.038695509266051115,0.5655643002124809,-1.0678765764865552,0.5859104311026156,0.5024943389018682,0.3931092448539835,-0.18656977190734877,1.146900376399483,0.8389834138745049,1.2245077048054989,0.19280114617216262,1.0712524278458908,-0.8260974318473202,-0.6124421282843443,-1.2197443969790327,-0.7029204029101687,0.4798523711538174,-0.18955980540041933,-0.8876289640848363,-1.039182322034903,-0.2915945955008327,0.1698692553475717,0.08702723308086428,0.3827151737243639,0.672619748121479,-0.12289022551864817,-0.9878650709369183,-0.06065249177480989,0.8173012506847075,-1.9433234056683528,-0.008625432629858607,-0.7750702870734348,-0.5924612851532695,-0.7121668375905008,0.4306442576957251,0.24266944108179458,0.07734006834855942,0.08176781880561644,0.7945282396010823,0.66134699255432,-0.893868854208921,-0.323245513391997,0.017164726374088564,-0.7580673285562323,0.060750195799506745,0.3535672160026291,0.8495868450948219,1.069965538950133,1.2737559301587766,0.09574677111013467,1.3314571125875918,0.2525268761460488,1.6209122856217475,-1.3352027230151915,-0.8323953476886892,0.8851411642707281,0.6409858663835063,-0.6039206277932573,-1.5645078538111965,0.6743961048208689,-0.997026827650263,-0.06932869669048287,-0.646916688254908,0.36949271637572373,0.21353390133544178,-0.3592240957107388,-0.7673098263317347,1.0080654330757632,-0.7855339969202355,-0.5163479086460222,0.5481295846881931,-0.4775808546567209,-0.8595159408319863,-1.6507212658241002,-0.625342001465988,-0.10015523328349978,1.038824601859414,-1.0949118457410418,0.6616810764659825,0.5027408819999043,0.17718772027596041,1.1552878860882252,0.42028220364705954,-0.20089441691594354,-0.7778588266274128,-1.719394474619523,-0.1787571070095065,-0.8872979941124168,1.8105349141254563,-0.06674433468303034,0.14430835783840265,1.4075400002412286,0.7504116398650081,0.6825514068644851,-0.14319574500723764,-0.4228569613907754,1.2785280828417218,0.7928068659193477,-0.23083974313546946,0.5560735100773853,0.6747115256879723,-0.45611755514868535,-0.6180368476815788,0.11236848879221897,-2.3015386968802827,0.37167029121186534,-0.3198015988986712,-0.4477207619749597,-0.6724480387865963,-1.1487042296369459,0.023423102429150647,-1.0241002293703876,0.24542284918911964,-0.37951751553387963,-0.0018914828380037015,-0.04586668606976747,-0.4382002673386686,-0.15728193095864365,-1.9521052872452325,-0.9537006018079346,1.8035889814864974,0.15900714820958442,-0.03536792487871091,0.3985983881614373,-0.5281717522634557,-0.23205745282410284,0.8527040617252863,-0.026741846367578172,-0.952062100706259,0.45794707630974174,0.4316316994687074,0.5924728014240198,1.1614399816743937,0.28066507712263905,-0.28638491539517374,0.5129298204180088,0.14676526338688947,-0.1302802953111756,1.6598021771098705,1.184865094532452,0.05080775477602897,-0.47712420646933207,-0.977773001532967,-0.47861407386118443,0.36633201454005826,-0.46867381627789134,0.7980637952989431,0.5856620001723825,0.7259168525208212,0.8143431291489254,0.6218035043055724,1.0689716222012626,-0.661872705614277,-0.5330203260835993,-0.3748046873026527,-0.03966870009048212,0.4100516472082563,0.5992132354592584,0.16466506584920662,-0.039178256209496685,-0.5956678809102903,-0.2036200120059654,-0.09322063564194208,-0.07557171302105573,1.792158208975567,-0.5637887345823027,2.1855754065331614,2.505980285318673,0.9255012147023857,1.0079664776005783,-0.7556627651019651,-1.3477649412536636,-0.05118844760766421,1.9548780750090344,1.8347176266496867,1.7054835177554424,1.4701603438257402,0.6629613417442409,0.5712819600026108,-0.830168864022708,-0.6793837829972343,-0.9157918490686792,-0.4786723564156615,0.9104236030030839,0.11309987842157834,-0.01266459891890136,-1.4941937652746844,0.612232523128053,-1.5791562853944654,1.2066078980355681,-0.6200008439481293,-0.7332716038953129,0.7282636932363885,0.7137734756636723,-1.0490677451686161,-0.7252149257453662,-0.739790017308056,-0.9970197955296825,-1.9406809643648932,-0.6874873930601744,0.07225189915588459,-0.8986831933186461,-0.32606130576013626,0.08972911744465112,0.09346852288599769,1.7653351005190716,1.3849913436486387,-0.5431504536054459,-0.5186445846774923,0.2829955338110016,-0.17739938100533703,-0.33094591746983626,0.29016505630161465,-0.1741803443079907,0.31563494724160523,-0.37443831884322065,0.39788042488185116,0.5311637934562251,0.6590497961002102,-0.8677872228729256,0.31903909605709857,-1.1171106924391125,0.13224777891978462,-0.8778584179213718,1.956078903703642,-1.5104563750875688,0.2054364689995355,-0.10999149016360682,-0.058222074135832025,3.0308571123720305,0.2656424025142851,-0.017454951836177974,-0.62944160405378,-0.901634490475998,-0.49112513779081807,0.13805137696163755,-0.4077736756023731,0.684001328181953,-0.19054829766145195,-0.7555383039551014,0.630195670684911,-0.4478951847161186,0.4952113239779604,0.5653626772645655,0.04947112301624813,-0.11598518547239624,-0.1834001973200239,-0.1150570317256336,0.8279746426072462,-2.2370865111124707,-0.5039739491423175,-0.40087819178892664,-1.5657381506559054,-0.19883786288889674,0.9665392502290573,-0.4753728751379821,0.3618016405710469,1.1253234986642537,1.2361640304528203,-0.23729493353970402,1.1157018027844863,1.0513207678487513,-0.437508982828581,0.5846466104774262,0.23733269933959658,-1.0001691898725158,-1.9450469586120391,0.076380480159592,-0.20975293542255413,-0.30097615395533844,0.27913210928381865,-0.6173620637123609,-1.1823181265096336,-1.0905139835409747,0.4089005379368278,-0.24863477771546005,0.14039543644735017,-0.13597732610058932,-0.18657899351146628,0.29330925930042223,-0.2541798676073683,0.0174094083000046,-0.8301718953151139,0.3043745411708511,0.5017251093451655,1.7106618386711354,0.5031848134353261,-0.13167562628701832,0.5135054799885475,1.3097059056826534,-0.13479312929572362,0.7774192052488628,0.22989085010509192,1.1294839079119197,0.05340953679834792,-0.8514556565308268],\"type\":\"scatter3d\"}],                        {\"template\":{\"data\":{\"histogram2dcontour\":[{\"type\":\"histogram2dcontour\",\"colorbar\":{\"outlinewidth\":0,\"ticks\":\"\"},\"colorscale\":[[0.0,\"#0d0887\"],[0.1111111111111111,\"#46039f\"],[0.2222222222222222,\"#7201a8\"],[0.3333333333333333,\"#9c179e\"],[0.4444444444444444,\"#bd3786\"],[0.5555555555555556,\"#d8576b\"],[0.6666666666666666,\"#ed7953\"],[0.7777777777777778,\"#fb9f3a\"],[0.8888888888888888,\"#fdca26\"],[1.0,\"#f0f921\"]]}],\"choropleth\":[{\"type\":\"choropleth\",\"colorbar\":{\"outlinewidth\":0,\"ticks\":\"\"}}],\"histogram2d\":[{\"type\":\"histogram2d\",\"colorbar\":{\"outlinewidth\":0,\"ticks\":\"\"},\"colorscale\":[[0.0,\"#0d0887\"],[0.1111111111111111,\"#46039f\"],[0.2222222222222222,\"#7201a8\"],[0.3333333333333333,\"#9c179e\"],[0.4444444444444444,\"#bd3786\"],[0.5555555555555556,\"#d8576b\"],[0.6666666666666666,\"#ed7953\"],[0.7777777777777778,\"#fb9f3a\"],[0.8888888888888888,\"#fdca26\"],[1.0,\"#f0f921\"]]}],\"heatmap\":[{\"type\":\"heatmap\",\"colorbar\":{\"outlinewidth\":0,\"ticks\":\"\"},\"colorscale\":[[0.0,\"#0d0887\"],[0.1111111111111111,\"#46039f\"],[0.2222222222222222,\"#7201a8\"],[0.3333333333333333,\"#9c179e\"],[0.4444444444444444,\"#bd3786\"],[0.5555555555555556,\"#d8576b\"],[0.6666666666666666,\"#ed7953\"],[0.7777777777777778,\"#fb9f3a\"],[0.8888888888888888,\"#fdca26\"],[1.0,\"#f0f921\"]]}],\"heatmapgl\":[{\"type\":\"heatmapgl\",\"colorbar\":{\"outlinewidth\":0,\"ticks\":\"\"},\"colorscale\":[[0.0,\"#0d0887\"],[0.1111111111111111,\"#46039f\"],[0.2222222222222222,\"#7201a8\"],[0.3333333333333333,\"#9c179e\"],[0.4444444444444444,\"#bd3786\"],[0.5555555555555556,\"#d8576b\"],[0.6666666666666666,\"#ed7953\"],[0.7777777777777778,\"#fb9f3a\"],[0.8888888888888888,\"#fdca26\"],[1.0,\"#f0f921\"]]}],\"contourcarpet\":[{\"type\":\"contourcarpet\",\"colorbar\":{\"outlinewidth\":0,\"ticks\":\"\"}}],\"contour\":[{\"type\":\"contour\",\"colorbar\":{\"outlinewidth\":0,\"ticks\":\"\"},\"colorscale\":[[0.0,\"#0d0887\"],[0.1111111111111111,\"#46039f\"],[0.2222222222222222,\"#7201a8\"],[0.3333333333333333,\"#9c179e\"],[0.4444444444444444,\"#bd3786\"],[0.5555555555555556,\"#d8576b\"],[0.6666666666666666,\"#ed7953\"],[0.7777777777777778,\"#fb9f3a\"],[0.8888888888888888,\"#fdca26\"],[1.0,\"#f0f921\"]]}],\"surface\":[{\"type\":\"surface\",\"colorbar\":{\"outlinewidth\":0,\"ticks\":\"\"},\"colorscale\":[[0.0,\"#0d0887\"],[0.1111111111111111,\"#46039f\"],[0.2222222222222222,\"#7201a8\"],[0.3333333333333333,\"#9c179e\"],[0.4444444444444444,\"#bd3786\"],[0.5555555555555556,\"#d8576b\"],[0.6666666666666666,\"#ed7953\"],[0.7777777777777778,\"#fb9f3a\"],[0.8888888888888888,\"#fdca26\"],[1.0,\"#f0f921\"]]}],\"mesh3d\":[{\"type\":\"mesh3d\",\"colorbar\":{\"outlinewidth\":0,\"ticks\":\"\"}}],\"scatter\":[{\"fillpattern\":{\"fillmode\":\"overlay\",\"size\":10,\"solidity\":0.2},\"type\":\"scatter\"}],\"parcoords\":[{\"type\":\"parcoords\",\"line\":{\"colorbar\":{\"outlinewidth\":0,\"ticks\":\"\"}}}],\"scatterpolargl\":[{\"type\":\"scatterpolargl\",\"marker\":{\"colorbar\":{\"outlinewidth\":0,\"ticks\":\"\"}}}],\"bar\":[{\"error_x\":{\"color\":\"#2a3f5f\"},\"error_y\":{\"color\":\"#2a3f5f\"},\"marker\":{\"line\":{\"color\":\"#E5ECF6\",\"width\":0.5},\"pattern\":{\"fillmode\":\"overlay\",\"size\":10,\"solidity\":0.2}},\"type\":\"bar\"}],\"scattergeo\":[{\"type\":\"scattergeo\",\"marker\":{\"colorbar\":{\"outlinewidth\":0,\"ticks\":\"\"}}}],\"scatterpolar\":[{\"type\":\"scatterpolar\",\"marker\":{\"colorbar\":{\"outlinewidth\":0,\"ticks\":\"\"}}}],\"histogram\":[{\"marker\":{\"pattern\":{\"fillmode\":\"overlay\",\"size\":10,\"solidity\":0.2}},\"type\":\"histogram\"}],\"scattergl\":[{\"type\":\"scattergl\",\"marker\":{\"colorbar\":{\"outlinewidth\":0,\"ticks\":\"\"}}}],\"scatter3d\":[{\"type\":\"scatter3d\",\"line\":{\"colorbar\":{\"outlinewidth\":0,\"ticks\":\"\"}},\"marker\":{\"colorbar\":{\"outlinewidth\":0,\"ticks\":\"\"}}}],\"scattermapbox\":[{\"type\":\"scattermapbox\",\"marker\":{\"colorbar\":{\"outlinewidth\":0,\"ticks\":\"\"}}}],\"scatterternary\":[{\"type\":\"scatterternary\",\"marker\":{\"colorbar\":{\"outlinewidth\":0,\"ticks\":\"\"}}}],\"scattercarpet\":[{\"type\":\"scattercarpet\",\"marker\":{\"colorbar\":{\"outlinewidth\":0,\"ticks\":\"\"}}}],\"carpet\":[{\"aaxis\":{\"endlinecolor\":\"#2a3f5f\",\"gridcolor\":\"white\",\"linecolor\":\"white\",\"minorgridcolor\":\"white\",\"startlinecolor\":\"#2a3f5f\"},\"baxis\":{\"endlinecolor\":\"#2a3f5f\",\"gridcolor\":\"white\",\"linecolor\":\"white\",\"minorgridcolor\":\"white\",\"startlinecolor\":\"#2a3f5f\"},\"type\":\"carpet\"}],\"table\":[{\"cells\":{\"fill\":{\"color\":\"#EBF0F8\"},\"line\":{\"color\":\"white\"}},\"header\":{\"fill\":{\"color\":\"#C8D4E3\"},\"line\":{\"color\":\"white\"}},\"type\":\"table\"}],\"barpolar\":[{\"marker\":{\"line\":{\"color\":\"#E5ECF6\",\"width\":0.5},\"pattern\":{\"fillmode\":\"overlay\",\"size\":10,\"solidity\":0.2}},\"type\":\"barpolar\"}],\"pie\":[{\"automargin\":true,\"type\":\"pie\"}]},\"layout\":{\"autotypenumbers\":\"strict\",\"colorway\":[\"#636efa\",\"#EF553B\",\"#00cc96\",\"#ab63fa\",\"#FFA15A\",\"#19d3f3\",\"#FF6692\",\"#B6E880\",\"#FF97FF\",\"#FECB52\"],\"font\":{\"color\":\"#2a3f5f\"},\"hovermode\":\"closest\",\"hoverlabel\":{\"align\":\"left\"},\"paper_bgcolor\":\"white\",\"plot_bgcolor\":\"#E5ECF6\",\"polar\":{\"bgcolor\":\"#E5ECF6\",\"angularaxis\":{\"gridcolor\":\"white\",\"linecolor\":\"white\",\"ticks\":\"\"},\"radialaxis\":{\"gridcolor\":\"white\",\"linecolor\":\"white\",\"ticks\":\"\"}},\"ternary\":{\"bgcolor\":\"#E5ECF6\",\"aaxis\":{\"gridcolor\":\"white\",\"linecolor\":\"white\",\"ticks\":\"\"},\"baxis\":{\"gridcolor\":\"white\",\"linecolor\":\"white\",\"ticks\":\"\"},\"caxis\":{\"gridcolor\":\"white\",\"linecolor\":\"white\",\"ticks\":\"\"}},\"coloraxis\":{\"colorbar\":{\"outlinewidth\":0,\"ticks\":\"\"}},\"colorscale\":{\"sequential\":[[0.0,\"#0d0887\"],[0.1111111111111111,\"#46039f\"],[0.2222222222222222,\"#7201a8\"],[0.3333333333333333,\"#9c179e\"],[0.4444444444444444,\"#bd3786\"],[0.5555555555555556,\"#d8576b\"],[0.6666666666666666,\"#ed7953\"],[0.7777777777777778,\"#fb9f3a\"],[0.8888888888888888,\"#fdca26\"],[1.0,\"#f0f921\"]],\"sequentialminus\":[[0.0,\"#0d0887\"],[0.1111111111111111,\"#46039f\"],[0.2222222222222222,\"#7201a8\"],[0.3333333333333333,\"#9c179e\"],[0.4444444444444444,\"#bd3786\"],[0.5555555555555556,\"#d8576b\"],[0.6666666666666666,\"#ed7953\"],[0.7777777777777778,\"#fb9f3a\"],[0.8888888888888888,\"#fdca26\"],[1.0,\"#f0f921\"]],\"diverging\":[[0,\"#8e0152\"],[0.1,\"#c51b7d\"],[0.2,\"#de77ae\"],[0.3,\"#f1b6da\"],[0.4,\"#fde0ef\"],[0.5,\"#f7f7f7\"],[0.6,\"#e6f5d0\"],[0.7,\"#b8e186\"],[0.8,\"#7fbc41\"],[0.9,\"#4d9221\"],[1,\"#276419\"]]},\"xaxis\":{\"gridcolor\":\"white\",\"linecolor\":\"white\",\"ticks\":\"\",\"title\":{\"standoff\":15},\"zerolinecolor\":\"white\",\"automargin\":true,\"zerolinewidth\":2},\"yaxis\":{\"gridcolor\":\"white\",\"linecolor\":\"white\",\"ticks\":\"\",\"title\":{\"standoff\":15},\"zerolinecolor\":\"white\",\"automargin\":true,\"zerolinewidth\":2},\"scene\":{\"xaxis\":{\"backgroundcolor\":\"#E5ECF6\",\"gridcolor\":\"white\",\"linecolor\":\"white\",\"showbackground\":true,\"ticks\":\"\",\"zerolinecolor\":\"white\",\"gridwidth\":2},\"yaxis\":{\"backgroundcolor\":\"#E5ECF6\",\"gridcolor\":\"white\",\"linecolor\":\"white\",\"showbackground\":true,\"ticks\":\"\",\"zerolinecolor\":\"white\",\"gridwidth\":2},\"zaxis\":{\"backgroundcolor\":\"#E5ECF6\",\"gridcolor\":\"white\",\"linecolor\":\"white\",\"showbackground\":true,\"ticks\":\"\",\"zerolinecolor\":\"white\",\"gridwidth\":2}},\"shapedefaults\":{\"line\":{\"color\":\"#2a3f5f\"}},\"annotationdefaults\":{\"arrowcolor\":\"#2a3f5f\",\"arrowhead\":0,\"arrowwidth\":1},\"geo\":{\"bgcolor\":\"white\",\"landcolor\":\"#E5ECF6\",\"subunitcolor\":\"white\",\"showland\":true,\"showlakes\":true,\"lakecolor\":\"white\"},\"title\":{\"x\":0.05},\"mapbox\":{\"style\":\"light\"}}},\"scene\":{\"domain\":{\"x\":[0.0,1.0],\"y\":[0.0,1.0]},\"xaxis\":{\"title\":{\"text\":\"x\"}},\"yaxis\":{\"title\":{\"text\":\"y\"}},\"zaxis\":{\"title\":{\"text\":\"z\"}}},\"legend\":{\"tracegroupgap\":0},\"margin\":{\"t\":60}},                        {\"responsive\": true}                    ).then(function(){\n",
       "                            \n",
       "var gd = document.getElementById('09cd37cc-3365-4a9b-857d-b477570e289a');\n",
       "var x = new MutationObserver(function (mutations, observer) {{\n",
       "        var display = window.getComputedStyle(gd).display;\n",
       "        if (!display || display === 'none') {{\n",
       "            console.log([gd, 'removed!']);\n",
       "            Plotly.purge(gd);\n",
       "            observer.disconnect();\n",
       "        }}\n",
       "}});\n",
       "\n",
       "// Listen for the removal of the full notebook cells\n",
       "var notebookContainer = gd.closest('#notebook-container');\n",
       "if (notebookContainer) {{\n",
       "    x.observe(notebookContainer, {childList: true});\n",
       "}}\n",
       "\n",
       "// Listen for the clearing of the current output cell\n",
       "var outputEl = gd.closest('.output');\n",
       "if (outputEl) {{\n",
       "    x.observe(outputEl, {childList: true});\n",
       "}}\n",
       "\n",
       "                        })                };                });            </script>        </div>"
      ]
     },
     "metadata": {},
     "output_type": "display_data"
    }
   ],
   "source": [
    "import plotly.express as px\n",
    "fig = px.scatter_3d(x=X[:,0], y=X[:,1], z=X[:,2])\n",
    "fig.show()"
   ]
  },
  {
   "cell_type": "code",
   "execution_count": 82,
   "id": "2d6394da",
   "metadata": {},
   "outputs": [
    {
     "name": "stderr",
     "output_type": "stream",
     "text": [
      "C:\\Users\\User\\anaconda3\\lib\\site-packages\\sklearn\\cluster\\_kmeans.py:881: UserWarning:\n",
      "\n",
      "KMeans is known to have a memory leak on Windows with MKL, when there are less chunks than available threads. You can avoid it by setting the environment variable OMP_NUM_THREADS=2.\n",
      "\n"
     ]
    }
   ],
   "source": [
    "wcss = []\n",
    "\n",
    "for i in range(1,21):\n",
    "    km = KMeans(n_clusters=i)\n",
    "    km.fit_predict(df)\n",
    "    wcss.append(km.inertia_)"
   ]
  },
  {
   "cell_type": "code",
   "execution_count": 83,
   "id": "2d63eb3a",
   "metadata": {},
   "outputs": [
    {
     "data": {
      "text/plain": [
       "[<matplotlib.lines.Line2D at 0x23a1ea69070>]"
      ]
     },
     "execution_count": 83,
     "metadata": {},
     "output_type": "execute_result"
    },
    {
     "data": {
      "image/png": "[encoded data removed]",
      "text/plain": [
       "<Figure size 432x288 with 1 Axes>"
      ]
     },
     "metadata": {
      "needs_background": "light"
     },
     "output_type": "display_data"
    }
   ],
   "source": [
    "plt.plot(range(1,21),wcss)"
   ]
  },
  {
   "cell_type": "code",
   "execution_count": 84,
   "id": "7a33f37b",
   "metadata": {},
   "outputs": [],
   "source": [
    "km = KMeans(n_clusters=5)\n",
    "y_pred = km.fit_predict(X)"
   ]
  },
  {
   "cell_type": "code",
   "execution_count": 85,
   "id": "dc6fa4be",
   "metadata": {},
   "outputs": [],
   "source": [
    "df = pd.DataFrame()\n",
    "\n",
    "df['col1'] = X[:,0]\n",
    "df['col2'] = X[:,1]\n",
    "df['col3'] = X[:,2]\n",
    "df['label'] = y_pred"
   ]
  },
  {
   "cell_type": "code",
   "execution_count": 86,
   "id": "783d7c5e",
   "metadata": {},
   "outputs": [
    {
     "data": {
      "text/html": [
       "<div>\n",
       "<style scoped>\n",
       "    .dataframe tbody tr th:only-of-type {\n",
       "        vertical-align: middle;\n",
       "    }\n",
       "\n",
       "    .dataframe tbody tr th {\n",
       "        vertical-align: top;\n",
       "    }\n",
       "\n",
       "    .dataframe thead th {\n",
       "        text-align: right;\n",
       "    }\n",
       "</style>\n",
       "<table border=\"1\" class=\"dataframe\">\n",
       "  <thead>\n",
       "    <tr style=\"text-align: right;\">\n",
       "      <th></th>\n",
       "      <th>col1</th>\n",
       "      <th>col2</th>\n",
       "      <th>col3</th>\n",
       "      <th>label</th>\n",
       "    </tr>\n",
       "  </thead>\n",
       "  <tbody>\n",
       "    <tr>\n",
       "      <th>0</th>\n",
       "      <td>1.060328</td>\n",
       "      <td>-1.711168</td>\n",
       "      <td>1.657125</td>\n",
       "      <td>2</td>\n",
       "    </tr>\n",
       "    <tr>\n",
       "      <th>1</th>\n",
       "      <td>1.198918</td>\n",
       "      <td>0.185156</td>\n",
       "      <td>-0.375285</td>\n",
       "      <td>0</td>\n",
       "    </tr>\n",
       "    <tr>\n",
       "      <th>2</th>\n",
       "      <td>-1.045534</td>\n",
       "      <td>0.355285</td>\n",
       "      <td>0.755392</td>\n",
       "      <td>4</td>\n",
       "    </tr>\n",
       "    <tr>\n",
       "      <th>3</th>\n",
       "      <td>-0.099970</td>\n",
       "      <td>0.003694</td>\n",
       "      <td>0.137832</td>\n",
       "      <td>4</td>\n",
       "    </tr>\n",
       "    <tr>\n",
       "      <th>4</th>\n",
       "      <td>1.013822</td>\n",
       "      <td>-2.227113</td>\n",
       "      <td>-1.699334</td>\n",
       "      <td>2</td>\n",
       "    </tr>\n",
       "    <tr>\n",
       "      <th>...</th>\n",
       "      <td>...</td>\n",
       "      <td>...</td>\n",
       "      <td>...</td>\n",
       "      <td>...</td>\n",
       "    </tr>\n",
       "    <tr>\n",
       "      <th>395</th>\n",
       "      <td>0.870970</td>\n",
       "      <td>-0.508457</td>\n",
       "      <td>0.777419</td>\n",
       "      <td>0</td>\n",
       "    </tr>\n",
       "    <tr>\n",
       "      <th>396</th>\n",
       "      <td>-0.310626</td>\n",
       "      <td>0.525307</td>\n",
       "      <td>0.229891</td>\n",
       "      <td>1</td>\n",
       "    </tr>\n",
       "    <tr>\n",
       "      <th>397</th>\n",
       "      <td>0.377564</td>\n",
       "      <td>0.121821</td>\n",
       "      <td>1.129484</td>\n",
       "      <td>0</td>\n",
       "    </tr>\n",
       "    <tr>\n",
       "      <th>398</th>\n",
       "      <td>-0.749970</td>\n",
       "      <td>2.054624</td>\n",
       "      <td>0.053410</td>\n",
       "      <td>1</td>\n",
       "    </tr>\n",
       "    <tr>\n",
       "      <th>399</th>\n",
       "      <td>-0.331283</td>\n",
       "      <td>0.386539</td>\n",
       "      <td>-0.851456</td>\n",
       "      <td>3</td>\n",
       "    </tr>\n",
       "  </tbody>\n",
       "</table>\n",
       "<p>400 rows × 4 columns</p>\n",
       "</div>"
      ],
      "text/plain": [
       "         col1      col2      col3  label\n",
       "0    1.060328 -1.711168  1.657125      2\n",
       "1    1.198918  0.185156 -0.375285      0\n",
       "2   -1.045534  0.355285  0.755392      4\n",
       "3   -0.099970  0.003694  0.137832      4\n",
       "4    1.013822 -2.227113 -1.699334      2\n",
       "..        ...       ...       ...    ...\n",
       "395  0.870970 -0.508457  0.777419      0\n",
       "396 -0.310626  0.525307  0.229891      1\n",
       "397  0.377564  0.121821  1.129484      0\n",
       "398 -0.749970  2.054624  0.053410      1\n",
       "399 -0.331283  0.386539 -0.851456      3\n",
       "\n",
       "[400 rows x 4 columns]"
      ]
     },
     "execution_count": 86,
     "metadata": {},
     "output_type": "execute_result"
    }
   ],
   "source": [
    "df"
   ]
  },
  {
   "cell_type": "code",
   "execution_count": 87,
   "id": "5b79f78b",
   "metadata": {},
   "outputs": [
    {
     "data": {
      "application/vnd.plotly.v1+json": {
       "config": {
        "plotlyServerURL": "https://plot.ly"
       },
       "data": [
        {
         "hovertemplate": "col1=%{x}<br>col2=%{y}<br>col3=%{z}<br>label=%{marker.color}<extra></extra>",
         "legendgroup": "",
         "marker": {
          "color": [
           2,
           0,
           4,
           4,
           2,
           1,
           1,
           3,
           1,
           4,
           0,
           0,
           2,
           1,
           0,
           1,
           1,
           2,
           3,
           3,
           2,
           1,
           3,
           0,
           3,
           3,
           0,
           4,
           3,
           4,
           4,
           4,
           3,
           4,
           1,
           1,
           4,
           0,
           4,
           3,
           1,
           4,
           1,
           2,
           4,
           0,
           4,
           1,
           1,
           4,
           4,
           3,
           0,
           0,
           2,
           0,
           1,
           4,
           4,
           2,
           1,
           4,
           0,
           0,
           4,
           1,
           3,
           0,
           4,
           3,
           4,
           0,
           3,
           4,
           4,
           0,
           3,
           2,
           3,
           1,
           0,
           3,
           4,
           4,
           0,
           3,
           3,
           3,
           3,
           2,
           0,
           0,
           0,
           4,
           4,
           0,
           1,
           0,
           4,
           1,
           3,
           2,
           4,
           4,
           2,
           4,
           3,
           2,
           0,
           0,
           0,
           0,
           1,
           0,
           0,
           1,
           3,
           2,
           0,
           3,
           2,
           4,
           3,
           3,
           2,
           0,
           0,
           4,
           1,
           2,
           3,
           0,
           4,
           3,
           0,
           1,
           2,
           3,
           2,
           4,
           4,
           2,
           2,
           0,
           3,
           0,
           4,
           3,
           1,
           0,
           4,
           1,
           4,
           0,
           4,
           4,
           1,
           3,
           3,
           0,
           4,
           0,
           3,
           1,
           3,
           0,
           2,
           1,
           1,
           2,
           2,
           0,
           1,
           2,
           1,
           1,
           3,
           3,
           3,
           0,
           2,
           3,
           1,
           1,
           0,
           0,
           4,
           1,
           4,
           3,
           1,
           3,
           0,
           0,
           0,
           0,
           1,
           0,
           2,
           1,
           4,
           4,
           4,
           4,
           4,
           2,
           1,
           0,
           3,
           1,
           3,
           0,
           3,
           3,
           1,
           3,
           1,
           0,
           4,
           4,
           1,
           3,
           3,
           3,
           0,
           4,
           1,
           2,
           0,
           1,
           4,
           4,
           3,
           1,
           0,
           1,
           4,
           0,
           4,
           1,
           4,
           3,
           4,
           1,
           1,
           0,
           3,
           3,
           1,
           3,
           0,
           1,
           0,
           0,
           4,
           4,
           3,
           2,
           1,
           1,
           4,
           0,
           2,
           1,
           2,
           0,
           0,
           1,
           1,
           3,
           1,
           4,
           0,
           4,
           3,
           3,
           0,
           0,
           0,
           4,
           0,
           4,
           0,
           2,
           3,
           3,
           3,
           0,
           1,
           4,
           3,
           4,
           3,
           1,
           3,
           3,
           4,
           4,
           3,
           3,
           3,
           3,
           3,
           3,
           4,
           3,
           0,
           2,
           0,
           4,
           0,
           3,
           2,
           2,
           3,
           3,
           0,
           3,
           1,
           3,
           0,
           4,
           0,
           2,
           0,
           2,
           4,
           3,
           4,
           3,
           1,
           3,
           0,
           0,
           4,
           4,
           0,
           3,
           3,
           4,
           0,
           4,
           2,
           3,
           4,
           2,
           0,
           4,
           0,
           0,
           0,
           4,
           4,
           3,
           3,
           0,
           3,
           0,
           1,
           1,
           2,
           0,
           2,
           3,
           1,
           0,
           2,
           2,
           4,
           3,
           3,
           2,
           1,
           1,
           4,
           0,
           2,
           3,
           1,
           1,
           0,
           4,
           4,
           4,
           1,
           4,
           2,
           4,
           4,
           4,
           4,
           0,
           0,
           1,
           0,
           0,
           1,
           0,
           1,
           3
          ],
          "coloraxis": "coloraxis",
          "symbol": "circle"
         },
         "mode": "markers",
         "name": "",
         "scene": "scene",
         "showlegend": false,
         "type": "scatter3d",
         "x": [
          1.0603275091568074,
          1.198917879901507,
          -1.0455342473768945,
          -0.09996969661063972,
          1.0138224669717055,
          0.8360047194342688,
          0.12015895248162915,
          -0.10193203926360005,
          0.8088443602656821,
          -0.3649633061438197,
          0.5294653243527092,
          0.6470911566295872,
          0.46116409997701746,
          -0.5998045310708474,
          0.7009821215232441,
          0.45161595055524156,
          -0.2604660588653798,
          0.1583186178519788,
          -0.691660751725309,
          -0.09347750826637478,
          1.9197922864280879,
          0.13404819655462313,
          -0.806178211953457,
          0.4295261400219645,
          -0.26621850600362207,
          0.19829972012676975,
          0.352494364369333,
          -0.7013444262571769,
          1.018552474767882,
          -0.45993010443458127,
          -0.3224172040135075,
          -0.44513577605412447,
          -1.4023291454531368,
          -0.10316545602243991,
          1.1071754509490623,
          -1.0903383324548148,
          -2.304907937770138,
          0.30113256376926884,
          -0.32649949807818424,
          -0.9154243682317061,
          -0.04970257915867584,
          -1.6840599858682372,
          0.018098731380217663,
          0.9932825554712,
          -0.0845080274046298,
          1.5365363280210986,
          -0.9357694342590688,
          0.2808190482617027,
          -0.8088471964721285,
          -0.6369956465693534,
          -0.09153099348098676,
          1.1158411079241686,
          0.425920176502816,
          1.4176740129993604,
          -0.35340998286701436,
          0.9487554035696751,
          1.197830841721251,
          -0.6657545181991266,
          -1.1386489983301828,
          0.10816647881023703,
          0.9351477795910749,
          0.025999994185658175,
          1.8514378945735097,
          0.3196569419445935,
          -0.8805775998441709,
          -0.5596814219185569,
          -0.2493703754774101,
          0.8074559170052702,
          -0.5089722778228615,
          0.6210827008390084,
          -0.870008223190852,
          -0.004600772121699846,
          0.09499611006916124,
          -0.5865239388215925,
          -0.3946896809955576,
          1.000881423680301,
          -0.934181843147949,
          0.7804699297583744,
          -0.0568244808858473,
          -1.6374495930083417,
          0.9200179332477632,
          0.04221374671559283,
          -0.6725050101341876,
          -0.11877117210308928,
          0.7833431005480721,
          0.17195713216759081,
          -2.037201225680795,
          -1.5526987831768355,
          -0.4910804790143345,
          0.18167395928713254,
          0.1855356209665554,
          1.6276507531489064,
          1.6316915136307972,
          -1.3964963354881377,
          -0.8300109855676734,
          1.0334508032642373,
          0.2300947353643834,
          0.7812097647464816,
          -0.7524456418897562,
          0.7130490503032691,
          -0.6235307296797916,
          -0.35224984649351865,
          -0.17762075674848082,
          -1.4702370890213132,
          0.35054597866410736,
          -0.1561148306889061,
          -0.1221540151116833,
          0.7847706510155895,
          1.1447237098396141,
          0.8160436843240609,
          0.8018610318713447,
          0.8408615581411037,
          -0.2088942333747781,
          0.6980320340722189,
          0.08028249587125579,
          -0.40725204301996576,
          -0.7972697854931297,
          1.0097873349475586,
          1.5588055406198593,
          -1.229574253546429,
          -0.1920036966310444,
          -1.1540192568141496,
          0.7420441605773356,
          -1.0971543602553622,
          0.057120996082092076,
          1.693809113288081,
          0.14539397323435277,
          -0.8061848173822241,
          -0.03599018172719132,
          0.9008559492644118,
          -0.5153990138793918,
          2.0563555231982935,
          -0.29446558802187217,
          -0.5574947217860433,
          0.16066291673129376,
          -0.027529386267978004,
          -0.36261208757725877,
          -0.018189321882047294,
          0.5599495017780693,
          -0.7003985049212547,
          -0.6387304074542224,
          0.10734329382358966,
          0.47761018181755727,
          0.5885261278883208,
          0.21150160479163793,
          0.6899399505354733,
          -0.4791570987860799,
          -1.1640079711612021,
          0.0954250871912577,
          2.428876969522979,
          -0.030911417604135967,
          -0.4525249732840256,
          -0.024616955875778355,
          0.7314025171250657,
          0.043668993178389105,
          -0.4615389785421647,
          0.6365834094146309,
          0.040371431022839264,
          0.7448845364406519,
          0.9311020813035573,
          -1.4191487771444868,
          0.8633453175440216,
          -0.01900052154731654,
          -0.5322340208981775,
          -1.1220187287468883,
          1.0449944096738975,
          2.1906997289697334,
          -0.07311270374727777,
          -0.17470315974250095,
          0.6778075711198115,
          0.515413801783241,
          1.470739856691369,
          0.5643828554943137,
          -0.5181455523987548,
          -0.13971173044107246,
          -0.05936790254849916,
          0.31515939204229176,
          -1.3319516665172482,
          -0.8224671889042517,
          2.1869796469742577,
          -0.31011677351806,
          0.4034916417908,
          0.03494358936374005,
          0.12910157971072544,
          0.21112475500771674,
          1.1926860677546935,
          -1.6274383406162574,
          0.029153691372041993,
          -2.4135030011737877,
          -1.1077125022845524,
          0.3404894636570257,
          0.17730102605641396,
          0.6185391307862932,
          0.5776308777090753,
          0.31358851769576274,
          0.6233621765780327,
          -0.10174587252914521,
          0.6183802619985245,
          1.0112070637749084,
          0.3672318138838647,
          -2.114163921916826,
          -1.2300581356669618,
          -1.3057269225577375,
          0.08968640732259017,
          -1.396620424595432,
          -0.10646012155553987,
          -0.10679398677922511,
          0.5718048788649898,
          -1.0729686221561705,
          -0.45994283084068716,
          -0.2873078634760189,
          0.5875893437786776,
          -0.1902210250848615,
          -0.21873345896770915,
          -0.09290542839016434,
          -0.12035025087599316,
          -0.5632366041174566,
          3.3210787561703645,
          -0.4982135636310781,
          -0.9509092510507696,
          -0.1505043256504516,
          0.05202669485454472,
          -0.41893789767812306,
          0.1693824330586681,
          1.923815425970925,
          -0.09978035899810825,
          -1.8731609776353015,
          0.24050555214736213,
          1.6243453636632417,
          0.09708750814688852,
          -1.7559256402328518,
          -0.48663379262462003,
          -1.072964278711645,
          -0.07667936270573186,
          0.08897277898080534,
          0.6745707069560037,
          -1.1134361029729902,
          0.5627610966190263,
          -0.8926466735128841,
          -0.7543979409966528,
          -0.017817549053938987,
          -0.12350824544286768,
          -1.1173103486352778,
          0.2419418246706617,
          -0.7471582937508376,
          1.0212481260989013,
          0.6147262758274484,
          -0.8708876496519611,
          -2.79308500014654,
          0.32427424344842104,
          0.8858257989659072,
          -1.0445893819077916,
          1.0492182907525678,
          0.7255505180787332,
          0.013352676347176594,
          -0.2828635516348445,
          -0.4944822285457688,
          -0.1754589686617526,
          -0.22876582887016242,
          -1.8239198526251938,
          -0.20075806892999745,
          1.4958847658844756,
          0.6065484004132948,
          -1.0807106924455065,
          0.14164053766580517,
          0.46636070684404596,
          0.28456229791238935,
          -0.29809283510271567,
          0.20183017887400403,
          -0.25898285340053234,
          1.131629387451427,
          -0.9960108890883996,
          0.9312556787681191,
          -0.9484396564537968,
          -0.09243231854158614,
          0.35111689651096534,
          0.8245846250334574,
          0.8240056184504077,
          0.8532812219556223,
          -0.3645380497066375,
          1.0329837789497511,
          -0.4622706057880238,
          0.8989596831940558,
          0.08646440652428741,
          -0.43899766366627757,
          -0.593343754242419,
          -0.9798902516618007,
          0.23333912626012182,
          -0.8816249004956157,
          -0.8452056414987196,
          -1.458324460393154,
          -0.44669920347712,
          -0.4148469012882354,
          0.9039991740035269,
          -0.3438536755710756,
          0.2624674454632686,
          -0.41999445730612356,
          -0.2455072163495551,
          -0.3290515493410809,
          0.004000841975375483,
          0.12951595089600185,
          0.4381663472912375,
          0.5053819027529176,
          -1.014803690858671,
          -2.698361741666047,
          0.41026574539684446,
          1.1525991350106037,
          0.31665889515665435,
          0.09568195756946,
          -0.10839206717353982,
          0.9863521802120643,
          -0.7244957742610225,
          0.4290057260455405,
          0.017955891650826426,
          -0.2625516969694696,
          -0.12742647362194454,
          0.19689386562465933,
          0.008548945436024693,
          0.16003706944783047,
          -1.5256803162293577,
          0.15001627872780374,
          -0.13935180545092124,
          1.9046587083409812,
          0.8849088144648833,
          1.74481176421648,
          0.7330232317190783,
          -0.5691486535119704,
          -1.0998912673140309,
          -0.8905555841630485,
          -1.1549826349293644,
          0.1395777268173319,
          -0.4422292795131728,
          0.35914536787717144,
          1.3887793963702684,
          -0.5223564651356952,
          -2.1444440467284505,
          1.1010002026684818,
          -0.7223919054141509,
          -0.9268719392086243,
          -1.257462312202889,
          0.5638756724751147,
          -0.2889973430098159,
          1.2198743790306215,
          0.2539921683076896,
          -0.918440038300026,
          0.03536009705475734,
          0.2487991613877705,
          -0.6758246926588372,
          0.26132758704906106,
          0.6179855339203347,
          0.3724568515114425,
          -0.17859376280150815,
          -2.022201215824003,
          -0.8286279788564058,
          -2.076802021923554,
          0.8109516728035557,
          -0.4244927905709274,
          2.4493686490613973,
          0.12837699015594436,
          -1.426555420520532,
          0.8616231013412039,
          0.3923349111243075,
          1.9671017492547347,
          -0.05536420702054921,
          -0.42914227823509377,
          0.7781741790995664,
          1.3998439424809859,
          0.5150736136393657,
          -1.8814108671660597,
          -0.5938430672545096,
          0.7852269196346882,
          2.1106050536007097,
          -0.4569878575935375,
          0.28807816700515054,
          -0.13350208967095734,
          1.2932258825322618,
          -0.12046457178850745,
          -0.10134695385373116,
          -1.6157723547032947,
          0.901486891648711,
          0.6274370827531105,
          -0.7255971191344275,
          -1.1164700178847444,
          -0.7721978906933491,
          -1.44087602429184,
          -0.13644474389603303,
          2.0657833202188343,
          -0.4357110327974788,
          -0.22875417122021255,
          -0.30912131864186215,
          -1.2725587552459943,
          0.1343731160397544,
          1.853009485069379,
          -0.27584606256114336,
          0.10803081731234535,
          0.8709698025322423,
          -0.3106258852151224,
          0.3775637863209194,
          -0.7499696172756662,
          -0.3312831699326283
         ],
         "y": [
          -1.7111676596244927,
          0.18515641748394385,
          0.35528450700622954,
          0.003694491853091927,
          -2.2271126318500145,
          1.5433591108044837,
          0.6172031097074192,
          0.7433565435138623,
          1.7897546832062712,
          -0.3083732125305833,
          0.13770120999738608,
          -0.3508242660819818,
          -1.1759826714413153,
          1.1234121620219353,
          -0.198937450283896,
          1.1041743263032135,
          0.445096710344572,
          -1.3320629696310695,
          -0.39675352685597737,
          -0.07661808088354584,
          -1.3916938760540336,
          1.2020548621997058,
          0.04906169237310281,
          -0.6069983982000461,
          0.03261454669335856,
          0.11900864580745882,
          -0.2364369518129867,
          -0.5372230238753384,
          1.2305581999547246,
          -0.7907999537751678,
          -0.38405435466841564,
          0.05566863319148501,
          0.4511229387345986,
          0.01058591429407446,
          1.4428769284963092,
          1.700188146645526,
          -0.03181717269879145,
          0.24042305663258437,
          -1.342675789377436,
          1.2251558492732308,
          0.46664326722884075,
          -1.1601701049822761,
          1.0149987437202306,
          -0.639713078156761,
          -0.2973618827735036,
          -0.00037500875835609604,
          -0.2678880796260159,
          0.7573751912411255,
          0.5574394528580334,
          0.19091548466746602,
          -0.11051445089416781,
          0.3102722877837673,
          0.049080397141630476,
          0.05031708614713537,
          -1.7879128911997157,
          -0.005867107188278834,
          1.7045941713724069,
          -1.674195807618932,
          -0.03481226972756456,
          -0.657100516263411,
          1.8125278151175406,
          -1.3486964467972422,
          0.20909667657552103,
          0.31815419967868935,
          -0.27909772154329027,
          1.3797581916062172,
          1.462107937044974,
          0.3122386890129999,
          -0.16648595488595935,
          0.9561217041246964,
          0.36919046954687373,
          0.33330534270305523,
          0.08075098862302005,
          -1.2368533765413974,
          -1.1718133792211223,
          -0.38483224883279044,
          0.542645294566316,
          -1.4640535735805917,
          0.4923365559366488,
          3.9586027040379634,
          -0.19505734087590118,
          0.5828152137158222,
          -0.6476289426405436,
          -0.19899818380372442,
          -0.11887404907268176,
          0.4905610438096389,
          -1.9425891814764555,
          0.578464420256242,
          -0.22365408087668873,
          -0.4898600957224898,
          0.3944280300121126,
          0.3380116965744758,
          0.8608912410184296,
          -1.4441138054295894,
          -1.0195198494057163,
          -0.1462732746113538,
          0.7620111803120247,
          -0.4354007763040304,
          -0.9719608791658937,
          1.3062060651354486,
          0.5205763370733708,
          -1.1425181980221402,
          0.04805707116976032,
          0.6064039443038369,
          -1.3122834112374318,
          -0.35532788534039145,
          -0.6808515740173174,
          -0.9554252623736892,
          0.9015907205927955,
          -0.6124069731288238,
          0.04656729842414554,
          -0.1028872175735376,
          0.5866231911821976,
          -0.4471285647859982,
          -0.06007498781437449,
          0.9849516717192109,
          0.28267571224842025,
          -1.5569415578650314,
          0.10940269642542817,
          1.108616757989675,
          -3.053764380426305,
          0.16353420378468364,
          -0.19183555236161492,
          0.8386347472283774,
          -0.7995474906917599,
          0.19686977925029145,
          -0.21902725374381174,
          -0.2516742076314244,
          1.0370389817739079,
          -0.6837278591743331,
          -0.1359693998422752,
          1.7602492264490932,
          0.425894818757658,
          0.9391687441964878,
          0.2572057802831611,
          1.7464350892279725,
          -1.4851564513254543,
          0.9503896598619128,
          -0.9939147656973109,
          -0.20339444896455844,
          0.4234943540641129,
          -1.3988128186664763,
          -1.0218859446413093,
          -0.3205539075989446,
          -0.0671242823151593,
          -0.07842130525738424,
          0.3501671588282789,
          0.6933662256603845,
          0.9214500686595114,
          1.0056866803112163,
          0.35571726157601685,
          1.1612856933418074,
          -0.7751616191691596,
          0.9544956665476875,
          -0.22631424251360518,
          -0.0650976041008378,
          1.4092533893640082,
          -0.15699367249331792,
          -0.036281288553702225,
          0.2855873252542588,
          -0.31690119652834625,
          -0.18092030207815046,
          -0.22676019216958399,
          1.1181333967176956,
          -0.5170944579202279,
          0.6085146984848496,
          -1.8963609228910925,
          1.1603385699937696,
          0.986335187821242,
          -1.1065730673918852,
          -1.1148710523659369,
          0.33722093830845856,
          2.1378280674394823,
          -1.4614036047221062,
          1.3863142642463189,
          1.4489894041582356,
          0.8461606475850334,
          -1.7606885603987834,
          0.7217112921126926,
          0.44136444356858207,
          -2.434837764107139,
          0.593578523237067,
          1.4539175816088175,
          1.6169495988573002,
          0.01652756730561561,
          -0.23794193575218264,
          0.602319280295629,
          0.8159679243275141,
          -1.7775663758059874,
          -0.01771831791014226,
          0.8813044507083239,
          -0.10618664274531017,
          -0.44317193070063776,
          0.17302887314233698,
          0.0814041251533959,
          -0.4349566829552277,
          0.8688861570058679,
          0.23249455917873788,
          -1.4765626605201803,
          1.2328991923762371,
          -0.41163916318848254,
          0.5505374959762154,
          -0.34498721015497946,
          -0.6011568006493835,
          -0.861316360776042,
          -2.7909964066938464,
          1.4514292605909354,
          -0.03681765651702741,
          0.8654076293246785,
          0.6443536660303223,
          0.6800698398781045,
          0.7972323159111107,
          -0.44873803267162277,
          1.5392070096550627,
          1.1173608688129428,
          -0.42783569619724926,
          2.3901459623335115,
          -0.6002253303773148,
          -0.3109849783028509,
          -0.7043503315234588,
          0.9154992680625726,
          0.2640017110359182,
          -0.47918491512740585,
          0.7405564510962748,
          -0.6059813205385978,
          -0.327301584262489,
          0.9206151180549562,
          -0.9994265013581795,
          -0.6117564136500754,
          1.2827263903583899,
          0.7147895974858154,
          0.08758386460903435,
          0.49515861120031657,
          0.5729627259567562,
          -0.13060095972825586,
          1.460892380463078,
          -0.06741002494685439,
          0.24073709223773224,
          -0.16119831954123737,
          1.2528681552332879,
          -0.600138799235613,
          -0.06044465524316825,
          0.23441569781709215,
          0.7793441272611906,
          1.6924546010277466,
          0.5247504922968238,
          -0.34898419091555255,
          0.5014295898933301,
          1.9375288136160798,
          0.02186283662655242,
          0.18986164938309566,
          2.0511734428574444,
          0.9662208625783415,
          -0.32420421948521105,
          -0.6946935952872263,
          -0.2663268843187201,
          -0.47493192974382953,
          -0.9339146556265013,
          1.6133613745631155,
          1.167075165999964,
          0.1865613909882843,
          0.6754538092042119,
          -0.7372896277599319,
          0.7254740044815357,
          -2.516303860965749,
          -0.2650599001000258,
          0.09865799587389522,
          0.48851814653749703,
          0.6610202875986929,
          0.1892931975586576,
          1.5198168164221988,
          -1.1958615103244818,
          0.9498088152113293,
          -0.4234782972255359,
          -0.2378752654568325,
          -0.06877046307863847,
          0.6545801525867004,
          -0.5623054310190898,
          -0.4130293097110322,
          -0.45971768103806804,
          -0.22241402852990858,
          -0.874702710864611,
          -0.34563447838108113,
          -2.1424667290773685,
          0.5900394641608302,
          0.5103075967452559,
          0.6925743475393558,
          0.43499832426284113,
          0.6939869047744827,
          -0.671246130836819,
          0.49434165098237876,
          0.20437739492116297,
          0.45194603732122307,
          1.5754679085723808,
          0.04359685683424694,
          0.27649930482218366,
          -1.149102940268926,
          0.33965057247483144,
          1.3471054646704976,
          0.3212659144838316,
          0.007224207508893229,
          1.1223283216570923,
          1.2179409008013473,
          0.43598619629640983,
          -1.2133381258287046,
          0.8598709717969121,
          -0.22423577212349852,
          -1.895266947476466,
          -0.08572059373876667,
          0.45015551276717897,
          -0.466154856825928,
          0.3897459330261058,
          -0.6793984205509648,
          -1.2704607763854796,
          0.19386733137147505,
          -0.0704553761950791,
          -0.11407034535022809,
          -0.16819883974471597,
          0.8761689211162249,
          0.7950260944248447,
          0.4635343217316655,
          -0.7285374894247015,
          1.1110566985605046,
          -0.8772815189181883,
          -0.7612069008951028,
          -1.8988120593192948,
          -1.061796761310848,
          -0.17242820755043575,
          -1.119115398559728,
          -0.17763219598355098,
          0.8202768242776345,
          0.3235273536014321,
          0.6455944514254379,
          -0.6613442431530187,
          -0.36925590182896817,
          -0.3695624253374333,
          0.7800271353386294,
          1.0989963327471792,
          -0.18242040636309756,
          0.40731250749214415,
          0.02514661951352429,
          -0.3918162398080484,
          -1.133792035393578,
          -0.1620161645100033,
          -0.10534471250754213,
          -1.5387932457446432,
          -0.29664115237086275,
          -0.7046046382360956,
          -0.17770674524607077,
          -0.18417632565374534,
          -0.14848980305939366,
          -0.260688192704019,
          -0.3062040126283718,
          0.528879745585174,
          0.9475011673456759,
          1.0444420947072588,
          -0.7315309817303334,
          -0.5457741679825677,
          1.7604151835753223,
          1.7679599483110264,
          -2.0863905654565262,
          0.44838065078168743,
          -1.857981864446752,
          -0.2146929866065066,
          1.208456328551963,
          0.30981675860748836,
          -0.7819116826868007,
          -2.7825344676529227,
          0.4972690986459772,
          -0.3439007092103924,
          -0.6648677669672133,
          -1.3065340728440185,
          1.0689859716189178,
          1.498108183577034,
          -0.6119398252876224,
          -0.11044702641731631,
          -1.2331207354464266,
          0.07282590864324383,
          1.121417708235664,
          2.528325706806398,
          0.7513372351604846,
          -0.8677686776235903,
          0.0809271009732786,
          -0.7732805199843286,
          1.232253070828436,
          -0.11905418777480989,
          -1.471156925832625,
          -0.4324149707327936,
          -0.17961229465135792,
          0.5109377744920892,
          0.31354772046343216,
          -0.26837130412057664,
          0.14225137252631778,
          1.2289555856506973,
          0.02941761897076564,
          -0.5084571342754007,
          0.5253073244336361,
          0.12182127099143693,
          2.054624102518116,
          0.3865391451330911
         ],
         "z": [
          1.6571246380429256,
          -0.3752849500901142,
          0.7553920291908554,
          0.13783203757503595,
          -1.6993336047222958,
          0.7588056600979309,
          0.3001703199558275,
          -1.5095726842240433,
          0.4512840160401709,
          -0.006652110653748474,
          0.07782112791270591,
          -0.20368484258719213,
          1.0101271773347245,
          0.30526704024401075,
          0.3019600454061449,
          -0.28173626906561283,
          0.09811224622199123,
          -0.21321430881676118,
          -0.6871727001195994,
          -1.2162542563235565,
          0.4502177420378455,
          0.28474811084905793,
          -0.596086334587662,
          0.1062227240352178,
          -1.3731173202467557,
          -0.6706622862890306,
          0.7278134999996488,
          0.15626385027008327,
          -1.181103172771823,
          1.2237222119601092,
          1.1337694423354374,
          -0.009761279160136653,
          -0.6949209011852391,
          0.21432936981694306,
          -0.5396815622024924,
          0.6087836589081088,
          0.11248774241419583,
          0.05465918195271764,
          1.114382976779792,
          -1.053546073700315,
          1.033686867939501,
          1.350106818681726,
          -0.31720235515042305,
          -0.6701045879517503,
          0.41730200497486253,
          1.2935496206633084,
          0.530355466738186,
          0.3239624061564591,
          0.18103874435787085,
          2.100255136478842,
          0.09987977759631378,
          -2.094247816222812,
          1.1022367325853422,
          0.6503232142523461,
          0.36184731583956825,
          -0.3552503373334775,
          1.0400891531540952,
          0.8250298244389859,
          0.17693521344142019,
          -0.1209009326614364,
          0.14010988130475283,
          1.3025355364861801,
          1.5550159943330888,
          -0.01923163409763723,
          1.622849085954001,
          0.6024509012396099,
          -2.060140709497654,
          -0.1933216404740039,
          1.4236144293489872,
          -0.7058405074022839,
          0.8532821858237332,
          0.050195861199773796,
          -0.7678037460245601,
          0.8758389276492995,
          0.9840122369402405,
          1.4581082386095199,
          -1.9581690855990108,
          -0.1544911938105286,
          -0.6806781410088858,
          0.6486436440906672,
          0.8053934242321815,
          -1.1006191772129212,
          0.037160276841315856,
          1.8664713751521251,
          0.2794014940925557,
          -1.395283025065327,
          -2.506440652676061,
          -0.96126359903051,
          -0.41407379459413696,
          -0.3877352173519611,
          0.7255225582535588,
          -1.199268032335186,
          -0.8801890645415797,
          -0.5044658629464512,
          -0.2146538422260227,
          -0.857496824739772,
          -0.22232814261035927,
          0.587622496354027,
          -0.5870118382714219,
          -0.604602969164376,
          -1.1443413896231427,
          -0.3493427224128775,
          0.07602617046671452,
          2.293717612357178,
          -0.038695509266051115,
          0.5655643002124809,
          -1.0678765764865552,
          0.5859104311026156,
          0.5024943389018682,
          0.3931092448539835,
          -0.18656977190734877,
          1.146900376399483,
          0.8389834138745049,
          1.2245077048054989,
          0.19280114617216262,
          1.0712524278458908,
          -0.8260974318473202,
          -0.6124421282843443,
          -1.2197443969790327,
          -0.7029204029101687,
          0.4798523711538174,
          -0.18955980540041933,
          -0.8876289640848363,
          -1.039182322034903,
          -0.2915945955008327,
          0.1698692553475717,
          0.08702723308086428,
          0.3827151737243639,
          0.672619748121479,
          -0.12289022551864817,
          -0.9878650709369183,
          -0.06065249177480989,
          0.8173012506847075,
          -1.9433234056683528,
          -0.008625432629858607,
          -0.7750702870734348,
          -0.5924612851532695,
          -0.7121668375905008,
          0.4306442576957251,
          0.24266944108179458,
          0.07734006834855942,
          0.08176781880561644,
          0.7945282396010823,
          0.66134699255432,
          -0.893868854208921,
          -0.323245513391997,
          0.017164726374088564,
          -0.7580673285562323,
          0.060750195799506745,
          0.3535672160026291,
          0.8495868450948219,
          1.069965538950133,
          1.2737559301587766,
          0.09574677111013467,
          1.3314571125875918,
          0.2525268761460488,
          1.6209122856217475,
          -1.3352027230151915,
          -0.8323953476886892,
          0.8851411642707281,
          0.6409858663835063,
          -0.6039206277932573,
          -1.5645078538111965,
          0.6743961048208689,
          -0.997026827650263,
          -0.06932869669048287,
          -0.646916688254908,
          0.36949271637572373,
          0.21353390133544178,
          -0.3592240957107388,
          -0.7673098263317347,
          1.0080654330757632,
          -0.7855339969202355,
          -0.5163479086460222,
          0.5481295846881931,
          -0.4775808546567209,
          -0.8595159408319863,
          -1.6507212658241002,
          -0.625342001465988,
          -0.10015523328349978,
          1.038824601859414,
          -1.0949118457410418,
          0.6616810764659825,
          0.5027408819999043,
          0.17718772027596041,
          1.1552878860882252,
          0.42028220364705954,
          -0.20089441691594354,
          -0.7778588266274128,
          -1.719394474619523,
          -0.1787571070095065,
          -0.8872979941124168,
          1.8105349141254563,
          -0.06674433468303034,
          0.14430835783840265,
          1.4075400002412286,
          0.7504116398650081,
          0.6825514068644851,
          -0.14319574500723764,
          -0.4228569613907754,
          1.2785280828417218,
          0.7928068659193477,
          -0.23083974313546946,
          0.5560735100773853,
          0.6747115256879723,
          -0.45611755514868535,
          -0.6180368476815788,
          0.11236848879221897,
          -2.3015386968802827,
          0.37167029121186534,
          -0.3198015988986712,
          -0.4477207619749597,
          -0.6724480387865963,
          -1.1487042296369459,
          0.023423102429150647,
          -1.0241002293703876,
          0.24542284918911964,
          -0.37951751553387963,
          -0.0018914828380037015,
          -0.04586668606976747,
          -0.4382002673386686,
          -0.15728193095864365,
          -1.9521052872452325,
          -0.9537006018079346,
          1.8035889814864974,
          0.15900714820958442,
          -0.03536792487871091,
          0.3985983881614373,
          -0.5281717522634557,
          -0.23205745282410284,
          0.8527040617252863,
          -0.026741846367578172,
          -0.952062100706259,
          0.45794707630974174,
          0.4316316994687074,
          0.5924728014240198,
          1.1614399816743937,
          0.28066507712263905,
          -0.28638491539517374,
          0.5129298204180088,
          0.14676526338688947,
          -0.1302802953111756,
          1.6598021771098705,
          1.184865094532452,
          0.05080775477602897,
          -0.47712420646933207,
          -0.977773001532967,
          -0.47861407386118443,
          0.36633201454005826,
          -0.46867381627789134,
          0.7980637952989431,
          0.5856620001723825,
          0.7259168525208212,
          0.8143431291489254,
          0.6218035043055724,
          1.0689716222012626,
          -0.661872705614277,
          -0.5330203260835993,
          -0.3748046873026527,
          -0.03966870009048212,
          0.4100516472082563,
          0.5992132354592584,
          0.16466506584920662,
          -0.039178256209496685,
          -0.5956678809102903,
          -0.2036200120059654,
          -0.09322063564194208,
          -0.07557171302105573,
          1.792158208975567,
          -0.5637887345823027,
          2.1855754065331614,
          2.505980285318673,
          0.9255012147023857,
          1.0079664776005783,
          -0.7556627651019651,
          -1.3477649412536636,
          -0.05118844760766421,
          1.9548780750090344,
          1.8347176266496867,
          1.7054835177554424,
          1.4701603438257402,
          0.6629613417442409,
          0.5712819600026108,
          -0.830168864022708,
          -0.6793837829972343,
          -0.9157918490686792,
          -0.4786723564156615,
          0.9104236030030839,
          0.11309987842157834,
          -0.01266459891890136,
          -1.4941937652746844,
          0.612232523128053,
          -1.5791562853944654,
          1.2066078980355681,
          -0.6200008439481293,
          -0.7332716038953129,
          0.7282636932363885,
          0.7137734756636723,
          -1.0490677451686161,
          -0.7252149257453662,
          -0.739790017308056,
          -0.9970197955296825,
          -1.9406809643648932,
          -0.6874873930601744,
          0.07225189915588459,
          -0.8986831933186461,
          -0.32606130576013626,
          0.08972911744465112,
          0.09346852288599769,
          1.7653351005190716,
          1.3849913436486387,
          -0.5431504536054459,
          -0.5186445846774923,
          0.2829955338110016,
          -0.17739938100533703,
          -0.33094591746983626,
          0.29016505630161465,
          -0.1741803443079907,
          0.31563494724160523,
          -0.37443831884322065,
          0.39788042488185116,
          0.5311637934562251,
          0.6590497961002102,
          -0.8677872228729256,
          0.31903909605709857,
          -1.1171106924391125,
          0.13224777891978462,
          -0.8778584179213718,
          1.956078903703642,
          -1.5104563750875688,
          0.2054364689995355,
          -0.10999149016360682,
          -0.058222074135832025,
          3.0308571123720305,
          0.2656424025142851,
          -0.017454951836177974,
          -0.62944160405378,
          -0.901634490475998,
          -0.49112513779081807,
          0.13805137696163755,
          -0.4077736756023731,
          0.684001328181953,
          -0.19054829766145195,
          -0.7555383039551014,
          0.630195670684911,
          -0.4478951847161186,
          0.4952113239779604,
          0.5653626772645655,
          0.04947112301624813,
          -0.11598518547239624,
          -0.1834001973200239,
          -0.1150570317256336,
          0.8279746426072462,
          -2.2370865111124707,
          -0.5039739491423175,
          -0.40087819178892664,
          -1.5657381506559054,
          -0.19883786288889674,
          0.9665392502290573,
          -0.4753728751379821,
          0.3618016405710469,
          1.1253234986642537,
          1.2361640304528203,
          -0.23729493353970402,
          1.1157018027844863,
          1.0513207678487513,
          -0.437508982828581,
          0.5846466104774262,
          0.23733269933959658,
          -1.0001691898725158,
          -1.9450469586120391,
          0.076380480159592,
          -0.20975293542255413,
          -0.30097615395533844,
          0.27913210928381865,
          -0.6173620637123609,
          -1.1823181265096336,
          -1.0905139835409747,
          0.4089005379368278,
          -0.24863477771546005,
          0.14039543644735017,
          -0.13597732610058932,
          -0.18657899351146628,
          0.29330925930042223,
          -0.2541798676073683,
          0.0174094083000046,
          -0.8301718953151139,
          0.3043745411708511,
          0.5017251093451655,
          1.7106618386711354,
          0.5031848134353261,
          -0.13167562628701832,
          0.5135054799885475,
          1.3097059056826534,
          -0.13479312929572362,
          0.7774192052488628,
          0.22989085010509192,
          1.1294839079119197,
          0.05340953679834792,
          -0.8514556565308268
         ]
        }
       ],
       "layout": {
        "coloraxis": {
         "colorbar": {
          "title": {
           "text": "label"
          }
         },
         "colorscale": [
          [
           0,
           "#0d0887"
          ],
          [
           0.1111111111111111,
           "#46039f"
          ],
          [
           0.2222222222222222,
           "#7201a8"
          ],
          [
           0.3333333333333333,
           "#9c179e"
          ],
          [
           0.4444444444444444,
           "#bd3786"
          ],
          [
           0.5555555555555556,
           "#d8576b"
          ],
          [
           0.6666666666666666,
           "#ed7953"
          ],
          [
           0.7777777777777778,
           "#fb9f3a"
          ],
          [
           0.8888888888888888,
           "#fdca26"
          ],
          [
           1,
           "#f0f921"
          ]
         ]
        },
        "legend": {
         "tracegroupgap": 0
        },
        "margin": {
         "t": 60
        },
        "scene": {
         "domain": {
          "x": [
           0,
           1
          ],
          "y": [
           0,
           1
          ]
         },
         "xaxis": {
          "title": {
           "text": "col1"
          }
         },
         "yaxis": {
          "title": {
           "text": "col2"
          }
         },
         "zaxis": {
          "title": {
           "text": "col3"
          }
         }
        },
        "template": {
         "data": {
          "bar": [
           {
            "error_x": {
             "color": "#2a3f5f"
            },
            "error_y": {
             "color": "#2a3f5f"
            },
            "marker": {
             "line": {
              "color": "#E5ECF6",
              "width": 0.5
             },
             "pattern": {
              "fillmode": "overlay",
              "size": 10,
              "solidity": 0.2
             }
            },
            "type": "bar"
           }
          ],
          "barpolar": [
           {
            "marker": {
             "line": {
              "color": "#E5ECF6",
              "width": 0.5
             },
             "pattern": {
              "fillmode": "overlay",
              "size": 10,
              "solidity": 0.2
             }
            },
            "type": "barpolar"
           }
          ],
          "carpet": [
           {
            "aaxis": {
             "endlinecolor": "#2a3f5f",
             "gridcolor": "white",
             "linecolor": "white",
             "minorgridcolor": "white",
             "startlinecolor": "#2a3f5f"
            },
            "baxis": {
             "endlinecolor": "#2a3f5f",
             "gridcolor": "white",
             "linecolor": "white",
             "minorgridcolor": "white",
             "startlinecolor": "#2a3f5f"
            },
            "type": "carpet"
           }
          ],
          "choropleth": [
           {
            "colorbar": {
             "outlinewidth": 0,
             "ticks": ""
            },
            "type": "choropleth"
           }
          ],
          "contour": [
           {
            "colorbar": {
             "outlinewidth": 0,
             "ticks": ""
            },
            "colorscale": [
             [
              0,
              "#0d0887"
             ],
             [
              0.1111111111111111,
              "#46039f"
             ],
             [
              0.2222222222222222,
              "#7201a8"
             ],
             [
              0.3333333333333333,
              "#9c179e"
             ],
             [
              0.4444444444444444,
              "#bd3786"
             ],
             [
              0.5555555555555556,
              "#d8576b"
             ],
             [
              0.6666666666666666,
              "#ed7953"
             ],
             [
              0.7777777777777778,
              "#fb9f3a"
             ],
             [
              0.8888888888888888,
              "#fdca26"
             ],
             [
              1,
              "#f0f921"
             ]
            ],
            "type": "contour"
           }
          ],
          "contourcarpet": [
           {
            "colorbar": {
             "outlinewidth": 0,
             "ticks": ""
            },
            "type": "contourcarpet"
           }
          ],
          "heatmap": [
           {
            "colorbar": {
             "outlinewidth": 0,
             "ticks": ""
            },
            "colorscale": [
             [
              0,
              "#0d0887"
             ],
             [
              0.1111111111111111,
              "#46039f"
             ],
             [
              0.2222222222222222,
              "#7201a8"
             ],
             [
              0.3333333333333333,
              "#9c179e"
             ],
             [
              0.4444444444444444,
              "#bd3786"
             ],
             [
              0.5555555555555556,
              "#d8576b"
             ],
             [
              0.6666666666666666,
              "#ed7953"
             ],
             [
              0.7777777777777778,
              "#fb9f3a"
             ],
             [
              0.8888888888888888,
              "#fdca26"
             ],
             [
              1,
              "#f0f921"
             ]
            ],
            "type": "heatmap"
           }
          ],
          "heatmapgl": [
           {
            "colorbar": {
             "outlinewidth": 0,
             "ticks": ""
            },
            "colorscale": [
             [
              0,
              "#0d0887"
             ],
             [
              0.1111111111111111,
              "#46039f"
             ],
             [
              0.2222222222222222,
              "#7201a8"
             ],
             [
              0.3333333333333333,
              "#9c179e"
             ],
             [
              0.4444444444444444,
              "#bd3786"
             ],
             [
              0.5555555555555556,
              "#d8576b"
             ],
             [
              0.6666666666666666,
              "#ed7953"
             ],
             [
              0.7777777777777778,
              "#fb9f3a"
             ],
             [
              0.8888888888888888,
              "#fdca26"
             ],
             [
              1,
              "#f0f921"
             ]
            ],
            "type": "heatmapgl"
           }
          ],
          "histogram": [
           {
            "marker": {
             "pattern": {
              "fillmode": "overlay",
              "size": 10,
              "solidity": 0.2
             }
            },
            "type": "histogram"
           }
          ],
          "histogram2d": [
           {
            "colorbar": {
             "outlinewidth": 0,
             "ticks": ""
            },
            "colorscale": [
             [
              0,
              "#0d0887"
             ],
             [
              0.1111111111111111,
              "#46039f"
             ],
             [
              0.2222222222222222,
              "#7201a8"
             ],
             [
              0.3333333333333333,
              "#9c179e"
             ],
             [
              0.4444444444444444,
              "#bd3786"
             ],
             [
              0.5555555555555556,
              "#d8576b"
             ],
             [
              0.6666666666666666,
              "#ed7953"
             ],
             [
              0.7777777777777778,
              "#fb9f3a"
             ],
             [
              0.8888888888888888,
              "#fdca26"
             ],
             [
              1,
              "#f0f921"
             ]
            ],
            "type": "histogram2d"
           }
          ],
          "histogram2dcontour": [
           {
            "colorbar": {
             "outlinewidth": 0,
             "ticks": ""
            },
            "colorscale": [
             [
              0,
              "#0d0887"
             ],
             [
              0.1111111111111111,
              "#46039f"
             ],
             [
              0.2222222222222222,
              "#7201a8"
             ],
             [
              0.3333333333333333,
              "#9c179e"
             ],
             [
              0.4444444444444444,
              "#bd3786"
             ],
             [
              0.5555555555555556,
              "#d8576b"
             ],
             [
              0.6666666666666666,
              "#ed7953"
             ],
             [
              0.7777777777777778,
              "#fb9f3a"
             ],
             [
              0.8888888888888888,
              "#fdca26"
             ],
             [
              1,
              "#f0f921"
             ]
            ],
            "type": "histogram2dcontour"
           }
          ],
          "mesh3d": [
           {
            "colorbar": {
             "outlinewidth": 0,
             "ticks": ""
            },
            "type": "mesh3d"
           }
          ],
          "parcoords": [
           {
            "line": {
             "colorbar": {
              "outlinewidth": 0,
              "ticks": ""
             }
            },
            "type": "parcoords"
           }
          ],
          "pie": [
           {
            "automargin": true,
            "type": "pie"
           }
          ],
          "scatter": [
           {
            "fillpattern": {
             "fillmode": "overlay",
             "size": 10,
             "solidity": 0.2
            },
            "type": "scatter"
           }
          ],
          "scatter3d": [
           {
            "line": {
             "colorbar": {
              "outlinewidth": 0,
              "ticks": ""
             }
            },
            "marker": {
             "colorbar": {
              "outlinewidth": 0,
              "ticks": ""
             }
            },
            "type": "scatter3d"
           }
          ],
          "scattercarpet": [
           {
            "marker": {
             "colorbar": {
              "outlinewidth": 0,
              "ticks": ""
             }
            },
            "type": "scattercarpet"
           }
          ],
          "scattergeo": [
           {
            "marker": {
             "colorbar": {
              "outlinewidth": 0,
              "ticks": ""
             }
            },
            "type": "scattergeo"
           }
          ],
          "scattergl": [
           {
            "marker": {
             "colorbar": {
              "outlinewidth": 0,
              "ticks": ""
             }
            },
            "type": "scattergl"
           }
          ],
          "scattermapbox": [
           {
            "marker": {
             "colorbar": {
              "outlinewidth": 0,
              "ticks": ""
             }
            },
            "type": "scattermapbox"
           }
          ],
          "scatterpolar": [
           {
            "marker": {
             "colorbar": {
              "outlinewidth": 0,
              "ticks": ""
             }
            },
            "type": "scatterpolar"
           }
          ],
          "scatterpolargl": [
           {
            "marker": {
             "colorbar": {
              "outlinewidth": 0,
              "ticks": ""
             }
            },
            "type": "scatterpolargl"
           }
          ],
          "scatterternary": [
           {
            "marker": {
             "colorbar": {
              "outlinewidth": 0,
              "ticks": ""
             }
            },
            "type": "scatterternary"
           }
          ],
          "surface": [
           {
            "colorbar": {
             "outlinewidth": 0,
             "ticks": ""
            },
            "colorscale": [
             [
              0,
              "#0d0887"
             ],
             [
              0.1111111111111111,
              "#46039f"
             ],
             [
              0.2222222222222222,
              "#7201a8"
             ],
             [
              0.3333333333333333,
              "#9c179e"
             ],
             [
              0.4444444444444444,
              "#bd3786"
             ],
             [
              0.5555555555555556,
              "#d8576b"
             ],
             [
              0.6666666666666666,
              "#ed7953"
             ],
             [
              0.7777777777777778,
              "#fb9f3a"
             ],
             [
              0.8888888888888888,
              "#fdca26"
             ],
             [
              1,
              "#f0f921"
             ]
            ],
            "type": "surface"
           }
          ],
          "table": [
           {
            "cells": {
             "fill": {
              "color": "#EBF0F8"
             },
             "line": {
              "color": "white"
             }
            },
            "header": {
             "fill": {
              "color": "#C8D4E3"
             },
             "line": {
              "color": "white"
             }
            },
            "type": "table"
           }
          ]
         },
         "layout": {
          "annotationdefaults": {
           "arrowcolor": "#2a3f5f",
           "arrowhead": 0,
           "arrowwidth": 1
          },
          "autotypenumbers": "strict",
          "coloraxis": {
           "colorbar": {
            "outlinewidth": 0,
            "ticks": ""
           }
          },
          "colorscale": {
           "diverging": [
            [
             0,
             "#8e0152"
            ],
            [
             0.1,
             "#c51b7d"
            ],
            [
             0.2,
             "#de77ae"
            ],
            [
             0.3,
             "#f1b6da"
            ],
            [
             0.4,
             "#fde0ef"
            ],
            [
             0.5,
             "#f7f7f7"
            ],
            [
             0.6,
             "#e6f5d0"
            ],
            [
             0.7,
             "#b8e186"
            ],
            [
             0.8,
             "#7fbc41"
            ],
            [
             0.9,
             "#4d9221"
            ],
            [
             1,
             "#276419"
            ]
           ],
           "sequential": [
            [
             0,
             "#0d0887"
            ],
            [
             0.1111111111111111,
             "#46039f"
            ],
            [
             0.2222222222222222,
             "#7201a8"
            ],
            [
             0.3333333333333333,
             "#9c179e"
            ],
            [
             0.4444444444444444,
             "#bd3786"
            ],
            [
             0.5555555555555556,
             "#d8576b"
            ],
            [
             0.6666666666666666,
             "#ed7953"
            ],
            [
             0.7777777777777778,
             "#fb9f3a"
            ],
            [
             0.8888888888888888,
             "#fdca26"
            ],
            [
             1,
             "#f0f921"
            ]
           ],
           "sequentialminus": [
            [
             0,
             "#0d0887"
            ],
            [
             0.1111111111111111,
             "#46039f"
            ],
            [
             0.2222222222222222,
             "#7201a8"
            ],
            [
             0.3333333333333333,
             "#9c179e"
            ],
            [
             0.4444444444444444,
             "#bd3786"
            ],
            [
             0.5555555555555556,
             "#d8576b"
            ],
            [
             0.6666666666666666,
             "#ed7953"
            ],
            [
             0.7777777777777778,
             "#fb9f3a"
            ],
            [
             0.8888888888888888,
             "#fdca26"
            ],
            [
             1,
             "#f0f921"
            ]
           ]
          },
          "colorway": [
           "#636efa",
           "#EF553B",
           "#00cc96",
           "#ab63fa",
           "#FFA15A",
           "#19d3f3",
           "#FF6692",
           "#B6E880",
           "#FF97FF",
           "#FECB52"
          ],
          "font": {
           "color": "#2a3f5f"
          },
          "geo": {
           "bgcolor": "white",
           "lakecolor": "white",
           "landcolor": "#E5ECF6",
           "showlakes": true,
           "showland": true,
           "subunitcolor": "white"
          },
          "hoverlabel": {
           "align": "left"
          },
          "hovermode": "closest",
          "mapbox": {
           "style": "light"
          },
          "paper_bgcolor": "white",
          "plot_bgcolor": "#E5ECF6",
          "polar": {
           "angularaxis": {
            "gridcolor": "white",
            "linecolor": "white",
            "ticks": ""
           },
           "bgcolor": "#E5ECF6",
           "radialaxis": {
            "gridcolor": "white",
            "linecolor": "white",
            "ticks": ""
           }
          },
          "scene": {
           "xaxis": {
            "backgroundcolor": "#E5ECF6",
            "gridcolor": "white",
            "gridwidth": 2,
            "linecolor": "white",
            "showbackground": true,
            "ticks": "",
            "zerolinecolor": "white"
           },
           "yaxis": {
            "backgroundcolor": "#E5ECF6",
            "gridcolor": "white",
            "gridwidth": 2,
            "linecolor": "white",
            "showbackground": true,
            "ticks": "",
            "zerolinecolor": "white"
           },
           "zaxis": {
            "backgroundcolor": "#E5ECF6",
            "gridcolor": "white",
            "gridwidth": 2,
            "linecolor": "white",
            "showbackground": true,
            "ticks": "",
            "zerolinecolor": "white"
           }
          },
          "shapedefaults": {
           "line": {
            "color": "#2a3f5f"
           }
          },
          "ternary": {
           "aaxis": {
            "gridcolor": "white",
            "linecolor": "white",
            "ticks": ""
           },
           "baxis": {
            "gridcolor": "white",
            "linecolor": "white",
            "ticks": ""
           },
           "bgcolor": "#E5ECF6",
           "caxis": {
            "gridcolor": "white",
            "linecolor": "white",
            "ticks": ""
           }
          },
          "title": {
           "x": 0.05
          },
          "xaxis": {
           "automargin": true,
           "gridcolor": "white",
           "linecolor": "white",
           "ticks": "",
           "title": {
            "standoff": 15
           },
           "zerolinecolor": "white",
           "zerolinewidth": 2
          },
          "yaxis": {
           "automargin": true,
           "gridcolor": "white",
           "linecolor": "white",
           "ticks": "",
           "title": {
            "standoff": 15
           },
           "zerolinecolor": "white",
           "zerolinewidth": 2
          }
         }
        }
       }
      },
      "text/html": [
       "<div>                            <div id=\"3e3f3794-4a5b-4595-8b2b-139f935390c7\" class=\"plotly-graph-div\" style=\"height:525px; width:100%;\"></div>            <script type=\"text/javascript\">                require([\"plotly\"], function(Plotly) {                    window.PLOTLYENV=window.PLOTLYENV || {};                                    if (document.getElementById(\"3e3f3794-4a5b-4595-8b2b-139f935390c7\")) {                    Plotly.newPlot(                        \"3e3f3794-4a5b-4595-8b2b-139f935390c7\",                        [{\"hovertemplate\":\"col1=%{x}<br>col2=%{y}<br>col3=%{z}<br>label=%{marker.color}<extra></extra>\",\"legendgroup\":\"\",\"marker\":{\"color\":[2,0,4,4,2,1,1,3,1,4,0,0,2,1,0,1,1,2,3,3,2,1,3,0,3,3,0,4,3,4,4,4,3,4,1,1,4,0,4,3,1,4,1,2,4,0,4,1,1,4,4,3,0,0,2,0,1,4,4,2,1,4,0,0,4,1,3,0,4,3,4,0,3,4,4,0,3,2,3,1,0,3,4,4,0,3,3,3,3,2,0,0,0,4,4,0,1,0,4,1,3,2,4,4,2,4,3,2,0,0,0,0,1,0,0,1,3,2,0,3,2,4,3,3,2,0,0,4,1,2,3,0,4,3,0,1,2,3,2,4,4,2,2,0,3,0,4,3,1,0,4,1,4,0,4,4,1,3,3,0,4,0,3,1,3,0,2,1,1,2,2,0,1,2,1,1,3,3,3,0,2,3,1,1,0,0,4,1,4,3,1,3,0,0,0,0,1,0,2,1,4,4,4,4,4,2,1,0,3,1,3,0,3,3,1,3,1,0,4,4,1,3,3,3,0,4,1,2,0,1,4,4,3,1,0,1,4,0,4,1,4,3,4,1,1,0,3,3,1,3,0,1,0,0,4,4,3,2,1,1,4,0,2,1,2,0,0,1,1,3,1,4,0,4,3,3,0,0,0,4,0,4,0,2,3,3,3,0,1,4,3,4,3,1,3,3,4,4,3,3,3,3,3,3,4,3,0,2,0,4,0,3,2,2,3,3,0,3,1,3,0,4,0,2,0,2,4,3,4,3,1,3,0,0,4,4,0,3,3,4,0,4,2,3,4,2,0,4,0,0,0,4,4,3,3,0,3,0,1,1,2,0,2,3,1,0,2,2,4,3,3,2,1,1,4,0,2,3,1,1,0,4,4,4,1,4,2,4,4,4,4,0,0,1,0,0,1,0,1,3],\"coloraxis\":\"coloraxis\",\"symbol\":\"circle\"},\"mode\":\"markers\",\"name\":\"\",\"scene\":\"scene\",\"showlegend\":false,\"x\":[1.0603275091568074,1.198917879901507,-1.0455342473768945,-0.09996969661063972,1.0138224669717055,0.8360047194342688,0.12015895248162915,-0.10193203926360005,0.8088443602656821,-0.3649633061438197,0.5294653243527092,0.6470911566295872,0.46116409997701746,-0.5998045310708474,0.7009821215232441,0.45161595055524156,-0.2604660588653798,0.1583186178519788,-0.691660751725309,-0.09347750826637478,1.9197922864280879,0.13404819655462313,-0.806178211953457,0.4295261400219645,-0.26621850600362207,0.19829972012676975,0.352494364369333,-0.7013444262571769,1.018552474767882,-0.45993010443458127,-0.3224172040135075,-0.44513577605412447,-1.4023291454531368,-0.10316545602243991,1.1071754509490623,-1.0903383324548148,-2.304907937770138,0.30113256376926884,-0.32649949807818424,-0.9154243682317061,-0.04970257915867584,-1.6840599858682372,0.018098731380217663,0.9932825554712,-0.0845080274046298,1.5365363280210986,-0.9357694342590688,0.2808190482617027,-0.8088471964721285,-0.6369956465693534,-0.09153099348098676,1.1158411079241686,0.425920176502816,1.4176740129993604,-0.35340998286701436,0.9487554035696751,1.197830841721251,-0.6657545181991266,-1.1386489983301828,0.10816647881023703,0.9351477795910749,0.025999994185658175,1.8514378945735097,0.3196569419445935,-0.8805775998441709,-0.5596814219185569,-0.2493703754774101,0.8074559170052702,-0.5089722778228615,0.6210827008390084,-0.870008223190852,-0.004600772121699846,0.09499611006916124,-0.5865239388215925,-0.3946896809955576,1.000881423680301,-0.934181843147949,0.7804699297583744,-0.0568244808858473,-1.6374495930083417,0.9200179332477632,0.04221374671559283,-0.6725050101341876,-0.11877117210308928,0.7833431005480721,0.17195713216759081,-2.037201225680795,-1.5526987831768355,-0.4910804790143345,0.18167395928713254,0.1855356209665554,1.6276507531489064,1.6316915136307972,-1.3964963354881377,-0.8300109855676734,1.0334508032642373,0.2300947353643834,0.7812097647464816,-0.7524456418897562,0.7130490503032691,-0.6235307296797916,-0.35224984649351865,-0.17762075674848082,-1.4702370890213132,0.35054597866410736,-0.1561148306889061,-0.1221540151116833,0.7847706510155895,1.1447237098396141,0.8160436843240609,0.8018610318713447,0.8408615581411037,-0.2088942333747781,0.6980320340722189,0.08028249587125579,-0.40725204301996576,-0.7972697854931297,1.0097873349475586,1.5588055406198593,-1.229574253546429,-0.1920036966310444,-1.1540192568141496,0.7420441605773356,-1.0971543602553622,0.057120996082092076,1.693809113288081,0.14539397323435277,-0.8061848173822241,-0.03599018172719132,0.9008559492644118,-0.5153990138793918,2.0563555231982935,-0.29446558802187217,-0.5574947217860433,0.16066291673129376,-0.027529386267978004,-0.36261208757725877,-0.018189321882047294,0.5599495017780693,-0.7003985049212547,-0.6387304074542224,0.10734329382358966,0.47761018181755727,0.5885261278883208,0.21150160479163793,0.6899399505354733,-0.4791570987860799,-1.1640079711612021,0.0954250871912577,2.428876969522979,-0.030911417604135967,-0.4525249732840256,-0.024616955875778355,0.7314025171250657,0.043668993178389105,-0.4615389785421647,0.6365834094146309,0.040371431022839264,0.7448845364406519,0.9311020813035573,-1.4191487771444868,0.8633453175440216,-0.01900052154731654,-0.5322340208981775,-1.1220187287468883,1.0449944096738975,2.1906997289697334,-0.07311270374727777,-0.17470315974250095,0.6778075711198115,0.515413801783241,1.470739856691369,0.5643828554943137,-0.5181455523987548,-0.13971173044107246,-0.05936790254849916,0.31515939204229176,-1.3319516665172482,-0.8224671889042517,2.1869796469742577,-0.31011677351806,0.4034916417908,0.03494358936374005,0.12910157971072544,0.21112475500771674,1.1926860677546935,-1.6274383406162574,0.029153691372041993,-2.4135030011737877,-1.1077125022845524,0.3404894636570257,0.17730102605641396,0.6185391307862932,0.5776308777090753,0.31358851769576274,0.6233621765780327,-0.10174587252914521,0.6183802619985245,1.0112070637749084,0.3672318138838647,-2.114163921916826,-1.2300581356669618,-1.3057269225577375,0.08968640732259017,-1.396620424595432,-0.10646012155553987,-0.10679398677922511,0.5718048788649898,-1.0729686221561705,-0.45994283084068716,-0.2873078634760189,0.5875893437786776,-0.1902210250848615,-0.21873345896770915,-0.09290542839016434,-0.12035025087599316,-0.5632366041174566,3.3210787561703645,-0.4982135636310781,-0.9509092510507696,-0.1505043256504516,0.05202669485454472,-0.41893789767812306,0.1693824330586681,1.923815425970925,-0.09978035899810825,-1.8731609776353015,0.24050555214736213,1.6243453636632417,0.09708750814688852,-1.7559256402328518,-0.48663379262462003,-1.072964278711645,-0.07667936270573186,0.08897277898080534,0.6745707069560037,-1.1134361029729902,0.5627610966190263,-0.8926466735128841,-0.7543979409966528,-0.017817549053938987,-0.12350824544286768,-1.1173103486352778,0.2419418246706617,-0.7471582937508376,1.0212481260989013,0.6147262758274484,-0.8708876496519611,-2.79308500014654,0.32427424344842104,0.8858257989659072,-1.0445893819077916,1.0492182907525678,0.7255505180787332,0.013352676347176594,-0.2828635516348445,-0.4944822285457688,-0.1754589686617526,-0.22876582887016242,-1.8239198526251938,-0.20075806892999745,1.4958847658844756,0.6065484004132948,-1.0807106924455065,0.14164053766580517,0.46636070684404596,0.28456229791238935,-0.29809283510271567,0.20183017887400403,-0.25898285340053234,1.131629387451427,-0.9960108890883996,0.9312556787681191,-0.9484396564537968,-0.09243231854158614,0.35111689651096534,0.8245846250334574,0.8240056184504077,0.8532812219556223,-0.3645380497066375,1.0329837789497511,-0.4622706057880238,0.8989596831940558,0.08646440652428741,-0.43899766366627757,-0.593343754242419,-0.9798902516618007,0.23333912626012182,-0.8816249004956157,-0.8452056414987196,-1.458324460393154,-0.44669920347712,-0.4148469012882354,0.9039991740035269,-0.3438536755710756,0.2624674454632686,-0.41999445730612356,-0.2455072163495551,-0.3290515493410809,0.004000841975375483,0.12951595089600185,0.4381663472912375,0.5053819027529176,-1.014803690858671,-2.698361741666047,0.41026574539684446,1.1525991350106037,0.31665889515665435,0.09568195756946,-0.10839206717353982,0.9863521802120643,-0.7244957742610225,0.4290057260455405,0.017955891650826426,-0.2625516969694696,-0.12742647362194454,0.19689386562465933,0.008548945436024693,0.16003706944783047,-1.5256803162293577,0.15001627872780374,-0.13935180545092124,1.9046587083409812,0.8849088144648833,1.74481176421648,0.7330232317190783,-0.5691486535119704,-1.0998912673140309,-0.8905555841630485,-1.1549826349293644,0.1395777268173319,-0.4422292795131728,0.35914536787717144,1.3887793963702684,-0.5223564651356952,-2.1444440467284505,1.1010002026684818,-0.7223919054141509,-0.9268719392086243,-1.257462312202889,0.5638756724751147,-0.2889973430098159,1.2198743790306215,0.2539921683076896,-0.918440038300026,0.03536009705475734,0.2487991613877705,-0.6758246926588372,0.26132758704906106,0.6179855339203347,0.3724568515114425,-0.17859376280150815,-2.022201215824003,-0.8286279788564058,-2.076802021923554,0.8109516728035557,-0.4244927905709274,2.4493686490613973,0.12837699015594436,-1.426555420520532,0.8616231013412039,0.3923349111243075,1.9671017492547347,-0.05536420702054921,-0.42914227823509377,0.7781741790995664,1.3998439424809859,0.5150736136393657,-1.8814108671660597,-0.5938430672545096,0.7852269196346882,2.1106050536007097,-0.4569878575935375,0.28807816700515054,-0.13350208967095734,1.2932258825322618,-0.12046457178850745,-0.10134695385373116,-1.6157723547032947,0.901486891648711,0.6274370827531105,-0.7255971191344275,-1.1164700178847444,-0.7721978906933491,-1.44087602429184,-0.13644474389603303,2.0657833202188343,-0.4357110327974788,-0.22875417122021255,-0.30912131864186215,-1.2725587552459943,0.1343731160397544,1.853009485069379,-0.27584606256114336,0.10803081731234535,0.8709698025322423,-0.3106258852151224,0.3775637863209194,-0.7499696172756662,-0.3312831699326283],\"y\":[-1.7111676596244927,0.18515641748394385,0.35528450700622954,0.003694491853091927,-2.2271126318500145,1.5433591108044837,0.6172031097074192,0.7433565435138623,1.7897546832062712,-0.3083732125305833,0.13770120999738608,-0.3508242660819818,-1.1759826714413153,1.1234121620219353,-0.198937450283896,1.1041743263032135,0.445096710344572,-1.3320629696310695,-0.39675352685597737,-0.07661808088354584,-1.3916938760540336,1.2020548621997058,0.04906169237310281,-0.6069983982000461,0.03261454669335856,0.11900864580745882,-0.2364369518129867,-0.5372230238753384,1.2305581999547246,-0.7907999537751678,-0.38405435466841564,0.05566863319148501,0.4511229387345986,0.01058591429407446,1.4428769284963092,1.700188146645526,-0.03181717269879145,0.24042305663258437,-1.342675789377436,1.2251558492732308,0.46664326722884075,-1.1601701049822761,1.0149987437202306,-0.639713078156761,-0.2973618827735036,-0.00037500875835609604,-0.2678880796260159,0.7573751912411255,0.5574394528580334,0.19091548466746602,-0.11051445089416781,0.3102722877837673,0.049080397141630476,0.05031708614713537,-1.7879128911997157,-0.005867107188278834,1.7045941713724069,-1.674195807618932,-0.03481226972756456,-0.657100516263411,1.8125278151175406,-1.3486964467972422,0.20909667657552103,0.31815419967868935,-0.27909772154329027,1.3797581916062172,1.462107937044974,0.3122386890129999,-0.16648595488595935,0.9561217041246964,0.36919046954687373,0.33330534270305523,0.08075098862302005,-1.2368533765413974,-1.1718133792211223,-0.38483224883279044,0.542645294566316,-1.4640535735805917,0.4923365559366488,3.9586027040379634,-0.19505734087590118,0.5828152137158222,-0.6476289426405436,-0.19899818380372442,-0.11887404907268176,0.4905610438096389,-1.9425891814764555,0.578464420256242,-0.22365408087668873,-0.4898600957224898,0.3944280300121126,0.3380116965744758,0.8608912410184296,-1.4441138054295894,-1.0195198494057163,-0.1462732746113538,0.7620111803120247,-0.4354007763040304,-0.9719608791658937,1.3062060651354486,0.5205763370733708,-1.1425181980221402,0.04805707116976032,0.6064039443038369,-1.3122834112374318,-0.35532788534039145,-0.6808515740173174,-0.9554252623736892,0.9015907205927955,-0.6124069731288238,0.04656729842414554,-0.1028872175735376,0.5866231911821976,-0.4471285647859982,-0.06007498781437449,0.9849516717192109,0.28267571224842025,-1.5569415578650314,0.10940269642542817,1.108616757989675,-3.053764380426305,0.16353420378468364,-0.19183555236161492,0.8386347472283774,-0.7995474906917599,0.19686977925029145,-0.21902725374381174,-0.2516742076314244,1.0370389817739079,-0.6837278591743331,-0.1359693998422752,1.7602492264490932,0.425894818757658,0.9391687441964878,0.2572057802831611,1.7464350892279725,-1.4851564513254543,0.9503896598619128,-0.9939147656973109,-0.20339444896455844,0.4234943540641129,-1.3988128186664763,-1.0218859446413093,-0.3205539075989446,-0.0671242823151593,-0.07842130525738424,0.3501671588282789,0.6933662256603845,0.9214500686595114,1.0056866803112163,0.35571726157601685,1.1612856933418074,-0.7751616191691596,0.9544956665476875,-0.22631424251360518,-0.0650976041008378,1.4092533893640082,-0.15699367249331792,-0.036281288553702225,0.2855873252542588,-0.31690119652834625,-0.18092030207815046,-0.22676019216958399,1.1181333967176956,-0.5170944579202279,0.6085146984848496,-1.8963609228910925,1.1603385699937696,0.986335187821242,-1.1065730673918852,-1.1148710523659369,0.33722093830845856,2.1378280674394823,-1.4614036047221062,1.3863142642463189,1.4489894041582356,0.8461606475850334,-1.7606885603987834,0.7217112921126926,0.44136444356858207,-2.434837764107139,0.593578523237067,1.4539175816088175,1.6169495988573002,0.01652756730561561,-0.23794193575218264,0.602319280295629,0.8159679243275141,-1.7775663758059874,-0.01771831791014226,0.8813044507083239,-0.10618664274531017,-0.44317193070063776,0.17302887314233698,0.0814041251533959,-0.4349566829552277,0.8688861570058679,0.23249455917873788,-1.4765626605201803,1.2328991923762371,-0.41163916318848254,0.5505374959762154,-0.34498721015497946,-0.6011568006493835,-0.861316360776042,-2.7909964066938464,1.4514292605909354,-0.03681765651702741,0.8654076293246785,0.6443536660303223,0.6800698398781045,0.7972323159111107,-0.44873803267162277,1.5392070096550627,1.1173608688129428,-0.42783569619724926,2.3901459623335115,-0.6002253303773148,-0.3109849783028509,-0.7043503315234588,0.9154992680625726,0.2640017110359182,-0.47918491512740585,0.7405564510962748,-0.6059813205385978,-0.327301584262489,0.9206151180549562,-0.9994265013581795,-0.6117564136500754,1.2827263903583899,0.7147895974858154,0.08758386460903435,0.49515861120031657,0.5729627259567562,-0.13060095972825586,1.460892380463078,-0.06741002494685439,0.24073709223773224,-0.16119831954123737,1.2528681552332879,-0.600138799235613,-0.06044465524316825,0.23441569781709215,0.7793441272611906,1.6924546010277466,0.5247504922968238,-0.34898419091555255,0.5014295898933301,1.9375288136160798,0.02186283662655242,0.18986164938309566,2.0511734428574444,0.9662208625783415,-0.32420421948521105,-0.6946935952872263,-0.2663268843187201,-0.47493192974382953,-0.9339146556265013,1.6133613745631155,1.167075165999964,0.1865613909882843,0.6754538092042119,-0.7372896277599319,0.7254740044815357,-2.516303860965749,-0.2650599001000258,0.09865799587389522,0.48851814653749703,0.6610202875986929,0.1892931975586576,1.5198168164221988,-1.1958615103244818,0.9498088152113293,-0.4234782972255359,-0.2378752654568325,-0.06877046307863847,0.6545801525867004,-0.5623054310190898,-0.4130293097110322,-0.45971768103806804,-0.22241402852990858,-0.874702710864611,-0.34563447838108113,-2.1424667290773685,0.5900394641608302,0.5103075967452559,0.6925743475393558,0.43499832426284113,0.6939869047744827,-0.671246130836819,0.49434165098237876,0.20437739492116297,0.45194603732122307,1.5754679085723808,0.04359685683424694,0.27649930482218366,-1.149102940268926,0.33965057247483144,1.3471054646704976,0.3212659144838316,0.007224207508893229,1.1223283216570923,1.2179409008013473,0.43598619629640983,-1.2133381258287046,0.8598709717969121,-0.22423577212349852,-1.895266947476466,-0.08572059373876667,0.45015551276717897,-0.466154856825928,0.3897459330261058,-0.6793984205509648,-1.2704607763854796,0.19386733137147505,-0.0704553761950791,-0.11407034535022809,-0.16819883974471597,0.8761689211162249,0.7950260944248447,0.4635343217316655,-0.7285374894247015,1.1110566985605046,-0.8772815189181883,-0.7612069008951028,-1.8988120593192948,-1.061796761310848,-0.17242820755043575,-1.119115398559728,-0.17763219598355098,0.8202768242776345,0.3235273536014321,0.6455944514254379,-0.6613442431530187,-0.36925590182896817,-0.3695624253374333,0.7800271353386294,1.0989963327471792,-0.18242040636309756,0.40731250749214415,0.02514661951352429,-0.3918162398080484,-1.133792035393578,-0.1620161645100033,-0.10534471250754213,-1.5387932457446432,-0.29664115237086275,-0.7046046382360956,-0.17770674524607077,-0.18417632565374534,-0.14848980305939366,-0.260688192704019,-0.3062040126283718,0.528879745585174,0.9475011673456759,1.0444420947072588,-0.7315309817303334,-0.5457741679825677,1.7604151835753223,1.7679599483110264,-2.0863905654565262,0.44838065078168743,-1.857981864446752,-0.2146929866065066,1.208456328551963,0.30981675860748836,-0.7819116826868007,-2.7825344676529227,0.4972690986459772,-0.3439007092103924,-0.6648677669672133,-1.3065340728440185,1.0689859716189178,1.498108183577034,-0.6119398252876224,-0.11044702641731631,-1.2331207354464266,0.07282590864324383,1.121417708235664,2.528325706806398,0.7513372351604846,-0.8677686776235903,0.0809271009732786,-0.7732805199843286,1.232253070828436,-0.11905418777480989,-1.471156925832625,-0.4324149707327936,-0.17961229465135792,0.5109377744920892,0.31354772046343216,-0.26837130412057664,0.14225137252631778,1.2289555856506973,0.02941761897076564,-0.5084571342754007,0.5253073244336361,0.12182127099143693,2.054624102518116,0.3865391451330911],\"z\":[1.6571246380429256,-0.3752849500901142,0.7553920291908554,0.13783203757503595,-1.6993336047222958,0.7588056600979309,0.3001703199558275,-1.5095726842240433,0.4512840160401709,-0.006652110653748474,0.07782112791270591,-0.20368484258719213,1.0101271773347245,0.30526704024401075,0.3019600454061449,-0.28173626906561283,0.09811224622199123,-0.21321430881676118,-0.6871727001195994,-1.2162542563235565,0.4502177420378455,0.28474811084905793,-0.596086334587662,0.1062227240352178,-1.3731173202467557,-0.6706622862890306,0.7278134999996488,0.15626385027008327,-1.181103172771823,1.2237222119601092,1.1337694423354374,-0.009761279160136653,-0.6949209011852391,0.21432936981694306,-0.5396815622024924,0.6087836589081088,0.11248774241419583,0.05465918195271764,1.114382976779792,-1.053546073700315,1.033686867939501,1.350106818681726,-0.31720235515042305,-0.6701045879517503,0.41730200497486253,1.2935496206633084,0.530355466738186,0.3239624061564591,0.18103874435787085,2.100255136478842,0.09987977759631378,-2.094247816222812,1.1022367325853422,0.6503232142523461,0.36184731583956825,-0.3552503373334775,1.0400891531540952,0.8250298244389859,0.17693521344142019,-0.1209009326614364,0.14010988130475283,1.3025355364861801,1.5550159943330888,-0.01923163409763723,1.622849085954001,0.6024509012396099,-2.060140709497654,-0.1933216404740039,1.4236144293489872,-0.7058405074022839,0.8532821858237332,0.050195861199773796,-0.7678037460245601,0.8758389276492995,0.9840122369402405,1.4581082386095199,-1.9581690855990108,-0.1544911938105286,-0.6806781410088858,0.6486436440906672,0.8053934242321815,-1.1006191772129212,0.037160276841315856,1.8664713751521251,0.2794014940925557,-1.395283025065327,-2.506440652676061,-0.96126359903051,-0.41407379459413696,-0.3877352173519611,0.7255225582535588,-1.199268032335186,-0.8801890645415797,-0.5044658629464512,-0.2146538422260227,-0.857496824739772,-0.22232814261035927,0.587622496354027,-0.5870118382714219,-0.604602969164376,-1.1443413896231427,-0.3493427224128775,0.07602617046671452,2.293717612357178,-0.038695509266051115,0.5655643002124809,-1.0678765764865552,0.5859104311026156,0.5024943389018682,0.3931092448539835,-0.18656977190734877,1.146900376399483,0.8389834138745049,1.2245077048054989,0.19280114617216262,1.0712524278458908,-0.8260974318473202,-0.6124421282843443,-1.2197443969790327,-0.7029204029101687,0.4798523711538174,-0.18955980540041933,-0.8876289640848363,-1.039182322034903,-0.2915945955008327,0.1698692553475717,0.08702723308086428,0.3827151737243639,0.672619748121479,-0.12289022551864817,-0.9878650709369183,-0.06065249177480989,0.8173012506847075,-1.9433234056683528,-0.008625432629858607,-0.7750702870734348,-0.5924612851532695,-0.7121668375905008,0.4306442576957251,0.24266944108179458,0.07734006834855942,0.08176781880561644,0.7945282396010823,0.66134699255432,-0.893868854208921,-0.323245513391997,0.017164726374088564,-0.7580673285562323,0.060750195799506745,0.3535672160026291,0.8495868450948219,1.069965538950133,1.2737559301587766,0.09574677111013467,1.3314571125875918,0.2525268761460488,1.6209122856217475,-1.3352027230151915,-0.8323953476886892,0.8851411642707281,0.6409858663835063,-0.6039206277932573,-1.5645078538111965,0.6743961048208689,-0.997026827650263,-0.06932869669048287,-0.646916688254908,0.36949271637572373,0.21353390133544178,-0.3592240957107388,-0.7673098263317347,1.0080654330757632,-0.7855339969202355,-0.5163479086460222,0.5481295846881931,-0.4775808546567209,-0.8595159408319863,-1.6507212658241002,-0.625342001465988,-0.10015523328349978,1.038824601859414,-1.0949118457410418,0.6616810764659825,0.5027408819999043,0.17718772027596041,1.1552878860882252,0.42028220364705954,-0.20089441691594354,-0.7778588266274128,-1.719394474619523,-0.1787571070095065,-0.8872979941124168,1.8105349141254563,-0.06674433468303034,0.14430835783840265,1.4075400002412286,0.7504116398650081,0.6825514068644851,-0.14319574500723764,-0.4228569613907754,1.2785280828417218,0.7928068659193477,-0.23083974313546946,0.5560735100773853,0.6747115256879723,-0.45611755514868535,-0.6180368476815788,0.11236848879221897,-2.3015386968802827,0.37167029121186534,-0.3198015988986712,-0.4477207619749597,-0.6724480387865963,-1.1487042296369459,0.023423102429150647,-1.0241002293703876,0.24542284918911964,-0.37951751553387963,-0.0018914828380037015,-0.04586668606976747,-0.4382002673386686,-0.15728193095864365,-1.9521052872452325,-0.9537006018079346,1.8035889814864974,0.15900714820958442,-0.03536792487871091,0.3985983881614373,-0.5281717522634557,-0.23205745282410284,0.8527040617252863,-0.026741846367578172,-0.952062100706259,0.45794707630974174,0.4316316994687074,0.5924728014240198,1.1614399816743937,0.28066507712263905,-0.28638491539517374,0.5129298204180088,0.14676526338688947,-0.1302802953111756,1.6598021771098705,1.184865094532452,0.05080775477602897,-0.47712420646933207,-0.977773001532967,-0.47861407386118443,0.36633201454005826,-0.46867381627789134,0.7980637952989431,0.5856620001723825,0.7259168525208212,0.8143431291489254,0.6218035043055724,1.0689716222012626,-0.661872705614277,-0.5330203260835993,-0.3748046873026527,-0.03966870009048212,0.4100516472082563,0.5992132354592584,0.16466506584920662,-0.039178256209496685,-0.5956678809102903,-0.2036200120059654,-0.09322063564194208,-0.07557171302105573,1.792158208975567,-0.5637887345823027,2.1855754065331614,2.505980285318673,0.9255012147023857,1.0079664776005783,-0.7556627651019651,-1.3477649412536636,-0.05118844760766421,1.9548780750090344,1.8347176266496867,1.7054835177554424,1.4701603438257402,0.6629613417442409,0.5712819600026108,-0.830168864022708,-0.6793837829972343,-0.9157918490686792,-0.4786723564156615,0.9104236030030839,0.11309987842157834,-0.01266459891890136,-1.4941937652746844,0.612232523128053,-1.5791562853944654,1.2066078980355681,-0.6200008439481293,-0.7332716038953129,0.7282636932363885,0.7137734756636723,-1.0490677451686161,-0.7252149257453662,-0.739790017308056,-0.9970197955296825,-1.9406809643648932,-0.6874873930601744,0.07225189915588459,-0.8986831933186461,-0.32606130576013626,0.08972911744465112,0.09346852288599769,1.7653351005190716,1.3849913436486387,-0.5431504536054459,-0.5186445846774923,0.2829955338110016,-0.17739938100533703,-0.33094591746983626,0.29016505630161465,-0.1741803443079907,0.31563494724160523,-0.37443831884322065,0.39788042488185116,0.5311637934562251,0.6590497961002102,-0.8677872228729256,0.31903909605709857,-1.1171106924391125,0.13224777891978462,-0.8778584179213718,1.956078903703642,-1.5104563750875688,0.2054364689995355,-0.10999149016360682,-0.058222074135832025,3.0308571123720305,0.2656424025142851,-0.017454951836177974,-0.62944160405378,-0.901634490475998,-0.49112513779081807,0.13805137696163755,-0.4077736756023731,0.684001328181953,-0.19054829766145195,-0.7555383039551014,0.630195670684911,-0.4478951847161186,0.4952113239779604,0.5653626772645655,0.04947112301624813,-0.11598518547239624,-0.1834001973200239,-0.1150570317256336,0.8279746426072462,-2.2370865111124707,-0.5039739491423175,-0.40087819178892664,-1.5657381506559054,-0.19883786288889674,0.9665392502290573,-0.4753728751379821,0.3618016405710469,1.1253234986642537,1.2361640304528203,-0.23729493353970402,1.1157018027844863,1.0513207678487513,-0.437508982828581,0.5846466104774262,0.23733269933959658,-1.0001691898725158,-1.9450469586120391,0.076380480159592,-0.20975293542255413,-0.30097615395533844,0.27913210928381865,-0.6173620637123609,-1.1823181265096336,-1.0905139835409747,0.4089005379368278,-0.24863477771546005,0.14039543644735017,-0.13597732610058932,-0.18657899351146628,0.29330925930042223,-0.2541798676073683,0.0174094083000046,-0.8301718953151139,0.3043745411708511,0.5017251093451655,1.7106618386711354,0.5031848134353261,-0.13167562628701832,0.5135054799885475,1.3097059056826534,-0.13479312929572362,0.7774192052488628,0.22989085010509192,1.1294839079119197,0.05340953679834792,-0.8514556565308268],\"type\":\"scatter3d\"}],                        {\"template\":{\"data\":{\"histogram2dcontour\":[{\"type\":\"histogram2dcontour\",\"colorbar\":{\"outlinewidth\":0,\"ticks\":\"\"},\"colorscale\":[[0.0,\"#0d0887\"],[0.1111111111111111,\"#46039f\"],[0.2222222222222222,\"#7201a8\"],[0.3333333333333333,\"#9c179e\"],[0.4444444444444444,\"#bd3786\"],[0.5555555555555556,\"#d8576b\"],[0.6666666666666666,\"#ed7953\"],[0.7777777777777778,\"#fb9f3a\"],[0.8888888888888888,\"#fdca26\"],[1.0,\"#f0f921\"]]}],\"choropleth\":[{\"type\":\"choropleth\",\"colorbar\":{\"outlinewidth\":0,\"ticks\":\"\"}}],\"histogram2d\":[{\"type\":\"histogram2d\",\"colorbar\":{\"outlinewidth\":0,\"ticks\":\"\"},\"colorscale\":[[0.0,\"#0d0887\"],[0.1111111111111111,\"#46039f\"],[0.2222222222222222,\"#7201a8\"],[0.3333333333333333,\"#9c179e\"],[0.4444444444444444,\"#bd3786\"],[0.5555555555555556,\"#d8576b\"],[0.6666666666666666,\"#ed7953\"],[0.7777777777777778,\"#fb9f3a\"],[0.8888888888888888,\"#fdca26\"],[1.0,\"#f0f921\"]]}],\"heatmap\":[{\"type\":\"heatmap\",\"colorbar\":{\"outlinewidth\":0,\"ticks\":\"\"},\"colorscale\":[[0.0,\"#0d0887\"],[0.1111111111111111,\"#46039f\"],[0.2222222222222222,\"#7201a8\"],[0.3333333333333333,\"#9c179e\"],[0.4444444444444444,\"#bd3786\"],[0.5555555555555556,\"#d8576b\"],[0.6666666666666666,\"#ed7953\"],[0.7777777777777778,\"#fb9f3a\"],[0.8888888888888888,\"#fdca26\"],[1.0,\"#f0f921\"]]}],\"heatmapgl\":[{\"type\":\"heatmapgl\",\"colorbar\":{\"outlinewidth\":0,\"ticks\":\"\"},\"colorscale\":[[0.0,\"#0d0887\"],[0.1111111111111111,\"#46039f\"],[0.2222222222222222,\"#7201a8\"],[0.3333333333333333,\"#9c179e\"],[0.4444444444444444,\"#bd3786\"],[0.5555555555555556,\"#d8576b\"],[0.6666666666666666,\"#ed7953\"],[0.7777777777777778,\"#fb9f3a\"],[0.8888888888888888,\"#fdca26\"],[1.0,\"#f0f921\"]]}],\"contourcarpet\":[{\"type\":\"contourcarpet\",\"colorbar\":{\"outlinewidth\":0,\"ticks\":\"\"}}],\"contour\":[{\"type\":\"contour\",\"colorbar\":{\"outlinewidth\":0,\"ticks\":\"\"},\"colorscale\":[[0.0,\"#0d0887\"],[0.1111111111111111,\"#46039f\"],[0.2222222222222222,\"#7201a8\"],[0.3333333333333333,\"#9c179e\"],[0.4444444444444444,\"#bd3786\"],[0.5555555555555556,\"#d8576b\"],[0.6666666666666666,\"#ed7953\"],[0.7777777777777778,\"#fb9f3a\"],[0.8888888888888888,\"#fdca26\"],[1.0,\"#f0f921\"]]}],\"surface\":[{\"type\":\"surface\",\"colorbar\":{\"outlinewidth\":0,\"ticks\":\"\"},\"colorscale\":[[0.0,\"#0d0887\"],[0.1111111111111111,\"#46039f\"],[0.2222222222222222,\"#7201a8\"],[0.3333333333333333,\"#9c179e\"],[0.4444444444444444,\"#bd3786\"],[0.5555555555555556,\"#d8576b\"],[0.6666666666666666,\"#ed7953\"],[0.7777777777777778,\"#fb9f3a\"],[0.8888888888888888,\"#fdca26\"],[1.0,\"#f0f921\"]]}],\"mesh3d\":[{\"type\":\"mesh3d\",\"colorbar\":{\"outlinewidth\":0,\"ticks\":\"\"}}],\"scatter\":[{\"fillpattern\":{\"fillmode\":\"overlay\",\"size\":10,\"solidity\":0.2},\"type\":\"scatter\"}],\"parcoords\":[{\"type\":\"parcoords\",\"line\":{\"colorbar\":{\"outlinewidth\":0,\"ticks\":\"\"}}}],\"scatterpolargl\":[{\"type\":\"scatterpolargl\",\"marker\":{\"colorbar\":{\"outlinewidth\":0,\"ticks\":\"\"}}}],\"bar\":[{\"error_x\":{\"color\":\"#2a3f5f\"},\"error_y\":{\"color\":\"#2a3f5f\"},\"marker\":{\"line\":{\"color\":\"#E5ECF6\",\"width\":0.5},\"pattern\":{\"fillmode\":\"overlay\",\"size\":10,\"solidity\":0.2}},\"type\":\"bar\"}],\"scattergeo\":[{\"type\":\"scattergeo\",\"marker\":{\"colorbar\":{\"outlinewidth\":0,\"ticks\":\"\"}}}],\"scatterpolar\":[{\"type\":\"scatterpolar\",\"marker\":{\"colorbar\":{\"outlinewidth\":0,\"ticks\":\"\"}}}],\"histogram\":[{\"marker\":{\"pattern\":{\"fillmode\":\"overlay\",\"size\":10,\"solidity\":0.2}},\"type\":\"histogram\"}],\"scattergl\":[{\"type\":\"scattergl\",\"marker\":{\"colorbar\":{\"outlinewidth\":0,\"ticks\":\"\"}}}],\"scatter3d\":[{\"type\":\"scatter3d\",\"line\":{\"colorbar\":{\"outlinewidth\":0,\"ticks\":\"\"}},\"marker\":{\"colorbar\":{\"outlinewidth\":0,\"ticks\":\"\"}}}],\"scattermapbox\":[{\"type\":\"scattermapbox\",\"marker\":{\"colorbar\":{\"outlinewidth\":0,\"ticks\":\"\"}}}],\"scatterternary\":[{\"type\":\"scatterternary\",\"marker\":{\"colorbar\":{\"outlinewidth\":0,\"ticks\":\"\"}}}],\"scattercarpet\":[{\"type\":\"scattercarpet\",\"marker\":{\"colorbar\":{\"outlinewidth\":0,\"ticks\":\"\"}}}],\"carpet\":[{\"aaxis\":{\"endlinecolor\":\"#2a3f5f\",\"gridcolor\":\"white\",\"linecolor\":\"white\",\"minorgridcolor\":\"white\",\"startlinecolor\":\"#2a3f5f\"},\"baxis\":{\"endlinecolor\":\"#2a3f5f\",\"gridcolor\":\"white\",\"linecolor\":\"white\",\"minorgridcolor\":\"white\",\"startlinecolor\":\"#2a3f5f\"},\"type\":\"carpet\"}],\"table\":[{\"cells\":{\"fill\":{\"color\":\"#EBF0F8\"},\"line\":{\"color\":\"white\"}},\"header\":{\"fill\":{\"color\":\"#C8D4E3\"},\"line\":{\"color\":\"white\"}},\"type\":\"table\"}],\"barpolar\":[{\"marker\":{\"line\":{\"color\":\"#E5ECF6\",\"width\":0.5},\"pattern\":{\"fillmode\":\"overlay\",\"size\":10,\"solidity\":0.2}},\"type\":\"barpolar\"}],\"pie\":[{\"automargin\":true,\"type\":\"pie\"}]},\"layout\":{\"autotypenumbers\":\"strict\",\"colorway\":[\"#636efa\",\"#EF553B\",\"#00cc96\",\"#ab63fa\",\"#FFA15A\",\"#19d3f3\",\"#FF6692\",\"#B6E880\",\"#FF97FF\",\"#FECB52\"],\"font\":{\"color\":\"#2a3f5f\"},\"hovermode\":\"closest\",\"hoverlabel\":{\"align\":\"left\"},\"paper_bgcolor\":\"white\",\"plot_bgcolor\":\"#E5ECF6\",\"polar\":{\"bgcolor\":\"#E5ECF6\",\"angularaxis\":{\"gridcolor\":\"white\",\"linecolor\":\"white\",\"ticks\":\"\"},\"radialaxis\":{\"gridcolor\":\"white\",\"linecolor\":\"white\",\"ticks\":\"\"}},\"ternary\":{\"bgcolor\":\"#E5ECF6\",\"aaxis\":{\"gridcolor\":\"white\",\"linecolor\":\"white\",\"ticks\":\"\"},\"baxis\":{\"gridcolor\":\"white\",\"linecolor\":\"white\",\"ticks\":\"\"},\"caxis\":{\"gridcolor\":\"white\",\"linecolor\":\"white\",\"ticks\":\"\"}},\"coloraxis\":{\"colorbar\":{\"outlinewidth\":0,\"ticks\":\"\"}},\"colorscale\":{\"sequential\":[[0.0,\"#0d0887\"],[0.1111111111111111,\"#46039f\"],[0.2222222222222222,\"#7201a8\"],[0.3333333333333333,\"#9c179e\"],[0.4444444444444444,\"#bd3786\"],[0.5555555555555556,\"#d8576b\"],[0.6666666666666666,\"#ed7953\"],[0.7777777777777778,\"#fb9f3a\"],[0.8888888888888888,\"#fdca26\"],[1.0,\"#f0f921\"]],\"sequentialminus\":[[0.0,\"#0d0887\"],[0.1111111111111111,\"#46039f\"],[0.2222222222222222,\"#7201a8\"],[0.3333333333333333,\"#9c179e\"],[0.4444444444444444,\"#bd3786\"],[0.5555555555555556,\"#d8576b\"],[0.6666666666666666,\"#ed7953\"],[0.7777777777777778,\"#fb9f3a\"],[0.8888888888888888,\"#fdca26\"],[1.0,\"#f0f921\"]],\"diverging\":[[0,\"#8e0152\"],[0.1,\"#c51b7d\"],[0.2,\"#de77ae\"],[0.3,\"#f1b6da\"],[0.4,\"#fde0ef\"],[0.5,\"#f7f7f7\"],[0.6,\"#e6f5d0\"],[0.7,\"#b8e186\"],[0.8,\"#7fbc41\"],[0.9,\"#4d9221\"],[1,\"#276419\"]]},\"xaxis\":{\"gridcolor\":\"white\",\"linecolor\":\"white\",\"ticks\":\"\",\"title\":{\"standoff\":15},\"zerolinecolor\":\"white\",\"automargin\":true,\"zerolinewidth\":2},\"yaxis\":{\"gridcolor\":\"white\",\"linecolor\":\"white\",\"ticks\":\"\",\"title\":{\"standoff\":15},\"zerolinecolor\":\"white\",\"automargin\":true,\"zerolinewidth\":2},\"scene\":{\"xaxis\":{\"backgroundcolor\":\"#E5ECF6\",\"gridcolor\":\"white\",\"linecolor\":\"white\",\"showbackground\":true,\"ticks\":\"\",\"zerolinecolor\":\"white\",\"gridwidth\":2},\"yaxis\":{\"backgroundcolor\":\"#E5ECF6\",\"gridcolor\":\"white\",\"linecolor\":\"white\",\"showbackground\":true,\"ticks\":\"\",\"zerolinecolor\":\"white\",\"gridwidth\":2},\"zaxis\":{\"backgroundcolor\":\"#E5ECF6\",\"gridcolor\":\"white\",\"linecolor\":\"white\",\"showbackground\":true,\"ticks\":\"\",\"zerolinecolor\":\"white\",\"gridwidth\":2}},\"shapedefaults\":{\"line\":{\"color\":\"#2a3f5f\"}},\"annotationdefaults\":{\"arrowcolor\":\"#2a3f5f\",\"arrowhead\":0,\"arrowwidth\":1},\"geo\":{\"bgcolor\":\"white\",\"landcolor\":\"#E5ECF6\",\"subunitcolor\":\"white\",\"showland\":true,\"showlakes\":true,\"lakecolor\":\"white\"},\"title\":{\"x\":0.05},\"mapbox\":{\"style\":\"light\"}}},\"scene\":{\"domain\":{\"x\":[0.0,1.0],\"y\":[0.0,1.0]},\"xaxis\":{\"title\":{\"text\":\"col1\"}},\"yaxis\":{\"title\":{\"text\":\"col2\"}},\"zaxis\":{\"title\":{\"text\":\"col3\"}}},\"coloraxis\":{\"colorbar\":{\"title\":{\"text\":\"label\"}},\"colorscale\":[[0.0,\"#0d0887\"],[0.1111111111111111,\"#46039f\"],[0.2222222222222222,\"#7201a8\"],[0.3333333333333333,\"#9c179e\"],[0.4444444444444444,\"#bd3786\"],[0.5555555555555556,\"#d8576b\"],[0.6666666666666666,\"#ed7953\"],[0.7777777777777778,\"#fb9f3a\"],[0.8888888888888888,\"#fdca26\"],[1.0,\"#f0f921\"]]},\"legend\":{\"tracegroupgap\":0},\"margin\":{\"t\":60}},                        {\"responsive\": true}                    ).then(function(){\n",
       "                            \n",
       "var gd = document.getElementById('3e3f3794-4a5b-4595-8b2b-139f935390c7');\n",
       "var x = new MutationObserver(function (mutations, observer) {{\n",
       "        var display = window.getComputedStyle(gd).display;\n",
       "        if (!display || display === 'none') {{\n",
       "            console.log([gd, 'removed!']);\n",
       "            Plotly.purge(gd);\n",
       "            observer.disconnect();\n",
       "        }}\n",
       "}});\n",
       "\n",
       "// Listen for the removal of the full notebook cells\n",
       "var notebookContainer = gd.closest('#notebook-container');\n",
       "if (notebookContainer) {{\n",
       "    x.observe(notebookContainer, {childList: true});\n",
       "}}\n",
       "\n",
       "// Listen for the clearing of the current output cell\n",
       "var outputEl = gd.closest('.output');\n",
       "if (outputEl) {{\n",
       "    x.observe(outputEl, {childList: true});\n",
       "}}\n",
       "\n",
       "                        })                };                });            </script>        </div>"
      ]
     },
     "metadata": {},
     "output_type": "display_data"
    }
   ],
   "source": [
    "fig = px.scatter_3d(df,x='col1', y='col2', z='col3',color='label')\n",
    "fig.show()"
   ]
  },
  {
   "cell_type": "code",
   "execution_count": null,
   "id": "ecc68d35",
   "metadata": {},
   "outputs": [],
   "source": []
  }
 ],
 "metadata": {
  "kernelspec": {
   "display_name": "Python 3 (ipykernel)",
   "language": "python",
   "name": "python3"
  },
  "language_info": {
   "codemirror_mode": {
    "name": "ipython",
    "version": 3
   },
   "file_extension": ".py",
   "mimetype": "text/x-python",
   "name": "python",
   "nbconvert_exporter": "python",
   "pygments_lexer": "ipython3",
   "version": "3.9.7"
  }
 },
 "nbformat": 4,
 "nbformat_minor": 5
}
