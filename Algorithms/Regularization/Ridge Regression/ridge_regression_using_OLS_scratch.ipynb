{
 "cells": [
  {
   "cell_type": "code",
   "execution_count": 37,
   "id": "07390d64",
   "metadata": {},
   "outputs": [],
   "source": [
    "import numpy as np\n",
    "import matplotlib.pyplot as plt\n",
    "\n",
    "from sklearn.datasets import make_regression,load_diabetes\n",
    "from sklearn.linear_model import Ridge, LinearRegression\n",
    "from sklearn.model_selection import train_test_split\n",
    "\n",
    "from sklearn.metrics import r2_score"
   ]
  },
  {
   "cell_type": "code",
   "execution_count": 2,
   "id": "278d0bd4",
   "metadata": {},
   "outputs": [],
   "source": [
    "X,y = make_regression(n_samples=100,n_features=1,n_informative=1,n_targets=1,noise = 20,random_state=13)"
   ]
  },
  {
   "cell_type": "code",
   "execution_count": 3,
   "id": "6ad3a8cc",
   "metadata": {},
   "outputs": [
    {
     "data": {
      "text/plain": [
       "<matplotlib.collections.PathCollection at 0x1b53bead370>"
      ]
     },
     "execution_count": 3,
     "metadata": {},
     "output_type": "execute_result"
    },
    {
     "data": {
      "image/png": "[encoded data removed]",
      "text/plain": [
       "<Figure size 432x288 with 1 Axes>"
      ]
     },
     "metadata": {
      "needs_background": "light"
     },
     "output_type": "display_data"
    }
   ],
   "source": [
    "plt.scatter(X,y)"
   ]
  },
  {
   "cell_type": "code",
   "execution_count": 5,
   "id": "aa08b5f7",
   "metadata": {},
   "outputs": [
    {
     "name": "stdout",
     "output_type": "stream",
     "text": [
      "[27.82809103]\n",
      "-2.29474455867698\n"
     ]
    }
   ],
   "source": [
    "reg = LinearRegression()\n",
    "reg.fit(X,y)\n",
    "print(reg.coef_)\n",
    "print(reg.intercept_)"
   ]
  },
  {
   "cell_type": "code",
   "execution_count": 6,
   "id": "f9e87a68",
   "metadata": {},
   "outputs": [
    {
     "name": "stdout",
     "output_type": "stream",
     "text": [
      "[24.9546267]\n",
      "-2.1269130035235726\n"
     ]
    }
   ],
   "source": [
    "rid = Ridge(alpha=10)\n",
    "rid.fit(X,y)\n",
    "print(rid.coef_)\n",
    "print(rid.intercept_)"
   ]
  },
  {
   "cell_type": "code",
   "execution_count": 7,
   "id": "bd33ebc9",
   "metadata": {},
   "outputs": [
    {
     "name": "stdout",
     "output_type": "stream",
     "text": [
      "[12.93442104]\n",
      "-1.4248441496033308\n"
     ]
    }
   ],
   "source": [
    "rid2 = Ridge(alpha=100)\n",
    "rid2.fit(X,y)\n",
    "print(rid2.coef_)\n",
    "print(rid2.intercept_)"
   ]
  },
  {
   "cell_type": "code",
   "execution_count": 10,
   "id": "c88bcfc3",
   "metadata": {},
   "outputs": [
    {
     "data": {
      "image/png": "[encoded data removed]",
      "text/plain": [
       "<Figure size 432x288 with 1 Axes>"
      ]
     },
     "metadata": {
      "needs_background": "light"
     },
     "output_type": "display_data"
    }
   ],
   "source": [
    "\"\"\"\n",
    "Increasing the value of lambda i.e. alpha resulting in underfitting in this case.\n",
    "\"\"\"\n",
    "plt.plot(X,y,'b.')\n",
    "plt.plot(X,reg.predict(X),'red',label = 'alpha 0')\n",
    "plt.plot(X,rid.predict(X),'green',label = 'alpha 10')\n",
    "plt.plot(X,rid2.predict(X),'orange',label = 'alpha 100')\n",
    "plt.legend()\n",
    "plt.tight_layout()\n",
    "plt.show()"
   ]
  },
  {
   "cell_type": "markdown",
   "id": "1119cc85",
   "metadata": {},
   "source": [
    "<b>Ridge Regression from scratch for 1 input feature and 1 output feature.</b>"
   ]
  },
  {
   "cell_type": "code",
   "execution_count": 33,
   "id": "fc06d036",
   "metadata": {},
   "outputs": [],
   "source": [
    "class RidgeClass:\n",
    "    def __init__(self,alpha=0.1):\n",
    "        self.alpha = alpha\n",
    "        self.m = None\n",
    "        self.b = None\n",
    "    def fit(self,X_train,y_train):\n",
    "        y_mean = np.mean(y_train)\n",
    "        x_mean = np.mean(X_train)\n",
    "        num,den = 0,0\n",
    "        \n",
    "        for i in range(X_train.shape[0]):\n",
    "            num = num + (y_train[i] - y_mean) * (X_train[i] - x_mean)\n",
    "            den = den + (X_train[i] - x_mean) ** 2\n",
    "        \n",
    "        den = den + self.alpha\n",
    "        self.m = num/den\n",
    "        \n",
    "        self.b = y_mean - self.m * x_mean\n",
    "        \n",
    "        print(self.m,self.b)\n",
    "        \n",
    "    def predict(self,X_test):\n",
    "        return  self.m * X_test + self.b"
   ]
  },
  {
   "cell_type": "code",
   "execution_count": 35,
   "id": "10819efb",
   "metadata": {},
   "outputs": [
    {
     "name": "stdout",
     "output_type": "stream",
     "text": [
      "[27.82809103] [-2.29474456]\n"
     ]
    }
   ],
   "source": [
    "rc = RidgeClass(alpha = 0)\n",
    "rc.fit(X,y)\n",
    "y_pred = rc.predict(X)"
   ]
  },
  {
   "cell_type": "markdown",
   "id": "32604129",
   "metadata": {},
   "source": [
    "<b>Ridge Regression from scratch for n input features and 1 output feature.</b>"
   ]
  },
  {
   "cell_type": "code",
   "execution_count": 38,
   "id": "8efa84ec",
   "metadata": {},
   "outputs": [],
   "source": [
    "X,y = load_diabetes(return_X_y=True)"
   ]
  },
  {
   "cell_type": "code",
   "execution_count": 45,
   "id": "996edbf0",
   "metadata": {},
   "outputs": [],
   "source": [
    "X_train,X_test,y_train,y_test = train_test_split(X,y,random_state=4,train_size=0.8)"
   ]
  },
  {
   "cell_type": "code",
   "execution_count": 46,
   "id": "60162287",
   "metadata": {},
   "outputs": [],
   "source": [
    "\"\"\"\n",
    "Cholesky will use the formulas that we will be using in our self made class\n",
    "\"\"\"\n",
    "rid = Ridge(alpha=0.1,solver='cholesky')"
   ]
  },
  {
   "cell_type": "code",
   "execution_count": 47,
   "id": "a5e53486",
   "metadata": {},
   "outputs": [
    {
     "name": "stdout",
     "output_type": "stream",
     "text": [
      "[  44.02025512 -241.69666596  452.98163524  332.04993719  -76.34010147\n",
      "  -68.52063199 -164.98817213  149.9687712   431.61985919   58.51762582]\n",
      "150.89050209333024\n"
     ]
    }
   ],
   "source": [
    "rid.fit(X_train,y_train)\n",
    "print(rid.coef_)\n",
    "print(rid.intercept_)"
   ]
  },
  {
   "cell_type": "code",
   "execution_count": 48,
   "id": "bb8a4be7",
   "metadata": {},
   "outputs": [
    {
     "name": "stdout",
     "output_type": "stream",
     "text": [
      "0.46930668289209754\n"
     ]
    }
   ],
   "source": [
    "y_pred = rid.predict(X_test)\n",
    "print(r2_score(y_test,y_pred))"
   ]
  },
  {
   "cell_type": "code",
   "execution_count": 64,
   "id": "19282fd6",
   "metadata": {},
   "outputs": [],
   "source": [
    "class RidgeClassND:\n",
    "    def __init__(self,alpha = 0.1):\n",
    "        self.alpha = alpha\n",
    "        self.coef_ = None\n",
    "        self.intercept_ = None\n",
    "    def fit(self,X_train,y_train):\n",
    "        X_train = np.insert(X_train,0,1,axis = 1)\n",
    "        I = np.identity(X_train.shape[1])\n",
    "        \"\"\"\n",
    "        The first value in identity matrix is being set to zero in sklearn. and to get the exact\n",
    "        result we are doing this too. That being said, the intercept won't be affected by this logic.\n",
    "        \n",
    "        Reason why intercept is not regularized:\n",
    "        Intercept acts as a receiver of reduction in coefficients thus regularisation of both will not improve the model \n",
    "        or in other words you are regularising the curve, not shifting it.\n",
    "        \"\"\"\n",
    "        I[0][0] = 0\n",
    "        result = np.linalg.inv(np.dot(X_train.T,X_train) + self.alpha * I).dot(X_train.T).dot(y_train)\n",
    "        \n",
    "        self.coef_ = result[1:]\n",
    "        self.intercept_ = result[0] \n",
    "        \n",
    "    def predict(self,X_test):\n",
    "        return np.dot(X_test,self.coef_) + self.intercept_"
   ]
  },
  {
   "cell_type": "code",
   "execution_count": 65,
   "id": "345dba5e",
   "metadata": {},
   "outputs": [
    {
     "name": "stdout",
     "output_type": "stream",
     "text": [
      "[  44.02025512 -241.69666596  452.98163524  332.04993719  -76.34010147\n",
      "  -68.52063199 -164.98817213  149.9687712   431.61985919   58.51762582]\n",
      "150.89050209333027\n",
      "0.46930668289209776\n"
     ]
    }
   ],
   "source": [
    "rrn = RidgeClassND(alpha = 0.1)\n",
    "rrn.fit(X_train,y_train)\n",
    "y_pred = rrn.predict(X_test)\n",
    "r2 = r2_score(y_test,y_pred)\n",
    "print(rrn.coef_)\n",
    "print(rrn.intercept_)\n",
    "print(r2)"
   ]
  },
  {
   "cell_type": "code",
   "execution_count": null,
   "id": "7f2e9f2d",
   "metadata": {},
   "outputs": [],
   "source": []
  }
 ],
 "metadata": {
  "kernelspec": {
   "display_name": "Python 3 (ipykernel)",
   "language": "python",
   "name": "python3"
  },
  "language_info": {
   "codemirror_mode": {
    "name": "ipython",
    "version": 3
   },
   "file_extension": ".py",
   "mimetype": "text/x-python",
   "name": "python",
   "nbconvert_exporter": "python",
   "pygments_lexer": "ipython3",
   "version": "3.9.12"
  }
 },
 "nbformat": 4,
 "nbformat_minor": 5
}
