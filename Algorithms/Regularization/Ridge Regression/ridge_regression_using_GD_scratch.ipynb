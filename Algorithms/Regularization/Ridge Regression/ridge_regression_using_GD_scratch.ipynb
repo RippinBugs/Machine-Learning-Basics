{
 "cells": [
  {
   "cell_type": "code",
   "execution_count": 23,
   "id": "ab101f8a",
   "metadata": {},
   "outputs": [],
   "source": [
    "import numpy as np\n",
    "import matplotlib.pyplot as plt\n",
    "\n",
    "from sklearn.datasets import load_diabetes\n",
    "from sklearn.linear_model import SGDRegressor,Ridge\n",
    "from sklearn.model_selection import train_test_split\n",
    "\n",
    "from sklearn.metrics import r2_score"
   ]
  },
  {
   "cell_type": "code",
   "execution_count": 24,
   "id": "38f7f3f1",
   "metadata": {},
   "outputs": [],
   "source": [
    "X,y = load_diabetes(return_X_y=True)"
   ]
  },
  {
   "cell_type": "code",
   "execution_count": 25,
   "id": "6aef519c",
   "metadata": {},
   "outputs": [],
   "source": [
    "X_train,X_test,y_train,y_test = train_test_split(X,y,test_size=0.2,random_state=4)"
   ]
  },
  {
   "cell_type": "code",
   "execution_count": 26,
   "id": "79b96bd3",
   "metadata": {},
   "outputs": [],
   "source": [
    "reg = SGDRegressor(penalty='l2', max_iter=500,eta0=0.1,learning_rate='constant',alpha = 0.001)"
   ]
  },
  {
   "cell_type": "code",
   "execution_count": 27,
   "id": "ff100bfc",
   "metadata": {},
   "outputs": [
    {
     "name": "stdout",
     "output_type": "stream",
     "text": [
      "0.456657369426156\n",
      "[  41.75811789 -161.1800987   373.96102056  269.00439768  -10.10534203\n",
      "  -62.82193693 -166.26658777  133.91074526  336.70237168   96.48266193]\n",
      "[162.54889458]\n"
     ]
    }
   ],
   "source": [
    "reg.fit(X_train,y_train)\n",
    "y_pred = reg.predict(X_test)\n",
    "\n",
    "print(r2_score(y_test,y_pred))\n",
    "print(reg.coef_)\n",
    "print(reg.intercept_)"
   ]
  },
  {
   "cell_type": "code",
   "execution_count": 28,
   "id": "2efd92c1",
   "metadata": {},
   "outputs": [],
   "source": [
    "reg = Ridge(alpha=0.001,max_iter=500,solver='sparse_cg')"
   ]
  },
  {
   "cell_type": "code",
   "execution_count": 29,
   "id": "135ebfd2",
   "metadata": {},
   "outputs": [
    {
     "name": "stdout",
     "output_type": "stream",
     "text": [
      "0.4623892201785529\n",
      "[  34.62617432 -290.42643558  483.96594583  367.96559731 -852.21640462\n",
      "  498.74459947  183.78210201  276.57704129  757.34559547   36.95860459]\n",
      "151.10416921898823\n"
     ]
    }
   ],
   "source": [
    "reg.fit(X_train,y_train)\n",
    "y_pred = reg.predict(X_test)\n",
    "\n",
    "print(r2_score(y_test,y_pred))\n",
    "print(reg.coef_)\n",
    "print(reg.intercept_)"
   ]
  },
  {
   "cell_type": "markdown",
   "id": "49a4c8d4",
   "metadata": {},
   "source": [
    "Ridge Regression Using Gradient Descent."
   ]
  },
  {
   "cell_type": "code",
   "execution_count": 30,
   "id": "6b1afe0e",
   "metadata": {},
   "outputs": [],
   "source": [
    "class RidgeUsingGD:\n",
    "    def __init__(self,epochs,learning_rate,alpha):\n",
    "        self.epochs = epochs\n",
    "        self.lr = learning_rate\n",
    "        self.alpha = alpha\n",
    "        self.intercept_ = None\n",
    "        self.coef_ = None\n",
    "        \n",
    "    def fit(self,X_train,X_test):\n",
    "        self.intercept_  = 0\n",
    "        self.coef_ = np.ones(X_train.shape[1])\n",
    "        theta = np.insert(self.coef_,0,self.intercept_)\n",
    "        \n",
    "        X_train = np.insert(X_train,0,1,axis=1)\n",
    "        \n",
    "        for i in range(self.epochs):\n",
    "            der_theta = np.dot(X_train.T,X_train).dot(theta) - np.dot(X_train.T,y_train) - self.alpha * theta\n",
    "            theta = theta - self.lr * der_theta\n",
    "            \n",
    "        self.coef_ = theta[1:]\n",
    "        self.intercept_ = theta[0]\n",
    "        \n",
    "    def predict(self,X_test):\n",
    "        return np.dot(X_test,self.coef_) + self.intercept_"
   ]
  },
  {
   "cell_type": "code",
   "execution_count": 32,
   "id": "b2c5e1bc",
   "metadata": {},
   "outputs": [
    {
     "name": "stdout",
     "output_type": "stream",
     "text": [
      "0.4738600014629256\n",
      "[  46.62130209 -221.88851747  452.72605596  325.95384179  -29.28659673\n",
      "  -96.76862949 -191.05395236  146.37644468  401.32085198   95.03164298]\n",
      "150.86905058641256\n"
     ]
    }
   ],
   "source": [
    "reg = RidgeUsingGD(500,0.005,0.001)\n",
    "reg.fit(X_train,y_train)\n",
    "y_pred = reg.predict(X_test)\n",
    "\n",
    "print(r2_score(y_test,y_pred))\n",
    "print(reg.coef_)\n",
    "print(reg.intercept_)"
   ]
  },
  {
   "cell_type": "code",
   "execution_count": null,
   "id": "2d783e3d",
   "metadata": {},
   "outputs": [],
   "source": []
  }
 ],
 "metadata": {
  "kernelspec": {
   "display_name": "Python 3 (ipykernel)",
   "language": "python",
   "name": "python3"
  },
  "language_info": {
   "codemirror_mode": {
    "name": "ipython",
    "version": 3
   },
   "file_extension": ".py",
   "mimetype": "text/x-python",
   "name": "python",
   "nbconvert_exporter": "python",
   "pygments_lexer": "ipython3",
   "version": "3.9.12"
  }
 },
 "nbformat": 4,
 "nbformat_minor": 5
}
