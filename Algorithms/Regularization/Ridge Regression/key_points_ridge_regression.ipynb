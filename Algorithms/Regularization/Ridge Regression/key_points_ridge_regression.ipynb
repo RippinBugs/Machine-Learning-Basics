{
 "cells": [
  {
   "cell_type": "code",
   "execution_count": 1,
   "id": "c2bde4c1",
   "metadata": {},
   "outputs": [],
   "source": [
    "import numpy as np\n",
    "import pandas as pd\n",
    "import matplotlib.pyplot as plt\n",
    "\n",
    "from sklearn.datasets import load_diabetes\n",
    "\n",
    "from sklearn.model_selection import train_test_split\n",
    "from sklearn.linear_model import Ridge\n",
    "\n",
    "from sklearn.metrics import r2_score\n",
    "\n",
    "from sklearn.preprocessing import PolynomialFeatures\n",
    "from sklearn.pipeline import Pipeline"
   ]
  },
  {
   "cell_type": "code",
   "execution_count": 2,
   "id": "03b70abd",
   "metadata": {},
   "outputs": [],
   "source": [
    "data = load_diabetes()"
   ]
  },
  {
   "cell_type": "code",
   "execution_count": 3,
   "id": "320b09f8",
   "metadata": {},
   "outputs": [],
   "source": [
    "df = pd.DataFrame(data.data,columns=data.feature_names)\n",
    "df['Target'] = data.target"
   ]
  },
  {
   "cell_type": "code",
   "execution_count": 4,
   "id": "19220d42",
   "metadata": {},
   "outputs": [
    {
     "data": {
      "text/html": [
       "<div>\n",
       "<style scoped>\n",
       "    .dataframe tbody tr th:only-of-type {\n",
       "        vertical-align: middle;\n",
       "    }\n",
       "\n",
       "    .dataframe tbody tr th {\n",
       "        vertical-align: top;\n",
       "    }\n",
       "\n",
       "    .dataframe thead th {\n",
       "        text-align: right;\n",
       "    }\n",
       "</style>\n",
       "<table border=\"1\" class=\"dataframe\">\n",
       "  <thead>\n",
       "    <tr style=\"text-align: right;\">\n",
       "      <th></th>\n",
       "      <th>age</th>\n",
       "      <th>sex</th>\n",
       "      <th>bmi</th>\n",
       "      <th>bp</th>\n",
       "      <th>s1</th>\n",
       "      <th>s2</th>\n",
       "      <th>s3</th>\n",
       "      <th>s4</th>\n",
       "      <th>s5</th>\n",
       "      <th>s6</th>\n",
       "      <th>Target</th>\n",
       "    </tr>\n",
       "  </thead>\n",
       "  <tbody>\n",
       "    <tr>\n",
       "      <th>137</th>\n",
       "      <td>0.005383</td>\n",
       "      <td>-0.044642</td>\n",
       "      <td>0.049840</td>\n",
       "      <td>0.097616</td>\n",
       "      <td>-0.015328</td>\n",
       "      <td>-0.016345</td>\n",
       "      <td>-0.006584</td>\n",
       "      <td>-0.002592</td>\n",
       "      <td>0.017037</td>\n",
       "      <td>-0.013504</td>\n",
       "      <td>280.0</td>\n",
       "    </tr>\n",
       "    <tr>\n",
       "      <th>93</th>\n",
       "      <td>-0.049105</td>\n",
       "      <td>-0.044642</td>\n",
       "      <td>-0.064408</td>\n",
       "      <td>-0.102071</td>\n",
       "      <td>-0.002945</td>\n",
       "      <td>-0.015406</td>\n",
       "      <td>0.063367</td>\n",
       "      <td>-0.047243</td>\n",
       "      <td>-0.033249</td>\n",
       "      <td>-0.054925</td>\n",
       "      <td>96.0</td>\n",
       "    </tr>\n",
       "    <tr>\n",
       "      <th>215</th>\n",
       "      <td>0.027178</td>\n",
       "      <td>0.050680</td>\n",
       "      <td>0.094031</td>\n",
       "      <td>0.097616</td>\n",
       "      <td>-0.034592</td>\n",
       "      <td>-0.032002</td>\n",
       "      <td>-0.043401</td>\n",
       "      <td>-0.002592</td>\n",
       "      <td>0.036646</td>\n",
       "      <td>0.106617</td>\n",
       "      <td>263.0</td>\n",
       "    </tr>\n",
       "    <tr>\n",
       "      <th>425</th>\n",
       "      <td>-0.078165</td>\n",
       "      <td>-0.044642</td>\n",
       "      <td>-0.040696</td>\n",
       "      <td>-0.081414</td>\n",
       "      <td>-0.100638</td>\n",
       "      <td>-0.112795</td>\n",
       "      <td>0.022869</td>\n",
       "      <td>-0.076395</td>\n",
       "      <td>-0.020289</td>\n",
       "      <td>-0.050783</td>\n",
       "      <td>152.0</td>\n",
       "    </tr>\n",
       "    <tr>\n",
       "      <th>373</th>\n",
       "      <td>-0.074533</td>\n",
       "      <td>-0.044642</td>\n",
       "      <td>-0.010517</td>\n",
       "      <td>-0.005671</td>\n",
       "      <td>-0.066239</td>\n",
       "      <td>-0.057054</td>\n",
       "      <td>-0.002903</td>\n",
       "      <td>-0.039493</td>\n",
       "      <td>-0.042572</td>\n",
       "      <td>-0.001078</td>\n",
       "      <td>168.0</td>\n",
       "    </tr>\n",
       "  </tbody>\n",
       "</table>\n",
       "</div>"
      ],
      "text/plain": [
       "          age       sex       bmi        bp        s1        s2        s3  \\\n",
       "137  0.005383 -0.044642  0.049840  0.097616 -0.015328 -0.016345 -0.006584   \n",
       "93  -0.049105 -0.044642 -0.064408 -0.102071 -0.002945 -0.015406  0.063367   \n",
       "215  0.027178  0.050680  0.094031  0.097616 -0.034592 -0.032002 -0.043401   \n",
       "425 -0.078165 -0.044642 -0.040696 -0.081414 -0.100638 -0.112795  0.022869   \n",
       "373 -0.074533 -0.044642 -0.010517 -0.005671 -0.066239 -0.057054 -0.002903   \n",
       "\n",
       "           s4        s5        s6  Target  \n",
       "137 -0.002592  0.017037 -0.013504   280.0  \n",
       "93  -0.047243 -0.033249 -0.054925    96.0  \n",
       "215 -0.002592  0.036646  0.106617   263.0  \n",
       "425 -0.076395 -0.020289 -0.050783   152.0  \n",
       "373 -0.039493 -0.042572 -0.001078   168.0  "
      ]
     },
     "execution_count": 4,
     "metadata": {},
     "output_type": "execute_result"
    }
   ],
   "source": [
    "df.sample(5)"
   ]
  },
  {
   "cell_type": "code",
   "execution_count": 5,
   "id": "38ada9e9",
   "metadata": {},
   "outputs": [
    {
     "data": {
      "text/plain": [
       "(442, 11)"
      ]
     },
     "execution_count": 5,
     "metadata": {},
     "output_type": "execute_result"
    }
   ],
   "source": [
    "df.shape"
   ]
  },
  {
   "cell_type": "code",
   "execution_count": 6,
   "id": "1eac41fe",
   "metadata": {},
   "outputs": [],
   "source": [
    "X_train,X_test,y_train,y_test = train_test_split(df.iloc[:,:-1],df.iloc[:,-1],random_state=2,test_size=0.2)"
   ]
  },
  {
   "cell_type": "code",
   "execution_count": 7,
   "id": "e937705c",
   "metadata": {},
   "outputs": [],
   "source": [
    "#X_train"
   ]
  },
  {
   "cell_type": "markdown",
   "id": "4bc00aad",
   "metadata": {},
   "source": [
    "### 1. How the coefficients get affected\n",
    "\n",
    "As you increase the value of alpha the value of coefficients will shrink and move towards the value zero. But they will never be 0."
   ]
  },
  {
   "cell_type": "code",
   "execution_count": 8,
   "id": "82115072",
   "metadata": {},
   "outputs": [],
   "source": [
    "coef_ = []      #Finally it will be a list of lists.\n",
    "r2_scores = []\n",
    "alphas = [0,10,100,1000]\n",
    "\n",
    "for i in alphas:\n",
    "    rr = Ridge(alpha = i)\n",
    "    rr.fit(X_train,y_train)\n",
    "    \n",
    "    coef_.append(rr.coef_.tolist())\n",
    "    y_pred = rr.predict(X_test)\n",
    "    r2_scores.append(r2_score(y_test,y_pred))"
   ]
  },
  {
   "cell_type": "code",
   "execution_count": 9,
   "id": "dee90c0e",
   "metadata": {},
   "outputs": [
    {
     "data": {
      "text/plain": [
       "[0.4399387660024644,\n",
       " 0.15214316037162345,\n",
       " 0.0103781053510128,\n",
       " -0.010136671491364435]"
      ]
     },
     "execution_count": 9,
     "metadata": {},
     "output_type": "execute_result"
    }
   ],
   "source": [
    "r2_scores"
   ]
  },
  {
   "cell_type": "code",
   "execution_count": 10,
   "id": "486a2ae9",
   "metadata": {},
   "outputs": [
    {
     "data": {
      "image/png": "[encoded data removed]",
      "text/plain": [
       "<Figure size 1008x648 with 4 Axes>"
      ]
     },
     "metadata": {
      "needs_background": "light"
     },
     "output_type": "display_data"
    }
   ],
   "source": [
    "\"\"\"\n",
    "For better understanding look at the scale of y axis. Thus, you can notice that the coefficients are \n",
    "shrinking.\n",
    "\"\"\"\n",
    "\n",
    "plt.figure(figsize=(14,9))\n",
    "for i in range(4):\n",
    "    str_ = '{}'.format(i+1)        #format integer value into string\n",
    "    x = int(str(22) + str_)\n",
    "    plt.subplot(x)\n",
    "    plt.bar(data.feature_names,coef_[i])\n",
    "    plt.title(\"Alpha = {}, r2_score = {}\".format(alphas[i],round(r2_scores[i],2)))"
   ]
  },
  {
   "cell_type": "markdown",
   "id": "4e16c6bf",
   "metadata": {},
   "source": [
    "### 2. Higher coefficients are affected more.\n",
    "\n",
    "After increasing the value of alpha, the coefficients which have the largest values will decrease(if positive coef value) or increase(if negative coef value) faster than the other coefficients."
   ]
  },
  {
   "cell_type": "code",
   "execution_count": 11,
   "id": "7b1eea28",
   "metadata": {},
   "outputs": [],
   "source": [
    "alphas = [0,0.0001,0.001,0.01,0.1,1,10,100,1000,10000]\n",
    "coef_ = []\n",
    "\n",
    "for i in alphas:\n",
    "    rr = Ridge(alpha = i)\n",
    "    rr.fit(X_train,y_train)\n",
    "    \n",
    "    coef_.append(rr.coef_.tolist())"
   ]
  },
  {
   "cell_type": "code",
   "execution_count": 12,
   "id": "18b97a6e",
   "metadata": {},
   "outputs": [],
   "source": [
    "input_array = np.array(coef_)\n",
    "#input_array"
   ]
  },
  {
   "cell_type": "code",
   "execution_count": 13,
   "id": "8f9a0f76",
   "metadata": {},
   "outputs": [],
   "source": [
    "coef_df = pd.DataFrame(input_array,columns=data.feature_names)\n",
    "coef_df['alpha'] = alphas\n",
    "coef_df = coef_df.set_index('alpha')"
   ]
  },
  {
   "cell_type": "code",
   "execution_count": 14,
   "id": "0f82f5a8",
   "metadata": {},
   "outputs": [
    {
     "data": {
      "text/html": [
       "<div>\n",
       "<style scoped>\n",
       "    .dataframe tbody tr th:only-of-type {\n",
       "        vertical-align: middle;\n",
       "    }\n",
       "\n",
       "    .dataframe tbody tr th {\n",
       "        vertical-align: top;\n",
       "    }\n",
       "\n",
       "    .dataframe thead th {\n",
       "        text-align: right;\n",
       "    }\n",
       "</style>\n",
       "<table border=\"1\" class=\"dataframe\">\n",
       "  <thead>\n",
       "    <tr style=\"text-align: right;\">\n",
       "      <th></th>\n",
       "      <th>age</th>\n",
       "      <th>sex</th>\n",
       "      <th>bmi</th>\n",
       "      <th>bp</th>\n",
       "      <th>s1</th>\n",
       "      <th>s2</th>\n",
       "      <th>s3</th>\n",
       "      <th>s4</th>\n",
       "      <th>s5</th>\n",
       "      <th>s6</th>\n",
       "    </tr>\n",
       "    <tr>\n",
       "      <th>alpha</th>\n",
       "      <th></th>\n",
       "      <th></th>\n",
       "      <th></th>\n",
       "      <th></th>\n",
       "      <th></th>\n",
       "      <th></th>\n",
       "      <th></th>\n",
       "      <th></th>\n",
       "      <th></th>\n",
       "      <th></th>\n",
       "    </tr>\n",
       "  </thead>\n",
       "  <tbody>\n",
       "    <tr>\n",
       "      <th>0.0000</th>\n",
       "      <td>-9.160885</td>\n",
       "      <td>-205.462260</td>\n",
       "      <td>516.684624</td>\n",
       "      <td>340.627341</td>\n",
       "      <td>-895.543609</td>\n",
       "      <td>561.214533</td>\n",
       "      <td>153.884786</td>\n",
       "      <td>126.734316</td>\n",
       "      <td>861.121400</td>\n",
       "      <td>52.419828</td>\n",
       "    </tr>\n",
       "    <tr>\n",
       "      <th>0.0001</th>\n",
       "      <td>-9.118336</td>\n",
       "      <td>-205.337133</td>\n",
       "      <td>516.880570</td>\n",
       "      <td>340.556792</td>\n",
       "      <td>-883.415291</td>\n",
       "      <td>551.553259</td>\n",
       "      <td>148.578680</td>\n",
       "      <td>125.355917</td>\n",
       "      <td>856.480254</td>\n",
       "      <td>52.467627</td>\n",
       "    </tr>\n",
       "    <tr>\n",
       "      <th>0.0010</th>\n",
       "      <td>-8.763583</td>\n",
       "      <td>-204.321125</td>\n",
       "      <td>518.371729</td>\n",
       "      <td>339.975385</td>\n",
       "      <td>-787.690766</td>\n",
       "      <td>475.274718</td>\n",
       "      <td>106.786540</td>\n",
       "      <td>114.632063</td>\n",
       "      <td>819.739542</td>\n",
       "      <td>52.872100</td>\n",
       "    </tr>\n",
       "    <tr>\n",
       "      <th>0.0100</th>\n",
       "      <td>-6.401088</td>\n",
       "      <td>-198.669767</td>\n",
       "      <td>522.048548</td>\n",
       "      <td>336.348363</td>\n",
       "      <td>-383.709187</td>\n",
       "      <td>152.663678</td>\n",
       "      <td>-66.060583</td>\n",
       "      <td>75.611090</td>\n",
       "      <td>659.869402</td>\n",
       "      <td>55.828128</td>\n",
       "    </tr>\n",
       "    <tr>\n",
       "      <th>0.1000</th>\n",
       "      <td>6.642753</td>\n",
       "      <td>-172.242166</td>\n",
       "      <td>485.523872</td>\n",
       "      <td>314.682122</td>\n",
       "      <td>-72.939323</td>\n",
       "      <td>-80.590053</td>\n",
       "      <td>-174.466515</td>\n",
       "      <td>83.616653</td>\n",
       "      <td>484.363285</td>\n",
       "      <td>73.584154</td>\n",
       "    </tr>\n",
       "    <tr>\n",
       "      <th>1.0000</th>\n",
       "      <td>42.242217</td>\n",
       "      <td>-57.305508</td>\n",
       "      <td>282.170831</td>\n",
       "      <td>198.061386</td>\n",
       "      <td>14.363544</td>\n",
       "      <td>-22.551274</td>\n",
       "      <td>-136.930053</td>\n",
       "      <td>102.023193</td>\n",
       "      <td>260.104308</td>\n",
       "      <td>98.552274</td>\n",
       "    </tr>\n",
       "    <tr>\n",
       "      <th>10.0000</th>\n",
       "      <td>21.174004</td>\n",
       "      <td>1.659796</td>\n",
       "      <td>63.659772</td>\n",
       "      <td>48.493240</td>\n",
       "      <td>18.421492</td>\n",
       "      <td>12.875448</td>\n",
       "      <td>-38.915435</td>\n",
       "      <td>38.842464</td>\n",
       "      <td>61.612405</td>\n",
       "      <td>35.505355</td>\n",
       "    </tr>\n",
       "    <tr>\n",
       "      <th>100.0000</th>\n",
       "      <td>2.858979</td>\n",
       "      <td>0.629452</td>\n",
       "      <td>7.540604</td>\n",
       "      <td>5.849997</td>\n",
       "      <td>2.710879</td>\n",
       "      <td>2.142134</td>\n",
       "      <td>-4.834047</td>\n",
       "      <td>5.108223</td>\n",
       "      <td>7.448466</td>\n",
       "      <td>4.576129</td>\n",
       "    </tr>\n",
       "    <tr>\n",
       "      <th>1000.0000</th>\n",
       "      <td>0.295726</td>\n",
       "      <td>0.069290</td>\n",
       "      <td>0.769004</td>\n",
       "      <td>0.597829</td>\n",
       "      <td>0.282900</td>\n",
       "      <td>0.225936</td>\n",
       "      <td>-0.495607</td>\n",
       "      <td>0.527031</td>\n",
       "      <td>0.761497</td>\n",
       "      <td>0.471029</td>\n",
       "    </tr>\n",
       "    <tr>\n",
       "      <th>10000.0000</th>\n",
       "      <td>0.029674</td>\n",
       "      <td>0.006995</td>\n",
       "      <td>0.077054</td>\n",
       "      <td>0.059915</td>\n",
       "      <td>0.028412</td>\n",
       "      <td>0.022715</td>\n",
       "      <td>-0.049686</td>\n",
       "      <td>0.052870</td>\n",
       "      <td>0.076321</td>\n",
       "      <td>0.047241</td>\n",
       "    </tr>\n",
       "  </tbody>\n",
       "</table>\n",
       "</div>"
      ],
      "text/plain": [
       "                  age         sex         bmi          bp          s1  \\\n",
       "alpha                                                                   \n",
       "0.0000      -9.160885 -205.462260  516.684624  340.627341 -895.543609   \n",
       "0.0001      -9.118336 -205.337133  516.880570  340.556792 -883.415291   \n",
       "0.0010      -8.763583 -204.321125  518.371729  339.975385 -787.690766   \n",
       "0.0100      -6.401088 -198.669767  522.048548  336.348363 -383.709187   \n",
       "0.1000       6.642753 -172.242166  485.523872  314.682122  -72.939323   \n",
       "1.0000      42.242217  -57.305508  282.170831  198.061386   14.363544   \n",
       "10.0000     21.174004    1.659796   63.659772   48.493240   18.421492   \n",
       "100.0000     2.858979    0.629452    7.540604    5.849997    2.710879   \n",
       "1000.0000    0.295726    0.069290    0.769004    0.597829    0.282900   \n",
       "10000.0000   0.029674    0.006995    0.077054    0.059915    0.028412   \n",
       "\n",
       "                    s2          s3          s4          s5         s6  \n",
       "alpha                                                                  \n",
       "0.0000      561.214533  153.884786  126.734316  861.121400  52.419828  \n",
       "0.0001      551.553259  148.578680  125.355917  856.480254  52.467627  \n",
       "0.0010      475.274718  106.786540  114.632063  819.739542  52.872100  \n",
       "0.0100      152.663678  -66.060583   75.611090  659.869402  55.828128  \n",
       "0.1000      -80.590053 -174.466515   83.616653  484.363285  73.584154  \n",
       "1.0000      -22.551274 -136.930053  102.023193  260.104308  98.552274  \n",
       "10.0000      12.875448  -38.915435   38.842464   61.612405  35.505355  \n",
       "100.0000      2.142134   -4.834047    5.108223    7.448466   4.576129  \n",
       "1000.0000     0.225936   -0.495607    0.527031    0.761497   0.471029  \n",
       "10000.0000    0.022715   -0.049686    0.052870    0.076321   0.047241  "
      ]
     },
     "execution_count": 14,
     "metadata": {},
     "output_type": "execute_result"
    }
   ],
   "source": [
    "coef_df"
   ]
  },
  {
   "cell_type": "code",
   "execution_count": 15,
   "id": "bb9278c6",
   "metadata": {},
   "outputs": [],
   "source": [
    "alphas = [0,0.0001,0.0005,0.001,0.005,0.1,0.5,1,5,10]\n",
    "coef_ = []\n",
    "\n",
    "for i in alphas:\n",
    "    rr = Ridge(alpha = i)\n",
    "    rr.fit(X_train,y_train)\n",
    "    \n",
    "    coef_.append(rr.coef_.tolist())"
   ]
  },
  {
   "cell_type": "code",
   "execution_count": 16,
   "id": "53bab133",
   "metadata": {},
   "outputs": [
    {
     "data": {
      "text/plain": [
       "(10, 10)"
      ]
     },
     "execution_count": 16,
     "metadata": {},
     "output_type": "execute_result"
    }
   ],
   "source": [
    "input_array = np.array(coef_).T\n",
    "input_array.shape"
   ]
  },
  {
   "cell_type": "code",
   "execution_count": 17,
   "id": "54014d01",
   "metadata": {},
   "outputs": [
    {
     "data": {
      "text/html": [
       "<div>\n",
       "<style scoped>\n",
       "    .dataframe tbody tr th:only-of-type {\n",
       "        vertical-align: middle;\n",
       "    }\n",
       "\n",
       "    .dataframe tbody tr th {\n",
       "        vertical-align: top;\n",
       "    }\n",
       "\n",
       "    .dataframe thead th {\n",
       "        text-align: right;\n",
       "    }\n",
       "</style>\n",
       "<table border=\"1\" class=\"dataframe\">\n",
       "  <thead>\n",
       "    <tr style=\"text-align: right;\">\n",
       "      <th></th>\n",
       "      <th>0.0</th>\n",
       "      <th>0.0001</th>\n",
       "      <th>0.0005</th>\n",
       "      <th>0.001</th>\n",
       "      <th>0.005</th>\n",
       "      <th>0.1</th>\n",
       "      <th>0.5</th>\n",
       "      <th>1.0</th>\n",
       "      <th>5.0</th>\n",
       "      <th>10.0</th>\n",
       "    </tr>\n",
       "    <tr>\n",
       "      <th>features</th>\n",
       "      <th></th>\n",
       "      <th></th>\n",
       "      <th></th>\n",
       "      <th></th>\n",
       "      <th></th>\n",
       "      <th></th>\n",
       "      <th></th>\n",
       "      <th></th>\n",
       "      <th></th>\n",
       "      <th></th>\n",
       "    </tr>\n",
       "  </thead>\n",
       "  <tbody>\n",
       "    <tr>\n",
       "      <th>age</th>\n",
       "      <td>-9.160885</td>\n",
       "      <td>-9.118336</td>\n",
       "      <td>-8.954808</td>\n",
       "      <td>-8.763583</td>\n",
       "      <td>-7.551515</td>\n",
       "      <td>6.642753</td>\n",
       "      <td>32.986411</td>\n",
       "      <td>42.242217</td>\n",
       "      <td>32.155953</td>\n",
       "      <td>21.174004</td>\n",
       "    </tr>\n",
       "    <tr>\n",
       "      <th>sex</th>\n",
       "      <td>-205.462260</td>\n",
       "      <td>-205.337133</td>\n",
       "      <td>-204.862712</td>\n",
       "      <td>-204.321125</td>\n",
       "      <td>-201.210208</td>\n",
       "      <td>-172.242166</td>\n",
       "      <td>-99.639080</td>\n",
       "      <td>-57.305508</td>\n",
       "      <td>-2.561886</td>\n",
       "      <td>1.659796</td>\n",
       "    </tr>\n",
       "    <tr>\n",
       "      <th>bmi</th>\n",
       "      <td>516.684624</td>\n",
       "      <td>516.880570</td>\n",
       "      <td>517.599870</td>\n",
       "      <td>518.371729</td>\n",
       "      <td>521.510271</td>\n",
       "      <td>485.523872</td>\n",
       "      <td>363.415449</td>\n",
       "      <td>282.170831</td>\n",
       "      <td>109.757378</td>\n",
       "      <td>63.659772</td>\n",
       "    </tr>\n",
       "    <tr>\n",
       "      <th>bp</th>\n",
       "      <td>340.627341</td>\n",
       "      <td>340.556792</td>\n",
       "      <td>340.287277</td>\n",
       "      <td>339.975385</td>\n",
       "      <td>338.073346</td>\n",
       "      <td>314.682122</td>\n",
       "      <td>247.242261</td>\n",
       "      <td>198.061386</td>\n",
       "      <td>82.259168</td>\n",
       "      <td>48.493240</td>\n",
       "    </tr>\n",
       "    <tr>\n",
       "      <th>s1</th>\n",
       "      <td>-895.543609</td>\n",
       "      <td>-883.415291</td>\n",
       "      <td>-838.082185</td>\n",
       "      <td>-787.690766</td>\n",
       "      <td>-534.139045</td>\n",
       "      <td>-72.939323</td>\n",
       "      <td>-5.371795</td>\n",
       "      <td>14.363544</td>\n",
       "      <td>25.513727</td>\n",
       "      <td>18.421492</td>\n",
       "    </tr>\n",
       "    <tr>\n",
       "      <th>s2</th>\n",
       "      <td>561.214533</td>\n",
       "      <td>551.553259</td>\n",
       "      <td>515.435253</td>\n",
       "      <td>475.274718</td>\n",
       "      <td>272.943196</td>\n",
       "      <td>-80.590053</td>\n",
       "      <td>-54.587550</td>\n",
       "      <td>-22.551274</td>\n",
       "      <td>14.848399</td>\n",
       "      <td>12.875448</td>\n",
       "    </tr>\n",
       "    <tr>\n",
       "      <th>s3</th>\n",
       "      <td>153.884786</td>\n",
       "      <td>148.578680</td>\n",
       "      <td>128.766355</td>\n",
       "      <td>106.786540</td>\n",
       "      <td>-2.735091</td>\n",
       "      <td>-174.466515</td>\n",
       "      <td>-159.832937</td>\n",
       "      <td>-136.930053</td>\n",
       "      <td>-64.240086</td>\n",
       "      <td>-38.915435</td>\n",
       "    </tr>\n",
       "    <tr>\n",
       "      <th>s4</th>\n",
       "      <td>126.734316</td>\n",
       "      <td>125.355917</td>\n",
       "      <td>120.240850</td>\n",
       "      <td>114.632063</td>\n",
       "      <td>88.316186</td>\n",
       "      <td>83.616653</td>\n",
       "      <td>103.880685</td>\n",
       "      <td>102.023193</td>\n",
       "      <td>60.809999</td>\n",
       "      <td>38.842464</td>\n",
       "    </tr>\n",
       "    <tr>\n",
       "      <th>s5</th>\n",
       "      <td>861.121400</td>\n",
       "      <td>856.480254</td>\n",
       "      <td>839.106530</td>\n",
       "      <td>819.739542</td>\n",
       "      <td>720.876548</td>\n",
       "      <td>484.363285</td>\n",
       "      <td>337.314909</td>\n",
       "      <td>260.104308</td>\n",
       "      <td>104.577062</td>\n",
       "      <td>61.612405</td>\n",
       "    </tr>\n",
       "    <tr>\n",
       "      <th>s6</th>\n",
       "      <td>52.419828</td>\n",
       "      <td>52.467627</td>\n",
       "      <td>52.652741</td>\n",
       "      <td>52.872100</td>\n",
       "      <td>54.336108</td>\n",
       "      <td>73.584154</td>\n",
       "      <td>98.688670</td>\n",
       "      <td>98.552274</td>\n",
       "      <td>56.526087</td>\n",
       "      <td>35.505355</td>\n",
       "    </tr>\n",
       "  </tbody>\n",
       "</table>\n",
       "</div>"
      ],
      "text/plain": [
       "                 0.0      0.0001      0.0005       0.001       0.005  \\\n",
       "features                                                               \n",
       "age        -9.160885   -9.118336   -8.954808   -8.763583   -7.551515   \n",
       "sex      -205.462260 -205.337133 -204.862712 -204.321125 -201.210208   \n",
       "bmi       516.684624  516.880570  517.599870  518.371729  521.510271   \n",
       "bp        340.627341  340.556792  340.287277  339.975385  338.073346   \n",
       "s1       -895.543609 -883.415291 -838.082185 -787.690766 -534.139045   \n",
       "s2        561.214533  551.553259  515.435253  475.274718  272.943196   \n",
       "s3        153.884786  148.578680  128.766355  106.786540   -2.735091   \n",
       "s4        126.734316  125.355917  120.240850  114.632063   88.316186   \n",
       "s5        861.121400  856.480254  839.106530  819.739542  720.876548   \n",
       "s6         52.419828   52.467627   52.652741   52.872100   54.336108   \n",
       "\n",
       "                 0.1         0.5         1.0         5.0       10.0  \n",
       "features                                                             \n",
       "age         6.642753   32.986411   42.242217   32.155953  21.174004  \n",
       "sex      -172.242166  -99.639080  -57.305508   -2.561886   1.659796  \n",
       "bmi       485.523872  363.415449  282.170831  109.757378  63.659772  \n",
       "bp        314.682122  247.242261  198.061386   82.259168  48.493240  \n",
       "s1        -72.939323   -5.371795   14.363544   25.513727  18.421492  \n",
       "s2        -80.590053  -54.587550  -22.551274   14.848399  12.875448  \n",
       "s3       -174.466515 -159.832937 -136.930053  -64.240086 -38.915435  \n",
       "s4         83.616653  103.880685  102.023193   60.809999  38.842464  \n",
       "s5        484.363285  337.314909  260.104308  104.577062  61.612405  \n",
       "s6         73.584154   98.688670   98.552274   56.526087  35.505355  "
      ]
     },
     "execution_count": 17,
     "metadata": {},
     "output_type": "execute_result"
    }
   ],
   "source": [
    "coef_df = pd.DataFrame(input_array,columns=alphas)\n",
    "coef_df['features'] = data.feature_names\n",
    "coef_df = coef_df.set_index('features')\n",
    "coef_df"
   ]
  },
  {
   "cell_type": "code",
   "execution_count": 18,
   "id": "6d853af3",
   "metadata": {},
   "outputs": [
    {
     "data": {
      "text/plain": [
       "<matplotlib.legend.Legend at 0x1c741f41d30>"
      ]
     },
     "execution_count": 18,
     "metadata": {},
     "output_type": "execute_result"
    },
    {
     "data": {
      "image/png": "[encoded data removed]",
      "text/plain": [
       "<Figure size 1080x576 with 1 Axes>"
      ]
     },
     "metadata": {
      "needs_background": "light"
     },
     "output_type": "display_data"
    }
   ],
   "source": [
    "plt.figure(figsize=(15,8))\n",
    "plt.plot(alphas,np.zeros(len(alphas)),color = 'black',linewidth = 5) #plt.plot(x,y)\n",
    "for i in range(input_array.shape[0]):\n",
    "    plt.plot(alphas,input_array[i],label = data.feature_names[i])\n",
    "plt.xlabel('Alpha')\n",
    "plt.ylabel('Value of Coefficients')\n",
    "#plt.tight_layout()\n",
    "plt.legend()"
   ]
  },
  {
   "cell_type": "markdown",
   "id": "d663e641",
   "metadata": {},
   "source": [
    "### 3. Bias Variance Tradeoff on Regularization.\n",
    "\n",
    "When you regularize your overfitted model, in that case the bias gets increased and the variance becomes low. "
   ]
  },
  {
   "cell_type": "code",
   "execution_count": 126,
   "id": "1f8dda6c",
   "metadata": {},
   "outputs": [
    {
     "data": {
      "image/png": "[encoded data removed]",
      "text/plain": [
       "<Figure size 432x288 with 1 Axes>"
      ]
     },
     "metadata": {
      "needs_background": "light"
     },
     "output_type": "display_data"
    }
   ],
   "source": [
    "m = 100\n",
    "x = 5 * np.random.rand(m, 1) - 2\n",
    "y = 0.7 * x ** 2 - 2 * x + 3 + np.random.randn(m, 1)\n",
    "\n",
    "plt.scatter(x, y)\n",
    "plt.show()"
   ]
  },
  {
   "cell_type": "code",
   "execution_count": 127,
   "id": "10afdd57",
   "metadata": {},
   "outputs": [
    {
     "data": {
      "image/png": "[encoded data removed]",
      "text/plain": [
       "<Figure size 720x432 with 1 Axes>"
      ]
     },
     "metadata": {
      "needs_background": "light"
     },
     "output_type": "display_data"
    }
   ],
   "source": [
    "def ridge_curves(x,y,alpha):\n",
    "    ridge_regression = Pipeline([\n",
    "        ('poly_features',PolynomialFeatures(degree = 16)),\n",
    "        ('ridge',Ridge(alpha = alpha))\n",
    "    ])\n",
    "    \n",
    "    ridge_regression.fit(x,y)\n",
    "    return ridge_regression.predict(x)\n",
    "\n",
    "\"\"\"\n",
    "Using 0 means not including regularization. Thus it will try to overfit.\n",
    "Using 200 means regularization is too small. Thus it will try to underfit.\n",
    "Using 20 is optimal for our case.\n",
    "\"\"\"\n",
    "\n",
    "\"\"\"\n",
    "say m = 2, and m2 = 4, thus multiplying with alphas gives 0,80,800, which are errors\n",
    "added to the original cost function. As 800 is way more erroneous than 80, thus having this\n",
    "will underfit the model. \n",
    "\"\"\"\n",
    "alphas = [0,20,200]  \n",
    "cs = ['r','g','b']\n",
    "\n",
    "plt.figure(figsize=(10,6))\n",
    "plt.plot(x,y,'b^',label = 'Datapoints')\n",
    "\n",
    "for alpha,c in zip(alphas,cs):\n",
    "    pred = ridge_curves(x,y,alpha)\n",
    "    plt.plot(sorted(x[:,0]),pred[np.argsort(x[:,0])],c,label = 'Alpha: {}'.format(alpha))\n",
    "    #If the data is not sorted than the graph will look disasterous.\n",
    "plt.legend()\n",
    "plt.tight_layout()\n",
    "plt.show()"
   ]
  },
  {
   "cell_type": "code",
   "execution_count": 128,
   "id": "d07df00e",
   "metadata": {},
   "outputs": [],
   "source": [
    "#!pip install mlxtend"
   ]
  },
  {
   "cell_type": "code",
   "execution_count": 129,
   "id": "26f72b23",
   "metadata": {},
   "outputs": [],
   "source": [
    "X_train,X_test,y_train,y_test = train_test_split(x.reshape(100,1),y.reshape(100),test_size=0.2,random_state=2)\n"
   ]
  },
  {
   "cell_type": "code",
   "execution_count": 130,
   "id": "2a20e100",
   "metadata": {},
   "outputs": [],
   "source": [
    "poly = PolynomialFeatures(degree=15)\n",
    "\n",
    "X_train = poly.fit_transform(X_train)\n",
    "X_test = poly.transform(X_test)"
   ]
  },
  {
   "cell_type": "markdown",
   "id": "3e1721a0",
   "metadata": {},
   "source": [
    "<b>bias_variance_decomp</b> -- This gives us the value of bias and variance for a particular value of alpha."
   ]
  },
  {
   "cell_type": "code",
   "execution_count": 135,
   "id": "a4f1839f",
   "metadata": {},
   "outputs": [],
   "source": [
    "from mlxtend.evaluate import bias_variance_decomp\n",
    "\n",
    "alphas = np.linspace(0,30,100)\n",
    "loss = []\n",
    "bias = []\n",
    "variance = []\n",
    "\n",
    "for i in alphas:\n",
    "    reg = Ridge(alpha=i)\n",
    "    avg_expected_loss, avg_bias, avg_var = bias_variance_decomp(\n",
    "        reg, X_train, y_train, X_test, y_test, \n",
    "        loss='mse',\n",
    "        random_seed=123)\n",
    "    loss.append(avg_expected_loss)\n",
    "    bias.append(avg_bias)\n",
    "    variance.append(avg_var)"
   ]
  },
  {
   "cell_type": "code",
   "execution_count": 138,
   "id": "7386b02f",
   "metadata": {},
   "outputs": [],
   "source": [
    "#print(loss)\n",
    "#print(variance)\n",
    "#print(bias)"
   ]
  },
  {
   "cell_type": "code",
   "execution_count": 137,
   "id": "898ccbf7",
   "metadata": {},
   "outputs": [
    {
     "data": {
      "image/png": "[encoded data removed]",
      "text/plain": [
       "<Figure size 432x288 with 1 Axes>"
      ]
     },
     "metadata": {
      "needs_background": "light"
     },
     "output_type": "display_data"
    }
   ],
   "source": [
    "plt.plot(alphas,loss,label='Loss')\n",
    "plt.plot(alphas,bias,label='Bias')\n",
    "plt.plot(alphas,variance,label='Variance')\n",
    "plt.ylim(0,5)\n",
    "plt.xlabel('Alpha')\n",
    "plt.ylabel('Value')\n",
    "plt.legend()\n",
    "plt.savefig('bias_variance_tradeoff_Ridge_Regression.png')"
   ]
  },
  {
   "cell_type": "markdown",
   "id": "707e9c85",
   "metadata": {},
   "source": [
    "### 4. Effect of Regularization on Loss Function\n",
    "\n",
    "When you increase the value of alpha the value of coefficient move towards 0 but not exactly to 0 in Ridge Regression"
   ]
  },
  {
   "cell_type": "code",
   "execution_count": 144,
   "id": "780888bc",
   "metadata": {},
   "outputs": [
    {
     "name": "stdout",
     "output_type": "stream",
     "text": [
      "[27.82809103]\n",
      "-2.29474455867698\n"
     ]
    },
    {
     "data": {
      "image/png": "[encoded data removed]",
      "text/plain": [
       "<Figure size 432x288 with 1 Axes>"
      ]
     },
     "metadata": {
      "needs_background": "light"
     },
     "output_type": "display_data"
    }
   ],
   "source": [
    "from sklearn.datasets import make_regression\n",
    "\n",
    "X,y = make_regression(n_samples=100, n_features=1, n_informative=1, n_targets=1,noise=20,random_state=13)\n",
    "\n",
    "plt.scatter(X,y)\n",
    "\n",
    "from sklearn.linear_model import LinearRegression\n",
    "\n",
    "reg = LinearRegression()\n",
    "reg.fit(X,y)\n",
    "print(reg.coef_)\n",
    "print(reg.intercept_)"
   ]
  },
  {
   "cell_type": "code",
   "execution_count": 145,
   "id": "b85420f5",
   "metadata": {},
   "outputs": [],
   "source": [
    "def cal_loss(m,alpha):\n",
    "    return np.sum((y - m*X.ravel() + 2.29)**2) + alpha*m*m"
   ]
  },
  {
   "cell_type": "code",
   "execution_count": 146,
   "id": "1c177b6e",
   "metadata": {},
   "outputs": [],
   "source": [
    "def predict(m):\n",
    "    return m*X - 2.29"
   ]
  },
  {
   "cell_type": "code",
   "execution_count": 147,
   "id": "fc47bfdf",
   "metadata": {},
   "outputs": [
    {
     "data": {
      "image/png": "[encoded data removed]",
      "text/plain": [
       "<Figure size 288x432 with 1 Axes>"
      ]
     },
     "metadata": {
      "needs_background": "light"
     },
     "output_type": "display_data"
    }
   ],
   "source": [
    "m = np.linspace(-45,100,100)\n",
    "plt.figure(figsize=(4,6))\n",
    "for j in [0,10,20,30,40,50,100]:\n",
    "    loss = []\n",
    "    for i in range(m.shape[0]):\n",
    "        loss_i = cal_loss(m[i],j)\n",
    "        loss.append(loss_i)\n",
    "    plt.plot(m,loss,label='alpha = {}'.format(j))\n",
    "plt.legend()\n",
    "plt.xlabel('Alpha')\n",
    "plt.ylabel('Loss')\n",
    "plt.show()"
   ]
  },
  {
   "cell_type": "code",
   "execution_count": null,
   "id": "7be355fd",
   "metadata": {},
   "outputs": [],
   "source": []
  }
 ],
 "metadata": {
  "kernelspec": {
   "display_name": "Python 3 (ipykernel)",
   "language": "python",
   "name": "python3"
  },
  "language_info": {
   "codemirror_mode": {
    "name": "ipython",
    "version": 3
   },
   "file_extension": ".py",
   "mimetype": "text/x-python",
   "name": "python",
   "nbconvert_exporter": "python",
   "pygments_lexer": "ipython3",
   "version": "3.9.12"
  }
 },
 "nbformat": 4,
 "nbformat_minor": 5
}
