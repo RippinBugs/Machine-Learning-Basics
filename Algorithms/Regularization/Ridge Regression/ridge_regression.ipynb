{
 "cells": [
  {
   "cell_type": "markdown",
   "id": "ebfd0ba4",
   "metadata": {},
   "source": [
    "Ridge regression is a regularization technique which also known as L2 regularization which adds the <b style = \"color:orange\">squared magnitude</b> of the coefficient as the penalty term to the loss function."
   ]
  },
  {
   "cell_type": "code",
   "execution_count": 33,
   "id": "44a9f11e",
   "metadata": {},
   "outputs": [],
   "source": [
    "import numpy as np\n",
    "import pandas as pd\n",
    "import matplotlib.pyplot as plt\n",
    "\n",
    "from sklearn.datasets import load_diabetes\n",
    "\n",
    "from sklearn.linear_model import LinearRegression\n",
    "from sklearn.model_selection import train_test_split\n",
    "\n",
    "from sklearn.metrics import r2_score,mean_squared_error\n",
    "\n",
    "from sklearn.linear_model import Ridge\n",
    "\n",
    "from sklearn.pipeline import Pipeline\n",
    "from sklearn.preprocessing import PolynomialFeatures"
   ]
  },
  {
   "cell_type": "code",
   "execution_count": 2,
   "id": "51d793a4",
   "metadata": {},
   "outputs": [],
   "source": [
    "data = load_diabetes()"
   ]
  },
  {
   "cell_type": "code",
   "execution_count": 8,
   "id": "cb47ed82",
   "metadata": {},
   "outputs": [
    {
     "name": "stdout",
     "output_type": "stream",
     "text": [
      ".. _diabetes_dataset:\n",
      "\n",
      "Diabetes dataset\n",
      "----------------\n",
      "\n",
      "Ten baseline variables, age, sex, body mass index, average blood\n",
      "pressure, and six blood serum measurements were obtained for each of n =\n",
      "442 diabetes patients, as well as the response of interest, a\n",
      "quantitative measure of disease progression one year after baseline.\n",
      "\n",
      "**Data Set Characteristics:**\n",
      "\n",
      "  :Number of Instances: 442\n",
      "\n",
      "  :Number of Attributes: First 10 columns are numeric predictive values\n",
      "\n",
      "  :Target: Column 11 is a quantitative measure of disease progression one year after baseline\n",
      "\n",
      "  :Attribute Information:\n",
      "      - age     age in years\n",
      "      - sex\n",
      "      - bmi     body mass index\n",
      "      - bp      average blood pressure\n",
      "      - s1      tc, total serum cholesterol\n",
      "      - s2      ldl, low-density lipoproteins\n",
      "      - s3      hdl, high-density lipoproteins\n",
      "      - s4      tch, total cholesterol / HDL\n",
      "      - s5      ltg, possibly log of serum triglycerides level\n",
      "      - s6      glu, blood sugar level\n",
      "\n",
      "Note: Each of these 10 feature variables have been mean centered and scaled by the standard deviation times `n_samples` (i.e. the sum of squares of each column totals 1).\n",
      "\n",
      "Source URL:\n",
      "https://www4.stat.ncsu.edu/~boos/var.select/diabetes.html\n",
      "\n",
      "For more information see:\n",
      "Bradley Efron, Trevor Hastie, Iain Johnstone and Robert Tibshirani (2004) \"Least Angle Regression,\" Annals of Statistics (with discussion), 407-499.\n",
      "(https://web.stanford.edu/~hastie/Papers/LARS/LeastAngle_2002.pdf)\n"
     ]
    }
   ],
   "source": [
    "print(data.DESCR)"
   ]
  },
  {
   "cell_type": "markdown",
   "id": "94c7bf30",
   "metadata": {},
   "source": [
    "<b>data is a dictionary which contains keys as data and target.</b>"
   ]
  },
  {
   "cell_type": "markdown",
   "id": "4f052aba",
   "metadata": {},
   "source": [
    "Calculating r2_score and Root Mean Squared Error on diabetes dataset by applying Linear Regression."
   ]
  },
  {
   "cell_type": "code",
   "execution_count": 11,
   "id": "7c090b4c",
   "metadata": {},
   "outputs": [],
   "source": [
    "X = data.data\n",
    "y = data.target"
   ]
  },
  {
   "cell_type": "code",
   "execution_count": 12,
   "id": "d612a4bc",
   "metadata": {},
   "outputs": [
    {
     "data": {
      "text/plain": [
       "(442, 10)"
      ]
     },
     "execution_count": 12,
     "metadata": {},
     "output_type": "execute_result"
    }
   ],
   "source": [
    "X.shape"
   ]
  },
  {
   "cell_type": "code",
   "execution_count": 13,
   "id": "690780e8",
   "metadata": {},
   "outputs": [
    {
     "data": {
      "text/plain": [
       "(442,)"
      ]
     },
     "execution_count": 13,
     "metadata": {},
     "output_type": "execute_result"
    }
   ],
   "source": [
    "y.shape"
   ]
  },
  {
   "cell_type": "code",
   "execution_count": 21,
   "id": "8e5cf3bc",
   "metadata": {},
   "outputs": [],
   "source": [
    "X_train,X_test,y_train,y_test = train_test_split(X,y,random_state=45,test_size=0.2)"
   ]
  },
  {
   "cell_type": "code",
   "execution_count": 23,
   "id": "e898ff28",
   "metadata": {},
   "outputs": [
    {
     "name": "stdout",
     "output_type": "stream",
     "text": [
      "0.5188118914964637\n",
      "48.72710829141399\n"
     ]
    }
   ],
   "source": [
    "lr = LinearRegression()\n",
    "lr.fit(X_train,y_train)\n",
    "y_pred = lr.predict(X_test)\n",
    "r2 = r2_score(y_test,y_pred)\n",
    "print(r2)\n",
    "rmse = np.sqrt(mean_squared_error(y_test,y_pred))\n",
    "print(rmse)"
   ]
  },
  {
   "cell_type": "markdown",
   "id": "4e5217b4",
   "metadata": {},
   "source": [
    "Calculating r2_score and Root Mean Squared Error on diabetes dataset by applying Ridge Regression."
   ]
  },
  {
   "cell_type": "code",
   "execution_count": 27,
   "id": "040af2e2",
   "metadata": {},
   "outputs": [],
   "source": [
    "Rid = Ridge(alpha = 0.0001)   #Hyperparameter alpha."
   ]
  },
  {
   "cell_type": "code",
   "execution_count": 28,
   "id": "913ed9a8",
   "metadata": {},
   "outputs": [
    {
     "name": "stdout",
     "output_type": "stream",
     "text": [
      "0.5189738344370791\n",
      "48.71890809371285\n"
     ]
    }
   ],
   "source": [
    "\"\"\"\n",
    "Slightly better performance than LinearRegression\n",
    "\"\"\"\n",
    "Rid.fit(X_train,y_train)\n",
    "y_pred = Rid.predict(X_test)\n",
    "print(r2_score(y_test,y_pred))\n",
    "print(np.sqrt(mean_squared_error(y_test,y_pred)))"
   ]
  },
  {
   "cell_type": "markdown",
   "id": "3fbacdf3",
   "metadata": {},
   "source": [
    "Applying Ridge Regression on generated data to see overfitting, underfitting."
   ]
  },
  {
   "cell_type": "code",
   "execution_count": 32,
   "id": "fb89bb94",
   "metadata": {},
   "outputs": [
    {
     "data": {
      "image/png": "[encoded data removed]",
      "text/plain": [
       "<Figure size 432x288 with 1 Axes>"
      ]
     },
     "metadata": {
      "needs_background": "light"
     },
     "output_type": "display_data"
    }
   ],
   "source": [
    "m = 100\n",
    "x = 5 * np.random.rand(m,1) - 2\n",
    "y = 0.7 * x**2 - 2*x + 3 + np.random.randn(m,1)\n",
    "\n",
    "plt.scatter(x,y)\n",
    "plt.show()"
   ]
  },
  {
   "cell_type": "markdown",
   "id": "9e57d952",
   "metadata": {},
   "source": [
    "<b>numpy.argsort()</b> function is used to perform an <b style= \"color:red\">indirect sort</b> along the given axis using the algorithm specified by the <b>kind</b> keyword. It returns an array of indices of the same shape as arr that would sort the array."
   ]
  },
  {
   "cell_type": "code",
   "execution_count": 44,
   "id": "fe1e6058",
   "metadata": {},
   "outputs": [
    {
     "data": {
      "image/png": "[encoded data removed]",
      "text/plain": [
       "<Figure size 720x432 with 1 Axes>"
      ]
     },
     "metadata": {
      "needs_background": "light"
     },
     "output_type": "display_data"
    }
   ],
   "source": [
    "def ridge_curves(x,y,alpha):\n",
    "    ridge_regression = Pipeline([\n",
    "        ('poly_features',PolynomialFeatures(degree = 16)),\n",
    "        ('ridge',Ridge(alpha = alpha))\n",
    "    ])\n",
    "    \n",
    "    ridge_regression.fit(x,y)\n",
    "    return ridge_regression.predict(x)\n",
    "\n",
    "\"\"\"\n",
    "Using 0 means not including regularization. Thus it will try to overfit.\n",
    "Using 200 means regularization is too small. Thus it will try to underfit.\n",
    "Using 20 is optimal for our case.\n",
    "\"\"\"\n",
    "\n",
    "\"\"\"\n",
    "say m = 2, and m2 = 4, thus multiplying with alphas gives 0,80,800, which are errors\n",
    "added to the original cost function. As 800 is way more erroneous than 80, thus having this\n",
    "will underfit the model. And for a\n",
    "\"\"\"\n",
    "alphas = [0,20,200]  \n",
    "cs = ['r','g','b']\n",
    "\n",
    "plt.figure(figsize=(10,6))\n",
    "plt.plot(x,y,'b^',label = 'Datapoints')\n",
    "\n",
    "for alpha,c in zip(alphas,cs):\n",
    "    pred = ridge_curves(x,y,alpha)\n",
    "    plt.plot(sorted(x[:,0]),pred[np.argsort(x[:,0])],c,label = 'Alpha: {}'.format(alpha))\n",
    "    #If the data is not sorted than the graph will look disasterous.\n",
    "plt.legend()\n",
    "plt.tight_layout()\n",
    "plt.show()"
   ]
  },
  {
   "cell_type": "code",
   "execution_count": 49,
   "id": "1cd16682",
   "metadata": {},
   "outputs": [
    {
     "data": {
      "text/plain": [
       "array([[-1.97845953],\n",
       "       [ 2.20855932],\n",
       "       [ 1.30292495],\n",
       "       [-0.32827992],\n",
       "       [ 0.91359632],\n",
       "       [ 1.1265565 ],\n",
       "       [-0.94477534],\n",
       "       [ 1.27913229],\n",
       "       [ 1.754405  ],\n",
       "       [ 0.87999072],\n",
       "       [ 2.72304759],\n",
       "       [-1.37316823],\n",
       "       [-1.41907595],\n",
       "       [ 1.70012096],\n",
       "       [-1.59405444],\n",
       "       [ 2.60655096],\n",
       "       [-1.18675525],\n",
       "       [ 2.1507695 ],\n",
       "       [-0.84157348],\n",
       "       [ 0.83075067],\n",
       "       [ 0.11119195],\n",
       "       [ 2.35529448],\n",
       "       [ 0.31169794],\n",
       "       [ 1.00018466],\n",
       "       [ 1.99342513],\n",
       "       [-1.52840304],\n",
       "       [-0.23305502],\n",
       "       [-0.63317427],\n",
       "       [-0.95511117],\n",
       "       [ 0.8296442 ],\n",
       "       [-1.22603488],\n",
       "       [-1.75840285],\n",
       "       [ 2.69200541],\n",
       "       [ 1.05702   ],\n",
       "       [ 0.39309755],\n",
       "       [ 2.85579272],\n",
       "       [ 0.69522992],\n",
       "       [ 1.15249578],\n",
       "       [-1.89929158],\n",
       "       [ 0.79471467],\n",
       "       [ 2.34400756],\n",
       "       [-0.64042435],\n",
       "       [ 0.8932446 ],\n",
       "       [ 0.17846138],\n",
       "       [ 1.21445169],\n",
       "       [ 2.91517616],\n",
       "       [ 0.25667999],\n",
       "       [ 1.91343283],\n",
       "       [-0.32343077],\n",
       "       [ 0.45631904],\n",
       "       [ 2.14611011],\n",
       "       [ 1.55966087],\n",
       "       [-1.39735219],\n",
       "       [-0.39288252],\n",
       "       [ 1.02922399],\n",
       "       [-1.70274108],\n",
       "       [-1.79309527],\n",
       "       [ 2.78710177],\n",
       "       [ 2.05508109],\n",
       "       [ 1.72381489],\n",
       "       [ 2.03285578],\n",
       "       [-0.29004576],\n",
       "       [ 0.34258282],\n",
       "       [ 2.08747921],\n",
       "       [ 1.48707368],\n",
       "       [ 2.27459   ],\n",
       "       [ 0.06006115],\n",
       "       [ 0.9074731 ],\n",
       "       [ 1.69178495],\n",
       "       [ 0.70446333],\n",
       "       [-1.09372682],\n",
       "       [ 0.50227839],\n",
       "       [ 2.48578797],\n",
       "       [ 1.904845  ],\n",
       "       [-1.77098048],\n",
       "       [ 2.34026377],\n",
       "       [ 1.21075409],\n",
       "       [ 0.44791903],\n",
       "       [ 0.75848866],\n",
       "       [ 0.65418433],\n",
       "       [-1.54152867],\n",
       "       [-1.97995685],\n",
       "       [ 1.3981627 ],\n",
       "       [ 0.53364951],\n",
       "       [ 0.57659107],\n",
       "       [ 2.82132157],\n",
       "       [ 1.59527074],\n",
       "       [ 0.70725897],\n",
       "       [-1.93599003],\n",
       "       [ 2.10873372],\n",
       "       [ 0.66480262],\n",
       "       [-1.37098348],\n",
       "       [ 2.97342813],\n",
       "       [-1.95935722],\n",
       "       [ 0.4852837 ],\n",
       "       [-1.38955029],\n",
       "       [ 0.73342168],\n",
       "       [ 2.44195609],\n",
       "       [-0.90322506],\n",
       "       [ 0.44950104]])"
      ]
     },
     "execution_count": 49,
     "metadata": {},
     "output_type": "execute_result"
    }
   ],
   "source": []
  },
  {
   "cell_type": "code",
   "execution_count": 48,
   "id": "4b167065",
   "metadata": {},
   "outputs": [
    {
     "data": {
      "text/plain": [
       "array([81,  0, 93, 88, 38, 56, 74, 31, 55, 14, 80, 25, 12, 52, 95, 11, 91,\n",
       "       30, 16, 70, 28,  6, 98, 18, 41, 27, 53,  3, 48, 61, 26, 66, 20, 43,\n",
       "       46, 22, 62, 34, 77, 99, 49, 94, 71, 83, 84, 79, 90, 36, 69, 87, 96,\n",
       "       78, 39, 29, 19,  9, 42, 67,  4, 23, 54, 33,  5, 37, 76, 44,  7,  2,\n",
       "       82, 64, 51, 86, 68, 13, 59,  8, 73, 47, 24, 60, 58, 63, 89, 50, 17,\n",
       "        1, 65, 75, 40, 21, 97, 72, 15, 32, 10, 57, 85, 35, 45, 92],\n",
       "      dtype=int64)"
      ]
     },
     "execution_count": 48,
     "metadata": {},
     "output_type": "execute_result"
    }
   ],
   "source": [
    "np.argsort(x[:,0])"
   ]
  },
  {
   "cell_type": "code",
   "execution_count": null,
   "id": "75560a7f",
   "metadata": {},
   "outputs": [],
   "source": []
  }
 ],
 "metadata": {
  "kernelspec": {
   "display_name": "Python 3 (ipykernel)",
   "language": "python",
   "name": "python3"
  },
  "language_info": {
   "codemirror_mode": {
    "name": "ipython",
    "version": 3
   },
   "file_extension": ".py",
   "mimetype": "text/x-python",
   "name": "python",
   "nbconvert_exporter": "python",
   "pygments_lexer": "ipython3",
   "version": "3.9.12"
  }
 },
 "nbformat": 4,
 "nbformat_minor": 5
}
