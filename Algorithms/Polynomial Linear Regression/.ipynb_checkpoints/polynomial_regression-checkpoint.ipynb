{
 "cells": [
  {
   "cell_type": "code",
   "execution_count": 1,
   "id": "20f4e64e",
   "metadata": {},
   "outputs": [],
   "source": [
    "import numpy as np\n",
    "import matplotlib.pyplot as plt\n",
    "\n",
    "from sklearn.model_selection import train_test_split\n",
    "from sklearn.linear_model import LinearRegression, SGDRegressor\n",
    "from sklearn.preprocessing import PolynomialFeatures, StandardScaler\n",
    "\n",
    "from sklearn.metrics import r2_score\n",
    "from sklearn.pipeline import Pipeline"
   ]
  },
  {
   "cell_type": "markdown",
   "id": "6005fb83",
   "metadata": {},
   "source": [
    "Generated data for our model."
   ]
  },
  {
   "cell_type": "code",
   "execution_count": 2,
   "id": "70b79c9f",
   "metadata": {},
   "outputs": [],
   "source": [
    "X = 6 * np.random.rand(200,1) - 3\n",
    "y = 0.8 * X**2 + 0.9 * X + 2 + np.random.randn(200,1)  #random noise added at the last\n",
    "\n",
    "#y = 0.8x^2 + 0.9x + 2  #polynomial equation of degree 2"
   ]
  },
  {
   "cell_type": "code",
   "execution_count": 3,
   "id": "c162533c",
   "metadata": {},
   "outputs": [
    {
     "data": {
      "image/png": "[encoded data removed]",
      "text/plain": [
       "<Figure size 432x288 with 1 Axes>"
      ]
     },
     "metadata": {
      "needs_background": "light"
     },
     "output_type": "display_data"
    }
   ],
   "source": [
    "plt.plot(X,y,'b.')\n",
    "plt.xlabel('X')\n",
    "plt.ylabel('y')\n",
    "plt.show()"
   ]
  },
  {
   "cell_type": "markdown",
   "id": "89c704d6",
   "metadata": {},
   "source": [
    "Our task is now to find out the intercept and coefficients using polynomial regression"
   ]
  },
  {
   "cell_type": "code",
   "execution_count": 4,
   "id": "b4b8f690",
   "metadata": {},
   "outputs": [],
   "source": [
    "X_train,X_test,y_train,y_test = train_test_split(X,y,test_size=0.2,random_state=42)"
   ]
  },
  {
   "cell_type": "code",
   "execution_count": 91,
   "id": "7cdc4286",
   "metadata": {},
   "outputs": [
    {
     "name": "stdout",
     "output_type": "stream",
     "text": [
      "[[0.83108782]]\n",
      "[4.77255091]\n"
     ]
    }
   ],
   "source": [
    "reg = LinearRegression()\n",
    "reg.fit(X_train,y_train)\n",
    "print(reg.coef_)\n",
    "print(reg.intercept_)\n",
    "y_pred = reg.predict(X_test)"
   ]
  },
  {
   "cell_type": "code",
   "execution_count": 6,
   "id": "5dddc0f0",
   "metadata": {},
   "outputs": [
    {
     "data": {
      "text/plain": [
       "0.14711924398478282"
      ]
     },
     "execution_count": 6,
     "metadata": {},
     "output_type": "execute_result"
    }
   ],
   "source": [
    "r2 = r2_score(y_test,y_pred)\n",
    "r2"
   ]
  },
  {
   "cell_type": "code",
   "execution_count": 7,
   "id": "2855259b",
   "metadata": {},
   "outputs": [
    {
     "data": {
      "image/png": "[encoded data removed]",
      "text/plain": [
       "<Figure size 432x288 with 1 Axes>"
      ]
     },
     "metadata": {
      "needs_background": "light"
     },
     "output_type": "display_data"
    }
   ],
   "source": [
    "plt.scatter(X,y,s = 15)\n",
    "plt.plot(X_test,y_pred,c='r')\n",
    "plt.xlabel('X')\n",
    "plt.ylabel('y')\n",
    "plt.show()"
   ]
  },
  {
   "cell_type": "markdown",
   "id": "680176e8",
   "metadata": {},
   "source": [
    "Applying Polynomial regression for degree 2"
   ]
  },
  {
   "cell_type": "code",
   "execution_count": 67,
   "id": "2959b050",
   "metadata": {},
   "outputs": [],
   "source": [
    "\"\"\"\n",
    "You apply this PolynomialFeature on input data but not on the output data. But you have to perfomr transformation\n",
    "on both the training and testing data.\n",
    "\"\"\"\n",
    "#include_bias means the intercept term. based on the boolean value you either include it or exclude it from the data.\n",
    "poly = PolynomialFeatures(degree = 2,include_bias = True)\n",
    "\n",
    "X_train_trans = poly.fit_transform(X_train)\n",
    "X_test_trans = poly.transform(X_test)"
   ]
  },
  {
   "cell_type": "code",
   "execution_count": 68,
   "id": "7291c2f7",
   "metadata": {},
   "outputs": [
    {
     "name": "stdout",
     "output_type": "stream",
     "text": [
      "[-0.06354206]\n",
      "[ 1.         -0.06354206  0.00403759]\n"
     ]
    }
   ],
   "source": [
    "print(X_train[0])\n",
    "print(X_train_trans[0])"
   ]
  },
  {
   "cell_type": "code",
   "execution_count": 70,
   "id": "1a764ba1",
   "metadata": {},
   "outputs": [
    {
     "name": "stdout",
     "output_type": "stream",
     "text": [
      "[[0.         0.87362406 0.80272141]]\n",
      "[1.84191561]\n"
     ]
    }
   ],
   "source": [
    "reg = LinearRegression()\n",
    "reg.fit(X_train_trans,y_train)\n",
    "y_pred = reg.predict(X_test_trans)\n",
    "print(reg.coef_)\n",
    "print(reg.intercept_)"
   ]
  },
  {
   "cell_type": "code",
   "execution_count": 75,
   "id": "74f11043",
   "metadata": {},
   "outputs": [
    {
     "data": {
      "text/plain": [
       "0.9212807355054455"
      ]
     },
     "execution_count": 75,
     "metadata": {},
     "output_type": "execute_result"
    }
   ],
   "source": [
    "r2 = r2_score(y_test,y_pred)\n",
    "r2"
   ]
  },
  {
   "cell_type": "code",
   "execution_count": 78,
   "id": "7371e61b",
   "metadata": {},
   "outputs": [],
   "source": [
    "X_new = np.linspace(-3,3,200).reshape(200,1)\n",
    "X_new_poly = poly.transform(X_new)\n",
    "y_new = reg.predict(X_new_poly)"
   ]
  },
  {
   "cell_type": "code",
   "execution_count": 89,
   "id": "c3b225d9",
   "metadata": {},
   "outputs": [
    {
     "data": {
      "image/png": "[encoded data removed]",
      "text/plain": [
       "<Figure size 432x288 with 1 Axes>"
      ]
     },
     "metadata": {
      "needs_background": "light"
     },
     "output_type": "display_data"
    }
   ],
   "source": [
    "plt.plot(X_new,y_new,'b-',linewidth = 2,label = 'Prediction')\n",
    "plt.plot(X_train,y_train,'r.',label = 'Training points')\n",
    "plt.plot(X_test,y_test,'g.',label = 'Testing points')\n",
    "plt.xlabel('X')\n",
    "plt.ylabel('y')\n",
    "plt.legend()\n",
    "plt.tight_layout()\n",
    "plt.show()"
   ]
  },
  {
   "cell_type": "code",
   "execution_count": 22,
   "id": "35d64b7f",
   "metadata": {},
   "outputs": [],
   "source": [
    "def polynomial_regression(degree):\n",
    "    poly_features =  PolynomialFeatures(degree = degree,include_bias = True)\n",
    "    X_train_trans = poly_features.fit_transform(X_train)\n",
    "    X_test_trans = poly_features.transform(X_test)\n",
    "    \n",
    "    X_new = np.linspace(-3,3,100).reshape(100,1)\n",
    "    X_new_trans= poly_features.transform(X_new)\n",
    "    print(X_new_trans[0])\n",
    "    \n",
    "    std_scalar = StandardScaler()\n",
    "    lin_reg = LinearRegression()\n",
    "    \n",
    "    polynomial_regression = Pipeline([\n",
    "        (\"poly_features\",poly_features),\n",
    "        (\"std_scalar\",std_scalar),\n",
    "        (\"lin_reg\",lin_reg),\n",
    "    ])\n",
    "    \n",
    "    polynomial_regression.fit(X_train,y_train)\n",
    "    print(lin_reg.coef_)\n",
    "    print(lin_reg.intercept_)\n",
    "    \n",
    "    \n",
    "    y_new = polynomial_regression.predict(X_new_trans)\n",
    "    \n",
    "    plt.plot(X_new,y_new,'b-',label = \"Degree\" + str(degree),linewidth = 2)\n",
    "    plt.plot(X_train,y_train,'r.',label = 'Training points')\n",
    "    plt.plot(X_test,y_test,'g.',label = 'Testing points')\n",
    "    plt.xlabel('X')\n",
    "    plt.ylabel('y')\n",
    "    plt.axis([-3,3,0,10])\n",
    "    plt.legend()\n",
    "    plt.tight_layout()\n",
    "    plt.show()"
   ]
  },
  {
   "cell_type": "code",
   "execution_count": 23,
   "id": "463a0d35",
   "metadata": {},
   "outputs": [
    {
     "name": "stdout",
     "output_type": "stream",
     "text": [
      "[  1.  -3.   9. -27.]\n",
      "[[0.         1.50771286 2.22434514 0.0834477 ]]\n",
      "[4.47880203]\n"
     ]
    },
    {
     "ename": "TypeError",
     "evalue": "predict() missing 1 required positional argument: 'X'",
     "output_type": "error",
     "traceback": [
      "\u001b[1;31m---------------------------------------------------------------------------\u001b[0m",
      "\u001b[1;31mTypeError\u001b[0m                                 Traceback (most recent call last)",
      "Input \u001b[1;32mIn [23]\u001b[0m, in \u001b[0;36m<cell line: 1>\u001b[1;34m()\u001b[0m\n\u001b[1;32m----> 1\u001b[0m \u001b[43mpolynomial_regression\u001b[49m\u001b[43m(\u001b[49m\u001b[38;5;241;43m3\u001b[39;49m\u001b[43m)\u001b[49m\n",
      "Input \u001b[1;32mIn [22]\u001b[0m, in \u001b[0;36mpolynomial_regression\u001b[1;34m(degree)\u001b[0m\n\u001b[0;32m     19\u001b[0m \u001b[38;5;28mprint\u001b[39m(lin_reg\u001b[38;5;241m.\u001b[39mcoef_)\n\u001b[0;32m     20\u001b[0m \u001b[38;5;28mprint\u001b[39m(lin_reg\u001b[38;5;241m.\u001b[39mintercept_)\n\u001b[1;32m---> 23\u001b[0m y_new \u001b[38;5;241m=\u001b[39m \u001b[43mpolynomial_regression\u001b[49m\u001b[38;5;241;43m.\u001b[39;49m\u001b[43mpredict\u001b[49m\u001b[43m(\u001b[49m\u001b[43mx\u001b[49m\u001b[43m \u001b[49m\u001b[38;5;241;43m=\u001b[39;49m\u001b[43m \u001b[49m\u001b[43mX_new_trans\u001b[49m\u001b[43m)\u001b[49m\n\u001b[0;32m     25\u001b[0m plt\u001b[38;5;241m.\u001b[39mplot(X_new,y_new,\u001b[38;5;124m'\u001b[39m\u001b[38;5;124mb-\u001b[39m\u001b[38;5;124m'\u001b[39m,label \u001b[38;5;241m=\u001b[39m \u001b[38;5;124m\"\u001b[39m\u001b[38;5;124mDegree\u001b[39m\u001b[38;5;124m\"\u001b[39m \u001b[38;5;241m+\u001b[39m \u001b[38;5;28mstr\u001b[39m(degree),linewidth \u001b[38;5;241m=\u001b[39m \u001b[38;5;241m2\u001b[39m)\n\u001b[0;32m     26\u001b[0m plt\u001b[38;5;241m.\u001b[39mplot(X_train,y_train,\u001b[38;5;124m'\u001b[39m\u001b[38;5;124mr.\u001b[39m\u001b[38;5;124m'\u001b[39m,label \u001b[38;5;241m=\u001b[39m \u001b[38;5;124m'\u001b[39m\u001b[38;5;124mTraining points\u001b[39m\u001b[38;5;124m'\u001b[39m)\n",
      "File \u001b[1;32m~\\anaconda3\\lib\\site-packages\\sklearn\\utils\\metaestimators.py:113\u001b[0m, in \u001b[0;36m_AvailableIfDescriptor.__get__.<locals>.<lambda>\u001b[1;34m(*args, **kwargs)\u001b[0m\n\u001b[0;32m    110\u001b[0m         \u001b[38;5;28;01mraise\u001b[39;00m attr_err\n\u001b[0;32m    112\u001b[0m     \u001b[38;5;66;03m# lambda, but not partial, allows help() to work with update_wrapper\u001b[39;00m\n\u001b[1;32m--> 113\u001b[0m     out \u001b[38;5;241m=\u001b[39m \u001b[38;5;28;01mlambda\u001b[39;00m \u001b[38;5;241m*\u001b[39margs, \u001b[38;5;241m*\u001b[39m\u001b[38;5;241m*\u001b[39mkwargs: \u001b[38;5;28mself\u001b[39m\u001b[38;5;241m.\u001b[39mfn(obj, \u001b[38;5;241m*\u001b[39margs, \u001b[38;5;241m*\u001b[39m\u001b[38;5;241m*\u001b[39mkwargs)  \u001b[38;5;66;03m# noqa\u001b[39;00m\n\u001b[0;32m    114\u001b[0m \u001b[38;5;28;01melse\u001b[39;00m:\n\u001b[0;32m    116\u001b[0m     \u001b[38;5;28;01mdef\u001b[39;00m \u001b[38;5;21mfn\u001b[39m(\u001b[38;5;241m*\u001b[39margs, \u001b[38;5;241m*\u001b[39m\u001b[38;5;241m*\u001b[39mkwargs):\n",
      "\u001b[1;31mTypeError\u001b[0m: predict() missing 1 required positional argument: 'X'"
     ]
    }
   ],
   "source": [
    "polynomial_regression(3)"
   ]
  },
  {
   "cell_type": "code",
   "execution_count": 7,
   "id": "f22ce8bb",
   "metadata": {},
   "outputs": [
    {
     "ename": "AttributeError",
     "evalue": "'function' object has no attribute 'transform'",
     "output_type": "error",
     "traceback": [
      "\u001b[1;31m---------------------------------------------------------------------------\u001b[0m",
      "\u001b[1;31mAttributeError\u001b[0m                            Traceback (most recent call last)",
      "Input \u001b[1;32mIn [7]\u001b[0m, in \u001b[0;36m<cell line: 1>\u001b[1;34m()\u001b[0m\n\u001b[1;32m----> 1\u001b[0m X_test_trans \u001b[38;5;241m=\u001b[39m \u001b[43mpolynomial_regression\u001b[49m\u001b[38;5;241;43m.\u001b[39;49m\u001b[43mtransform\u001b[49m(X_test)\n",
      "\u001b[1;31mAttributeError\u001b[0m: 'function' object has no attribute 'transform'"
     ]
    }
   ],
   "source": [
    "X_test_trans = polynomial_regression.transform(X_test)"
   ]
  },
  {
   "cell_type": "code",
   "execution_count": 24,
   "id": "a68d2223",
   "metadata": {},
   "outputs": [],
   "source": [
    "X_new = np.linspace(-3,3,100).reshape(100,1)"
   ]
  },
  {
   "cell_type": "code",
   "execution_count": 25,
   "id": "2c46db8e",
   "metadata": {},
   "outputs": [
    {
     "data": {
      "text/plain": [
       "array([[-3.        ],\n",
       "       [-2.93939394],\n",
       "       [-2.87878788],\n",
       "       [-2.81818182],\n",
       "       [-2.75757576],\n",
       "       [-2.6969697 ],\n",
       "       [-2.63636364],\n",
       "       [-2.57575758],\n",
       "       [-2.51515152],\n",
       "       [-2.45454545],\n",
       "       [-2.39393939],\n",
       "       [-2.33333333],\n",
       "       [-2.27272727],\n",
       "       [-2.21212121],\n",
       "       [-2.15151515],\n",
       "       [-2.09090909],\n",
       "       [-2.03030303],\n",
       "       [-1.96969697],\n",
       "       [-1.90909091],\n",
       "       [-1.84848485],\n",
       "       [-1.78787879],\n",
       "       [-1.72727273],\n",
       "       [-1.66666667],\n",
       "       [-1.60606061],\n",
       "       [-1.54545455],\n",
       "       [-1.48484848],\n",
       "       [-1.42424242],\n",
       "       [-1.36363636],\n",
       "       [-1.3030303 ],\n",
       "       [-1.24242424],\n",
       "       [-1.18181818],\n",
       "       [-1.12121212],\n",
       "       [-1.06060606],\n",
       "       [-1.        ],\n",
       "       [-0.93939394],\n",
       "       [-0.87878788],\n",
       "       [-0.81818182],\n",
       "       [-0.75757576],\n",
       "       [-0.6969697 ],\n",
       "       [-0.63636364],\n",
       "       [-0.57575758],\n",
       "       [-0.51515152],\n",
       "       [-0.45454545],\n",
       "       [-0.39393939],\n",
       "       [-0.33333333],\n",
       "       [-0.27272727],\n",
       "       [-0.21212121],\n",
       "       [-0.15151515],\n",
       "       [-0.09090909],\n",
       "       [-0.03030303],\n",
       "       [ 0.03030303],\n",
       "       [ 0.09090909],\n",
       "       [ 0.15151515],\n",
       "       [ 0.21212121],\n",
       "       [ 0.27272727],\n",
       "       [ 0.33333333],\n",
       "       [ 0.39393939],\n",
       "       [ 0.45454545],\n",
       "       [ 0.51515152],\n",
       "       [ 0.57575758],\n",
       "       [ 0.63636364],\n",
       "       [ 0.6969697 ],\n",
       "       [ 0.75757576],\n",
       "       [ 0.81818182],\n",
       "       [ 0.87878788],\n",
       "       [ 0.93939394],\n",
       "       [ 1.        ],\n",
       "       [ 1.06060606],\n",
       "       [ 1.12121212],\n",
       "       [ 1.18181818],\n",
       "       [ 1.24242424],\n",
       "       [ 1.3030303 ],\n",
       "       [ 1.36363636],\n",
       "       [ 1.42424242],\n",
       "       [ 1.48484848],\n",
       "       [ 1.54545455],\n",
       "       [ 1.60606061],\n",
       "       [ 1.66666667],\n",
       "       [ 1.72727273],\n",
       "       [ 1.78787879],\n",
       "       [ 1.84848485],\n",
       "       [ 1.90909091],\n",
       "       [ 1.96969697],\n",
       "       [ 2.03030303],\n",
       "       [ 2.09090909],\n",
       "       [ 2.15151515],\n",
       "       [ 2.21212121],\n",
       "       [ 2.27272727],\n",
       "       [ 2.33333333],\n",
       "       [ 2.39393939],\n",
       "       [ 2.45454545],\n",
       "       [ 2.51515152],\n",
       "       [ 2.57575758],\n",
       "       [ 2.63636364],\n",
       "       [ 2.6969697 ],\n",
       "       [ 2.75757576],\n",
       "       [ 2.81818182],\n",
       "       [ 2.87878788],\n",
       "       [ 2.93939394],\n",
       "       [ 3.        ]])"
      ]
     },
     "execution_count": 25,
     "metadata": {},
     "output_type": "execute_result"
    }
   ],
   "source": [
    "X_new"
   ]
  },
  {
   "cell_type": "code",
   "execution_count": null,
   "id": "c38f4e5f",
   "metadata": {},
   "outputs": [],
   "source": []
  }
 ],
 "metadata": {
  "kernelspec": {
   "display_name": "Python 3 (ipykernel)",
   "language": "python",
   "name": "python3"
  },
  "language_info": {
   "codemirror_mode": {
    "name": "ipython",
    "version": 3
   },
   "file_extension": ".py",
   "mimetype": "text/x-python",
   "name": "python",
   "nbconvert_exporter": "python",
   "pygments_lexer": "ipython3",
   "version": "3.9.12"
  }
 },
 "nbformat": 4,
 "nbformat_minor": 5
}
