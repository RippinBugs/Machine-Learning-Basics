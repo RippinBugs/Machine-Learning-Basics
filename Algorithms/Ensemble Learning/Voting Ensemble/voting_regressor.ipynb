{
 "cells": [
  {
   "cell_type": "code",
   "execution_count": 1,
   "id": "c25c5c17",
   "metadata": {},
   "outputs": [],
   "source": [
    "import numpy as np\n",
    "import pandas as pd\n",
    "import matplotlib.pyplot as plt\n",
    "\n",
    "from sklearn.datasets import load_boston"
   ]
  },
  {
   "cell_type": "code",
   "execution_count": 3,
   "id": "ea1e2597",
   "metadata": {},
   "outputs": [],
   "source": [
    "X,y = load_boston(return_X_y=True)"
   ]
  },
  {
   "cell_type": "code",
   "execution_count": 4,
   "id": "5269f76a",
   "metadata": {},
   "outputs": [
    {
     "data": {
      "text/plain": [
       "(506, 13)"
      ]
     },
     "execution_count": 4,
     "metadata": {},
     "output_type": "execute_result"
    }
   ],
   "source": [
    "X.shape"
   ]
  },
  {
   "cell_type": "code",
   "execution_count": 5,
   "id": "cf0afd03",
   "metadata": {},
   "outputs": [
    {
     "data": {
      "text/plain": [
       "(506,)"
      ]
     },
     "execution_count": 5,
     "metadata": {},
     "output_type": "execute_result"
    }
   ],
   "source": [
    "y.shape"
   ]
  },
  {
   "cell_type": "code",
   "execution_count": 6,
   "id": "0b13e55c",
   "metadata": {},
   "outputs": [
    {
     "data": {
      "text/plain": [
       "array([[6.3200e-03, 1.8000e+01, 2.3100e+00, ..., 1.5300e+01, 3.9690e+02,\n",
       "        4.9800e+00],\n",
       "       [2.7310e-02, 0.0000e+00, 7.0700e+00, ..., 1.7800e+01, 3.9690e+02,\n",
       "        9.1400e+00],\n",
       "       [2.7290e-02, 0.0000e+00, 7.0700e+00, ..., 1.7800e+01, 3.9283e+02,\n",
       "        4.0300e+00],\n",
       "       ...,\n",
       "       [6.0760e-02, 0.0000e+00, 1.1930e+01, ..., 2.1000e+01, 3.9690e+02,\n",
       "        5.6400e+00],\n",
       "       [1.0959e-01, 0.0000e+00, 1.1930e+01, ..., 2.1000e+01, 3.9345e+02,\n",
       "        6.4800e+00],\n",
       "       [4.7410e-02, 0.0000e+00, 1.1930e+01, ..., 2.1000e+01, 3.9690e+02,\n",
       "        7.8800e+00]])"
      ]
     },
     "execution_count": 6,
     "metadata": {},
     "output_type": "execute_result"
    }
   ],
   "source": [
    "X"
   ]
  },
  {
   "cell_type": "markdown",
   "id": "5c1e4c03",
   "metadata": {},
   "source": [
    "### Using Different Algorithms"
   ]
  },
  {
   "cell_type": "code",
   "execution_count": 12,
   "id": "a345d1fc",
   "metadata": {},
   "outputs": [],
   "source": [
    "from sklearn.model_selection import cross_val_score\n",
    "from sklearn.linear_model import LinearRegression\n",
    "from sklearn.svm import SVR\n",
    "from sklearn.tree import DecisionTreeRegressor\n",
    "from sklearn.ensemble import VotingRegressor"
   ]
  },
  {
   "cell_type": "code",
   "execution_count": 9,
   "id": "2bd348e3",
   "metadata": {},
   "outputs": [],
   "source": [
    "lr = LinearRegression()\n",
    "dt = DecisionTreeRegressor()\n",
    "svr = SVR()"
   ]
  },
  {
   "cell_type": "code",
   "execution_count": 10,
   "id": "fca7e593",
   "metadata": {},
   "outputs": [],
   "source": [
    "estimators = [('lr',lr),('dt',dt),('svr',svr)]"
   ]
  },
  {
   "cell_type": "code",
   "execution_count": 11,
   "id": "fb487b48",
   "metadata": {},
   "outputs": [
    {
     "name": "stdout",
     "output_type": "stream",
     "text": [
      "lr 0.2\n",
      "dt -0.17\n",
      "svr -0.41\n"
     ]
    }
   ],
   "source": [
    "for estimator in estimators:\n",
    "    scores = cross_val_score(estimator[1],X,y,cv = 10,scoring='r2')\n",
    "    print(estimator[0],np.round(np.mean(scores),2))"
   ]
  },
  {
   "cell_type": "code",
   "execution_count": 16,
   "id": "d983231a",
   "metadata": {},
   "outputs": [
    {
     "name": "stdout",
     "output_type": "stream",
     "text": [
      "Voting Regressor:  0.44\n"
     ]
    }
   ],
   "source": [
    "voting_reg = VotingRegressor(estimators=estimators)\n",
    "scores = cross_val_score(voting_reg,X,y,cv=10,scoring= 'r2')\n",
    "print(\"Voting Regressor: \",np.round(np.mean(scores),2))"
   ]
  },
  {
   "cell_type": "code",
   "execution_count": 22,
   "id": "90133171",
   "metadata": {},
   "outputs": [
    {
     "name": "stdout",
     "output_type": "stream",
     "text": [
      "For i = 1, j = 1, k = 1 0.44\n",
      "For i = 1, j = 1, k = 2 0.37\n",
      "For i = 1, j = 1, k = 3 0.26\n",
      "For i = 1, j = 2, k = 1 0.42\n",
      "For i = 1, j = 2, k = 2 0.39\n",
      "For i = 1, j = 2, k = 3 0.33\n",
      "For i = 1, j = 3, k = 1 0.36\n",
      "For i = 1, j = 3, k = 2 0.38\n",
      "For i = 1, j = 3, k = 3 0.36\n",
      "For i = 2, j = 1, k = 1 0.45\n",
      "For i = 2, j = 1, k = 2 0.42\n",
      "For i = 2, j = 1, k = 3 0.35\n",
      "For i = 2, j = 2, k = 1 0.4\n",
      "For i = 2, j = 2, k = 2 0.45\n",
      "For i = 2, j = 2, k = 3 0.41\n",
      "For i = 2, j = 3, k = 1 0.43\n",
      "For i = 2, j = 3, k = 2 0.43\n",
      "For i = 2, j = 3, k = 3 0.44\n",
      "For i = 3, j = 1, k = 1 0.41\n",
      "For i = 3, j = 1, k = 2 0.4\n",
      "For i = 3, j = 1, k = 3 0.4\n",
      "For i = 3, j = 2, k = 1 0.44\n",
      "For i = 3, j = 2, k = 2 0.46\n",
      "For i = 3, j = 2, k = 3 0.4\n",
      "For i = 3, j = 3, k = 1 0.42\n",
      "For i = 3, j = 3, k = 2 0.47\n",
      "For i = 3, j = 3, k = 3 0.39\n"
     ]
    }
   ],
   "source": [
    "for i in range(1,4):\n",
    "    for j in range(1,4):\n",
    "        for k in range(1,4):\n",
    "            voting_reg = VotingRegressor(estimators = estimators,weights=[i,j,k])\n",
    "            x = cross_val_score(voting_reg,X,y,cv = 10,scoring='r2')\n",
    "            print(\"For i = {}, j = {}, k = {}\".format(i,j,k),np.round(np.mean(x),2))"
   ]
  },
  {
   "cell_type": "markdown",
   "id": "9e145910",
   "metadata": {},
   "source": [
    "### Using same Algorithm"
   ]
  },
  {
   "cell_type": "code",
   "execution_count": 23,
   "id": "a594695b",
   "metadata": {},
   "outputs": [],
   "source": [
    "dt1 = DecisionTreeRegressor(max_depth=1)\n",
    "dt2 = DecisionTreeRegressor(max_depth=3)\n",
    "dt3 = DecisionTreeRegressor(max_depth=5)\n",
    "dt4 = DecisionTreeRegressor(max_depth=7)\n",
    "dt5 = DecisionTreeRegressor(max_depth=None)"
   ]
  },
  {
   "cell_type": "code",
   "execution_count": 24,
   "id": "7360c097",
   "metadata": {},
   "outputs": [],
   "source": [
    "estimators = [('dt1',dt1),('dt2',dt2),('dt3',dt3),('dt4',dt4),('dt5',dt5)]"
   ]
  },
  {
   "cell_type": "code",
   "execution_count": 27,
   "id": "dfb40316",
   "metadata": {},
   "outputs": [
    {
     "name": "stdout",
     "output_type": "stream",
     "text": [
      "dt1 -0.85\n",
      "dt2 -0.13\n",
      "dt3 0.07\n",
      "dt4 -0.08\n",
      "dt5 -0.18\n"
     ]
    }
   ],
   "source": [
    "for estimator in estimators:\n",
    "    scores = cross_val_score(estimator[1],X,y,cv = 10,scoring='r2')\n",
    "    print(estimator[0],np.round(np.mean(scores),2))"
   ]
  },
  {
   "cell_type": "code",
   "execution_count": 26,
   "id": "c91236fa",
   "metadata": {},
   "outputs": [
    {
     "name": "stdout",
     "output_type": "stream",
     "text": [
      "0.17\n"
     ]
    }
   ],
   "source": [
    "voting_reg = VotingRegressor(estimators=estimators)\n",
    "scores = cross_val_score(voting_reg,X,y,scoring='r2',cv = 10)\n",
    "print(np.round(np.mean(scores),2))"
   ]
  },
  {
   "cell_type": "code",
   "execution_count": null,
   "id": "87623eac",
   "metadata": {},
   "outputs": [],
   "source": []
  }
 ],
 "metadata": {
  "kernelspec": {
   "display_name": "Python 3 (ipykernel)",
   "language": "python",
   "name": "python3"
  },
  "language_info": {
   "codemirror_mode": {
    "name": "ipython",
    "version": 3
   },
   "file_extension": ".py",
   "mimetype": "text/x-python",
   "name": "python",
   "nbconvert_exporter": "python",
   "pygments_lexer": "ipython3",
   "version": "3.9.12"
  }
 },
 "nbformat": 4,
 "nbformat_minor": 5
}
