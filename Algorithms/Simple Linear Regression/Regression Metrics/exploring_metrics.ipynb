{
 "cells": [
  {
   "cell_type": "markdown",
   "id": "b536150e",
   "metadata": {},
   "source": [
    "### <b style = color:purple>Regression Metrics</b> \n",
    "\n",
    "We use some metrics for the validation of our model. For Regression based models we normally use MAE, MSE, RMSE, R2 Score, Adjusted Score."
   ]
  },
  {
   "cell_type": "code",
   "execution_count": 1,
   "id": "99991423",
   "metadata": {},
   "outputs": [],
   "source": [
    "import numpy as np\n",
    "import pandas as pd\n",
    "import matplotlib.pyplot as plt"
   ]
  },
  {
   "cell_type": "code",
   "execution_count": 2,
   "id": "354f627a",
   "metadata": {},
   "outputs": [],
   "source": [
    "df = pd.read_csv('placement.csv')"
   ]
  },
  {
   "cell_type": "code",
   "execution_count": 3,
   "id": "1ce8db7e",
   "metadata": {},
   "outputs": [
    {
     "data": {
      "text/html": [
       "<div>\n",
       "<style scoped>\n",
       "    .dataframe tbody tr th:only-of-type {\n",
       "        vertical-align: middle;\n",
       "    }\n",
       "\n",
       "    .dataframe tbody tr th {\n",
       "        vertical-align: top;\n",
       "    }\n",
       "\n",
       "    .dataframe thead th {\n",
       "        text-align: right;\n",
       "    }\n",
       "</style>\n",
       "<table border=\"1\" class=\"dataframe\">\n",
       "  <thead>\n",
       "    <tr style=\"text-align: right;\">\n",
       "      <th></th>\n",
       "      <th>cgpa</th>\n",
       "      <th>package</th>\n",
       "    </tr>\n",
       "  </thead>\n",
       "  <tbody>\n",
       "    <tr>\n",
       "      <th>147</th>\n",
       "      <td>5.66</td>\n",
       "      <td>2.21</td>\n",
       "    </tr>\n",
       "    <tr>\n",
       "      <th>90</th>\n",
       "      <td>7.11</td>\n",
       "      <td>2.66</td>\n",
       "    </tr>\n",
       "    <tr>\n",
       "      <th>183</th>\n",
       "      <td>7.28</td>\n",
       "      <td>2.72</td>\n",
       "    </tr>\n",
       "  </tbody>\n",
       "</table>\n",
       "</div>"
      ],
      "text/plain": [
       "     cgpa  package\n",
       "147  5.66     2.21\n",
       "90   7.11     2.66\n",
       "183  7.28     2.72"
      ]
     },
     "execution_count": 3,
     "metadata": {},
     "output_type": "execute_result"
    }
   ],
   "source": [
    "df.sample(3)"
   ]
  },
  {
   "cell_type": "code",
   "execution_count": 4,
   "id": "810b3bc4",
   "metadata": {},
   "outputs": [],
   "source": [
    "X = df.iloc[:,0:1]         #Input must be 2-D.\n",
    "y = df.iloc[:,-1]          #Output feature takes 1-D and 2-D data."
   ]
  },
  {
   "cell_type": "code",
   "execution_count": 15,
   "id": "fe4f40bc",
   "metadata": {},
   "outputs": [
    {
     "data": {
      "image/png": "[encoded data removed]",
      "text/plain": [
       "<Figure size 432x288 with 1 Axes>"
      ]
     },
     "metadata": {
      "needs_background": "light"
     },
     "output_type": "display_data"
    }
   ],
   "source": [
    "plt.scatter(X,y,c='green',s=20)\n",
    "plt.xlabel('CGPA out of 10')\n",
    "plt.ylabel('Package in LPA')\n",
    "plt.tight_layout()"
   ]
  },
  {
   "cell_type": "code",
   "execution_count": 5,
   "id": "3170e0e0",
   "metadata": {},
   "outputs": [],
   "source": [
    "from sklearn.model_selection import train_test_split\n",
    "X_train, X_test, y_train, y_test = train_test_split(X,y,test_size=0.2,random_state=2)"
   ]
  },
  {
   "cell_type": "code",
   "execution_count": 6,
   "id": "a3d1b23c",
   "metadata": {},
   "outputs": [],
   "source": [
    "from sklearn.linear_model import LinearRegression"
   ]
  },
  {
   "cell_type": "code",
   "execution_count": 7,
   "id": "b18a5033",
   "metadata": {},
   "outputs": [],
   "source": [
    "lr = LinearRegression()"
   ]
  },
  {
   "cell_type": "code",
   "execution_count": 8,
   "id": "7a3487d4",
   "metadata": {},
   "outputs": [
    {
     "data": {
      "text/plain": [
       "LinearRegression()"
      ]
     },
     "execution_count": 8,
     "metadata": {},
     "output_type": "execute_result"
    }
   ],
   "source": [
    "lr.fit(X_train, y_train)"
   ]
  },
  {
   "cell_type": "code",
   "execution_count": 9,
   "id": "f54c8b84",
   "metadata": {},
   "outputs": [
    {
     "data": {
      "text/plain": [
       "array([0.55795197])"
      ]
     },
     "execution_count": 9,
     "metadata": {},
     "output_type": "execute_result"
    }
   ],
   "source": [
    "lr.coef_"
   ]
  },
  {
   "cell_type": "code",
   "execution_count": 10,
   "id": "65a53c0b",
   "metadata": {},
   "outputs": [
    {
     "data": {
      "text/plain": [
       "-0.8961119222429144"
      ]
     },
     "execution_count": 10,
     "metadata": {},
     "output_type": "execute_result"
    }
   ],
   "source": [
    "lr.intercept_"
   ]
  },
  {
   "cell_type": "code",
   "execution_count": 11,
   "id": "15b5c453",
   "metadata": {},
   "outputs": [
    {
     "data": {
      "text/plain": [
       "array([3.89111601, 3.09324469, 2.38464568, 2.57434935, 1.6537286 ,\n",
       "       1.77647803, 2.07219258, 2.93143862, 3.76278706, 2.93701814,\n",
       "       4.09197872, 3.51170867, 2.97049525, 2.40138424, 3.18809652,\n",
       "       3.46707251, 1.94386362, 3.24389172, 2.97607477, 3.41685683,\n",
       "       2.55761079, 3.16577844, 2.85890486, 3.12114229, 3.68467378,\n",
       "       2.8700639 , 3.49497011, 3.34432308, 3.91901361, 1.96060218,\n",
       "       3.65119666, 3.2104146 , 3.74046898, 2.7863711 , 2.78079158,\n",
       "       3.27178932, 3.52844723, 2.61340599, 2.65804215, 2.71383735])"
      ]
     },
     "execution_count": 11,
     "metadata": {},
     "output_type": "execute_result"
    }
   ],
   "source": [
    "lr.predict(X_test)"
   ]
  },
  {
   "cell_type": "code",
   "execution_count": 17,
   "id": "57f54dda",
   "metadata": {},
   "outputs": [
    {
     "data": {
      "image/png": "[encoded data removed]",
      "text/plain": [
       "<Figure size 432x288 with 1 Axes>"
      ]
     },
     "metadata": {
      "needs_background": "light"
     },
     "output_type": "display_data"
    }
   ],
   "source": [
    "plt.scatter(X,y,c='green',s=20)\n",
    "plt.plot(X_train,lr.predict(X_train))     #Draw a line on the predicted values on training data.\n",
    "plt.xlabel('CGPA out of 10')\n",
    "plt.ylabel('Package in LPA')\n",
    "plt.tight_layout()"
   ]
  },
  {
   "cell_type": "markdown",
   "id": "61d9570b",
   "metadata": {},
   "source": [
    "#### <b style = \"color:purple\">Importing metric functions.</b>"
   ]
  },
  {
   "cell_type": "code",
   "execution_count": 18,
   "id": "b584b670",
   "metadata": {},
   "outputs": [],
   "source": [
    "from sklearn.metrics import mean_absolute_error,mean_squared_error,r2_score"
   ]
  },
  {
   "cell_type": "markdown",
   "id": "4abd0333",
   "metadata": {},
   "source": [
    "#### <b style = \"color:purple\">MAE (Mean Absolute Error)</b>"
   ]
  },
  {
   "cell_type": "code",
   "execution_count": 21,
   "id": "f1a97943",
   "metadata": {},
   "outputs": [
    {
     "data": {
      "text/plain": [
       "array([3.89111601, 3.09324469, 2.38464568, 2.57434935, 1.6537286 ,\n",
       "       1.77647803, 2.07219258, 2.93143862, 3.76278706, 2.93701814,\n",
       "       4.09197872, 3.51170867, 2.97049525, 2.40138424, 3.18809652,\n",
       "       3.46707251, 1.94386362, 3.24389172, 2.97607477, 3.41685683,\n",
       "       2.55761079, 3.16577844, 2.85890486, 3.12114229, 3.68467378,\n",
       "       2.8700639 , 3.49497011, 3.34432308, 3.91901361, 1.96060218,\n",
       "       3.65119666, 3.2104146 , 3.74046898, 2.7863711 , 2.78079158,\n",
       "       3.27178932, 3.52844723, 2.61340599, 2.65804215, 2.71383735])"
      ]
     },
     "execution_count": 21,
     "metadata": {},
     "output_type": "execute_result"
    }
   ],
   "source": [
    "y_pred = lr.predict(X_test)\n",
    "y_pred"
   ]
  },
  {
   "cell_type": "code",
   "execution_count": 23,
   "id": "6338ce8f",
   "metadata": {},
   "outputs": [
    {
     "data": {
      "text/plain": [
       "array([4.1 , 3.49, 2.08, 2.33, 1.94, 1.48, 1.86, 3.09, 4.21, 2.87, 3.65,\n",
       "       4.  , 2.89, 2.6 , 2.99, 3.25, 1.86, 3.67, 2.37, 3.42, 2.48, 3.65,\n",
       "       2.6 , 2.83, 4.08, 2.56, 3.58, 3.81, 4.09, 2.01, 3.63, 2.92, 3.51,\n",
       "       1.94, 2.21, 3.34, 3.34, 3.23, 2.01, 2.61])"
      ]
     },
     "execution_count": 23,
     "metadata": {},
     "output_type": "execute_result"
    }
   ],
   "source": [
    "y_test.values"
   ]
  },
  {
   "cell_type": "code",
   "execution_count": 38,
   "id": "6a5e3137",
   "metadata": {},
   "outputs": [
    {
     "name": "stdout",
     "output_type": "stream",
     "text": [
      "MAE is : 0.2884710931878175 in LPA\n"
     ]
    }
   ],
   "source": [
    "print(\"MAE is :\",mean_absolute_error(y_test,y_pred),\"in LPA\")\n",
    "#"
   ]
  },
  {
   "cell_type": "code",
   "execution_count": 39,
   "id": "e8eb5b4f",
   "metadata": {},
   "outputs": [
    {
     "name": "stdout",
     "output_type": "stream",
     "text": [
      "MSE is : 0.12129235313495527 in LPA squared\n"
     ]
    }
   ],
   "source": [
    "print(\"MSE is : {} in LPA squared\".format(mean_squared_error(y_test,y_pred)))"
   ]
  },
  {
   "cell_type": "code",
   "execution_count": 40,
   "id": "b42ad21e",
   "metadata": {},
   "outputs": [
    {
     "name": "stdout",
     "output_type": "stream",
     "text": [
      "RMSE is : 0.34827051717731616 in LPA\n"
     ]
    }
   ],
   "source": [
    "print(f\"RMSE is : {np.sqrt(mean_squared_error(y_test,y_pred))} in LPA\" )"
   ]
  },
  {
   "cell_type": "code",
   "execution_count": 57,
   "id": "9cd912ad",
   "metadata": {},
   "outputs": [
    {
     "name": "stdout",
     "output_type": "stream",
     "text": [
      "R2 score is : 0.780730147510384 in absolute unit\n",
      "R2 score in percentage: 78.07\n"
     ]
    }
   ],
   "source": [
    "\"\"\"\n",
    "This means my cgpa column is able to explain some percentage of variance in our output column. \n",
    "Rest depends on real life factors.\n",
    "\"\"\"\n",
    "print(f\"R2 score is : {r2_score(y_test,y_pred)} in absolute unit\" )\n",
    "print(f'R2 score in percentage: {round((r2_score(y_test,y_pred) * 100),2)}')"
   ]
  },
  {
   "cell_type": "markdown",
   "id": "284b16e3",
   "metadata": {},
   "source": [
    "#### <b style = \"color:purple\">Calculating Adjusted R2 score</b>"
   ]
  },
  {
   "cell_type": "code",
   "execution_count": 58,
   "id": "da586ece",
   "metadata": {},
   "outputs": [],
   "source": [
    "r2 = r2_score(y_test,y_pred)"
   ]
  },
  {
   "cell_type": "code",
   "execution_count": 61,
   "id": "1006fad6",
   "metadata": {},
   "outputs": [
    {
     "data": {
      "text/plain": [
       "40"
      ]
     },
     "execution_count": 61,
     "metadata": {},
     "output_type": "execute_result"
    }
   ],
   "source": [
    "X_test.shape[0]"
   ]
  },
  {
   "cell_type": "code",
   "execution_count": 69,
   "id": "1f8369df",
   "metadata": {},
   "outputs": [
    {
     "name": "stdout",
     "output_type": "stream",
     "text": [
      "Adjusted r2 score is : 0.7749598882343415\n",
      "Adjusted r2 score rounded upto 2 decimal points : 77.5\n"
     ]
    }
   ],
   "source": [
    "\"\"\"\n",
    "Rule for calculating the adjusted r2 square.\n",
    "adjusted r2 score = 1 - ((1 - r2) * (n-1)) / (n-1-k))\n",
    "\"\"\"\n",
    "\n",
    "num = (1-r2) * (X_test.shape[0]-1)         #here n = X_test.shape[0] \n",
    "den = X_test.shape[0]-1-X_test.shape[1]    #here k = X_test.shape[1]\n",
    "\n",
    "adjusted_r2 = 1 - (num / den)\n",
    "print(f\"Adjusted r2 score is : {adjusted_r2}\")\n",
    "print(f\"Adjusted r2 score rounded upto 2 decimal points : {round(adjusted_r2*100,2)}\")"
   ]
  },
  {
   "cell_type": "markdown",
   "id": "9f0beeb5",
   "metadata": {},
   "source": [
    "####  <b style = \"color:purple\">Calculating Adjusted R2 score after adding an <b style = \"color:orange\">irrelevant</b> column</b>\n",
    "\n",
    "In this case, If we add an irrelevant column then the adjusted r2 score will be less than  the original r2 score. If there's a great deal of difference between r2 score and adjusted r2 score, then we will work with adjusted r2 score for better results."
   ]
  },
  {
   "cell_type": "code",
   "execution_count": 75,
   "id": "80728d31",
   "metadata": {},
   "outputs": [],
   "source": [
    "df1 = df.copy()"
   ]
  },
  {
   "cell_type": "code",
   "execution_count": 76,
   "id": "f1a5dc2d",
   "metadata": {},
   "outputs": [
    {
     "data": {
      "text/html": [
       "<div>\n",
       "<style scoped>\n",
       "    .dataframe tbody tr th:only-of-type {\n",
       "        vertical-align: middle;\n",
       "    }\n",
       "\n",
       "    .dataframe tbody tr th {\n",
       "        vertical-align: top;\n",
       "    }\n",
       "\n",
       "    .dataframe thead th {\n",
       "        text-align: right;\n",
       "    }\n",
       "</style>\n",
       "<table border=\"1\" class=\"dataframe\">\n",
       "  <thead>\n",
       "    <tr style=\"text-align: right;\">\n",
       "      <th></th>\n",
       "      <th>cgpa</th>\n",
       "      <th>package</th>\n",
       "    </tr>\n",
       "  </thead>\n",
       "  <tbody>\n",
       "    <tr>\n",
       "      <th>66</th>\n",
       "      <td>5.11</td>\n",
       "      <td>1.63</td>\n",
       "    </tr>\n",
       "    <tr>\n",
       "      <th>98</th>\n",
       "      <td>7.69</td>\n",
       "      <td>3.83</td>\n",
       "    </tr>\n",
       "    <tr>\n",
       "      <th>23</th>\n",
       "      <td>6.19</td>\n",
       "      <td>2.48</td>\n",
       "    </tr>\n",
       "  </tbody>\n",
       "</table>\n",
       "</div>"
      ],
      "text/plain": [
       "    cgpa  package\n",
       "66  5.11     1.63\n",
       "98  7.69     3.83\n",
       "23  6.19     2.48"
      ]
     },
     "execution_count": 76,
     "metadata": {},
     "output_type": "execute_result"
    }
   ],
   "source": [
    "df1.sample(3)"
   ]
  },
  {
   "cell_type": "code",
   "execution_count": 77,
   "id": "b5f38ca1",
   "metadata": {},
   "outputs": [],
   "source": [
    "rand_val = np.random.random(200)\n",
    "df1['random_values'] = rand_val"
   ]
  },
  {
   "cell_type": "code",
   "execution_count": 81,
   "id": "2737f833",
   "metadata": {},
   "outputs": [
    {
     "data": {
      "text/html": [
       "<div>\n",
       "<style scoped>\n",
       "    .dataframe tbody tr th:only-of-type {\n",
       "        vertical-align: middle;\n",
       "    }\n",
       "\n",
       "    .dataframe tbody tr th {\n",
       "        vertical-align: top;\n",
       "    }\n",
       "\n",
       "    .dataframe thead th {\n",
       "        text-align: right;\n",
       "    }\n",
       "</style>\n",
       "<table border=\"1\" class=\"dataframe\">\n",
       "  <thead>\n",
       "    <tr style=\"text-align: right;\">\n",
       "      <th></th>\n",
       "      <th>cgpa</th>\n",
       "      <th>random_values</th>\n",
       "      <th>package</th>\n",
       "    </tr>\n",
       "  </thead>\n",
       "  <tbody>\n",
       "    <tr>\n",
       "      <th>0</th>\n",
       "      <td>6.89</td>\n",
       "      <td>0.781159</td>\n",
       "      <td>3.26</td>\n",
       "    </tr>\n",
       "    <tr>\n",
       "      <th>1</th>\n",
       "      <td>5.12</td>\n",
       "      <td>0.260802</td>\n",
       "      <td>1.98</td>\n",
       "    </tr>\n",
       "    <tr>\n",
       "      <th>2</th>\n",
       "      <td>7.82</td>\n",
       "      <td>0.847033</td>\n",
       "      <td>3.25</td>\n",
       "    </tr>\n",
       "    <tr>\n",
       "      <th>3</th>\n",
       "      <td>7.42</td>\n",
       "      <td>0.508543</td>\n",
       "      <td>3.67</td>\n",
       "    </tr>\n",
       "    <tr>\n",
       "      <th>4</th>\n",
       "      <td>6.94</td>\n",
       "      <td>0.748441</td>\n",
       "      <td>3.57</td>\n",
       "    </tr>\n",
       "  </tbody>\n",
       "</table>\n",
       "</div>"
      ],
      "text/plain": [
       "   cgpa  random_values  package\n",
       "0  6.89       0.781159     3.26\n",
       "1  5.12       0.260802     1.98\n",
       "2  7.82       0.847033     3.25\n",
       "3  7.42       0.508543     3.67\n",
       "4  6.94       0.748441     3.57"
      ]
     },
     "execution_count": 81,
     "metadata": {},
     "output_type": "execute_result"
    }
   ],
   "source": [
    "df1 = df1[['cgpa','random_values','package']]   #Reorganizing the columns so that the output column stays at last.\n",
    "df1.head()"
   ]
  },
  {
   "cell_type": "code",
   "execution_count": 129,
   "id": "9d4b3642",
   "metadata": {},
   "outputs": [
    {
     "data": {
      "text/plain": [
       "<function matplotlib.pyplot.tight_layout(*, pad=1.08, h_pad=None, w_pad=None, rect=None)>"
      ]
     },
     "execution_count": 129,
     "metadata": {},
     "output_type": "execute_result"
    },
    {
     "data": {
      "image/png": "[encoded data removed]",
      "text/plain": [
       "<Figure size 432x288 with 1 Axes>"
      ]
     },
     "metadata": {
      "needs_background": "light"
     },
     "output_type": "display_data"
    }
   ],
   "source": [
    "\"\"\"\n",
    "This random_values column has no relation or contribution to the package column. In short, It's not at all relevant to\n",
    "our output column.\n",
    "\"\"\"\n",
    "plt.scatter(df1['random_values'],df1['package'],color = 'green')\n",
    "plt.ylabel('Package in LPA')\n",
    "plt.xlabel('Random Values')\n",
    "plt.tight_layout"
   ]
  },
  {
   "cell_type": "code",
   "execution_count": 94,
   "id": "69484cc7",
   "metadata": {},
   "outputs": [],
   "source": [
    "X1 = df1.iloc[:,0:2]\n",
    "y1 = df1.iloc[:,-1]"
   ]
  },
  {
   "cell_type": "code",
   "execution_count": 96,
   "id": "7d91d024",
   "metadata": {},
   "outputs": [
    {
     "data": {
      "text/plain": [
       "0      3.26\n",
       "1      1.98\n",
       "2      3.25\n",
       "3      3.67\n",
       "4      3.57\n",
       "       ... \n",
       "195    2.46\n",
       "196    2.57\n",
       "197    3.24\n",
       "198    3.96\n",
       "199    2.33\n",
       "Name: package, Length: 200, dtype: float64"
      ]
     },
     "execution_count": 96,
     "metadata": {},
     "output_type": "execute_result"
    }
   ],
   "source": [
    "y1"
   ]
  },
  {
   "cell_type": "code",
   "execution_count": 112,
   "id": "478046b4",
   "metadata": {},
   "outputs": [],
   "source": [
    "X1_train,X1_test,y1_train,y1_test = train_test_split(X1,y1,test_size=0.2,random_state=2)"
   ]
  },
  {
   "cell_type": "code",
   "execution_count": 113,
   "id": "70df9a7b",
   "metadata": {},
   "outputs": [],
   "source": [
    "lr1 = LinearRegression()"
   ]
  },
  {
   "cell_type": "code",
   "execution_count": 114,
   "id": "982773af",
   "metadata": {},
   "outputs": [
    {
     "data": {
      "text/plain": [
       "LinearRegression()"
      ]
     },
     "execution_count": 114,
     "metadata": {},
     "output_type": "execute_result"
    }
   ],
   "source": [
    "lr1.fit(X1_train,y1_train)"
   ]
  },
  {
   "cell_type": "code",
   "execution_count": 115,
   "id": "b54a021c",
   "metadata": {},
   "outputs": [],
   "source": [
    "y_pred1 = lr1.predict(X1_test)"
   ]
  },
  {
   "cell_type": "code",
   "execution_count": 121,
   "id": "5a00ae51",
   "metadata": {},
   "outputs": [
    {
     "name": "stdout",
     "output_type": "stream",
     "text": [
      "R2 score is : 0.7808415707913196\n"
     ]
    }
   ],
   "source": [
    "\"\"\"\n",
    "r2 score increases as we add another column but this is not desired because the column we added is irrelevant.\n",
    "\"\"\"\n",
    "\n",
    "r2_score1 = r2_score(y1_test,y_pred1)\n",
    "print(f\"R2 score is : {r2_score1}\")"
   ]
  },
  {
   "cell_type": "code",
   "execution_count": 120,
   "id": "46fa298a",
   "metadata": {},
   "outputs": [
    {
     "name": "stdout",
     "output_type": "stream",
     "text": [
      "Adjusted r2 score is : 0.7689951692124719\n",
      "Adjusted r2 score rounded upto 2 decimal points : 76.9\n"
     ]
    }
   ],
   "source": [
    "\"\"\"\n",
    "Here adjusted r2 score is less than the actual r2 score. That proves that our newly added column is a lot less relevant \n",
    "to our output column.\n",
    "\"\"\"\n",
    "\n",
    "num = (1-r2_score1) * (X1_test.shape[0]-1)         #here n = X_test.shape[0] \n",
    "den = X1_test.shape[0]-1-X1_test.shape[1]          #here k = X_test.shape[1]\n",
    "\n",
    "adjusted_r2 = 1 - (num / den)\n",
    "print(f\"Adjusted r2 score is : {adjusted_r2}\")\n",
    "print(f\"Adjusted r2 score rounded upto 2 decimal points : {round(adjusted_r2*100,2)}\")"
   ]
  },
  {
   "cell_type": "markdown",
   "id": "3bccee61",
   "metadata": {},
   "source": [
    "####  <b style = \"color:purple\">Calculating Adjusted R2 score after adding a <b style = \"color:orange\">relevant</b> column</b>"
   ]
  },
  {
   "cell_type": "code",
   "execution_count": 128,
   "id": "e4b530d0",
   "metadata": {},
   "outputs": [
    {
     "data": {
      "text/html": [
       "<div>\n",
       "<style scoped>\n",
       "    .dataframe tbody tr th:only-of-type {\n",
       "        vertical-align: middle;\n",
       "    }\n",
       "\n",
       "    .dataframe tbody tr th {\n",
       "        vertical-align: top;\n",
       "    }\n",
       "\n",
       "    .dataframe thead th {\n",
       "        text-align: right;\n",
       "    }\n",
       "</style>\n",
       "<table border=\"1\" class=\"dataframe\">\n",
       "  <thead>\n",
       "    <tr style=\"text-align: right;\">\n",
       "      <th></th>\n",
       "      <th>cgpa</th>\n",
       "      <th>relevant_col</th>\n",
       "      <th>package</th>\n",
       "    </tr>\n",
       "  </thead>\n",
       "  <tbody>\n",
       "    <tr>\n",
       "      <th>5</th>\n",
       "      <td>7.89</td>\n",
       "      <td>3.19</td>\n",
       "      <td>2.99</td>\n",
       "    </tr>\n",
       "    <tr>\n",
       "      <th>15</th>\n",
       "      <td>7.25</td>\n",
       "      <td>2.13</td>\n",
       "      <td>3.23</td>\n",
       "    </tr>\n",
       "    <tr>\n",
       "      <th>197</th>\n",
       "      <td>7.21</td>\n",
       "      <td>2.44</td>\n",
       "      <td>3.24</td>\n",
       "    </tr>\n",
       "    <tr>\n",
       "      <th>60</th>\n",
       "      <td>5.61</td>\n",
       "      <td>1.59</td>\n",
       "      <td>2.19</td>\n",
       "    </tr>\n",
       "    <tr>\n",
       "      <th>99</th>\n",
       "      <td>6.61</td>\n",
       "      <td>3.44</td>\n",
       "      <td>3.24</td>\n",
       "    </tr>\n",
       "  </tbody>\n",
       "</table>\n",
       "</div>"
      ],
      "text/plain": [
       "     cgpa  relevant_col  package\n",
       "5    7.89          3.19     2.99\n",
       "15   7.25          2.13     3.23\n",
       "197  7.21          2.44     3.24\n",
       "60   5.61          1.59     2.19\n",
       "99   6.61          3.44     3.24"
      ]
     },
     "execution_count": 128,
     "metadata": {},
     "output_type": "execute_result"
    }
   ],
   "source": [
    "df2 = df.copy()\n",
    "df2['relevant_col'] = df2['package'] + (np.random.randint(-12,12,200)/10)\n",
    "df2 = df2[['cgpa','relevant_col','package']]\n",
    "df2.sample(5)"
   ]
  },
  {
   "cell_type": "code",
   "execution_count": 131,
   "id": "f01181e2",
   "metadata": {},
   "outputs": [
    {
     "data": {
      "text/plain": [
       "<function matplotlib.pyplot.tight_layout(*, pad=1.08, h_pad=None, w_pad=None, rect=None)>"
      ]
     },
     "execution_count": 131,
     "metadata": {},
     "output_type": "execute_result"
    },
    {
     "data": {
      "image/png": "[encoded data removed]",
      "text/plain": [
       "<Figure size 432x288 with 1 Axes>"
      ]
     },
     "metadata": {
      "needs_background": "light"
     },
     "output_type": "display_data"
    }
   ],
   "source": [
    "\"\"\"\n",
    "After adding up a relevant column and then plotting that relevant column agianst the output column\n",
    "gives us a sort of linear relationship in the figure.\n",
    "\"\"\"\n",
    "plt.scatter(df2['relevant_col'],df2['package'],color = 'green')\n",
    "plt.ylabel('Package in LPA')\n",
    "plt.xlabel('relevant_col')\n",
    "plt.tight_layout"
   ]
  },
  {
   "cell_type": "code",
   "execution_count": 132,
   "id": "3a05eb43",
   "metadata": {},
   "outputs": [],
   "source": [
    "X2 = df2.iloc[:,0:2]\n",
    "y2 = df2.iloc[:,-1]"
   ]
  },
  {
   "cell_type": "code",
   "execution_count": 134,
   "id": "6e218690",
   "metadata": {},
   "outputs": [],
   "source": [
    "X2_train,X2_test,y2_train,y2_test = train_test_split(X2,y2,test_size=0.2,random_state=2)"
   ]
  },
  {
   "cell_type": "code",
   "execution_count": 135,
   "id": "7a8c0b68",
   "metadata": {},
   "outputs": [],
   "source": [
    "lr2 = LinearRegression()"
   ]
  },
  {
   "cell_type": "code",
   "execution_count": 136,
   "id": "654a012d",
   "metadata": {},
   "outputs": [
    {
     "data": {
      "text/plain": [
       "LinearRegression()"
      ]
     },
     "execution_count": 136,
     "metadata": {},
     "output_type": "execute_result"
    }
   ],
   "source": [
    "lr2.fit(X2,y2)"
   ]
  },
  {
   "cell_type": "code",
   "execution_count": 137,
   "id": "51c0a6e1",
   "metadata": {},
   "outputs": [],
   "source": [
    "y_pred2 = lr2.predict(X2_test)"
   ]
  },
  {
   "cell_type": "code",
   "execution_count": 139,
   "id": "dcb4d693",
   "metadata": {},
   "outputs": [
    {
     "name": "stdout",
     "output_type": "stream",
     "text": [
      "R2 score is : 0.8039851580544175\n"
     ]
    }
   ],
   "source": [
    "\"\"\"\n",
    "r2 score increases as we add another column but this time it is desired because the column we added is relevant.\n",
    "\"\"\"\n",
    "\n",
    "r2_score2 = r2_score(y2_test,y_pred2)\n",
    "print(f\"R2 score is : {r2_score2}\")"
   ]
  },
  {
   "cell_type": "code",
   "execution_count": 142,
   "id": "391b27cc",
   "metadata": {},
   "outputs": [
    {
     "name": "stdout",
     "output_type": "stream",
     "text": [
      "Adjusted r2 score is : 0.7933897611924942\n",
      "Adjusted r2 score rounded upto 2 decimal points : 79.34\n"
     ]
    }
   ],
   "source": [
    "\"\"\"\n",
    "Here adjusted r2 score is less than the actual r2 score but it is greater than the adjusted r2 score when \n",
    "we worked on a single relevant column and this time we have 2 relevant columns.\n",
    "\"\"\"\n",
    "\n",
    "num = (1-r2_score2) * (X2_test.shape[0]-1)         #here n = X_test.shape[0] \n",
    "den = X2_test.shape[0]-1-X2_test.shape[1]          #here k = X_test.shape[1]\n",
    "\n",
    "adjusted_r2 = 1 - (num / den)\n",
    "print(f\"Adjusted r2 score is : {adjusted_r2}\")\n",
    "print(f\"Adjusted r2 score rounded upto 2 decimal points : {round(adjusted_r2*100,2)}\")"
   ]
  },
  {
   "cell_type": "code",
   "execution_count": null,
   "id": "0b46057b",
   "metadata": {},
   "outputs": [],
   "source": []
  }
 ],
 "metadata": {
  "kernelspec": {
   "display_name": "Python 3 (ipykernel)",
   "language": "python",
   "name": "python3"
  },
  "language_info": {
   "codemirror_mode": {
    "name": "ipython",
    "version": 3
   },
   "file_extension": ".py",
   "mimetype": "text/x-python",
   "name": "python",
   "nbconvert_exporter": "python",
   "pygments_lexer": "ipython3",
   "version": "3.9.7"
  }
 },
 "nbformat": 4,
 "nbformat_minor": 5
}
