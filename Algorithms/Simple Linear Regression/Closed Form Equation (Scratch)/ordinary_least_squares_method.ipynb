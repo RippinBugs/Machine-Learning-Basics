{
 "cells": [
  {
   "cell_type": "markdown",
   "id": "bf3e5e32",
   "metadata": {},
   "source": [
    "### Simple Linear Regression using Closed Form Equation\n",
    "\n",
    "This equation is derived from <b style = \"color:orange\">OLS(Ordinary Least Squares)</b>. We will build a class from <b style = \"color:orange\">scratch</b> based on the equations and perform all the necessary steps here."
   ]
  },
  {
   "cell_type": "code",
   "execution_count": 2,
   "id": "f47fbc63",
   "metadata": {},
   "outputs": [],
   "source": [
    "import numpy as np\n",
    "import pandas as pd\n",
    "import matplotlib.pyplot as plt"
   ]
  },
  {
   "cell_type": "code",
   "execution_count": 3,
   "id": "593fd275",
   "metadata": {},
   "outputs": [],
   "source": [
    "class LinRegOLS:\n",
    "    \n",
    "    def __init__(self):               #Constructor\n",
    "        self.m = None \n",
    "        self.b = None\n",
    "        \n",
    "    def fit(self,X_train,y_train):    #This will give us the values of m and b by training the dataset.\n",
    "\n",
    "        num = 0\n",
    "        den = 0\n",
    "        mean_x = X_train.mean()\n",
    "        mean_y = y_train.mean()\n",
    "        \n",
    "        for i in range(X_train.shape[0]):\n",
    "            num += ((X_train[i] - mean_x) * (y_train[i] - mean_y))\n",
    "            den += ((X_train[i] - mean_x) * (X_train[i] - mean_x))\n",
    "            \n",
    "        self.m = num / den\n",
    "        self.b = mean_y - (self.m * mean_x)\n",
    "        \n",
    "        #print(\"m is \",self.m)\n",
    "        #print(\"b is \",self.b)\n",
    "    \n",
    "    def predict(self,X_test):\n",
    "        return ((self.m * X_test) + self.b)  \n"
   ]
  },
  {
   "cell_type": "code",
   "execution_count": 4,
   "id": "1fcafdcc",
   "metadata": {},
   "outputs": [],
   "source": [
    "df = pd.read_csv('placement.csv')"
   ]
  },
  {
   "cell_type": "code",
   "execution_count": 5,
   "id": "5b4cdb91",
   "metadata": {},
   "outputs": [
    {
     "data": {
      "text/html": [
       "<div>\n",
       "<style scoped>\n",
       "    .dataframe tbody tr th:only-of-type {\n",
       "        vertical-align: middle;\n",
       "    }\n",
       "\n",
       "    .dataframe tbody tr th {\n",
       "        vertical-align: top;\n",
       "    }\n",
       "\n",
       "    .dataframe thead th {\n",
       "        text-align: right;\n",
       "    }\n",
       "</style>\n",
       "<table border=\"1\" class=\"dataframe\">\n",
       "  <thead>\n",
       "    <tr style=\"text-align: right;\">\n",
       "      <th></th>\n",
       "      <th>cgpa</th>\n",
       "      <th>package</th>\n",
       "    </tr>\n",
       "  </thead>\n",
       "  <tbody>\n",
       "    <tr>\n",
       "      <th>30</th>\n",
       "      <td>7.36</td>\n",
       "      <td>3.26</td>\n",
       "    </tr>\n",
       "    <tr>\n",
       "      <th>33</th>\n",
       "      <td>6.35</td>\n",
       "      <td>2.73</td>\n",
       "    </tr>\n",
       "    <tr>\n",
       "      <th>175</th>\n",
       "      <td>7.04</td>\n",
       "      <td>3.50</td>\n",
       "    </tr>\n",
       "    <tr>\n",
       "      <th>145</th>\n",
       "      <td>5.84</td>\n",
       "      <td>2.18</td>\n",
       "    </tr>\n",
       "    <tr>\n",
       "      <th>197</th>\n",
       "      <td>7.21</td>\n",
       "      <td>3.24</td>\n",
       "    </tr>\n",
       "  </tbody>\n",
       "</table>\n",
       "</div>"
      ],
      "text/plain": [
       "     cgpa  package\n",
       "30   7.36     3.26\n",
       "33   6.35     2.73\n",
       "175  7.04     3.50\n",
       "145  5.84     2.18\n",
       "197  7.21     3.24"
      ]
     },
     "execution_count": 5,
     "metadata": {},
     "output_type": "execute_result"
    }
   ],
   "source": [
    "df.sample(5)"
   ]
  },
  {
   "cell_type": "markdown",
   "id": "a617395f",
   "metadata": {},
   "source": [
    "#### <b style = \"color:purple\">Extracting X and y from the dataframe as numpy arrays.</b>"
   ]
  },
  {
   "cell_type": "code",
   "execution_count": 6,
   "id": "3cd1e57e",
   "metadata": {},
   "outputs": [],
   "source": [
    "X = df.iloc[:,0].values\n",
    "y = df.iloc[:,-1].values"
   ]
  },
  {
   "cell_type": "code",
   "execution_count": 7,
   "id": "4f62d62c",
   "metadata": {},
   "outputs": [
    {
     "data": {
      "image/png": "[encoded data removed]",
      "text/plain": [
       "<Figure size 432x288 with 1 Axes>"
      ]
     },
     "metadata": {
      "needs_background": "light"
     },
     "output_type": "display_data"
    }
   ],
   "source": [
    "plt.scatter(X,y,c='green',s=20)\n",
    "plt.xlabel('CGPA')\n",
    "plt.ylabel('Package in LPA')\n",
    "plt.tight_layout()"
   ]
  },
  {
   "cell_type": "code",
   "execution_count": 6,
   "id": "f19eebf8",
   "metadata": {},
   "outputs": [
    {
     "data": {
      "text/plain": [
       "array([6.89, 5.12, 7.82, 7.42, 6.94, 7.89, 6.73, 6.75, 6.09, 8.31, 5.32,\n",
       "       6.61, 8.94, 6.93, 7.73, 7.25, 6.84, 5.38, 6.94, 7.48, 7.28, 6.85,\n",
       "       6.14, 6.19, 6.53, 7.28, 8.31, 5.42, 5.94, 7.15, 7.36, 8.1 , 6.96,\n",
       "       6.35, 7.34, 6.87, 5.99, 5.9 , 8.62, 7.43, 9.38, 6.89, 5.95, 7.66,\n",
       "       5.09, 7.87, 6.07, 5.84, 8.63, 8.87, 9.58, 9.26, 8.37, 6.47, 6.86,\n",
       "       8.2 , 5.84, 6.6 , 6.92, 7.56, 5.61, 5.48, 6.34, 9.16, 7.36, 7.6 ,\n",
       "       5.11, 6.51, 7.56, 7.3 , 5.79, 7.47, 7.78, 8.44, 6.85, 6.97, 6.94,\n",
       "       8.99, 6.59, 7.18, 7.63, 6.1 , 5.58, 8.44, 4.26, 4.79, 7.61, 8.09,\n",
       "       4.73, 6.42, 7.11, 6.22, 7.9 , 6.79, 5.83, 6.63, 7.11, 5.98, 7.69,\n",
       "       6.61, 7.95, 6.71, 5.13, 7.05, 7.62, 6.66, 6.13, 6.33, 7.76, 7.77,\n",
       "       8.18, 5.42, 8.58, 6.94, 5.84, 8.35, 9.04, 7.12, 7.4 , 7.39, 5.23,\n",
       "       6.5 , 5.12, 5.1 , 6.06, 7.33, 5.91, 6.78, 7.93, 7.29, 6.68, 6.37,\n",
       "       5.84, 6.05, 7.2 , 6.1 , 5.64, 7.14, 7.91, 7.19, 7.91, 6.76, 6.93,\n",
       "       4.85, 6.17, 5.84, 6.07, 5.66, 7.57, 8.28, 6.3 , 6.12, 7.37, 7.94,\n",
       "       7.08, 6.98, 7.38, 6.47, 5.95, 8.71, 7.13, 7.3 , 5.53, 8.93, 9.06,\n",
       "       8.21, 8.6 , 8.13, 8.65, 9.31, 6.22, 8.01, 6.93, 6.75, 7.32, 7.04,\n",
       "       6.29, 7.09, 8.15, 7.14, 6.19, 8.22, 5.88, 7.28, 7.88, 6.31, 7.84,\n",
       "       6.26, 7.35, 8.11, 6.19, 7.28, 8.25, 4.57, 7.89, 6.93, 5.89, 7.21,\n",
       "       7.63, 6.22])"
      ]
     },
     "execution_count": 6,
     "metadata": {},
     "output_type": "execute_result"
    }
   ],
   "source": [
    "X"
   ]
  },
  {
   "cell_type": "code",
   "execution_count": 7,
   "id": "4a9aef99",
   "metadata": {},
   "outputs": [
    {
     "data": {
      "text/plain": [
       "(200,)"
      ]
     },
     "execution_count": 7,
     "metadata": {},
     "output_type": "execute_result"
    }
   ],
   "source": [
    "X.shape"
   ]
  },
  {
   "cell_type": "markdown",
   "id": "98a08153",
   "metadata": {},
   "source": [
    "#### <b style = \"color:purple\">train_test_split()</b>\n",
    "\n",
    "In this step we divide our dataset into training and testing data. We train our model using training data and to validate our model we use the testing data."
   ]
  },
  {
   "cell_type": "code",
   "execution_count": 8,
   "id": "92579b99",
   "metadata": {},
   "outputs": [],
   "source": [
    "from sklearn.model_selection import train_test_split\n",
    "X_train,X_test,y_train,y_test = train_test_split(X,y,test_size=0.15,random_state=2)"
   ]
  },
  {
   "cell_type": "code",
   "execution_count": 9,
   "id": "febaa078",
   "metadata": {},
   "outputs": [
    {
     "data": {
      "text/plain": [
       "(170,)"
      ]
     },
     "execution_count": 9,
     "metadata": {},
     "output_type": "execute_result"
    }
   ],
   "source": [
    "X_train.shape"
   ]
  },
  {
   "cell_type": "markdown",
   "id": "27e06f1a",
   "metadata": {},
   "source": [
    "#### <b style = \"color:purple\">Train</b>"
   ]
  },
  {
   "cell_type": "code",
   "execution_count": 10,
   "id": "c16dae05",
   "metadata": {},
   "outputs": [],
   "source": [
    "lr = LinRegOLS()                   #Creating a object."
   ]
  },
  {
   "cell_type": "code",
   "execution_count": 11,
   "id": "4d1f0cf9",
   "metadata": {},
   "outputs": [],
   "source": [
    "lr.fit(X_train,y_train)            #Training the model using training dataset."
   ]
  },
  {
   "cell_type": "markdown",
   "id": "8eb871eb",
   "metadata": {},
   "source": [
    "#### <b style = \"color:purple\">Predict</b>"
   ]
  },
  {
   "cell_type": "code",
   "execution_count": 12,
   "id": "72e86e50",
   "metadata": {},
   "outputs": [],
   "source": [
    "y_pred = lr.predict(X_test)"
   ]
  },
  {
   "cell_type": "code",
   "execution_count": 13,
   "id": "d916ee05",
   "metadata": {},
   "outputs": [
    {
     "data": {
      "text/plain": [
       "array([3.8782834 , 3.08023526, 2.37147922, 2.56122493, 1.64040015,\n",
       "       1.76317679, 2.05895687, 2.91839333, 3.74992601, 2.92397408,\n",
       "       4.07919062, 3.49879197, 2.95745862, 2.38822148, 3.17510811,\n",
       "       3.45414592, 1.93059947, 3.23091568, 2.96303938, 3.40391912,\n",
       "       2.54448266, 3.15278509, 2.8458435 , 3.10813904, 3.67179542,\n",
       "       2.85700501, 3.48204971, 3.33136929, 3.90618718, 1.94734174])"
      ]
     },
     "execution_count": 13,
     "metadata": {},
     "output_type": "execute_result"
    }
   ],
   "source": [
    "y_pred"
   ]
  },
  {
   "cell_type": "code",
   "execution_count": 14,
   "id": "ded3a04b",
   "metadata": {},
   "outputs": [
    {
     "data": {
      "text/plain": [
       "array([3.08023526, 2.37147922, 2.56122493])"
      ]
     },
     "execution_count": 14,
     "metadata": {},
     "output_type": "execute_result"
    }
   ],
   "source": [
    "lr.predict(X_test[1:4])"
   ]
  },
  {
   "cell_type": "code",
   "execution_count": null,
   "id": "ae163e62",
   "metadata": {},
   "outputs": [],
   "source": []
  }
 ],
 "metadata": {
  "kernelspec": {
   "display_name": "Python 3 (ipykernel)",
   "language": "python",
   "name": "python3"
  },
  "language_info": {
   "codemirror_mode": {
    "name": "ipython",
    "version": 3
   },
   "file_extension": ".py",
   "mimetype": "text/x-python",
   "name": "python",
   "nbconvert_exporter": "python",
   "pygments_lexer": "ipython3",
   "version": "3.9.7"
  }
 },
 "nbformat": 4,
 "nbformat_minor": 5
}
