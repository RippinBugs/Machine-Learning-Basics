{
 "cells": [
  {
   "cell_type": "markdown",
   "id": "91820d9c",
   "metadata": {},
   "source": [
    "### Simple Linear Regression using Sklearn.\n",
    "\n",
    "In this notebook, we will train our model using sklearn's built-in class called LinearRegression. We use Linear Regression when our data is <b style = \"color:orange\">sort of linear</b>."
   ]
  },
  {
   "cell_type": "code",
   "execution_count": 2,
   "id": "86597349",
   "metadata": {},
   "outputs": [],
   "source": [
    "import numpy as np\n",
    "import pandas as pd\n",
    "import matplotlib.pyplot as plt"
   ]
  },
  {
   "cell_type": "code",
   "execution_count": 3,
   "id": "c0fddb73",
   "metadata": {},
   "outputs": [],
   "source": [
    "df = pd.read_csv('placement.csv')"
   ]
  },
  {
   "cell_type": "code",
   "execution_count": 4,
   "id": "823d0336",
   "metadata": {},
   "outputs": [
    {
     "data": {
      "text/html": [
       "<div>\n",
       "<style scoped>\n",
       "    .dataframe tbody tr th:only-of-type {\n",
       "        vertical-align: middle;\n",
       "    }\n",
       "\n",
       "    .dataframe tbody tr th {\n",
       "        vertical-align: top;\n",
       "    }\n",
       "\n",
       "    .dataframe thead th {\n",
       "        text-align: right;\n",
       "    }\n",
       "</style>\n",
       "<table border=\"1\" class=\"dataframe\">\n",
       "  <thead>\n",
       "    <tr style=\"text-align: right;\">\n",
       "      <th></th>\n",
       "      <th>cgpa</th>\n",
       "      <th>package</th>\n",
       "    </tr>\n",
       "  </thead>\n",
       "  <tbody>\n",
       "    <tr>\n",
       "      <th>12</th>\n",
       "      <td>8.94</td>\n",
       "      <td>3.65</td>\n",
       "    </tr>\n",
       "    <tr>\n",
       "      <th>98</th>\n",
       "      <td>7.69</td>\n",
       "      <td>3.83</td>\n",
       "    </tr>\n",
       "    <tr>\n",
       "      <th>15</th>\n",
       "      <td>7.25</td>\n",
       "      <td>3.23</td>\n",
       "    </tr>\n",
       "    <tr>\n",
       "      <th>109</th>\n",
       "      <td>7.77</td>\n",
       "      <td>4.06</td>\n",
       "    </tr>\n",
       "    <tr>\n",
       "      <th>119</th>\n",
       "      <td>7.39</td>\n",
       "      <td>2.65</td>\n",
       "    </tr>\n",
       "  </tbody>\n",
       "</table>\n",
       "</div>"
      ],
      "text/plain": [
       "     cgpa  package\n",
       "12   8.94     3.65\n",
       "98   7.69     3.83\n",
       "15   7.25     3.23\n",
       "109  7.77     4.06\n",
       "119  7.39     2.65"
      ]
     },
     "execution_count": 4,
     "metadata": {},
     "output_type": "execute_result"
    }
   ],
   "source": [
    "df.sample(5)"
   ]
  },
  {
   "cell_type": "markdown",
   "id": "603ba999",
   "metadata": {},
   "source": [
    "#### <b style = \"color:purple\">Extracting X and y from the dataframe as numpy arrays.</b>"
   ]
  },
  {
   "cell_type": "code",
   "execution_count": 24,
   "id": "688fe484",
   "metadata": {},
   "outputs": [],
   "source": [
    "#X = df.iloc[:,0]                #This will generate a series which is not 2-D\n",
    "X = df.iloc[:,0:1]               #Model expects 2-D array\n",
    "y = df.iloc[:,-1]"
   ]
  },
  {
   "cell_type": "code",
   "execution_count": 25,
   "id": "21eda519",
   "metadata": {},
   "outputs": [
    {
     "data": {
      "text/html": [
       "<div>\n",
       "<style scoped>\n",
       "    .dataframe tbody tr th:only-of-type {\n",
       "        vertical-align: middle;\n",
       "    }\n",
       "\n",
       "    .dataframe tbody tr th {\n",
       "        vertical-align: top;\n",
       "    }\n",
       "\n",
       "    .dataframe thead th {\n",
       "        text-align: right;\n",
       "    }\n",
       "</style>\n",
       "<table border=\"1\" class=\"dataframe\">\n",
       "  <thead>\n",
       "    <tr style=\"text-align: right;\">\n",
       "      <th></th>\n",
       "      <th>cgpa</th>\n",
       "    </tr>\n",
       "  </thead>\n",
       "  <tbody>\n",
       "    <tr>\n",
       "      <th>0</th>\n",
       "      <td>6.89</td>\n",
       "    </tr>\n",
       "    <tr>\n",
       "      <th>1</th>\n",
       "      <td>5.12</td>\n",
       "    </tr>\n",
       "    <tr>\n",
       "      <th>2</th>\n",
       "      <td>7.82</td>\n",
       "    </tr>\n",
       "    <tr>\n",
       "      <th>3</th>\n",
       "      <td>7.42</td>\n",
       "    </tr>\n",
       "  </tbody>\n",
       "</table>\n",
       "</div>"
      ],
      "text/plain": [
       "   cgpa\n",
       "0  6.89\n",
       "1  5.12\n",
       "2  7.82\n",
       "3  7.42"
      ]
     },
     "execution_count": 25,
     "metadata": {},
     "output_type": "execute_result"
    }
   ],
   "source": [
    "X.head(4)"
   ]
  },
  {
   "cell_type": "code",
   "execution_count": 26,
   "id": "0eb0536d",
   "metadata": {},
   "outputs": [
    {
     "data": {
      "text/plain": [
       "0    3.26\n",
       "1    1.98\n",
       "2    3.25\n",
       "3    3.67\n",
       "Name: package, dtype: float64"
      ]
     },
     "execution_count": 26,
     "metadata": {},
     "output_type": "execute_result"
    }
   ],
   "source": [
    "y.head(4)"
   ]
  },
  {
   "cell_type": "code",
   "execution_count": 27,
   "id": "67562642",
   "metadata": {},
   "outputs": [
    {
     "data": {
      "image/png": "[encoded data removed]",
      "text/plain": [
       "<Figure size 432x288 with 1 Axes>"
      ]
     },
     "metadata": {
      "needs_background": "light"
     },
     "output_type": "display_data"
    }
   ],
   "source": [
    "plt.scatter(X,y,c='green',s=20)\n",
    "plt.xlabel('CGPA')\n",
    "plt.ylabel('Package in LPA')\n",
    "plt.tight_layout()"
   ]
  },
  {
   "cell_type": "markdown",
   "id": "2fd02169",
   "metadata": {},
   "source": [
    "#### <b style = \"color:purple\">train_test_split</b>"
   ]
  },
  {
   "cell_type": "code",
   "execution_count": 28,
   "id": "910f0c6d",
   "metadata": {},
   "outputs": [],
   "source": [
    "from sklearn.model_selection import train_test_split\n",
    "X_train,X_test,y_train,y_test = train_test_split(X,y,test_size=0.25,random_state=2)"
   ]
  },
  {
   "cell_type": "code",
   "execution_count": 31,
   "id": "27fcf874",
   "metadata": {},
   "outputs": [],
   "source": [
    "\"\"\"\n",
    "Importing Linear Regression model which uses OLS internally from sklearn's linear_model.\n",
    "\"\"\"\n",
    "from sklearn.linear_model import LinearRegression"
   ]
  },
  {
   "cell_type": "code",
   "execution_count": 30,
   "id": "15130569",
   "metadata": {},
   "outputs": [],
   "source": [
    "lr = LinearRegression()"
   ]
  },
  {
   "cell_type": "code",
   "execution_count": 32,
   "id": "b7ce2f86",
   "metadata": {},
   "outputs": [
    {
     "data": {
      "text/plain": [
       "LinearRegression()"
      ]
     },
     "execution_count": 32,
     "metadata": {},
     "output_type": "execute_result"
    }
   ],
   "source": [
    "\"\"\"\n",
    "Fitting the training dataset or in other words, training the model.\n",
    "\"\"\"\n",
    "lr.fit(X_train,y_train)"
   ]
  },
  {
   "cell_type": "code",
   "execution_count": 35,
   "id": "1e241250",
   "metadata": {},
   "outputs": [
    {
     "name": "stdout",
     "output_type": "stream",
     "text": [
      "m :  [0.5665159]\n"
     ]
    }
   ],
   "source": [
    "print(\"m : \",lr.coef_)               #This is the slope"
   ]
  },
  {
   "cell_type": "code",
   "execution_count": 34,
   "id": "b4e3115a",
   "metadata": {},
   "outputs": [
    {
     "name": "stdout",
     "output_type": "stream",
     "text": [
      "b :  -0.9545467420146729\n"
     ]
    }
   ],
   "source": [
    "print(\"b : \",lr.intercept_)          #y-intercept."
   ]
  },
  {
   "cell_type": "code",
   "execution_count": 14,
   "id": "abce2018",
   "metadata": {},
   "outputs": [
    {
     "data": {
      "text/html": [
       "<div>\n",
       "<style scoped>\n",
       "    .dataframe tbody tr th:only-of-type {\n",
       "        vertical-align: middle;\n",
       "    }\n",
       "\n",
       "    .dataframe tbody tr th {\n",
       "        vertical-align: top;\n",
       "    }\n",
       "\n",
       "    .dataframe thead th {\n",
       "        text-align: right;\n",
       "    }\n",
       "</style>\n",
       "<table border=\"1\" class=\"dataframe\">\n",
       "  <thead>\n",
       "    <tr style=\"text-align: right;\">\n",
       "      <th></th>\n",
       "      <th>cgpa</th>\n",
       "    </tr>\n",
       "  </thead>\n",
       "  <tbody>\n",
       "    <tr>\n",
       "      <th>112</th>\n",
       "      <td>8.58</td>\n",
       "    </tr>\n",
       "    <tr>\n",
       "      <th>29</th>\n",
       "      <td>7.15</td>\n",
       "    </tr>\n",
       "    <tr>\n",
       "      <th>182</th>\n",
       "      <td>5.88</td>\n",
       "    </tr>\n",
       "    <tr>\n",
       "      <th>199</th>\n",
       "      <td>6.22</td>\n",
       "    </tr>\n",
       "  </tbody>\n",
       "</table>\n",
       "</div>"
      ],
      "text/plain": [
       "     cgpa\n",
       "112  8.58\n",
       "29   7.15\n",
       "182  5.88\n",
       "199  6.22"
      ]
     },
     "execution_count": 14,
     "metadata": {},
     "output_type": "execute_result"
    }
   ],
   "source": [
    "X_test.head(4)"
   ]
  },
  {
   "cell_type": "code",
   "execution_count": 15,
   "id": "7ad56b2a",
   "metadata": {},
   "outputs": [
    {
     "data": {
      "text/plain": [
       "112    4.10\n",
       "29     3.49\n",
       "182    2.08\n",
       "199    2.33\n",
       "Name: package, dtype: float64"
      ]
     },
     "execution_count": 15,
     "metadata": {},
     "output_type": "execute_result"
    }
   ],
   "source": [
    "y_test.head(4)"
   ]
  },
  {
   "cell_type": "code",
   "execution_count": 16,
   "id": "5f2fe9c9",
   "metadata": {},
   "outputs": [
    {
     "data": {
      "text/plain": [
       "array([3.90615968, 3.09604194, 2.37656675, 2.56918215, 1.63443092,\n",
       "       1.75906442, 2.05931784, 2.93175233, 3.77586102, 2.93741749,\n",
       "       4.1101054 , 3.52092887, 2.97140844, 2.39356223, 3.19234964,\n",
       "       3.47560759, 1.92901919, 3.24900123, 2.9770736 , 3.42462116,\n",
       "       2.55218668, 3.16968901, 2.85810526, 3.12436774, 3.69654879,\n",
       "       2.86943558, 3.50393339, 3.3509741 , 3.93448547, 1.94601466,\n",
       "       3.66255784, 3.21501028, 3.75320038, 2.7844582 , 2.77879304,\n",
       "       3.27732703, 3.53792434, 2.60883827, 2.65415954, 2.71081113,\n",
       "       3.09037678, 4.10444024, 2.11596943, 1.93468435, 3.4472818 ,\n",
       "       2.87510074, 2.94874781, 2.82977947, 3.52659402, 3.51526371])"
      ]
     },
     "execution_count": 16,
     "metadata": {},
     "output_type": "execute_result"
    }
   ],
   "source": [
    "\"\"\"\n",
    "Predicting all the values of test case.\n",
    "\"\"\"\n",
    "lr.predict(X_test)"
   ]
  },
  {
   "cell_type": "code",
   "execution_count": 41,
   "id": "c43697b4",
   "metadata": {},
   "outputs": [
    {
     "data": {
      "text/plain": [
       "array([3.90615968, 3.09604194])"
      ]
     },
     "execution_count": 41,
     "metadata": {},
     "output_type": "execute_result"
    }
   ],
   "source": [
    "lr.predict(X_test.iloc[0:2].values)"
   ]
  },
  {
   "cell_type": "code",
   "execution_count": 17,
   "id": "5dbd0eaf",
   "metadata": {},
   "outputs": [
    {
     "data": {
      "text/plain": [
       "array([3.90615968])"
      ]
     },
     "execution_count": 17,
     "metadata": {},
     "output_type": "execute_result"
    }
   ],
   "source": [
    "lr.predict(X_test.iloc[0].values.reshape(1,1))  #Our model expects (1,1) values.\n",
    "#values attribute for making this a numpy array."
   ]
  },
  {
   "cell_type": "code",
   "execution_count": 18,
   "id": "f28fd899",
   "metadata": {},
   "outputs": [],
   "source": [
    "m = lr.coef_\n",
    "b = lr.intercept_"
   ]
  },
  {
   "cell_type": "code",
   "execution_count": 19,
   "id": "38f77db2",
   "metadata": {},
   "outputs": [
    {
     "data": {
      "text/plain": [
       "array([3.90615968])"
      ]
     },
     "execution_count": 19,
     "metadata": {},
     "output_type": "execute_result"
    }
   ],
   "source": [
    "y_pre = m*8.58 + b\n",
    "y_pre"
   ]
  },
  {
   "cell_type": "markdown",
   "id": "2b3116bf",
   "metadata": {},
   "source": [
    "#### <b style = \"color:purple\">Plotting the best fit line on the dataset</b>"
   ]
  },
  {
   "cell_type": "code",
   "execution_count": 20,
   "id": "ce874c5b",
   "metadata": {},
   "outputs": [
    {
     "data": {
      "image/png": "[encoded data removed]",
      "text/plain": [
       "<Figure size 432x288 with 1 Axes>"
      ]
     },
     "metadata": {
      "needs_background": "light"
     },
     "output_type": "display_data"
    }
   ],
   "source": [
    "plt.scatter(X_test,y_test,c='green',s=20)\n",
    "plt.plot(X_test,lr.predict(X_test),color=\"red\")\n",
    "plt.xlabel('CGPA')\n",
    "plt.ylabel('Package in LPA')\n",
    "plt.tight_layout()"
   ]
  },
  {
   "cell_type": "code",
   "execution_count": 21,
   "id": "9ffe7bb4",
   "metadata": {},
   "outputs": [
    {
     "data": {
      "image/png": "[encoded data removed]",
      "text/plain": [
       "<Figure size 432x288 with 1 Axes>"
      ]
     },
     "metadata": {
      "needs_background": "light"
     },
     "output_type": "display_data"
    }
   ],
   "source": [
    "plt.scatter(X_train,y_train,c='green',s=20)\n",
    "plt.plot(X_train,lr.predict(X_train),color = \"red\")\n",
    "plt.xlabel('CGPA')\n",
    "plt.ylabel('Package in LPA')\n",
    "plt.tight_layout()"
   ]
  },
  {
   "cell_type": "code",
   "execution_count": null,
   "id": "2dee52e9",
   "metadata": {},
   "outputs": [],
   "source": []
  },
  {
   "cell_type": "code",
   "execution_count": null,
   "id": "bfce77c7",
   "metadata": {},
   "outputs": [],
   "source": []
  }
 ],
 "metadata": {
  "kernelspec": {
   "display_name": "Python 3 (ipykernel)",
   "language": "python",
   "name": "python3"
  },
  "language_info": {
   "codemirror_mode": {
    "name": "ipython",
    "version": 3
   },
   "file_extension": ".py",
   "mimetype": "text/x-python",
   "name": "python",
   "nbconvert_exporter": "python",
   "pygments_lexer": "ipython3",
   "version": "3.9.7"
  }
 },
 "nbformat": 4,
 "nbformat_minor": 5
}
