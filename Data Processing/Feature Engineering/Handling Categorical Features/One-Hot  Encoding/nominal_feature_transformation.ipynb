{
 "cells": [
  {
   "cell_type": "code",
   "execution_count": 1,
   "id": "bbb12138",
   "metadata": {},
   "outputs": [],
   "source": [
    "import numpy as np\n",
    "import pandas as pd"
   ]
  },
  {
   "cell_type": "code",
   "execution_count": 2,
   "id": "bd4e8fd3",
   "metadata": {},
   "outputs": [
    {
     "data": {
      "text/html": [
       "<div>\n",
       "<style scoped>\n",
       "    .dataframe tbody tr th:only-of-type {\n",
       "        vertical-align: middle;\n",
       "    }\n",
       "\n",
       "    .dataframe tbody tr th {\n",
       "        vertical-align: top;\n",
       "    }\n",
       "\n",
       "    .dataframe thead th {\n",
       "        text-align: right;\n",
       "    }\n",
       "</style>\n",
       "<table border=\"1\" class=\"dataframe\">\n",
       "  <thead>\n",
       "    <tr style=\"text-align: right;\">\n",
       "      <th></th>\n",
       "      <th>brand</th>\n",
       "      <th>km_driven</th>\n",
       "      <th>fuel</th>\n",
       "      <th>owner</th>\n",
       "      <th>selling_price</th>\n",
       "    </tr>\n",
       "  </thead>\n",
       "  <tbody>\n",
       "    <tr>\n",
       "      <th>7360</th>\n",
       "      <td>Maruti</td>\n",
       "      <td>58559</td>\n",
       "      <td>Diesel</td>\n",
       "      <td>First Owner</td>\n",
       "      <td>693000</td>\n",
       "    </tr>\n",
       "    <tr>\n",
       "      <th>854</th>\n",
       "      <td>Maruti</td>\n",
       "      <td>43000</td>\n",
       "      <td>Diesel</td>\n",
       "      <td>First Owner</td>\n",
       "      <td>625000</td>\n",
       "    </tr>\n",
       "    <tr>\n",
       "      <th>313</th>\n",
       "      <td>Maruti</td>\n",
       "      <td>90000</td>\n",
       "      <td>Petrol</td>\n",
       "      <td>Third Owner</td>\n",
       "      <td>535000</td>\n",
       "    </tr>\n",
       "  </tbody>\n",
       "</table>\n",
       "</div>"
      ],
      "text/plain": [
       "       brand  km_driven    fuel        owner  selling_price\n",
       "7360  Maruti      58559  Diesel  First Owner         693000\n",
       "854   Maruti      43000  Diesel  First Owner         625000\n",
       "313   Maruti      90000  Petrol  Third Owner         535000"
      ]
     },
     "execution_count": 2,
     "metadata": {},
     "output_type": "execute_result"
    }
   ],
   "source": [
    "df = pd.read_csv('cars.csv')\n",
    "df.sample(3)"
   ]
  },
  {
   "cell_type": "code",
   "execution_count": 3,
   "id": "cf231d96",
   "metadata": {},
   "outputs": [
    {
     "data": {
      "text/plain": [
       "(8128, 5)"
      ]
     },
     "execution_count": 3,
     "metadata": {},
     "output_type": "execute_result"
    }
   ],
   "source": [
    "df.shape"
   ]
  },
  {
   "cell_type": "code",
   "execution_count": 4,
   "id": "0fc8ad38",
   "metadata": {},
   "outputs": [
    {
     "data": {
      "text/html": [
       "<div>\n",
       "<style scoped>\n",
       "    .dataframe tbody tr th:only-of-type {\n",
       "        vertical-align: middle;\n",
       "    }\n",
       "\n",
       "    .dataframe tbody tr th {\n",
       "        vertical-align: top;\n",
       "    }\n",
       "\n",
       "    .dataframe thead th {\n",
       "        text-align: right;\n",
       "    }\n",
       "</style>\n",
       "<table border=\"1\" class=\"dataframe\">\n",
       "  <thead>\n",
       "    <tr style=\"text-align: right;\">\n",
       "      <th></th>\n",
       "      <th>km_driven</th>\n",
       "      <th>selling_price</th>\n",
       "    </tr>\n",
       "  </thead>\n",
       "  <tbody>\n",
       "    <tr>\n",
       "      <th>count</th>\n",
       "      <td>8.128000e+03</td>\n",
       "      <td>8.128000e+03</td>\n",
       "    </tr>\n",
       "    <tr>\n",
       "      <th>mean</th>\n",
       "      <td>6.981951e+04</td>\n",
       "      <td>6.382718e+05</td>\n",
       "    </tr>\n",
       "    <tr>\n",
       "      <th>std</th>\n",
       "      <td>5.655055e+04</td>\n",
       "      <td>8.062534e+05</td>\n",
       "    </tr>\n",
       "    <tr>\n",
       "      <th>min</th>\n",
       "      <td>1.000000e+00</td>\n",
       "      <td>2.999900e+04</td>\n",
       "    </tr>\n",
       "    <tr>\n",
       "      <th>25%</th>\n",
       "      <td>3.500000e+04</td>\n",
       "      <td>2.549990e+05</td>\n",
       "    </tr>\n",
       "    <tr>\n",
       "      <th>50%</th>\n",
       "      <td>6.000000e+04</td>\n",
       "      <td>4.500000e+05</td>\n",
       "    </tr>\n",
       "    <tr>\n",
       "      <th>75%</th>\n",
       "      <td>9.800000e+04</td>\n",
       "      <td>6.750000e+05</td>\n",
       "    </tr>\n",
       "    <tr>\n",
       "      <th>max</th>\n",
       "      <td>2.360457e+06</td>\n",
       "      <td>1.000000e+07</td>\n",
       "    </tr>\n",
       "  </tbody>\n",
       "</table>\n",
       "</div>"
      ],
      "text/plain": [
       "          km_driven  selling_price\n",
       "count  8.128000e+03   8.128000e+03\n",
       "mean   6.981951e+04   6.382718e+05\n",
       "std    5.655055e+04   8.062534e+05\n",
       "min    1.000000e+00   2.999900e+04\n",
       "25%    3.500000e+04   2.549990e+05\n",
       "50%    6.000000e+04   4.500000e+05\n",
       "75%    9.800000e+04   6.750000e+05\n",
       "max    2.360457e+06   1.000000e+07"
      ]
     },
     "execution_count": 4,
     "metadata": {},
     "output_type": "execute_result"
    }
   ],
   "source": [
    "df.describe()"
   ]
  },
  {
   "cell_type": "code",
   "execution_count": 5,
   "id": "e04c2771",
   "metadata": {},
   "outputs": [
    {
     "name": "stdout",
     "output_type": "stream",
     "text": [
      "<class 'pandas.core.frame.DataFrame'>\n",
      "RangeIndex: 8128 entries, 0 to 8127\n",
      "Data columns (total 5 columns):\n",
      " #   Column         Non-Null Count  Dtype \n",
      "---  ------         --------------  ----- \n",
      " 0   brand          8128 non-null   object\n",
      " 1   km_driven      8128 non-null   int64 \n",
      " 2   fuel           8128 non-null   object\n",
      " 3   owner          8128 non-null   object\n",
      " 4   selling_price  8128 non-null   int64 \n",
      "dtypes: int64(2), object(3)\n",
      "memory usage: 317.6+ KB\n"
     ]
    }
   ],
   "source": [
    "df.info()"
   ]
  },
  {
   "cell_type": "code",
   "execution_count": 6,
   "id": "7362a261",
   "metadata": {},
   "outputs": [
    {
     "data": {
      "text/plain": [
       "Maruti           2448\n",
       "Hyundai          1415\n",
       "Mahindra          772\n",
       "Tata              734\n",
       "Toyota            488\n",
       "Honda             467\n",
       "Ford              397\n",
       "Chevrolet         230\n",
       "Renault           228\n",
       "Volkswagen        186\n",
       "BMW               120\n",
       "Skoda             105\n",
       "Nissan             81\n",
       "Jaguar             71\n",
       "Volvo              67\n",
       "Datsun             65\n",
       "Mercedes-Benz      54\n",
       "Fiat               47\n",
       "Audi               40\n",
       "Lexus              34\n",
       "Jeep               31\n",
       "Mitsubishi         14\n",
       "Force               6\n",
       "Land                6\n",
       "Isuzu               5\n",
       "Kia                 4\n",
       "Ambassador          4\n",
       "Daewoo              3\n",
       "MG                  3\n",
       "Ashok               1\n",
       "Opel                1\n",
       "Peugeot             1\n",
       "Name: brand, dtype: int64"
      ]
     },
     "execution_count": 6,
     "metadata": {},
     "output_type": "execute_result"
    }
   ],
   "source": [
    "df['brand'].value_counts()"
   ]
  },
  {
   "cell_type": "code",
   "execution_count": 7,
   "id": "9d3daf26",
   "metadata": {},
   "outputs": [
    {
     "data": {
      "text/plain": [
       "32"
      ]
     },
     "execution_count": 7,
     "metadata": {},
     "output_type": "execute_result"
    }
   ],
   "source": [
    "df['brand'].nunique()    #no of brands"
   ]
  },
  {
   "cell_type": "code",
   "execution_count": 8,
   "id": "b7a2cbdd",
   "metadata": {},
   "outputs": [
    {
     "data": {
      "text/plain": [
       "Diesel    4402\n",
       "Petrol    3631\n",
       "CNG         57\n",
       "LPG         38\n",
       "Name: fuel, dtype: int64"
      ]
     },
     "execution_count": 8,
     "metadata": {},
     "output_type": "execute_result"
    }
   ],
   "source": [
    "df['fuel'].value_counts()"
   ]
  },
  {
   "cell_type": "code",
   "execution_count": 9,
   "id": "6f6bd266",
   "metadata": {},
   "outputs": [
    {
     "data": {
      "text/plain": [
       "4"
      ]
     },
     "execution_count": 9,
     "metadata": {},
     "output_type": "execute_result"
    }
   ],
   "source": [
    "df['fuel'].nunique()"
   ]
  },
  {
   "cell_type": "code",
   "execution_count": 10,
   "id": "fccb5962",
   "metadata": {},
   "outputs": [
    {
     "data": {
      "text/plain": [
       "First Owner             5289\n",
       "Second Owner            2105\n",
       "Third Owner              555\n",
       "Fourth & Above Owner     174\n",
       "Test Drive Car             5\n",
       "Name: owner, dtype: int64"
      ]
     },
     "execution_count": 10,
     "metadata": {},
     "output_type": "execute_result"
    }
   ],
   "source": [
    "df['owner'].value_counts()"
   ]
  },
  {
   "cell_type": "markdown",
   "id": "af26e1ed",
   "metadata": {},
   "source": [
    "### One-Hot Encoding using pandas\n",
    "\n",
    "We use pandas OHE technique which is <b style ='color:orange'>get_dummies()</b> method while data analysis. But for End to End ML project it is wise to use <b style = 'color:orange'>Sklearn's OneHotEncoder.</b>\n",
    "<br>\n",
    "\n",
    "- get_dummies() can’t handle the <b style = 'color:orange'>unknown category</b> during the transformation natively. You have to apply some techniques to handle it. But it is not efficient. On the other hand, OneHotEncoder will natively handle unknown categories. All you need to do is set the parameter <b style = 'color:orange'>handle_unknown='ignore'</b> to OneHotEncoder.\n",
    "\n",
    "- Suppose you have a unknown kono category in your test set which is not in your training set. In this case, that category will be <b style = 'color:orange'>inconsistent</b> with train data and will eventually fail during the model building process.\n",
    "\n",
    "- get_dummies() method doesn’t <b style = 'color:orange'>store</b> the information about train data categories. Hence it may result in inconsistencies with train and test data features. "
   ]
  },
  {
   "cell_type": "code",
   "execution_count": 11,
   "id": "3f14787b",
   "metadata": {},
   "outputs": [
    {
     "data": {
      "text/html": [
       "<div>\n",
       "<style scoped>\n",
       "    .dataframe tbody tr th:only-of-type {\n",
       "        vertical-align: middle;\n",
       "    }\n",
       "\n",
       "    .dataframe tbody tr th {\n",
       "        vertical-align: top;\n",
       "    }\n",
       "\n",
       "    .dataframe thead th {\n",
       "        text-align: right;\n",
       "    }\n",
       "</style>\n",
       "<table border=\"1\" class=\"dataframe\">\n",
       "  <thead>\n",
       "    <tr style=\"text-align: right;\">\n",
       "      <th></th>\n",
       "      <th>brand</th>\n",
       "      <th>km_driven</th>\n",
       "      <th>selling_price</th>\n",
       "      <th>fuel_CNG</th>\n",
       "      <th>fuel_Diesel</th>\n",
       "      <th>fuel_LPG</th>\n",
       "      <th>fuel_Petrol</th>\n",
       "      <th>owner_First Owner</th>\n",
       "      <th>owner_Fourth &amp; Above Owner</th>\n",
       "      <th>owner_Second Owner</th>\n",
       "      <th>owner_Test Drive Car</th>\n",
       "      <th>owner_Third Owner</th>\n",
       "    </tr>\n",
       "  </thead>\n",
       "  <tbody>\n",
       "    <tr>\n",
       "      <th>0</th>\n",
       "      <td>Maruti</td>\n",
       "      <td>145500</td>\n",
       "      <td>450000</td>\n",
       "      <td>0</td>\n",
       "      <td>1</td>\n",
       "      <td>0</td>\n",
       "      <td>0</td>\n",
       "      <td>1</td>\n",
       "      <td>0</td>\n",
       "      <td>0</td>\n",
       "      <td>0</td>\n",
       "      <td>0</td>\n",
       "    </tr>\n",
       "    <tr>\n",
       "      <th>1</th>\n",
       "      <td>Skoda</td>\n",
       "      <td>120000</td>\n",
       "      <td>370000</td>\n",
       "      <td>0</td>\n",
       "      <td>1</td>\n",
       "      <td>0</td>\n",
       "      <td>0</td>\n",
       "      <td>0</td>\n",
       "      <td>0</td>\n",
       "      <td>1</td>\n",
       "      <td>0</td>\n",
       "      <td>0</td>\n",
       "    </tr>\n",
       "    <tr>\n",
       "      <th>2</th>\n",
       "      <td>Honda</td>\n",
       "      <td>140000</td>\n",
       "      <td>158000</td>\n",
       "      <td>0</td>\n",
       "      <td>0</td>\n",
       "      <td>0</td>\n",
       "      <td>1</td>\n",
       "      <td>0</td>\n",
       "      <td>0</td>\n",
       "      <td>0</td>\n",
       "      <td>0</td>\n",
       "      <td>1</td>\n",
       "    </tr>\n",
       "    <tr>\n",
       "      <th>3</th>\n",
       "      <td>Hyundai</td>\n",
       "      <td>127000</td>\n",
       "      <td>225000</td>\n",
       "      <td>0</td>\n",
       "      <td>1</td>\n",
       "      <td>0</td>\n",
       "      <td>0</td>\n",
       "      <td>1</td>\n",
       "      <td>0</td>\n",
       "      <td>0</td>\n",
       "      <td>0</td>\n",
       "      <td>0</td>\n",
       "    </tr>\n",
       "    <tr>\n",
       "      <th>4</th>\n",
       "      <td>Maruti</td>\n",
       "      <td>120000</td>\n",
       "      <td>130000</td>\n",
       "      <td>0</td>\n",
       "      <td>0</td>\n",
       "      <td>0</td>\n",
       "      <td>1</td>\n",
       "      <td>1</td>\n",
       "      <td>0</td>\n",
       "      <td>0</td>\n",
       "      <td>0</td>\n",
       "      <td>0</td>\n",
       "    </tr>\n",
       "    <tr>\n",
       "      <th>...</th>\n",
       "      <td>...</td>\n",
       "      <td>...</td>\n",
       "      <td>...</td>\n",
       "      <td>...</td>\n",
       "      <td>...</td>\n",
       "      <td>...</td>\n",
       "      <td>...</td>\n",
       "      <td>...</td>\n",
       "      <td>...</td>\n",
       "      <td>...</td>\n",
       "      <td>...</td>\n",
       "      <td>...</td>\n",
       "    </tr>\n",
       "    <tr>\n",
       "      <th>8123</th>\n",
       "      <td>Hyundai</td>\n",
       "      <td>110000</td>\n",
       "      <td>320000</td>\n",
       "      <td>0</td>\n",
       "      <td>0</td>\n",
       "      <td>0</td>\n",
       "      <td>1</td>\n",
       "      <td>1</td>\n",
       "      <td>0</td>\n",
       "      <td>0</td>\n",
       "      <td>0</td>\n",
       "      <td>0</td>\n",
       "    </tr>\n",
       "    <tr>\n",
       "      <th>8124</th>\n",
       "      <td>Hyundai</td>\n",
       "      <td>119000</td>\n",
       "      <td>135000</td>\n",
       "      <td>0</td>\n",
       "      <td>1</td>\n",
       "      <td>0</td>\n",
       "      <td>0</td>\n",
       "      <td>0</td>\n",
       "      <td>1</td>\n",
       "      <td>0</td>\n",
       "      <td>0</td>\n",
       "      <td>0</td>\n",
       "    </tr>\n",
       "    <tr>\n",
       "      <th>8125</th>\n",
       "      <td>Maruti</td>\n",
       "      <td>120000</td>\n",
       "      <td>382000</td>\n",
       "      <td>0</td>\n",
       "      <td>1</td>\n",
       "      <td>0</td>\n",
       "      <td>0</td>\n",
       "      <td>1</td>\n",
       "      <td>0</td>\n",
       "      <td>0</td>\n",
       "      <td>0</td>\n",
       "      <td>0</td>\n",
       "    </tr>\n",
       "    <tr>\n",
       "      <th>8126</th>\n",
       "      <td>Tata</td>\n",
       "      <td>25000</td>\n",
       "      <td>290000</td>\n",
       "      <td>0</td>\n",
       "      <td>1</td>\n",
       "      <td>0</td>\n",
       "      <td>0</td>\n",
       "      <td>1</td>\n",
       "      <td>0</td>\n",
       "      <td>0</td>\n",
       "      <td>0</td>\n",
       "      <td>0</td>\n",
       "    </tr>\n",
       "    <tr>\n",
       "      <th>8127</th>\n",
       "      <td>Tata</td>\n",
       "      <td>25000</td>\n",
       "      <td>290000</td>\n",
       "      <td>0</td>\n",
       "      <td>1</td>\n",
       "      <td>0</td>\n",
       "      <td>0</td>\n",
       "      <td>1</td>\n",
       "      <td>0</td>\n",
       "      <td>0</td>\n",
       "      <td>0</td>\n",
       "      <td>0</td>\n",
       "    </tr>\n",
       "  </tbody>\n",
       "</table>\n",
       "<p>8128 rows × 12 columns</p>\n",
       "</div>"
      ],
      "text/plain": [
       "        brand  km_driven  selling_price  fuel_CNG  fuel_Diesel  fuel_LPG  \\\n",
       "0      Maruti     145500         450000         0            1         0   \n",
       "1       Skoda     120000         370000         0            1         0   \n",
       "2       Honda     140000         158000         0            0         0   \n",
       "3     Hyundai     127000         225000         0            1         0   \n",
       "4      Maruti     120000         130000         0            0         0   \n",
       "...       ...        ...            ...       ...          ...       ...   \n",
       "8123  Hyundai     110000         320000         0            0         0   \n",
       "8124  Hyundai     119000         135000         0            1         0   \n",
       "8125   Maruti     120000         382000         0            1         0   \n",
       "8126     Tata      25000         290000         0            1         0   \n",
       "8127     Tata      25000         290000         0            1         0   \n",
       "\n",
       "      fuel_Petrol  owner_First Owner  owner_Fourth & Above Owner  \\\n",
       "0               0                  1                           0   \n",
       "1               0                  0                           0   \n",
       "2               1                  0                           0   \n",
       "3               0                  1                           0   \n",
       "4               1                  1                           0   \n",
       "...           ...                ...                         ...   \n",
       "8123            1                  1                           0   \n",
       "8124            0                  0                           1   \n",
       "8125            0                  1                           0   \n",
       "8126            0                  1                           0   \n",
       "8127            0                  1                           0   \n",
       "\n",
       "      owner_Second Owner  owner_Test Drive Car  owner_Third Owner  \n",
       "0                      0                     0                  0  \n",
       "1                      1                     0                  0  \n",
       "2                      0                     0                  1  \n",
       "3                      0                     0                  0  \n",
       "4                      0                     0                  0  \n",
       "...                  ...                   ...                ...  \n",
       "8123                   0                     0                  0  \n",
       "8124                   0                     0                  0  \n",
       "8125                   0                     0                  0  \n",
       "8126                   0                     0                  0  \n",
       "8127                   0                     0                  0  \n",
       "\n",
       "[8128 rows x 12 columns]"
      ]
     },
     "execution_count": 11,
     "metadata": {},
     "output_type": "execute_result"
    }
   ],
   "source": [
    "x = pd.get_dummies(df,columns=['fuel','owner'])   #x has 12 columns in total.\n",
    "x"
   ]
  },
  {
   "cell_type": "markdown",
   "id": "f9cf00a1",
   "metadata": {},
   "source": [
    "### k-1 One-Hot Encoding\n",
    "\n",
    "When we use OHE, we basically create <b style = 'color:orange'>dummy columns / features</b> and as a result the <b style = 'color:orange'>Multicolinearity</b> problem arises. And this known as <b style = 'color:red'>Dummy Variable Trap\"</b>. To avoid this, we drop <b style = 'color:green'>one</b> dummy column for each nominal feature during One-Hot Encoding."
   ]
  },
  {
   "cell_type": "code",
   "execution_count": 12,
   "id": "b6a6b7ab",
   "metadata": {},
   "outputs": [
    {
     "data": {
      "text/html": [
       "<div>\n",
       "<style scoped>\n",
       "    .dataframe tbody tr th:only-of-type {\n",
       "        vertical-align: middle;\n",
       "    }\n",
       "\n",
       "    .dataframe tbody tr th {\n",
       "        vertical-align: top;\n",
       "    }\n",
       "\n",
       "    .dataframe thead th {\n",
       "        text-align: right;\n",
       "    }\n",
       "</style>\n",
       "<table border=\"1\" class=\"dataframe\">\n",
       "  <thead>\n",
       "    <tr style=\"text-align: right;\">\n",
       "      <th></th>\n",
       "      <th>brand</th>\n",
       "      <th>km_driven</th>\n",
       "      <th>selling_price</th>\n",
       "      <th>fuel_Diesel</th>\n",
       "      <th>fuel_LPG</th>\n",
       "      <th>fuel_Petrol</th>\n",
       "      <th>owner_Fourth &amp; Above Owner</th>\n",
       "      <th>owner_Second Owner</th>\n",
       "      <th>owner_Test Drive Car</th>\n",
       "      <th>owner_Third Owner</th>\n",
       "    </tr>\n",
       "  </thead>\n",
       "  <tbody>\n",
       "    <tr>\n",
       "      <th>0</th>\n",
       "      <td>Maruti</td>\n",
       "      <td>145500</td>\n",
       "      <td>450000</td>\n",
       "      <td>1</td>\n",
       "      <td>0</td>\n",
       "      <td>0</td>\n",
       "      <td>0</td>\n",
       "      <td>0</td>\n",
       "      <td>0</td>\n",
       "      <td>0</td>\n",
       "    </tr>\n",
       "    <tr>\n",
       "      <th>1</th>\n",
       "      <td>Skoda</td>\n",
       "      <td>120000</td>\n",
       "      <td>370000</td>\n",
       "      <td>1</td>\n",
       "      <td>0</td>\n",
       "      <td>0</td>\n",
       "      <td>0</td>\n",
       "      <td>1</td>\n",
       "      <td>0</td>\n",
       "      <td>0</td>\n",
       "    </tr>\n",
       "    <tr>\n",
       "      <th>2</th>\n",
       "      <td>Honda</td>\n",
       "      <td>140000</td>\n",
       "      <td>158000</td>\n",
       "      <td>0</td>\n",
       "      <td>0</td>\n",
       "      <td>1</td>\n",
       "      <td>0</td>\n",
       "      <td>0</td>\n",
       "      <td>0</td>\n",
       "      <td>1</td>\n",
       "    </tr>\n",
       "    <tr>\n",
       "      <th>3</th>\n",
       "      <td>Hyundai</td>\n",
       "      <td>127000</td>\n",
       "      <td>225000</td>\n",
       "      <td>1</td>\n",
       "      <td>0</td>\n",
       "      <td>0</td>\n",
       "      <td>0</td>\n",
       "      <td>0</td>\n",
       "      <td>0</td>\n",
       "      <td>0</td>\n",
       "    </tr>\n",
       "    <tr>\n",
       "      <th>4</th>\n",
       "      <td>Maruti</td>\n",
       "      <td>120000</td>\n",
       "      <td>130000</td>\n",
       "      <td>0</td>\n",
       "      <td>0</td>\n",
       "      <td>1</td>\n",
       "      <td>0</td>\n",
       "      <td>0</td>\n",
       "      <td>0</td>\n",
       "      <td>0</td>\n",
       "    </tr>\n",
       "    <tr>\n",
       "      <th>...</th>\n",
       "      <td>...</td>\n",
       "      <td>...</td>\n",
       "      <td>...</td>\n",
       "      <td>...</td>\n",
       "      <td>...</td>\n",
       "      <td>...</td>\n",
       "      <td>...</td>\n",
       "      <td>...</td>\n",
       "      <td>...</td>\n",
       "      <td>...</td>\n",
       "    </tr>\n",
       "    <tr>\n",
       "      <th>8123</th>\n",
       "      <td>Hyundai</td>\n",
       "      <td>110000</td>\n",
       "      <td>320000</td>\n",
       "      <td>0</td>\n",
       "      <td>0</td>\n",
       "      <td>1</td>\n",
       "      <td>0</td>\n",
       "      <td>0</td>\n",
       "      <td>0</td>\n",
       "      <td>0</td>\n",
       "    </tr>\n",
       "    <tr>\n",
       "      <th>8124</th>\n",
       "      <td>Hyundai</td>\n",
       "      <td>119000</td>\n",
       "      <td>135000</td>\n",
       "      <td>1</td>\n",
       "      <td>0</td>\n",
       "      <td>0</td>\n",
       "      <td>1</td>\n",
       "      <td>0</td>\n",
       "      <td>0</td>\n",
       "      <td>0</td>\n",
       "    </tr>\n",
       "    <tr>\n",
       "      <th>8125</th>\n",
       "      <td>Maruti</td>\n",
       "      <td>120000</td>\n",
       "      <td>382000</td>\n",
       "      <td>1</td>\n",
       "      <td>0</td>\n",
       "      <td>0</td>\n",
       "      <td>0</td>\n",
       "      <td>0</td>\n",
       "      <td>0</td>\n",
       "      <td>0</td>\n",
       "    </tr>\n",
       "    <tr>\n",
       "      <th>8126</th>\n",
       "      <td>Tata</td>\n",
       "      <td>25000</td>\n",
       "      <td>290000</td>\n",
       "      <td>1</td>\n",
       "      <td>0</td>\n",
       "      <td>0</td>\n",
       "      <td>0</td>\n",
       "      <td>0</td>\n",
       "      <td>0</td>\n",
       "      <td>0</td>\n",
       "    </tr>\n",
       "    <tr>\n",
       "      <th>8127</th>\n",
       "      <td>Tata</td>\n",
       "      <td>25000</td>\n",
       "      <td>290000</td>\n",
       "      <td>1</td>\n",
       "      <td>0</td>\n",
       "      <td>0</td>\n",
       "      <td>0</td>\n",
       "      <td>0</td>\n",
       "      <td>0</td>\n",
       "      <td>0</td>\n",
       "    </tr>\n",
       "  </tbody>\n",
       "</table>\n",
       "<p>8128 rows × 10 columns</p>\n",
       "</div>"
      ],
      "text/plain": [
       "        brand  km_driven  selling_price  fuel_Diesel  fuel_LPG  fuel_Petrol  \\\n",
       "0      Maruti     145500         450000            1         0            0   \n",
       "1       Skoda     120000         370000            1         0            0   \n",
       "2       Honda     140000         158000            0         0            1   \n",
       "3     Hyundai     127000         225000            1         0            0   \n",
       "4      Maruti     120000         130000            0         0            1   \n",
       "...       ...        ...            ...          ...       ...          ...   \n",
       "8123  Hyundai     110000         320000            0         0            1   \n",
       "8124  Hyundai     119000         135000            1         0            0   \n",
       "8125   Maruti     120000         382000            1         0            0   \n",
       "8126     Tata      25000         290000            1         0            0   \n",
       "8127     Tata      25000         290000            1         0            0   \n",
       "\n",
       "      owner_Fourth & Above Owner  owner_Second Owner  owner_Test Drive Car  \\\n",
       "0                              0                   0                     0   \n",
       "1                              0                   1                     0   \n",
       "2                              0                   0                     0   \n",
       "3                              0                   0                     0   \n",
       "4                              0                   0                     0   \n",
       "...                          ...                 ...                   ...   \n",
       "8123                           0                   0                     0   \n",
       "8124                           1                   0                     0   \n",
       "8125                           0                   0                     0   \n",
       "8126                           0                   0                     0   \n",
       "8127                           0                   0                     0   \n",
       "\n",
       "      owner_Third Owner  \n",
       "0                     0  \n",
       "1                     0  \n",
       "2                     1  \n",
       "3                     0  \n",
       "4                     0  \n",
       "...                 ...  \n",
       "8123                  0  \n",
       "8124                  0  \n",
       "8125                  0  \n",
       "8126                  0  \n",
       "8127                  0  \n",
       "\n",
       "[8128 rows x 10 columns]"
      ]
     },
     "execution_count": 12,
     "metadata": {},
     "output_type": "execute_result"
    }
   ],
   "source": [
    "\"\"\"\n",
    "if there are k categories then there will be k-1 columns for a certain feature/column.\n",
    "\"\"\"\n",
    "pd.get_dummies(df,columns=['fuel','owner'],drop_first=True)   #10 ta notun column hobe"
   ]
  },
  {
   "cell_type": "markdown",
   "id": "78add0cf",
   "metadata": {},
   "source": [
    "### One-Hot Encoding using sklearn \n",
    "\n",
    "- OneHotEncoder object <b style = 'color:orange'>stores</b> the information about categories from the training dataset. So, whenever it encounters any unknown categories during transformation on test set, it will <b style = 'color:orange'>ignore</b> them and the number of features will remain the same as the training data. \n",
    "\n",
    " \n",
    "- If you want to put your machine learning model into production, <b style = 'color:orange'>Scikit-learn Pipeline</b> will be very useful. But, get_dummies is not <b style = 'color:orange'>compatible</b> with the Scikit-learn pipeline. It requires you to create your own transformer. On the other hand, OneHotEncoder is compatible with the Scikit-learn pipeline. \n",
    "\n",
    "- <b style = 'color:orange'>handle_unknown</b> — this is an important parameter. If <b style = 'color:red'>‘raise’</b>, when an unknown categorical feature is present it will raise the error. If <b style = 'color:red'>‘ignore’</b>, a new feature will be created with all values of zero."
   ]
  },
  {
   "cell_type": "code",
   "execution_count": 13,
   "id": "a0dbc092",
   "metadata": {},
   "outputs": [],
   "source": [
    "from sklearn.model_selection import train_test_split\n",
    "X_train,X_test,y_train,y_test = train_test_split(df.iloc[:,0:4],df.iloc[:,-1],test_size = 0.2,random_state = 2)"
   ]
  },
  {
   "cell_type": "code",
   "execution_count": 14,
   "id": "b7740024",
   "metadata": {},
   "outputs": [
    {
     "data": {
      "text/html": [
       "<div>\n",
       "<style scoped>\n",
       "    .dataframe tbody tr th:only-of-type {\n",
       "        vertical-align: middle;\n",
       "    }\n",
       "\n",
       "    .dataframe tbody tr th {\n",
       "        vertical-align: top;\n",
       "    }\n",
       "\n",
       "    .dataframe thead th {\n",
       "        text-align: right;\n",
       "    }\n",
       "</style>\n",
       "<table border=\"1\" class=\"dataframe\">\n",
       "  <thead>\n",
       "    <tr style=\"text-align: right;\">\n",
       "      <th></th>\n",
       "      <th>brand</th>\n",
       "      <th>km_driven</th>\n",
       "      <th>fuel</th>\n",
       "      <th>owner</th>\n",
       "    </tr>\n",
       "  </thead>\n",
       "  <tbody>\n",
       "    <tr>\n",
       "      <th>5571</th>\n",
       "      <td>Hyundai</td>\n",
       "      <td>35000</td>\n",
       "      <td>Diesel</td>\n",
       "      <td>First Owner</td>\n",
       "    </tr>\n",
       "    <tr>\n",
       "      <th>2038</th>\n",
       "      <td>Jeep</td>\n",
       "      <td>60000</td>\n",
       "      <td>Diesel</td>\n",
       "      <td>First Owner</td>\n",
       "    </tr>\n",
       "    <tr>\n",
       "      <th>2957</th>\n",
       "      <td>Hyundai</td>\n",
       "      <td>25000</td>\n",
       "      <td>Petrol</td>\n",
       "      <td>First Owner</td>\n",
       "    </tr>\n",
       "    <tr>\n",
       "      <th>7618</th>\n",
       "      <td>Mahindra</td>\n",
       "      <td>130000</td>\n",
       "      <td>Diesel</td>\n",
       "      <td>Second Owner</td>\n",
       "    </tr>\n",
       "    <tr>\n",
       "      <th>6684</th>\n",
       "      <td>Hyundai</td>\n",
       "      <td>155000</td>\n",
       "      <td>Diesel</td>\n",
       "      <td>First Owner</td>\n",
       "    </tr>\n",
       "  </tbody>\n",
       "</table>\n",
       "</div>"
      ],
      "text/plain": [
       "         brand  km_driven    fuel         owner\n",
       "5571   Hyundai      35000  Diesel   First Owner\n",
       "2038      Jeep      60000  Diesel   First Owner\n",
       "2957   Hyundai      25000  Petrol   First Owner\n",
       "7618  Mahindra     130000  Diesel  Second Owner\n",
       "6684   Hyundai     155000  Diesel   First Owner"
      ]
     },
     "execution_count": 14,
     "metadata": {},
     "output_type": "execute_result"
    }
   ],
   "source": [
    "X_train.head()"
   ]
  },
  {
   "cell_type": "markdown",
   "id": "6def8ed4",
   "metadata": {},
   "source": [
    "### Append After Doing Encoding Manually.\n",
    "\n",
    "When you use OneHotEncoder(), you first transform the column and then you append it to the original data. But when we use <b style = 'color:orange'>columntransformer</b> the whole process can be done in a single step. But for learning purposes, we will see how to manually handle this type of appending after the transformation."
   ]
  },
  {
   "cell_type": "code",
   "execution_count": 15,
   "id": "232e471d",
   "metadata": {},
   "outputs": [],
   "source": [
    "from sklearn.preprocessing import OneHotEncoder"
   ]
  },
  {
   "cell_type": "code",
   "execution_count": 16,
   "id": "3dca0cfb",
   "metadata": {},
   "outputs": [],
   "source": [
    "ohe = OneHotEncoder(drop='first')   #Dropping the first dummy column to avoid multicolinearity problem "
   ]
  },
  {
   "cell_type": "code",
   "execution_count": 17,
   "id": "d5e0935a",
   "metadata": {},
   "outputs": [
    {
     "data": {
      "text/plain": [
       "<6502x7 sparse matrix of type '<class 'numpy.float64'>'\n",
       "\twith 8746 stored elements in Compressed Sparse Row format>"
      ]
     },
     "execution_count": 17,
     "metadata": {},
     "output_type": "execute_result"
    }
   ],
   "source": [
    "ohe.fit_transform(X_train[['fuel','owner']])"
   ]
  },
  {
   "cell_type": "code",
   "execution_count": 18,
   "id": "55e09c3f",
   "metadata": {},
   "outputs": [
    {
     "data": {
      "text/plain": [
       "array([[1., 0., 0., ..., 0., 0., 0.],\n",
       "       [1., 0., 0., ..., 0., 0., 0.],\n",
       "       [0., 0., 1., ..., 0., 0., 0.],\n",
       "       ...,\n",
       "       [0., 0., 1., ..., 0., 0., 0.],\n",
       "       [1., 0., 0., ..., 1., 0., 0.],\n",
       "       [1., 0., 0., ..., 0., 0., 0.]])"
      ]
     },
     "execution_count": 18,
     "metadata": {},
     "output_type": "execute_result"
    }
   ],
   "source": [
    "X_train_new = ohe.fit_transform(X_train[['fuel','owner']]).toarray()\n",
    "X_train_new"
   ]
  },
  {
   "cell_type": "code",
   "execution_count": 19,
   "id": "9a631a08",
   "metadata": {},
   "outputs": [
    {
     "data": {
      "text/plain": [
       "(6502, 7)"
      ]
     },
     "execution_count": 19,
     "metadata": {},
     "output_type": "execute_result"
    }
   ],
   "source": [
    "X_train_new.shape"
   ]
  },
  {
   "cell_type": "code",
   "execution_count": 20,
   "id": "c892fbd8",
   "metadata": {},
   "outputs": [
    {
     "data": {
      "text/plain": [
       "array([[1., 0., 0., ..., 0., 0., 0.],\n",
       "       [1., 0., 0., ..., 0., 0., 0.],\n",
       "       [0., 0., 1., ..., 0., 0., 0.],\n",
       "       ...,\n",
       "       [0., 0., 1., ..., 0., 0., 0.],\n",
       "       [1., 0., 0., ..., 1., 0., 0.],\n",
       "       [1., 0., 0., ..., 0., 0., 0.]])"
      ]
     },
     "execution_count": 20,
     "metadata": {},
     "output_type": "execute_result"
    }
   ],
   "source": [
    "X_test_new = ohe.transform(X_train[['fuel','owner']]).toarray()\n",
    "X_test_new"
   ]
  },
  {
   "cell_type": "code",
   "execution_count": 21,
   "id": "bbcf85fa",
   "metadata": {},
   "outputs": [
    {
     "data": {
      "text/plain": [
       "array([['Hyundai', 35000],\n",
       "       ['Jeep', 60000],\n",
       "       ['Hyundai', 25000],\n",
       "       ...,\n",
       "       ['Tata', 15000],\n",
       "       ['Maruti', 32500],\n",
       "       ['Isuzu', 121000]], dtype=object)"
      ]
     },
     "execution_count": 21,
     "metadata": {},
     "output_type": "execute_result"
    }
   ],
   "source": [
    "X_train[['brand','km_driven']].values"
   ]
  },
  {
   "cell_type": "code",
   "execution_count": 22,
   "id": "0c8435a1",
   "metadata": {},
   "outputs": [
    {
     "data": {
      "text/plain": [
       "'\\nSame as hstack()\\n'"
      ]
     },
     "execution_count": 22,
     "metadata": {},
     "output_type": "execute_result"
    }
   ],
   "source": [
    "\"\"\"\n",
    "Same as hstack()\n",
    "\"\"\"\n",
    "#np.concatenate((X_train[['brand','km_driven']].values,X_train_new),axis = 1)\n",
    "#np.concatenate((X_train[['brand','km_driven']].values,X_train_new),axis = 1).shape\n",
    "#type(np.concatenate((X_train[['brand','km_driven']].values,X_train_new),axis = 1))"
   ]
  },
  {
   "cell_type": "code",
   "execution_count": 23,
   "id": "61260f4b",
   "metadata": {},
   "outputs": [
    {
     "data": {
      "text/plain": [
       "array([['Hyundai', 35000, 1.0, ..., 0.0, 0.0, 0.0],\n",
       "       ['Jeep', 60000, 1.0, ..., 0.0, 0.0, 0.0],\n",
       "       ['Hyundai', 25000, 0.0, ..., 0.0, 0.0, 0.0],\n",
       "       ...,\n",
       "       ['Tata', 15000, 0.0, ..., 0.0, 0.0, 0.0],\n",
       "       ['Maruti', 32500, 1.0, ..., 1.0, 0.0, 0.0],\n",
       "       ['Isuzu', 121000, 1.0, ..., 0.0, 0.0, 0.0]], dtype=object)"
      ]
     },
     "execution_count": 23,
     "metadata": {},
     "output_type": "execute_result"
    }
   ],
   "source": [
    "np.hstack((X_train[['brand','km_driven']].values,X_train_new))"
   ]
  },
  {
   "cell_type": "code",
   "execution_count": 24,
   "id": "823d5fc9",
   "metadata": {},
   "outputs": [
    {
     "data": {
      "text/plain": [
       "numpy.ndarray"
      ]
     },
     "execution_count": 24,
     "metadata": {},
     "output_type": "execute_result"
    }
   ],
   "source": [
    "type(np.hstack((X_train[['brand','km_driven']].values,X_train_new)))"
   ]
  },
  {
   "cell_type": "code",
   "execution_count": 25,
   "id": "1402e2f7",
   "metadata": {},
   "outputs": [
    {
     "data": {
      "text/plain": [
       "(6502, 9)"
      ]
     },
     "execution_count": 25,
     "metadata": {},
     "output_type": "execute_result"
    }
   ],
   "source": [
    "np.hstack((X_train[['brand','km_driven']].values,X_train_new)).shape"
   ]
  },
  {
   "cell_type": "code",
   "execution_count": 26,
   "id": "4cf1a326",
   "metadata": {},
   "outputs": [],
   "source": [
    "\"\"\"\n",
    "When you set sparse as False, then you don't need to convert the result into a numpy array manually.\n",
    "\"\"\"\n",
    "ohe = OneHotEncoder(sparse=False,drop = 'first',dtype=np.int32)  "
   ]
  },
  {
   "cell_type": "code",
   "execution_count": 27,
   "id": "ba00b0d2",
   "metadata": {},
   "outputs": [
    {
     "data": {
      "text/plain": [
       "array([[1, 0, 0, ..., 0, 0, 0],\n",
       "       [1, 0, 0, ..., 0, 0, 0],\n",
       "       [0, 0, 1, ..., 0, 0, 0],\n",
       "       ...,\n",
       "       [0, 0, 1, ..., 0, 0, 0],\n",
       "       [1, 0, 0, ..., 1, 0, 0],\n",
       "       [1, 0, 0, ..., 0, 0, 0]])"
      ]
     },
     "execution_count": 27,
     "metadata": {},
     "output_type": "execute_result"
    }
   ],
   "source": [
    "ohe.fit_transform(X_train[['fuel','owner']])"
   ]
  },
  {
   "cell_type": "code",
   "execution_count": 28,
   "id": "9b0be8f4",
   "metadata": {},
   "outputs": [
    {
     "data": {
      "text/plain": [
       "array([[0, 0, 1, ..., 0, 0, 0],\n",
       "       [1, 0, 0, ..., 1, 0, 0],\n",
       "       [0, 0, 1, ..., 0, 0, 0],\n",
       "       ...,\n",
       "       [0, 0, 1, ..., 0, 0, 0],\n",
       "       [0, 0, 1, ..., 1, 0, 0],\n",
       "       [1, 0, 0, ..., 0, 0, 0]])"
      ]
     },
     "execution_count": 28,
     "metadata": {},
     "output_type": "execute_result"
    }
   ],
   "source": [
    "X_train_new = ohe.fit_transform(X_train[['fuel','owner']])\n",
    "X_test_new = ohe.fit_transform(X_test[['fuel','owner']])\n",
    "X_test_new"
   ]
  },
  {
   "cell_type": "code",
   "execution_count": 29,
   "id": "80619041",
   "metadata": {},
   "outputs": [
    {
     "data": {
      "text/plain": [
       "array([['Hyundai', 35000, 1, ..., 0, 0, 0],\n",
       "       ['Jeep', 60000, 1, ..., 0, 0, 0],\n",
       "       ['Hyundai', 25000, 0, ..., 0, 0, 0],\n",
       "       ...,\n",
       "       ['Tata', 15000, 0, ..., 0, 0, 0],\n",
       "       ['Maruti', 32500, 1, ..., 1, 0, 0],\n",
       "       ['Isuzu', 121000, 1, ..., 0, 0, 0]], dtype=object)"
      ]
     },
     "execution_count": 29,
     "metadata": {},
     "output_type": "execute_result"
    }
   ],
   "source": [
    "np.concatenate((X_train[['brand','km_driven']].values,X_train_new),axis = 1)"
   ]
  },
  {
   "cell_type": "markdown",
   "id": "a6e91e3f",
   "metadata": {},
   "source": [
    "### One-Hot Encoding with top categories with Pandas "
   ]
  },
  {
   "cell_type": "code",
   "execution_count": 30,
   "id": "182d5e49",
   "metadata": {},
   "outputs": [
    {
     "data": {
      "text/plain": [
       "Maruti           2448\n",
       "Hyundai          1415\n",
       "Mahindra          772\n",
       "Tata              734\n",
       "Toyota            488\n",
       "Honda             467\n",
       "Ford              397\n",
       "Chevrolet         230\n",
       "Renault           228\n",
       "Volkswagen        186\n",
       "BMW               120\n",
       "Skoda             105\n",
       "Nissan             81\n",
       "Jaguar             71\n",
       "Volvo              67\n",
       "Datsun             65\n",
       "Mercedes-Benz      54\n",
       "Fiat               47\n",
       "Audi               40\n",
       "Lexus              34\n",
       "Jeep               31\n",
       "Mitsubishi         14\n",
       "Force               6\n",
       "Land                6\n",
       "Isuzu               5\n",
       "Kia                 4\n",
       "Ambassador          4\n",
       "Daewoo              3\n",
       "MG                  3\n",
       "Ashok               1\n",
       "Opel                1\n",
       "Peugeot             1\n",
       "Name: brand, dtype: int64"
      ]
     },
     "execution_count": 30,
     "metadata": {},
     "output_type": "execute_result"
    }
   ],
   "source": [
    "counts = df['brand'].value_counts()\n",
    "counts"
   ]
  },
  {
   "cell_type": "code",
   "execution_count": 31,
   "id": "2ca124ea",
   "metadata": {},
   "outputs": [
    {
     "data": {
      "text/plain": [
       "32"
      ]
     },
     "execution_count": 31,
     "metadata": {},
     "output_type": "execute_result"
    }
   ],
   "source": [
    "df['brand'].nunique()"
   ]
  },
  {
   "cell_type": "code",
   "execution_count": 32,
   "id": "32670192",
   "metadata": {},
   "outputs": [
    {
     "data": {
      "text/plain": [
       "Index(['Nissan', 'Jaguar', 'Volvo', 'Datsun', 'Mercedes-Benz', 'Fiat', 'Audi',\n",
       "       'Lexus', 'Jeep', 'Mitsubishi', 'Force', 'Land', 'Isuzu', 'Kia',\n",
       "       'Ambassador', 'Daewoo', 'MG', 'Ashok', 'Opel', 'Peugeot'],\n",
       "      dtype='object')"
      ]
     },
     "execution_count": 32,
     "metadata": {},
     "output_type": "execute_result"
    }
   ],
   "source": [
    "threshold = 100\n",
    "\n",
    "\"\"\"\n",
    "Storing all the names of the brands in a list that lies under threshold into a new variable.\n",
    "\"\"\"\n",
    "\n",
    "repl = counts[counts <= threshold].index\n",
    "repl"
   ]
  },
  {
   "cell_type": "code",
   "execution_count": 33,
   "id": "20357a63",
   "metadata": {},
   "outputs": [
    {
     "data": {
      "text/html": [
       "<div>\n",
       "<style scoped>\n",
       "    .dataframe tbody tr th:only-of-type {\n",
       "        vertical-align: middle;\n",
       "    }\n",
       "\n",
       "    .dataframe tbody tr th {\n",
       "        vertical-align: top;\n",
       "    }\n",
       "\n",
       "    .dataframe thead th {\n",
       "        text-align: right;\n",
       "    }\n",
       "</style>\n",
       "<table border=\"1\" class=\"dataframe\">\n",
       "  <thead>\n",
       "    <tr style=\"text-align: right;\">\n",
       "      <th></th>\n",
       "      <th>BMW</th>\n",
       "      <th>Chevrolet</th>\n",
       "      <th>Ford</th>\n",
       "      <th>Honda</th>\n",
       "      <th>Hyundai</th>\n",
       "      <th>Mahindra</th>\n",
       "      <th>Maruti</th>\n",
       "      <th>Renault</th>\n",
       "      <th>Skoda</th>\n",
       "      <th>Tata</th>\n",
       "      <th>Toyota</th>\n",
       "      <th>Volkswagen</th>\n",
       "      <th>uncommon</th>\n",
       "    </tr>\n",
       "  </thead>\n",
       "  <tbody>\n",
       "    <tr>\n",
       "      <th>4893</th>\n",
       "      <td>0</td>\n",
       "      <td>0</td>\n",
       "      <td>0</td>\n",
       "      <td>0</td>\n",
       "      <td>0</td>\n",
       "      <td>0</td>\n",
       "      <td>1</td>\n",
       "      <td>0</td>\n",
       "      <td>0</td>\n",
       "      <td>0</td>\n",
       "      <td>0</td>\n",
       "      <td>0</td>\n",
       "      <td>0</td>\n",
       "    </tr>\n",
       "    <tr>\n",
       "      <th>2541</th>\n",
       "      <td>0</td>\n",
       "      <td>0</td>\n",
       "      <td>0</td>\n",
       "      <td>0</td>\n",
       "      <td>0</td>\n",
       "      <td>1</td>\n",
       "      <td>0</td>\n",
       "      <td>0</td>\n",
       "      <td>0</td>\n",
       "      <td>0</td>\n",
       "      <td>0</td>\n",
       "      <td>0</td>\n",
       "      <td>0</td>\n",
       "    </tr>\n",
       "    <tr>\n",
       "      <th>994</th>\n",
       "      <td>0</td>\n",
       "      <td>0</td>\n",
       "      <td>0</td>\n",
       "      <td>0</td>\n",
       "      <td>0</td>\n",
       "      <td>1</td>\n",
       "      <td>0</td>\n",
       "      <td>0</td>\n",
       "      <td>0</td>\n",
       "      <td>0</td>\n",
       "      <td>0</td>\n",
       "      <td>0</td>\n",
       "      <td>0</td>\n",
       "    </tr>\n",
       "    <tr>\n",
       "      <th>5463</th>\n",
       "      <td>0</td>\n",
       "      <td>0</td>\n",
       "      <td>0</td>\n",
       "      <td>0</td>\n",
       "      <td>0</td>\n",
       "      <td>0</td>\n",
       "      <td>0</td>\n",
       "      <td>0</td>\n",
       "      <td>0</td>\n",
       "      <td>0</td>\n",
       "      <td>0</td>\n",
       "      <td>1</td>\n",
       "      <td>0</td>\n",
       "    </tr>\n",
       "    <tr>\n",
       "      <th>2815</th>\n",
       "      <td>0</td>\n",
       "      <td>0</td>\n",
       "      <td>0</td>\n",
       "      <td>0</td>\n",
       "      <td>0</td>\n",
       "      <td>1</td>\n",
       "      <td>0</td>\n",
       "      <td>0</td>\n",
       "      <td>0</td>\n",
       "      <td>0</td>\n",
       "      <td>0</td>\n",
       "      <td>0</td>\n",
       "      <td>0</td>\n",
       "    </tr>\n",
       "    <tr>\n",
       "      <th>912</th>\n",
       "      <td>0</td>\n",
       "      <td>0</td>\n",
       "      <td>0</td>\n",
       "      <td>0</td>\n",
       "      <td>0</td>\n",
       "      <td>0</td>\n",
       "      <td>0</td>\n",
       "      <td>0</td>\n",
       "      <td>0</td>\n",
       "      <td>1</td>\n",
       "      <td>0</td>\n",
       "      <td>0</td>\n",
       "      <td>0</td>\n",
       "    </tr>\n",
       "    <tr>\n",
       "      <th>5866</th>\n",
       "      <td>0</td>\n",
       "      <td>0</td>\n",
       "      <td>0</td>\n",
       "      <td>0</td>\n",
       "      <td>0</td>\n",
       "      <td>0</td>\n",
       "      <td>1</td>\n",
       "      <td>0</td>\n",
       "      <td>0</td>\n",
       "      <td>0</td>\n",
       "      <td>0</td>\n",
       "      <td>0</td>\n",
       "      <td>0</td>\n",
       "    </tr>\n",
       "    <tr>\n",
       "      <th>5430</th>\n",
       "      <td>0</td>\n",
       "      <td>0</td>\n",
       "      <td>0</td>\n",
       "      <td>0</td>\n",
       "      <td>0</td>\n",
       "      <td>1</td>\n",
       "      <td>0</td>\n",
       "      <td>0</td>\n",
       "      <td>0</td>\n",
       "      <td>0</td>\n",
       "      <td>0</td>\n",
       "      <td>0</td>\n",
       "      <td>0</td>\n",
       "    </tr>\n",
       "    <tr>\n",
       "      <th>5137</th>\n",
       "      <td>0</td>\n",
       "      <td>0</td>\n",
       "      <td>0</td>\n",
       "      <td>0</td>\n",
       "      <td>0</td>\n",
       "      <td>0</td>\n",
       "      <td>1</td>\n",
       "      <td>0</td>\n",
       "      <td>0</td>\n",
       "      <td>0</td>\n",
       "      <td>0</td>\n",
       "      <td>0</td>\n",
       "      <td>0</td>\n",
       "    </tr>\n",
       "    <tr>\n",
       "      <th>7196</th>\n",
       "      <td>0</td>\n",
       "      <td>0</td>\n",
       "      <td>0</td>\n",
       "      <td>0</td>\n",
       "      <td>1</td>\n",
       "      <td>0</td>\n",
       "      <td>0</td>\n",
       "      <td>0</td>\n",
       "      <td>0</td>\n",
       "      <td>0</td>\n",
       "      <td>0</td>\n",
       "      <td>0</td>\n",
       "      <td>0</td>\n",
       "    </tr>\n",
       "  </tbody>\n",
       "</table>\n",
       "</div>"
      ],
      "text/plain": [
       "      BMW  Chevrolet  Ford  Honda  Hyundai  Mahindra  Maruti  Renault  Skoda  \\\n",
       "4893    0          0     0      0        0         0       1        0      0   \n",
       "2541    0          0     0      0        0         1       0        0      0   \n",
       "994     0          0     0      0        0         1       0        0      0   \n",
       "5463    0          0     0      0        0         0       0        0      0   \n",
       "2815    0          0     0      0        0         1       0        0      0   \n",
       "912     0          0     0      0        0         0       0        0      0   \n",
       "5866    0          0     0      0        0         0       1        0      0   \n",
       "5430    0          0     0      0        0         1       0        0      0   \n",
       "5137    0          0     0      0        0         0       1        0      0   \n",
       "7196    0          0     0      0        1         0       0        0      0   \n",
       "\n",
       "      Tata  Toyota  Volkswagen  uncommon  \n",
       "4893     0       0           0         0  \n",
       "2541     0       0           0         0  \n",
       "994      0       0           0         0  \n",
       "5463     0       0           1         0  \n",
       "2815     0       0           0         0  \n",
       "912      1       0           0         0  \n",
       "5866     0       0           0         0  \n",
       "5430     0       0           0         0  \n",
       "5137     0       0           0         0  \n",
       "7196     0       0           0         0  "
      ]
     },
     "execution_count": 33,
     "metadata": {},
     "output_type": "execute_result"
    }
   ],
   "source": [
    "pd.get_dummies(df['brand'].replace(repl,'uncommon')).sample(10)"
   ]
  },
  {
   "cell_type": "code",
   "execution_count": 34,
   "id": "856c6ca9",
   "metadata": {},
   "outputs": [
    {
     "data": {
      "text/html": [
       "<div>\n",
       "<style scoped>\n",
       "    .dataframe tbody tr th:only-of-type {\n",
       "        vertical-align: middle;\n",
       "    }\n",
       "\n",
       "    .dataframe tbody tr th {\n",
       "        vertical-align: top;\n",
       "    }\n",
       "\n",
       "    .dataframe thead th {\n",
       "        text-align: right;\n",
       "    }\n",
       "</style>\n",
       "<table border=\"1\" class=\"dataframe\">\n",
       "  <thead>\n",
       "    <tr style=\"text-align: right;\">\n",
       "      <th></th>\n",
       "      <th>brand</th>\n",
       "      <th>km_driven</th>\n",
       "      <th>fuel</th>\n",
       "      <th>owner</th>\n",
       "      <th>selling_price</th>\n",
       "    </tr>\n",
       "  </thead>\n",
       "  <tbody>\n",
       "    <tr>\n",
       "      <th>3240</th>\n",
       "      <td>Land</td>\n",
       "      <td>21000</td>\n",
       "      <td>Diesel</td>\n",
       "      <td>First Owner</td>\n",
       "      <td>4500000</td>\n",
       "    </tr>\n",
       "    <tr>\n",
       "      <th>4872</th>\n",
       "      <td>Fiat</td>\n",
       "      <td>153000</td>\n",
       "      <td>Diesel</td>\n",
       "      <td>Second Owner</td>\n",
       "      <td>150000</td>\n",
       "    </tr>\n",
       "  </tbody>\n",
       "</table>\n",
       "</div>"
      ],
      "text/plain": [
       "     brand  km_driven    fuel         owner  selling_price\n",
       "3240  Land      21000  Diesel   First Owner        4500000\n",
       "4872  Fiat     153000  Diesel  Second Owner         150000"
      ]
     },
     "execution_count": 34,
     "metadata": {},
     "output_type": "execute_result"
    }
   ],
   "source": [
    "df.iloc[[3240,4872],:]"
   ]
  },
  {
   "cell_type": "code",
   "execution_count": 35,
   "id": "e06fcf00",
   "metadata": {},
   "outputs": [
    {
     "data": {
      "text/plain": [
       "6318          Tata\n",
       "6115    Volkswagen\n",
       "7488       Hyundai\n",
       "302         Maruti\n",
       "5185        Maruti\n",
       "3897        Maruti\n",
       "927           Tata\n",
       "3616          Tata\n",
       "1339       Hyundai\n",
       "6411    Volkswagen\n",
       "3841        Maruti\n",
       "653         Maruti\n",
       "7729        Maruti\n",
       "4225        Maruti\n",
       "6047          Ford\n",
       "Name: brand, dtype: object"
      ]
     },
     "execution_count": 35,
     "metadata": {},
     "output_type": "execute_result"
    }
   ],
   "source": [
    "df['brand'].replace(repl,'uncommon').sample(15)"
   ]
  },
  {
   "cell_type": "code",
   "execution_count": 60,
   "id": "80f19a84",
   "metadata": {},
   "outputs": [
    {
     "data": {
      "text/plain": [
       "Maruti        2448\n",
       "Hyundai       1415\n",
       "Mahindra       772\n",
       "Tata           734\n",
       "uncommon       538\n",
       "Toyota         488\n",
       "Honda          467\n",
       "Ford           397\n",
       "Chevrolet      230\n",
       "Renault        228\n",
       "Volkswagen     186\n",
       "BMW            120\n",
       "Skoda          105\n",
       "Name: brand, dtype: int64"
      ]
     },
     "execution_count": 60,
     "metadata": {},
     "output_type": "execute_result"
    }
   ],
   "source": [
    "threshold = 100\n",
    "count1 = df['brand'].value_counts()\n",
    "repl1 = count1[count1 <= threshold].index\n",
    "df['brand'].replace(repl1,'uncommon').value_counts()"
   ]
  },
  {
   "cell_type": "code",
   "execution_count": 61,
   "id": "d6d0a51d",
   "metadata": {},
   "outputs": [
    {
     "data": {
      "text/plain": [
       "(6502, 33)"
      ]
     },
     "execution_count": 61,
     "metadata": {},
     "output_type": "execute_result"
    }
   ],
   "source": [
    "ohe1 = OneHotEncoder(sparse=False,drop = 'first')\n",
    "X_train_new = ohe1.fit_transform(X_train[['brand','fuel']])\n",
    "X_train_new.shape"
   ]
  },
  {
   "cell_type": "code",
   "execution_count": 64,
   "id": "d6b09f35",
   "metadata": {},
   "outputs": [
    {
     "name": "stdout",
     "output_type": "stream",
     "text": [
      "31\n",
      "32\n"
     ]
    }
   ],
   "source": [
    "print(X_train['brand'].nunique())\n",
    "print(df['brand'].nunique())"
   ]
  },
  {
   "cell_type": "code",
   "execution_count": null,
   "id": "e43e37ad",
   "metadata": {},
   "outputs": [],
   "source": []
  }
 ],
 "metadata": {
  "kernelspec": {
   "display_name": "Python 3 (ipykernel)",
   "language": "python",
   "name": "python3"
  },
  "language_info": {
   "codemirror_mode": {
    "name": "ipython",
    "version": 3
   },
   "file_extension": ".py",
   "mimetype": "text/x-python",
   "name": "python",
   "nbconvert_exporter": "python",
   "pygments_lexer": "ipython3",
   "version": "3.9.7"
  }
 },
 "nbformat": 4,
 "nbformat_minor": 5
}
