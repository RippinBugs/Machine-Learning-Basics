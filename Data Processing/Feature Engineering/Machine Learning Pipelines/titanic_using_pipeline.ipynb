{
 "cells": [
  {
   "cell_type": "markdown",
   "id": "4fc84125",
   "metadata": {},
   "source": [
    "### Sklearn Pipeline\n",
    "Doing preprocessing the data manually for test cases is both arduos and time-consuming. In fact, it will not give you proper result if something goes wrong. As a result, an effective solution is sklearn's pipeline.\n",
    "\n",
    "<b style = 'color:red'>We will also see, how to use feature selection during pipeline.</b>"
   ]
  },
  {
   "cell_type": "code",
   "execution_count": 1,
   "id": "98d85f2e",
   "metadata": {},
   "outputs": [],
   "source": [
    "import numpy as np\n",
    "import pandas as pd\n",
    "\n",
    "from sklearn.model_selection import train_test_split\n",
    "from sklearn.compose import ColumnTransformer\n",
    "from sklearn.impute import SimpleImputer\n",
    "from sklearn.preprocessing import OneHotEncoder\n",
    "from sklearn.preprocessing import MinMaxScaler\n",
    "from sklearn.pipeline import Pipeline,make_pipeline\n",
    "from sklearn.feature_selection import SelectKBest,chi2\n",
    "from sklearn.tree import DecisionTreeClassifier"
   ]
  },
  {
   "cell_type": "code",
   "execution_count": 2,
   "id": "6d3d35b3",
   "metadata": {},
   "outputs": [],
   "source": [
    "df = pd.read_csv('train.csv')"
   ]
  },
  {
   "cell_type": "code",
   "execution_count": 3,
   "id": "a734a8c8",
   "metadata": {},
   "outputs": [
    {
     "data": {
      "text/html": [
       "<div>\n",
       "<style scoped>\n",
       "    .dataframe tbody tr th:only-of-type {\n",
       "        vertical-align: middle;\n",
       "    }\n",
       "\n",
       "    .dataframe tbody tr th {\n",
       "        vertical-align: top;\n",
       "    }\n",
       "\n",
       "    .dataframe thead th {\n",
       "        text-align: right;\n",
       "    }\n",
       "</style>\n",
       "<table border=\"1\" class=\"dataframe\">\n",
       "  <thead>\n",
       "    <tr style=\"text-align: right;\">\n",
       "      <th></th>\n",
       "      <th>PassengerId</th>\n",
       "      <th>Survived</th>\n",
       "      <th>Pclass</th>\n",
       "      <th>Name</th>\n",
       "      <th>Sex</th>\n",
       "      <th>Age</th>\n",
       "      <th>SibSp</th>\n",
       "      <th>Parch</th>\n",
       "      <th>Ticket</th>\n",
       "      <th>Fare</th>\n",
       "      <th>Cabin</th>\n",
       "      <th>Embarked</th>\n",
       "    </tr>\n",
       "  </thead>\n",
       "  <tbody>\n",
       "    <tr>\n",
       "      <th>328</th>\n",
       "      <td>329</td>\n",
       "      <td>1</td>\n",
       "      <td>3</td>\n",
       "      <td>Goldsmith, Mrs. Frank John (Emily Alice Brown)</td>\n",
       "      <td>female</td>\n",
       "      <td>31.0</td>\n",
       "      <td>1</td>\n",
       "      <td>1</td>\n",
       "      <td>363291</td>\n",
       "      <td>20.5250</td>\n",
       "      <td>NaN</td>\n",
       "      <td>S</td>\n",
       "    </tr>\n",
       "    <tr>\n",
       "      <th>786</th>\n",
       "      <td>787</td>\n",
       "      <td>1</td>\n",
       "      <td>3</td>\n",
       "      <td>Sjoblom, Miss. Anna Sofia</td>\n",
       "      <td>female</td>\n",
       "      <td>18.0</td>\n",
       "      <td>0</td>\n",
       "      <td>0</td>\n",
       "      <td>3101265</td>\n",
       "      <td>7.4958</td>\n",
       "      <td>NaN</td>\n",
       "      <td>S</td>\n",
       "    </tr>\n",
       "  </tbody>\n",
       "</table>\n",
       "</div>"
      ],
      "text/plain": [
       "     PassengerId  Survived  Pclass  \\\n",
       "328          329         1       3   \n",
       "786          787         1       3   \n",
       "\n",
       "                                               Name     Sex   Age  SibSp  \\\n",
       "328  Goldsmith, Mrs. Frank John (Emily Alice Brown)  female  31.0      1   \n",
       "786                       Sjoblom, Miss. Anna Sofia  female  18.0      0   \n",
       "\n",
       "     Parch   Ticket     Fare Cabin Embarked  \n",
       "328      1   363291  20.5250   NaN        S  \n",
       "786      0  3101265   7.4958   NaN        S  "
      ]
     },
     "execution_count": 3,
     "metadata": {},
     "output_type": "execute_result"
    }
   ],
   "source": [
    "df.sample(2)"
   ]
  },
  {
   "cell_type": "code",
   "execution_count": 4,
   "id": "b401c88c",
   "metadata": {},
   "outputs": [],
   "source": [
    "\"\"\"\n",
    "Dropping those columns which are not neccessary for our analysis.\n",
    "\"\"\"\n",
    "df.drop(columns=['PassengerId','Name','Ticket','Cabin'],inplace=True)"
   ]
  },
  {
   "cell_type": "code",
   "execution_count": 5,
   "id": "3383dc79",
   "metadata": {},
   "outputs": [
    {
     "data": {
      "text/html": [
       "<div>\n",
       "<style scoped>\n",
       "    .dataframe tbody tr th:only-of-type {\n",
       "        vertical-align: middle;\n",
       "    }\n",
       "\n",
       "    .dataframe tbody tr th {\n",
       "        vertical-align: top;\n",
       "    }\n",
       "\n",
       "    .dataframe thead th {\n",
       "        text-align: right;\n",
       "    }\n",
       "</style>\n",
       "<table border=\"1\" class=\"dataframe\">\n",
       "  <thead>\n",
       "    <tr style=\"text-align: right;\">\n",
       "      <th></th>\n",
       "      <th>Survived</th>\n",
       "      <th>Pclass</th>\n",
       "      <th>Sex</th>\n",
       "      <th>Age</th>\n",
       "      <th>SibSp</th>\n",
       "      <th>Parch</th>\n",
       "      <th>Fare</th>\n",
       "      <th>Embarked</th>\n",
       "    </tr>\n",
       "  </thead>\n",
       "  <tbody>\n",
       "    <tr>\n",
       "      <th>520</th>\n",
       "      <td>1</td>\n",
       "      <td>1</td>\n",
       "      <td>female</td>\n",
       "      <td>30.0</td>\n",
       "      <td>0</td>\n",
       "      <td>0</td>\n",
       "      <td>93.50</td>\n",
       "      <td>S</td>\n",
       "    </tr>\n",
       "    <tr>\n",
       "      <th>330</th>\n",
       "      <td>1</td>\n",
       "      <td>3</td>\n",
       "      <td>female</td>\n",
       "      <td>NaN</td>\n",
       "      <td>2</td>\n",
       "      <td>0</td>\n",
       "      <td>23.25</td>\n",
       "      <td>Q</td>\n",
       "    </tr>\n",
       "    <tr>\n",
       "      <th>582</th>\n",
       "      <td>0</td>\n",
       "      <td>2</td>\n",
       "      <td>male</td>\n",
       "      <td>54.0</td>\n",
       "      <td>0</td>\n",
       "      <td>0</td>\n",
       "      <td>26.00</td>\n",
       "      <td>S</td>\n",
       "    </tr>\n",
       "  </tbody>\n",
       "</table>\n",
       "</div>"
      ],
      "text/plain": [
       "     Survived  Pclass     Sex   Age  SibSp  Parch   Fare Embarked\n",
       "520         1       1  female  30.0      0      0  93.50        S\n",
       "330         1       3  female   NaN      2      0  23.25        Q\n",
       "582         0       2    male  54.0      0      0  26.00        S"
      ]
     },
     "execution_count": 5,
     "metadata": {},
     "output_type": "execute_result"
    }
   ],
   "source": [
    "df.sample(3)"
   ]
  },
  {
   "cell_type": "code",
   "execution_count": 6,
   "id": "f61bfcdc",
   "metadata": {},
   "outputs": [],
   "source": [
    "\"\"\"\n",
    "Step 1:\n",
    "    Train_Test_Split()\n",
    "\"\"\"\n",
    "X_train,X_test,y_train,y_test = train_test_split(df.drop(columns=['Survived']),df['Survived'],test_size=0.2,\n",
    "                                                 random_state=42)"
   ]
  },
  {
   "cell_type": "code",
   "execution_count": 7,
   "id": "a17d81c2",
   "metadata": {},
   "outputs": [
    {
     "data": {
      "text/html": [
       "<div>\n",
       "<style scoped>\n",
       "    .dataframe tbody tr th:only-of-type {\n",
       "        vertical-align: middle;\n",
       "    }\n",
       "\n",
       "    .dataframe tbody tr th {\n",
       "        vertical-align: top;\n",
       "    }\n",
       "\n",
       "    .dataframe thead th {\n",
       "        text-align: right;\n",
       "    }\n",
       "</style>\n",
       "<table border=\"1\" class=\"dataframe\">\n",
       "  <thead>\n",
       "    <tr style=\"text-align: right;\">\n",
       "      <th></th>\n",
       "      <th>Pclass</th>\n",
       "      <th>Sex</th>\n",
       "      <th>Age</th>\n",
       "      <th>SibSp</th>\n",
       "      <th>Parch</th>\n",
       "      <th>Fare</th>\n",
       "      <th>Embarked</th>\n",
       "    </tr>\n",
       "  </thead>\n",
       "  <tbody>\n",
       "    <tr>\n",
       "      <th>331</th>\n",
       "      <td>1</td>\n",
       "      <td>male</td>\n",
       "      <td>45.5</td>\n",
       "      <td>0</td>\n",
       "      <td>0</td>\n",
       "      <td>28.5000</td>\n",
       "      <td>S</td>\n",
       "    </tr>\n",
       "    <tr>\n",
       "      <th>733</th>\n",
       "      <td>2</td>\n",
       "      <td>male</td>\n",
       "      <td>23.0</td>\n",
       "      <td>0</td>\n",
       "      <td>0</td>\n",
       "      <td>13.0000</td>\n",
       "      <td>S</td>\n",
       "    </tr>\n",
       "    <tr>\n",
       "      <th>382</th>\n",
       "      <td>3</td>\n",
       "      <td>male</td>\n",
       "      <td>32.0</td>\n",
       "      <td>0</td>\n",
       "      <td>0</td>\n",
       "      <td>7.9250</td>\n",
       "      <td>S</td>\n",
       "    </tr>\n",
       "    <tr>\n",
       "      <th>704</th>\n",
       "      <td>3</td>\n",
       "      <td>male</td>\n",
       "      <td>26.0</td>\n",
       "      <td>1</td>\n",
       "      <td>0</td>\n",
       "      <td>7.8542</td>\n",
       "      <td>S</td>\n",
       "    </tr>\n",
       "    <tr>\n",
       "      <th>813</th>\n",
       "      <td>3</td>\n",
       "      <td>female</td>\n",
       "      <td>6.0</td>\n",
       "      <td>4</td>\n",
       "      <td>2</td>\n",
       "      <td>31.2750</td>\n",
       "      <td>S</td>\n",
       "    </tr>\n",
       "  </tbody>\n",
       "</table>\n",
       "</div>"
      ],
      "text/plain": [
       "     Pclass     Sex   Age  SibSp  Parch     Fare Embarked\n",
       "331       1    male  45.5      0      0  28.5000        S\n",
       "733       2    male  23.0      0      0  13.0000        S\n",
       "382       3    male  32.0      0      0   7.9250        S\n",
       "704       3    male  26.0      1      0   7.8542        S\n",
       "813       3  female   6.0      4      2  31.2750        S"
      ]
     },
     "execution_count": 7,
     "metadata": {},
     "output_type": "execute_result"
    }
   ],
   "source": [
    "X_train.head()"
   ]
  },
  {
   "cell_type": "code",
   "execution_count": 8,
   "id": "fcbefe95",
   "metadata": {},
   "outputs": [
    {
     "data": {
      "text/plain": [
       "331    0\n",
       "733    0\n",
       "382    0\n",
       "704    0\n",
       "813    0\n",
       "Name: Survived, dtype: int64"
      ]
     },
     "execution_count": 8,
     "metadata": {},
     "output_type": "execute_result"
    }
   ],
   "source": [
    "y_train.head()"
   ]
  },
  {
   "cell_type": "code",
   "execution_count": 9,
   "id": "e50ca023",
   "metadata": {},
   "outputs": [],
   "source": [
    "\"\"\"\n",
    "Step 2:\n",
    "    Imputation Transformer.\n",
    "    \n",
    "    We use index value instead of column name because the output is given in a numpy array rather than a dataframe. Hence, \n",
    "    we use index value and not column names so that in pipeline everything runs smoothly because numpy array doesn't have \n",
    "    column names.\n",
    "    \n",
    "\"\"\"\n",
    "\n",
    "trf1 = ColumnTransformer([\n",
    "    ('impute_age',SimpleImputer(),[2]),    \n",
    "    ('impute_embarked',SimpleImputer(strategy = 'most_frequent'),[6])\n",
    "],remainder='passthrough')"
   ]
  },
  {
   "cell_type": "code",
   "execution_count": 10,
   "id": "cb986220",
   "metadata": {},
   "outputs": [],
   "source": [
    "\"\"\"\n",
    "OneHot Encoding in ColumnTransformer.\n",
    "\"\"\"\n",
    "\n",
    "trf2 = ColumnTransformer(transformers=[\n",
    "    ('ohe_sex_embarked',OneHotEncoder(sparse = False,handle_unknown='ignore'),[1,6])\n",
    "],remainder='passthrough')"
   ]
  },
  {
   "cell_type": "code",
   "execution_count": 11,
   "id": "b8c6cb58",
   "metadata": {},
   "outputs": [],
   "source": [
    "\"\"\"\n",
    "Scaling\n",
    "\"\"\"\n",
    "\n",
    "trf3 = ColumnTransformer([\n",
    "    ('scale',MinMaxScaler(),slice(0,10))\n",
    "])"
   ]
  },
  {
   "cell_type": "code",
   "execution_count": 12,
   "id": "cf779bfc",
   "metadata": {},
   "outputs": [],
   "source": [
    "\"\"\"\n",
    "Feature Selection.\n",
    "\"\"\"\n",
    "\n",
    "trf4 = SelectKBest(score_func=chi2,k=8)"
   ]
  },
  {
   "cell_type": "code",
   "execution_count": 13,
   "id": "3795175a",
   "metadata": {},
   "outputs": [],
   "source": [
    "\"\"\"\n",
    "train the model.\n",
    "\"\"\"\n",
    "\n",
    "trf5 = DecisionTreeClassifier()"
   ]
  },
  {
   "cell_type": "markdown",
   "id": "cbff896b",
   "metadata": {},
   "source": [
    "### Creating a Pipeline Object"
   ]
  },
  {
   "cell_type": "code",
   "execution_count": 14,
   "id": "739c5f6a",
   "metadata": {},
   "outputs": [],
   "source": [
    "pipe = Pipeline([\n",
    "    ('trf1',trf1),\n",
    "    ('trf2',trf2),\n",
    "    ('trf3',trf3),\n",
    "    ('trf4',trf4),\n",
    "    ('trf5',trf5)\n",
    "])"
   ]
  },
  {
   "cell_type": "markdown",
   "id": "4314a72c",
   "metadata": {},
   "source": [
    "### Pipeline vs make_pipeline\n",
    "<b style = 'color:orange'>Pipeline</b> requires you to give names of the steps but in <b style = 'color:orange'>make_pipeline()</b> you don't need to do this. Same goes for <b style = 'color:green'>ColumnTransformer vs make_column_transformer</b>. Though make_pipeline has easier syntax, we should use Pipeline class because it gives us more <b style = 'color:red'>readability.</b> Easy for <b style = 'color:red'>debugging.</b>\n"
   ]
  },
  {
   "cell_type": "code",
   "execution_count": 121,
   "id": "edd1a817",
   "metadata": {},
   "outputs": [],
   "source": [
    "pipe = make_pipeline(trf1,trf2,trf3,trf4,trf5)"
   ]
  },
  {
   "cell_type": "markdown",
   "id": "d311916c",
   "metadata": {},
   "source": [
    "### Exploring the pipeline"
   ]
  },
  {
   "cell_type": "code",
   "execution_count": 15,
   "id": "47c88977",
   "metadata": {},
   "outputs": [],
   "source": [
    "\"\"\"\n",
    "To display pipeline, you need to write this code.\n",
    "\"\"\"\n",
    "\n",
    "from sklearn import set_config\n",
    "set_config(display='diagram')"
   ]
  },
  {
   "cell_type": "markdown",
   "id": "d4e8570a",
   "metadata": {},
   "source": [
    "### Visualizing the pipeline"
   ]
  },
  {
   "cell_type": "code",
   "execution_count": 17,
   "id": "8bde98d1",
   "metadata": {},
   "outputs": [
    {
     "data": {
      "text/html": [
       "<style>#sk-2759a361-5743-4200-b6d6-0ab01b69fa80 {color: black;background-color: white;}#sk-2759a361-5743-4200-b6d6-0ab01b69fa80 pre{padding: 0;}#sk-2759a361-5743-4200-b6d6-0ab01b69fa80 div.sk-toggleable {background-color: white;}#sk-2759a361-5743-4200-b6d6-0ab01b69fa80 label.sk-toggleable__label {cursor: pointer;display: block;width: 100%;margin-bottom: 0;padding: 0.2em 0.3em;box-sizing: border-box;text-align: center;}#sk-2759a361-5743-4200-b6d6-0ab01b69fa80 div.sk-toggleable__content {max-height: 0;max-width: 0;overflow: hidden;text-align: left;background-color: #f0f8ff;}#sk-2759a361-5743-4200-b6d6-0ab01b69fa80 div.sk-toggleable__content pre {margin: 0.2em;color: black;border-radius: 0.25em;background-color: #f0f8ff;}#sk-2759a361-5743-4200-b6d6-0ab01b69fa80 input.sk-toggleable__control:checked~div.sk-toggleable__content {max-height: 200px;max-width: 100%;overflow: auto;}#sk-2759a361-5743-4200-b6d6-0ab01b69fa80 div.sk-estimator input.sk-toggleable__control:checked~label.sk-toggleable__label {background-color: #d4ebff;}#sk-2759a361-5743-4200-b6d6-0ab01b69fa80 div.sk-label input.sk-toggleable__control:checked~label.sk-toggleable__label {background-color: #d4ebff;}#sk-2759a361-5743-4200-b6d6-0ab01b69fa80 input.sk-hidden--visually {border: 0;clip: rect(1px 1px 1px 1px);clip: rect(1px, 1px, 1px, 1px);height: 1px;margin: -1px;overflow: hidden;padding: 0;position: absolute;width: 1px;}#sk-2759a361-5743-4200-b6d6-0ab01b69fa80 div.sk-estimator {font-family: monospace;background-color: #f0f8ff;margin: 0.25em 0.25em;border: 1px dotted black;border-radius: 0.25em;box-sizing: border-box;}#sk-2759a361-5743-4200-b6d6-0ab01b69fa80 div.sk-estimator:hover {background-color: #d4ebff;}#sk-2759a361-5743-4200-b6d6-0ab01b69fa80 div.sk-parallel-item::after {content: \"\";width: 100%;border-bottom: 1px solid gray;flex-grow: 1;}#sk-2759a361-5743-4200-b6d6-0ab01b69fa80 div.sk-label:hover label.sk-toggleable__label {background-color: #d4ebff;}#sk-2759a361-5743-4200-b6d6-0ab01b69fa80 div.sk-serial::before {content: \"\";position: absolute;border-left: 1px solid gray;box-sizing: border-box;top: 2em;bottom: 0;left: 50%;}#sk-2759a361-5743-4200-b6d6-0ab01b69fa80 div.sk-serial {display: flex;flex-direction: column;align-items: center;background-color: white;}#sk-2759a361-5743-4200-b6d6-0ab01b69fa80 div.sk-item {z-index: 1;}#sk-2759a361-5743-4200-b6d6-0ab01b69fa80 div.sk-parallel {display: flex;align-items: stretch;justify-content: center;background-color: white;}#sk-2759a361-5743-4200-b6d6-0ab01b69fa80 div.sk-parallel-item {display: flex;flex-direction: column;position: relative;background-color: white;}#sk-2759a361-5743-4200-b6d6-0ab01b69fa80 div.sk-parallel-item:first-child::after {align-self: flex-end;width: 50%;}#sk-2759a361-5743-4200-b6d6-0ab01b69fa80 div.sk-parallel-item:last-child::after {align-self: flex-start;width: 50%;}#sk-2759a361-5743-4200-b6d6-0ab01b69fa80 div.sk-parallel-item:only-child::after {width: 0;}#sk-2759a361-5743-4200-b6d6-0ab01b69fa80 div.sk-dashed-wrapped {border: 1px dashed gray;margin: 0.2em;box-sizing: border-box;padding-bottom: 0.1em;background-color: white;position: relative;}#sk-2759a361-5743-4200-b6d6-0ab01b69fa80 div.sk-label label {font-family: monospace;font-weight: bold;background-color: white;display: inline-block;line-height: 1.2em;}#sk-2759a361-5743-4200-b6d6-0ab01b69fa80 div.sk-label-container {position: relative;z-index: 2;text-align: center;}#sk-2759a361-5743-4200-b6d6-0ab01b69fa80 div.sk-container {display: inline-block;position: relative;}</style><div id=\"sk-2759a361-5743-4200-b6d6-0ab01b69fa80\" class\"sk-top-container\"><div class=\"sk-container\"><div class=\"sk-item sk-dashed-wrapped\"><div class=\"sk-label-container\"><div class=\"sk-label sk-toggleable\"><input class=\"sk-toggleable__control sk-hidden--visually\" id=\"6c61edd8-9f1d-4495-8d71-5429c525a8ad\" type=\"checkbox\" ><label class=\"sk-toggleable__label\" for=\"6c61edd8-9f1d-4495-8d71-5429c525a8ad\">Pipeline</label><div class=\"sk-toggleable__content\"><pre>Pipeline(steps=[('trf1',\n",
       "                 ColumnTransformer(remainder='passthrough',\n",
       "                                   transformers=[('impute_age', SimpleImputer(),\n",
       "                                                  [2]),\n",
       "                                                 ('impute_embarked',\n",
       "                                                  SimpleImputer(strategy='most_frequent'),\n",
       "                                                  [6])])),\n",
       "                ('trf2',\n",
       "                 ColumnTransformer(remainder='passthrough',\n",
       "                                   transformers=[('ohe_sex_embarked',\n",
       "                                                  OneHotEncoder(handle_unknown='ignore',\n",
       "                                                                sparse=False),\n",
       "                                                  [1, 6])])),\n",
       "                ('trf3',\n",
       "                 ColumnTransformer(transformers=[('scale', MinMaxScaler(),\n",
       "                                                  slice(0, 10, None))])),\n",
       "                ('trf4',\n",
       "                 SelectKBest(k=8,\n",
       "                             score_func=<function chi2 at 0x000002425C4ECE50>)),\n",
       "                ('trf5', DecisionTreeClassifier())])</pre></div></div></div><div class=\"sk-serial\"><div class=\"sk-item sk-dashed-wrapped\"><div class=\"sk-label-container\"><div class=\"sk-label sk-toggleable\"><input class=\"sk-toggleable__control sk-hidden--visually\" id=\"26d1ff6d-8068-4133-878d-645585152aec\" type=\"checkbox\" ><label class=\"sk-toggleable__label\" for=\"26d1ff6d-8068-4133-878d-645585152aec\">trf1: ColumnTransformer</label><div class=\"sk-toggleable__content\"><pre>ColumnTransformer(remainder='passthrough',\n",
       "                  transformers=[('impute_age', SimpleImputer(), [2]),\n",
       "                                ('impute_embarked',\n",
       "                                 SimpleImputer(strategy='most_frequent'),\n",
       "                                 [6])])</pre></div></div></div><div class=\"sk-parallel\"><div class=\"sk-parallel-item\"><div class=\"sk-item\"><div class=\"sk-label-container\"><div class=\"sk-label sk-toggleable\"><input class=\"sk-toggleable__control sk-hidden--visually\" id=\"55d5f63d-9148-4164-9f70-fe5539bb5382\" type=\"checkbox\" ><label class=\"sk-toggleable__label\" for=\"55d5f63d-9148-4164-9f70-fe5539bb5382\">impute_age</label><div class=\"sk-toggleable__content\"><pre>[2]</pre></div></div></div><div class=\"sk-serial\"><div class=\"sk-item\"><div class=\"sk-estimator sk-toggleable\"><input class=\"sk-toggleable__control sk-hidden--visually\" id=\"e425c0b0-3092-401f-b0ff-a33d879235a3\" type=\"checkbox\" ><label class=\"sk-toggleable__label\" for=\"e425c0b0-3092-401f-b0ff-a33d879235a3\">SimpleImputer</label><div class=\"sk-toggleable__content\"><pre>SimpleImputer()</pre></div></div></div></div></div></div><div class=\"sk-parallel-item\"><div class=\"sk-item\"><div class=\"sk-label-container\"><div class=\"sk-label sk-toggleable\"><input class=\"sk-toggleable__control sk-hidden--visually\" id=\"64ce2871-f5d3-4f20-8d66-861855cb4db0\" type=\"checkbox\" ><label class=\"sk-toggleable__label\" for=\"64ce2871-f5d3-4f20-8d66-861855cb4db0\">impute_embarked</label><div class=\"sk-toggleable__content\"><pre>[6]</pre></div></div></div><div class=\"sk-serial\"><div class=\"sk-item\"><div class=\"sk-estimator sk-toggleable\"><input class=\"sk-toggleable__control sk-hidden--visually\" id=\"9c598afc-0a19-4e2b-905f-56c98b943b49\" type=\"checkbox\" ><label class=\"sk-toggleable__label\" for=\"9c598afc-0a19-4e2b-905f-56c98b943b49\">SimpleImputer</label><div class=\"sk-toggleable__content\"><pre>SimpleImputer(strategy='most_frequent')</pre></div></div></div></div></div></div><div class=\"sk-parallel-item\"><div class=\"sk-item\"><div class=\"sk-label-container\"><div class=\"sk-label sk-toggleable\"><input class=\"sk-toggleable__control sk-hidden--visually\" id=\"89690ac6-0862-4599-ad37-9c081239ec31\" type=\"checkbox\" ><label class=\"sk-toggleable__label\" for=\"89690ac6-0862-4599-ad37-9c081239ec31\">remainder</label><div class=\"sk-toggleable__content\"><pre>['Pclass', 'Sex', 'SibSp', 'Parch', 'Fare']</pre></div></div></div><div class=\"sk-serial\"><div class=\"sk-item\"><div class=\"sk-estimator sk-toggleable\"><input class=\"sk-toggleable__control sk-hidden--visually\" id=\"80ce317c-0cea-4534-84b0-f0f0fd46afaa\" type=\"checkbox\" ><label class=\"sk-toggleable__label\" for=\"80ce317c-0cea-4534-84b0-f0f0fd46afaa\">passthrough</label><div class=\"sk-toggleable__content\"><pre>passthrough</pre></div></div></div></div></div></div></div></div><div class=\"sk-item sk-dashed-wrapped\"><div class=\"sk-label-container\"><div class=\"sk-label sk-toggleable\"><input class=\"sk-toggleable__control sk-hidden--visually\" id=\"f654f677-c317-4e58-a031-375149037913\" type=\"checkbox\" ><label class=\"sk-toggleable__label\" for=\"f654f677-c317-4e58-a031-375149037913\">trf2: ColumnTransformer</label><div class=\"sk-toggleable__content\"><pre>ColumnTransformer(remainder='passthrough',\n",
       "                  transformers=[('ohe_sex_embarked',\n",
       "                                 OneHotEncoder(handle_unknown='ignore',\n",
       "                                               sparse=False),\n",
       "                                 [1, 6])])</pre></div></div></div><div class=\"sk-parallel\"><div class=\"sk-parallel-item\"><div class=\"sk-item\"><div class=\"sk-label-container\"><div class=\"sk-label sk-toggleable\"><input class=\"sk-toggleable__control sk-hidden--visually\" id=\"f728f53b-1890-48aa-bd47-a31580615a27\" type=\"checkbox\" ><label class=\"sk-toggleable__label\" for=\"f728f53b-1890-48aa-bd47-a31580615a27\">ohe_sex_embarked</label><div class=\"sk-toggleable__content\"><pre>[1, 6]</pre></div></div></div><div class=\"sk-serial\"><div class=\"sk-item\"><div class=\"sk-estimator sk-toggleable\"><input class=\"sk-toggleable__control sk-hidden--visually\" id=\"f08022c0-5d50-424c-ab11-899bca3199ed\" type=\"checkbox\" ><label class=\"sk-toggleable__label\" for=\"f08022c0-5d50-424c-ab11-899bca3199ed\">OneHotEncoder</label><div class=\"sk-toggleable__content\"><pre>OneHotEncoder(handle_unknown='ignore', sparse=False)</pre></div></div></div></div></div></div><div class=\"sk-parallel-item\"><div class=\"sk-item\"><div class=\"sk-label-container\"><div class=\"sk-label sk-toggleable\"><input class=\"sk-toggleable__control sk-hidden--visually\" id=\"e3c78e13-bf22-4fa3-a4d5-0c546d56efe5\" type=\"checkbox\" ><label class=\"sk-toggleable__label\" for=\"e3c78e13-bf22-4fa3-a4d5-0c546d56efe5\">remainder</label><div class=\"sk-toggleable__content\"><pre>[0, 2, 3, 4, 5]</pre></div></div></div><div class=\"sk-serial\"><div class=\"sk-item\"><div class=\"sk-estimator sk-toggleable\"><input class=\"sk-toggleable__control sk-hidden--visually\" id=\"8c732214-9e0d-480b-b7cd-79d463d2dfea\" type=\"checkbox\" ><label class=\"sk-toggleable__label\" for=\"8c732214-9e0d-480b-b7cd-79d463d2dfea\">passthrough</label><div class=\"sk-toggleable__content\"><pre>passthrough</pre></div></div></div></div></div></div></div></div><div class=\"sk-item sk-dashed-wrapped\"><div class=\"sk-label-container\"><div class=\"sk-label sk-toggleable\"><input class=\"sk-toggleable__control sk-hidden--visually\" id=\"a69a32e8-474d-44c8-b078-55230c39ef05\" type=\"checkbox\" ><label class=\"sk-toggleable__label\" for=\"a69a32e8-474d-44c8-b078-55230c39ef05\">trf3: ColumnTransformer</label><div class=\"sk-toggleable__content\"><pre>ColumnTransformer(transformers=[('scale', MinMaxScaler(), slice(0, 10, None))])</pre></div></div></div><div class=\"sk-parallel\"><div class=\"sk-parallel-item\"><div class=\"sk-item\"><div class=\"sk-label-container\"><div class=\"sk-label sk-toggleable\"><input class=\"sk-toggleable__control sk-hidden--visually\" id=\"0a56dc3a-fb07-44ff-9a56-06ae1d2a3f56\" type=\"checkbox\" ><label class=\"sk-toggleable__label\" for=\"0a56dc3a-fb07-44ff-9a56-06ae1d2a3f56\">scale</label><div class=\"sk-toggleable__content\"><pre>slice(0, 10, None)</pre></div></div></div><div class=\"sk-serial\"><div class=\"sk-item\"><div class=\"sk-estimator sk-toggleable\"><input class=\"sk-toggleable__control sk-hidden--visually\" id=\"5a3e1a61-9df9-4701-9f7e-58a914886ea0\" type=\"checkbox\" ><label class=\"sk-toggleable__label\" for=\"5a3e1a61-9df9-4701-9f7e-58a914886ea0\">MinMaxScaler</label><div class=\"sk-toggleable__content\"><pre>MinMaxScaler()</pre></div></div></div></div></div></div></div></div><div class=\"sk-item\"><div class=\"sk-estimator sk-toggleable\"><input class=\"sk-toggleable__control sk-hidden--visually\" id=\"0f6390c0-fe35-47f9-b563-06d615766c0a\" type=\"checkbox\" ><label class=\"sk-toggleable__label\" for=\"0f6390c0-fe35-47f9-b563-06d615766c0a\">SelectKBest</label><div class=\"sk-toggleable__content\"><pre>SelectKBest(k=8, score_func=<function chi2 at 0x000002425C4ECE50>)</pre></div></div></div><div class=\"sk-item\"><div class=\"sk-estimator sk-toggleable\"><input class=\"sk-toggleable__control sk-hidden--visually\" id=\"a1b0a28f-431c-4135-af5c-59c5d98df79b\" type=\"checkbox\" ><label class=\"sk-toggleable__label\" for=\"a1b0a28f-431c-4135-af5c-59c5d98df79b\">DecisionTreeClassifier</label><div class=\"sk-toggleable__content\"><pre>DecisionTreeClassifier()</pre></div></div></div></div></div></div></div>"
      ],
      "text/plain": [
       "Pipeline(steps=[('trf1',\n",
       "                 ColumnTransformer(remainder='passthrough',\n",
       "                                   transformers=[('impute_age', SimpleImputer(),\n",
       "                                                  [2]),\n",
       "                                                 ('impute_embarked',\n",
       "                                                  SimpleImputer(strategy='most_frequent'),\n",
       "                                                  [6])])),\n",
       "                ('trf2',\n",
       "                 ColumnTransformer(remainder='passthrough',\n",
       "                                   transformers=[('ohe_sex_embarked',\n",
       "                                                  OneHotEncoder(handle_unknown='ignore',\n",
       "                                                                sparse=False),\n",
       "                                                  [1, 6])])),\n",
       "                ('trf3',\n",
       "                 ColumnTransformer(transformers=[('scale', MinMaxScaler(),\n",
       "                                                  slice(0, 10, None))])),\n",
       "                ('trf4',\n",
       "                 SelectKBest(k=8,\n",
       "                             score_func=<function chi2 at 0x000002425C4ECE50>)),\n",
       "                ('trf5', DecisionTreeClassifier())])"
      ]
     },
     "execution_count": 17,
     "metadata": {},
     "output_type": "execute_result"
    }
   ],
   "source": [
    "pipe.fit(X_train,y_train)"
   ]
  },
  {
   "cell_type": "code",
   "execution_count": 19,
   "id": "3c00be52",
   "metadata": {},
   "outputs": [
    {
     "data": {
      "text/plain": [
       "{'trf1': ColumnTransformer(remainder='passthrough',\n",
       "                   transformers=[('impute_age', SimpleImputer(), [2]),\n",
       "                                 ('impute_embarked',\n",
       "                                  SimpleImputer(strategy='most_frequent'),\n",
       "                                  [6])]),\n",
       " 'trf2': ColumnTransformer(remainder='passthrough',\n",
       "                   transformers=[('ohe_sex_embarked',\n",
       "                                  OneHotEncoder(handle_unknown='ignore',\n",
       "                                                sparse=False),\n",
       "                                  [1, 6])]),\n",
       " 'trf3': ColumnTransformer(transformers=[('scale', MinMaxScaler(), slice(0, 10, None))]),\n",
       " 'trf4': SelectKBest(k=8, score_func=<function chi2 at 0x000002425C4ECE50>),\n",
       " 'trf5': DecisionTreeClassifier()}"
      ]
     },
     "execution_count": 19,
     "metadata": {},
     "output_type": "execute_result"
    }
   ],
   "source": [
    "\"\"\"\n",
    "Use the attribute named_steps or steps to inspect estimators within the pipeline. \n",
    "\"\"\"\n",
    "pipe.named_steps"
   ]
  },
  {
   "cell_type": "code",
   "execution_count": 20,
   "id": "ba69972e",
   "metadata": {},
   "outputs": [
    {
     "data": {
      "text/html": [
       "<style>#sk-38694af5-d2af-4294-87b1-d0bb89043ee2 {color: black;background-color: white;}#sk-38694af5-d2af-4294-87b1-d0bb89043ee2 pre{padding: 0;}#sk-38694af5-d2af-4294-87b1-d0bb89043ee2 div.sk-toggleable {background-color: white;}#sk-38694af5-d2af-4294-87b1-d0bb89043ee2 label.sk-toggleable__label {cursor: pointer;display: block;width: 100%;margin-bottom: 0;padding: 0.2em 0.3em;box-sizing: border-box;text-align: center;}#sk-38694af5-d2af-4294-87b1-d0bb89043ee2 div.sk-toggleable__content {max-height: 0;max-width: 0;overflow: hidden;text-align: left;background-color: #f0f8ff;}#sk-38694af5-d2af-4294-87b1-d0bb89043ee2 div.sk-toggleable__content pre {margin: 0.2em;color: black;border-radius: 0.25em;background-color: #f0f8ff;}#sk-38694af5-d2af-4294-87b1-d0bb89043ee2 input.sk-toggleable__control:checked~div.sk-toggleable__content {max-height: 200px;max-width: 100%;overflow: auto;}#sk-38694af5-d2af-4294-87b1-d0bb89043ee2 div.sk-estimator input.sk-toggleable__control:checked~label.sk-toggleable__label {background-color: #d4ebff;}#sk-38694af5-d2af-4294-87b1-d0bb89043ee2 div.sk-label input.sk-toggleable__control:checked~label.sk-toggleable__label {background-color: #d4ebff;}#sk-38694af5-d2af-4294-87b1-d0bb89043ee2 input.sk-hidden--visually {border: 0;clip: rect(1px 1px 1px 1px);clip: rect(1px, 1px, 1px, 1px);height: 1px;margin: -1px;overflow: hidden;padding: 0;position: absolute;width: 1px;}#sk-38694af5-d2af-4294-87b1-d0bb89043ee2 div.sk-estimator {font-family: monospace;background-color: #f0f8ff;margin: 0.25em 0.25em;border: 1px dotted black;border-radius: 0.25em;box-sizing: border-box;}#sk-38694af5-d2af-4294-87b1-d0bb89043ee2 div.sk-estimator:hover {background-color: #d4ebff;}#sk-38694af5-d2af-4294-87b1-d0bb89043ee2 div.sk-parallel-item::after {content: \"\";width: 100%;border-bottom: 1px solid gray;flex-grow: 1;}#sk-38694af5-d2af-4294-87b1-d0bb89043ee2 div.sk-label:hover label.sk-toggleable__label {background-color: #d4ebff;}#sk-38694af5-d2af-4294-87b1-d0bb89043ee2 div.sk-serial::before {content: \"\";position: absolute;border-left: 1px solid gray;box-sizing: border-box;top: 2em;bottom: 0;left: 50%;}#sk-38694af5-d2af-4294-87b1-d0bb89043ee2 div.sk-serial {display: flex;flex-direction: column;align-items: center;background-color: white;}#sk-38694af5-d2af-4294-87b1-d0bb89043ee2 div.sk-item {z-index: 1;}#sk-38694af5-d2af-4294-87b1-d0bb89043ee2 div.sk-parallel {display: flex;align-items: stretch;justify-content: center;background-color: white;}#sk-38694af5-d2af-4294-87b1-d0bb89043ee2 div.sk-parallel-item {display: flex;flex-direction: column;position: relative;background-color: white;}#sk-38694af5-d2af-4294-87b1-d0bb89043ee2 div.sk-parallel-item:first-child::after {align-self: flex-end;width: 50%;}#sk-38694af5-d2af-4294-87b1-d0bb89043ee2 div.sk-parallel-item:last-child::after {align-self: flex-start;width: 50%;}#sk-38694af5-d2af-4294-87b1-d0bb89043ee2 div.sk-parallel-item:only-child::after {width: 0;}#sk-38694af5-d2af-4294-87b1-d0bb89043ee2 div.sk-dashed-wrapped {border: 1px dashed gray;margin: 0.2em;box-sizing: border-box;padding-bottom: 0.1em;background-color: white;position: relative;}#sk-38694af5-d2af-4294-87b1-d0bb89043ee2 div.sk-label label {font-family: monospace;font-weight: bold;background-color: white;display: inline-block;line-height: 1.2em;}#sk-38694af5-d2af-4294-87b1-d0bb89043ee2 div.sk-label-container {position: relative;z-index: 2;text-align: center;}#sk-38694af5-d2af-4294-87b1-d0bb89043ee2 div.sk-container {display: inline-block;position: relative;}</style><div id=\"sk-38694af5-d2af-4294-87b1-d0bb89043ee2\" class\"sk-top-container\"><div class=\"sk-container\"><div class=\"sk-item sk-dashed-wrapped\"><div class=\"sk-label-container\"><div class=\"sk-label sk-toggleable\"><input class=\"sk-toggleable__control sk-hidden--visually\" id=\"5e06c2a5-c52e-4510-9026-2dc39eaee064\" type=\"checkbox\" ><label class=\"sk-toggleable__label\" for=\"5e06c2a5-c52e-4510-9026-2dc39eaee064\">ColumnTransformer</label><div class=\"sk-toggleable__content\"><pre>ColumnTransformer(remainder='passthrough',\n",
       "                  transformers=[('impute_age', SimpleImputer(), [2]),\n",
       "                                ('impute_embarked',\n",
       "                                 SimpleImputer(strategy='most_frequent'),\n",
       "                                 [6])])</pre></div></div></div><div class=\"sk-parallel\"><div class=\"sk-parallel-item\"><div class=\"sk-item\"><div class=\"sk-label-container\"><div class=\"sk-label sk-toggleable\"><input class=\"sk-toggleable__control sk-hidden--visually\" id=\"b61e0515-efb3-49d5-a812-9db27cbd1ea2\" type=\"checkbox\" ><label class=\"sk-toggleable__label\" for=\"b61e0515-efb3-49d5-a812-9db27cbd1ea2\">impute_age</label><div class=\"sk-toggleable__content\"><pre>[2]</pre></div></div></div><div class=\"sk-serial\"><div class=\"sk-item\"><div class=\"sk-estimator sk-toggleable\"><input class=\"sk-toggleable__control sk-hidden--visually\" id=\"e266b13b-41c8-4c2a-a8e7-f846e15ebcff\" type=\"checkbox\" ><label class=\"sk-toggleable__label\" for=\"e266b13b-41c8-4c2a-a8e7-f846e15ebcff\">SimpleImputer</label><div class=\"sk-toggleable__content\"><pre>SimpleImputer()</pre></div></div></div></div></div></div><div class=\"sk-parallel-item\"><div class=\"sk-item\"><div class=\"sk-label-container\"><div class=\"sk-label sk-toggleable\"><input class=\"sk-toggleable__control sk-hidden--visually\" id=\"83cc50e6-ea55-4578-aa6b-9dd94119c769\" type=\"checkbox\" ><label class=\"sk-toggleable__label\" for=\"83cc50e6-ea55-4578-aa6b-9dd94119c769\">impute_embarked</label><div class=\"sk-toggleable__content\"><pre>[6]</pre></div></div></div><div class=\"sk-serial\"><div class=\"sk-item\"><div class=\"sk-estimator sk-toggleable\"><input class=\"sk-toggleable__control sk-hidden--visually\" id=\"d3446536-077d-465e-9977-6015d924daef\" type=\"checkbox\" ><label class=\"sk-toggleable__label\" for=\"d3446536-077d-465e-9977-6015d924daef\">SimpleImputer</label><div class=\"sk-toggleable__content\"><pre>SimpleImputer(strategy='most_frequent')</pre></div></div></div></div></div></div><div class=\"sk-parallel-item\"><div class=\"sk-item\"><div class=\"sk-label-container\"><div class=\"sk-label sk-toggleable\"><input class=\"sk-toggleable__control sk-hidden--visually\" id=\"789281f0-5f87-427c-9e38-9e0b71f5673c\" type=\"checkbox\" ><label class=\"sk-toggleable__label\" for=\"789281f0-5f87-427c-9e38-9e0b71f5673c\">remainder</label><div class=\"sk-toggleable__content\"><pre>['Pclass', 'Sex', 'SibSp', 'Parch', 'Fare']</pre></div></div></div><div class=\"sk-serial\"><div class=\"sk-item\"><div class=\"sk-estimator sk-toggleable\"><input class=\"sk-toggleable__control sk-hidden--visually\" id=\"44492aeb-50ad-4389-861b-b01cac4372dc\" type=\"checkbox\" ><label class=\"sk-toggleable__label\" for=\"44492aeb-50ad-4389-861b-b01cac4372dc\">passthrough</label><div class=\"sk-toggleable__content\"><pre>passthrough</pre></div></div></div></div></div></div></div></div></div></div>"
      ],
      "text/plain": [
       "ColumnTransformer(remainder='passthrough',\n",
       "                  transformers=[('impute_age', SimpleImputer(), [2]),\n",
       "                                ('impute_embarked',\n",
       "                                 SimpleImputer(strategy='most_frequent'),\n",
       "                                 [6])])"
      ]
     },
     "execution_count": 20,
     "metadata": {},
     "output_type": "execute_result"
    }
   ],
   "source": [
    "pipe.named_steps['trf1']"
   ]
  },
  {
   "cell_type": "markdown",
   "id": "9d39c924",
   "metadata": {},
   "source": [
    "### Backtracking pipeline when necessary.\n",
    "\n",
    "Good for <b style = 'color:orange'>Debugging.</b> You can go to any transformer and check for parameters."
   ]
  },
  {
   "cell_type": "code",
   "execution_count": 27,
   "id": "7ebc90c2",
   "metadata": {},
   "outputs": [
    {
     "data": {
      "text/plain": [
       "array([29.49884615])"
      ]
     },
     "execution_count": 27,
     "metadata": {},
     "output_type": "execute_result"
    }
   ],
   "source": [
    "\"\"\"\n",
    "Steps to find the mean of first simpleImputer\n",
    "    pipe.named_steps['trf1']\n",
    "    pipe.names_steps['trf1'].transformers_\n",
    "    pipe.names_steps['trf1'].transformers_[0]\n",
    "    pipe.names_steps['trf1'].transformers_[0][1]\n",
    "    pipe.names_steps['trf1'].transformers_[0][1].statistics_\n",
    "\"\"\"\n",
    "pipe.named_steps['trf1'].transformers_[0][1].statistics_"
   ]
  },
  {
   "cell_type": "code",
   "execution_count": 33,
   "id": "a187a1f5",
   "metadata": {},
   "outputs": [
    {
     "data": {
      "text/plain": [
       "array(['S'], dtype=object)"
      ]
     },
     "execution_count": 33,
     "metadata": {},
     "output_type": "execute_result"
    }
   ],
   "source": [
    "\"\"\"\n",
    "Find out which one of the embarked class is most frequent?\n",
    "\"\"\"\n",
    "pipe.named_steps['trf1'].transformers_[1][1].statistics_"
   ]
  },
  {
   "cell_type": "markdown",
   "id": "26ef369a",
   "metadata": {},
   "source": [
    "#### Predict"
   ]
  },
  {
   "cell_type": "code",
   "execution_count": 37,
   "id": "b27eae2e",
   "metadata": {},
   "outputs": [],
   "source": [
    "y_pred = pipe.predict(X_test)"
   ]
  },
  {
   "cell_type": "code",
   "execution_count": 35,
   "id": "095f4477",
   "metadata": {},
   "outputs": [
    {
     "data": {
      "text/plain": [
       "array([1, 0, 0, 0, 1, 0, 0, 0, 0, 0, 0, 0, 0, 1, 0, 0, 0, 0, 0, 0, 0, 0,\n",
       "       0, 0, 0, 0, 1, 0, 0, 0, 0, 0, 1, 0, 0, 1, 0, 0, 1, 0, 0, 0, 0, 0,\n",
       "       1, 0, 0, 0, 0, 1, 1, 0, 0, 0, 0, 0, 0, 1, 0, 0, 0, 0, 0, 0, 0, 0,\n",
       "       0, 0, 1, 1, 0, 1, 1, 1, 0, 0, 0, 1, 0, 0, 0, 0, 1, 0, 1, 1, 1, 1,\n",
       "       0, 0, 0, 0, 0, 0, 0, 0, 0, 0, 0, 0, 0, 0, 1, 0, 0, 0, 0, 0, 0, 1,\n",
       "       0, 0, 1, 0, 0, 0, 1, 1, 0, 0, 0, 1, 0, 0, 0, 1, 0, 1, 1, 0, 0, 1,\n",
       "       0, 0, 1, 1, 1, 0, 0, 0, 0, 0, 0, 0, 0, 0, 0, 0, 1, 0, 1, 0, 0, 0,\n",
       "       0, 0, 0, 0, 0, 0, 1, 0, 0, 1, 0, 1, 0, 0, 0, 0, 1, 0, 0, 1, 0, 1,\n",
       "       0, 0, 0], dtype=int64)"
      ]
     },
     "execution_count": 35,
     "metadata": {},
     "output_type": "execute_result"
    }
   ],
   "source": [
    "y_pred"
   ]
  },
  {
   "cell_type": "code",
   "execution_count": 36,
   "id": "21569680",
   "metadata": {},
   "outputs": [
    {
     "data": {
      "text/plain": [
       "0.6256983240223464"
      ]
     },
     "execution_count": 36,
     "metadata": {},
     "output_type": "execute_result"
    }
   ],
   "source": [
    "from sklearn.metrics import accuracy_score\n",
    "accuracy_score(y_test,y_pred)"
   ]
  },
  {
   "cell_type": "markdown",
   "id": "24bf8d4d",
   "metadata": {},
   "source": [
    "### Cross Validation using Pipeline"
   ]
  },
  {
   "cell_type": "code",
   "execution_count": 38,
   "id": "faad25eb",
   "metadata": {},
   "outputs": [
    {
     "data": {
      "text/plain": [
       "0.6391214419383433"
      ]
     },
     "execution_count": 38,
     "metadata": {},
     "output_type": "execute_result"
    }
   ],
   "source": [
    "from sklearn.model_selection import cross_val_score\n",
    "cross_val_score(pipe,X_train,y_train,cv = 5,scoring='accuracy').mean()"
   ]
  },
  {
   "cell_type": "markdown",
   "id": "3a26b70f",
   "metadata": {},
   "source": [
    "### GridSearch using Pipeline"
   ]
  },
  {
   "cell_type": "code",
   "execution_count": 45,
   "id": "ea9d3bd4",
   "metadata": {},
   "outputs": [],
   "source": [
    "params = {\n",
    "    'trf5__max_depth' : [1,2,3,4,5,None]\n",
    "}"
   ]
  },
  {
   "cell_type": "code",
   "execution_count": 46,
   "id": "0abb07b2",
   "metadata": {},
   "outputs": [
    {
     "data": {
      "text/html": [
       "<style>#sk-f7919335-c7af-46e3-9908-80a13284c6f4 {color: black;background-color: white;}#sk-f7919335-c7af-46e3-9908-80a13284c6f4 pre{padding: 0;}#sk-f7919335-c7af-46e3-9908-80a13284c6f4 div.sk-toggleable {background-color: white;}#sk-f7919335-c7af-46e3-9908-80a13284c6f4 label.sk-toggleable__label {cursor: pointer;display: block;width: 100%;margin-bottom: 0;padding: 0.2em 0.3em;box-sizing: border-box;text-align: center;}#sk-f7919335-c7af-46e3-9908-80a13284c6f4 div.sk-toggleable__content {max-height: 0;max-width: 0;overflow: hidden;text-align: left;background-color: #f0f8ff;}#sk-f7919335-c7af-46e3-9908-80a13284c6f4 div.sk-toggleable__content pre {margin: 0.2em;color: black;border-radius: 0.25em;background-color: #f0f8ff;}#sk-f7919335-c7af-46e3-9908-80a13284c6f4 input.sk-toggleable__control:checked~div.sk-toggleable__content {max-height: 200px;max-width: 100%;overflow: auto;}#sk-f7919335-c7af-46e3-9908-80a13284c6f4 div.sk-estimator input.sk-toggleable__control:checked~label.sk-toggleable__label {background-color: #d4ebff;}#sk-f7919335-c7af-46e3-9908-80a13284c6f4 div.sk-label input.sk-toggleable__control:checked~label.sk-toggleable__label {background-color: #d4ebff;}#sk-f7919335-c7af-46e3-9908-80a13284c6f4 input.sk-hidden--visually {border: 0;clip: rect(1px 1px 1px 1px);clip: rect(1px, 1px, 1px, 1px);height: 1px;margin: -1px;overflow: hidden;padding: 0;position: absolute;width: 1px;}#sk-f7919335-c7af-46e3-9908-80a13284c6f4 div.sk-estimator {font-family: monospace;background-color: #f0f8ff;margin: 0.25em 0.25em;border: 1px dotted black;border-radius: 0.25em;box-sizing: border-box;}#sk-f7919335-c7af-46e3-9908-80a13284c6f4 div.sk-estimator:hover {background-color: #d4ebff;}#sk-f7919335-c7af-46e3-9908-80a13284c6f4 div.sk-parallel-item::after {content: \"\";width: 100%;border-bottom: 1px solid gray;flex-grow: 1;}#sk-f7919335-c7af-46e3-9908-80a13284c6f4 div.sk-label:hover label.sk-toggleable__label {background-color: #d4ebff;}#sk-f7919335-c7af-46e3-9908-80a13284c6f4 div.sk-serial::before {content: \"\";position: absolute;border-left: 1px solid gray;box-sizing: border-box;top: 2em;bottom: 0;left: 50%;}#sk-f7919335-c7af-46e3-9908-80a13284c6f4 div.sk-serial {display: flex;flex-direction: column;align-items: center;background-color: white;}#sk-f7919335-c7af-46e3-9908-80a13284c6f4 div.sk-item {z-index: 1;}#sk-f7919335-c7af-46e3-9908-80a13284c6f4 div.sk-parallel {display: flex;align-items: stretch;justify-content: center;background-color: white;}#sk-f7919335-c7af-46e3-9908-80a13284c6f4 div.sk-parallel-item {display: flex;flex-direction: column;position: relative;background-color: white;}#sk-f7919335-c7af-46e3-9908-80a13284c6f4 div.sk-parallel-item:first-child::after {align-self: flex-end;width: 50%;}#sk-f7919335-c7af-46e3-9908-80a13284c6f4 div.sk-parallel-item:last-child::after {align-self: flex-start;width: 50%;}#sk-f7919335-c7af-46e3-9908-80a13284c6f4 div.sk-parallel-item:only-child::after {width: 0;}#sk-f7919335-c7af-46e3-9908-80a13284c6f4 div.sk-dashed-wrapped {border: 1px dashed gray;margin: 0.2em;box-sizing: border-box;padding-bottom: 0.1em;background-color: white;position: relative;}#sk-f7919335-c7af-46e3-9908-80a13284c6f4 div.sk-label label {font-family: monospace;font-weight: bold;background-color: white;display: inline-block;line-height: 1.2em;}#sk-f7919335-c7af-46e3-9908-80a13284c6f4 div.sk-label-container {position: relative;z-index: 2;text-align: center;}#sk-f7919335-c7af-46e3-9908-80a13284c6f4 div.sk-container {display: inline-block;position: relative;}</style><div id=\"sk-f7919335-c7af-46e3-9908-80a13284c6f4\" class\"sk-top-container\"><div class=\"sk-container\"><div class=\"sk-item sk-dashed-wrapped\"><div class=\"sk-label-container\"><div class=\"sk-label sk-toggleable\"><input class=\"sk-toggleable__control sk-hidden--visually\" id=\"64110b8d-32bf-40da-8578-f7f1af992121\" type=\"checkbox\" ><label class=\"sk-toggleable__label\" for=\"64110b8d-32bf-40da-8578-f7f1af992121\">GridSearchCV</label><div class=\"sk-toggleable__content\"><pre>GridSearchCV(cv=5,\n",
       "             estimator=Pipeline(steps=[('trf1',\n",
       "                                        ColumnTransformer(remainder='passthrough',\n",
       "                                                          transformers=[('impute_age',\n",
       "                                                                         SimpleImputer(),\n",
       "                                                                         [2]),\n",
       "                                                                        ('impute_embarked',\n",
       "                                                                         SimpleImputer(strategy='most_frequent'),\n",
       "                                                                         [6])])),\n",
       "                                       ('trf2',\n",
       "                                        ColumnTransformer(remainder='passthrough',\n",
       "                                                          transformers=[('ohe_sex_embarked',\n",
       "                                                                         OneHotEncoder(handle_unknown='ignore',\n",
       "                                                                                       sparse=False),\n",
       "                                                                         [1,\n",
       "                                                                          6])])),\n",
       "                                       ('trf3',\n",
       "                                        ColumnTransformer(transformers=[('scale',\n",
       "                                                                         MinMaxScaler(),\n",
       "                                                                         slice(0, 10, None))])),\n",
       "                                       ('trf4',\n",
       "                                        SelectKBest(k=8,\n",
       "                                                    score_func=<function chi2 at 0x000002425C4ECE50>)),\n",
       "                                       ('trf5', DecisionTreeClassifier())]),\n",
       "             param_grid={'trf5__max_depth': [1, 2, 3, 4, 5, None]},\n",
       "             scoring='accuracy')</pre></div></div></div><div class=\"sk-parallel\"><div class=\"sk-parallel-item\"><div class=\"sk-item\"><div class=\"sk-serial\"><div class=\"sk-item\"><div class=\"sk-serial\"><div class=\"sk-item sk-dashed-wrapped\"><div class=\"sk-label-container\"><div class=\"sk-label sk-toggleable\"><input class=\"sk-toggleable__control sk-hidden--visually\" id=\"d17f3f03-838f-496e-bc48-311789736b37\" type=\"checkbox\" ><label class=\"sk-toggleable__label\" for=\"d17f3f03-838f-496e-bc48-311789736b37\">trf1: ColumnTransformer</label><div class=\"sk-toggleable__content\"><pre>ColumnTransformer(remainder='passthrough',\n",
       "                  transformers=[('impute_age', SimpleImputer(), [2]),\n",
       "                                ('impute_embarked',\n",
       "                                 SimpleImputer(strategy='most_frequent'),\n",
       "                                 [6])])</pre></div></div></div><div class=\"sk-parallel\"><div class=\"sk-parallel-item\"><div class=\"sk-item\"><div class=\"sk-label-container\"><div class=\"sk-label sk-toggleable\"><input class=\"sk-toggleable__control sk-hidden--visually\" id=\"0b64fa49-f07c-4d6f-8863-4cb047d4121f\" type=\"checkbox\" ><label class=\"sk-toggleable__label\" for=\"0b64fa49-f07c-4d6f-8863-4cb047d4121f\">impute_age</label><div class=\"sk-toggleable__content\"><pre>[2]</pre></div></div></div><div class=\"sk-serial\"><div class=\"sk-item\"><div class=\"sk-estimator sk-toggleable\"><input class=\"sk-toggleable__control sk-hidden--visually\" id=\"b9a5878e-d11e-4d93-a958-05a4a19d0262\" type=\"checkbox\" ><label class=\"sk-toggleable__label\" for=\"b9a5878e-d11e-4d93-a958-05a4a19d0262\">SimpleImputer</label><div class=\"sk-toggleable__content\"><pre>SimpleImputer()</pre></div></div></div></div></div></div><div class=\"sk-parallel-item\"><div class=\"sk-item\"><div class=\"sk-label-container\"><div class=\"sk-label sk-toggleable\"><input class=\"sk-toggleable__control sk-hidden--visually\" id=\"ddec6e79-1ee3-42c8-9f69-292988f5dc20\" type=\"checkbox\" ><label class=\"sk-toggleable__label\" for=\"ddec6e79-1ee3-42c8-9f69-292988f5dc20\">impute_embarked</label><div class=\"sk-toggleable__content\"><pre>[6]</pre></div></div></div><div class=\"sk-serial\"><div class=\"sk-item\"><div class=\"sk-estimator sk-toggleable\"><input class=\"sk-toggleable__control sk-hidden--visually\" id=\"c5546777-6472-4273-aece-f2e59f1b9174\" type=\"checkbox\" ><label class=\"sk-toggleable__label\" for=\"c5546777-6472-4273-aece-f2e59f1b9174\">SimpleImputer</label><div class=\"sk-toggleable__content\"><pre>SimpleImputer(strategy='most_frequent')</pre></div></div></div></div></div></div><div class=\"sk-parallel-item\"><div class=\"sk-item\"><div class=\"sk-label-container\"><div class=\"sk-label sk-toggleable\"><input class=\"sk-toggleable__control sk-hidden--visually\" id=\"0206c507-0d17-4142-b91e-7f09831bff8c\" type=\"checkbox\" ><label class=\"sk-toggleable__label\" for=\"0206c507-0d17-4142-b91e-7f09831bff8c\">remainder</label><div class=\"sk-toggleable__content\"><pre>['Pclass', 'Sex', 'SibSp', 'Parch', 'Fare']</pre></div></div></div><div class=\"sk-serial\"><div class=\"sk-item\"><div class=\"sk-estimator sk-toggleable\"><input class=\"sk-toggleable__control sk-hidden--visually\" id=\"d8ca0fe7-18fd-44c2-90e6-2e9fb3a065d2\" type=\"checkbox\" ><label class=\"sk-toggleable__label\" for=\"d8ca0fe7-18fd-44c2-90e6-2e9fb3a065d2\">passthrough</label><div class=\"sk-toggleable__content\"><pre>passthrough</pre></div></div></div></div></div></div></div></div><div class=\"sk-item sk-dashed-wrapped\"><div class=\"sk-label-container\"><div class=\"sk-label sk-toggleable\"><input class=\"sk-toggleable__control sk-hidden--visually\" id=\"7e1ee784-45d9-4f5d-8c23-890064563348\" type=\"checkbox\" ><label class=\"sk-toggleable__label\" for=\"7e1ee784-45d9-4f5d-8c23-890064563348\">trf2: ColumnTransformer</label><div class=\"sk-toggleable__content\"><pre>ColumnTransformer(remainder='passthrough',\n",
       "                  transformers=[('ohe_sex_embarked',\n",
       "                                 OneHotEncoder(handle_unknown='ignore',\n",
       "                                               sparse=False),\n",
       "                                 [1, 6])])</pre></div></div></div><div class=\"sk-parallel\"><div class=\"sk-parallel-item\"><div class=\"sk-item\"><div class=\"sk-label-container\"><div class=\"sk-label sk-toggleable\"><input class=\"sk-toggleable__control sk-hidden--visually\" id=\"7b222650-06d0-4bb1-a19b-4cac879c3ee5\" type=\"checkbox\" ><label class=\"sk-toggleable__label\" for=\"7b222650-06d0-4bb1-a19b-4cac879c3ee5\">ohe_sex_embarked</label><div class=\"sk-toggleable__content\"><pre>[1, 6]</pre></div></div></div><div class=\"sk-serial\"><div class=\"sk-item\"><div class=\"sk-estimator sk-toggleable\"><input class=\"sk-toggleable__control sk-hidden--visually\" id=\"1d2f46af-4e4e-4b56-bbe1-f04e13d79703\" type=\"checkbox\" ><label class=\"sk-toggleable__label\" for=\"1d2f46af-4e4e-4b56-bbe1-f04e13d79703\">OneHotEncoder</label><div class=\"sk-toggleable__content\"><pre>OneHotEncoder(handle_unknown='ignore', sparse=False)</pre></div></div></div></div></div></div><div class=\"sk-parallel-item\"><div class=\"sk-item\"><div class=\"sk-label-container\"><div class=\"sk-label sk-toggleable\"><input class=\"sk-toggleable__control sk-hidden--visually\" id=\"966edf44-3274-41b3-826b-619017226170\" type=\"checkbox\" ><label class=\"sk-toggleable__label\" for=\"966edf44-3274-41b3-826b-619017226170\">remainder</label><div class=\"sk-toggleable__content\"><pre>[0, 2, 3, 4, 5]</pre></div></div></div><div class=\"sk-serial\"><div class=\"sk-item\"><div class=\"sk-estimator sk-toggleable\"><input class=\"sk-toggleable__control sk-hidden--visually\" id=\"8e83593b-cb44-4b3e-979e-243ce23f97cd\" type=\"checkbox\" ><label class=\"sk-toggleable__label\" for=\"8e83593b-cb44-4b3e-979e-243ce23f97cd\">passthrough</label><div class=\"sk-toggleable__content\"><pre>passthrough</pre></div></div></div></div></div></div></div></div><div class=\"sk-item sk-dashed-wrapped\"><div class=\"sk-label-container\"><div class=\"sk-label sk-toggleable\"><input class=\"sk-toggleable__control sk-hidden--visually\" id=\"b6b8bba7-04d8-409b-bdba-a7823e8c95b7\" type=\"checkbox\" ><label class=\"sk-toggleable__label\" for=\"b6b8bba7-04d8-409b-bdba-a7823e8c95b7\">trf3: ColumnTransformer</label><div class=\"sk-toggleable__content\"><pre>ColumnTransformer(transformers=[('scale', MinMaxScaler(), slice(0, 10, None))])</pre></div></div></div><div class=\"sk-parallel\"><div class=\"sk-parallel-item\"><div class=\"sk-item\"><div class=\"sk-label-container\"><div class=\"sk-label sk-toggleable\"><input class=\"sk-toggleable__control sk-hidden--visually\" id=\"770b014c-43c0-4eb0-aca9-87bc64ad8db5\" type=\"checkbox\" ><label class=\"sk-toggleable__label\" for=\"770b014c-43c0-4eb0-aca9-87bc64ad8db5\">scale</label><div class=\"sk-toggleable__content\"><pre>slice(0, 10, None)</pre></div></div></div><div class=\"sk-serial\"><div class=\"sk-item\"><div class=\"sk-estimator sk-toggleable\"><input class=\"sk-toggleable__control sk-hidden--visually\" id=\"85891d5f-5929-418d-9e0e-834fea3d4a28\" type=\"checkbox\" ><label class=\"sk-toggleable__label\" for=\"85891d5f-5929-418d-9e0e-834fea3d4a28\">MinMaxScaler</label><div class=\"sk-toggleable__content\"><pre>MinMaxScaler()</pre></div></div></div></div></div></div></div></div><div class=\"sk-item\"><div class=\"sk-estimator sk-toggleable\"><input class=\"sk-toggleable__control sk-hidden--visually\" id=\"52e1947b-cb41-44d5-aa40-7ad262ee8233\" type=\"checkbox\" ><label class=\"sk-toggleable__label\" for=\"52e1947b-cb41-44d5-aa40-7ad262ee8233\">SelectKBest</label><div class=\"sk-toggleable__content\"><pre>SelectKBest(k=8, score_func=<function chi2 at 0x000002425C4ECE50>)</pre></div></div></div><div class=\"sk-item\"><div class=\"sk-estimator sk-toggleable\"><input class=\"sk-toggleable__control sk-hidden--visually\" id=\"d1317744-5c97-4f21-a756-78be8b080642\" type=\"checkbox\" ><label class=\"sk-toggleable__label\" for=\"d1317744-5c97-4f21-a756-78be8b080642\">DecisionTreeClassifier</label><div class=\"sk-toggleable__content\"><pre>DecisionTreeClassifier()</pre></div></div></div></div></div></div></div></div></div></div></div></div>"
      ],
      "text/plain": [
       "GridSearchCV(cv=5,\n",
       "             estimator=Pipeline(steps=[('trf1',\n",
       "                                        ColumnTransformer(remainder='passthrough',\n",
       "                                                          transformers=[('impute_age',\n",
       "                                                                         SimpleImputer(),\n",
       "                                                                         [2]),\n",
       "                                                                        ('impute_embarked',\n",
       "                                                                         SimpleImputer(strategy='most_frequent'),\n",
       "                                                                         [6])])),\n",
       "                                       ('trf2',\n",
       "                                        ColumnTransformer(remainder='passthrough',\n",
       "                                                          transformers=[('ohe_sex_embarked',\n",
       "                                                                         OneHotEncoder(handle_unknown='ignore',\n",
       "                                                                                       sparse=False),\n",
       "                                                                         [1,\n",
       "                                                                          6])])),\n",
       "                                       ('trf3',\n",
       "                                        ColumnTransformer(transformers=[('scale',\n",
       "                                                                         MinMaxScaler(),\n",
       "                                                                         slice(0, 10, None))])),\n",
       "                                       ('trf4',\n",
       "                                        SelectKBest(k=8,\n",
       "                                                    score_func=<function chi2 at 0x000002425C4ECE50>)),\n",
       "                                       ('trf5', DecisionTreeClassifier())]),\n",
       "             param_grid={'trf5__max_depth': [1, 2, 3, 4, 5, None]},\n",
       "             scoring='accuracy')"
      ]
     },
     "execution_count": 46,
     "metadata": {},
     "output_type": "execute_result"
    }
   ],
   "source": [
    "from sklearn.model_selection import GridSearchCV\n",
    "grid = GridSearchCV(pipe,params,cv=5,scoring='accuracy')\n",
    "grid.fit(X_train,y_train)"
   ]
  },
  {
   "cell_type": "code",
   "execution_count": 47,
   "id": "7a26a329",
   "metadata": {},
   "outputs": [
    {
     "data": {
      "text/plain": [
       "0.6391214419383433"
      ]
     },
     "execution_count": 47,
     "metadata": {},
     "output_type": "execute_result"
    }
   ],
   "source": [
    "grid.best_score_"
   ]
  },
  {
   "cell_type": "code",
   "execution_count": 48,
   "id": "7ec08e46",
   "metadata": {},
   "outputs": [
    {
     "data": {
      "text/plain": [
       "{'trf5__max_depth': 2}"
      ]
     },
     "execution_count": 48,
     "metadata": {},
     "output_type": "execute_result"
    }
   ],
   "source": [
    "grid.best_params_"
   ]
  },
  {
   "cell_type": "markdown",
   "id": "a81b7b44",
   "metadata": {},
   "source": [
    "### Exporting the Pipeline\n",
    "\n",
    "What if you need to use this pipeline in production."
   ]
  },
  {
   "cell_type": "code",
   "execution_count": 50,
   "id": "da1b06f1",
   "metadata": {},
   "outputs": [],
   "source": [
    "import pickle\n",
    "pickle.dump(pipe,open('model/pipe.pkl','wb'))"
   ]
  },
  {
   "cell_type": "code",
   "execution_count": null,
   "id": "c2467ea3",
   "metadata": {},
   "outputs": [],
   "source": []
  }
 ],
 "metadata": {
  "kernelspec": {
   "display_name": "Python 3 (ipykernel)",
   "language": "python",
   "name": "python3"
  },
  "language_info": {
   "codemirror_mode": {
    "name": "ipython",
    "version": 3
   },
   "file_extension": ".py",
   "mimetype": "text/x-python",
   "name": "python",
   "nbconvert_exporter": "python",
   "pygments_lexer": "ipython3",
   "version": "3.9.7"
  }
 },
 "nbformat": 4,
 "nbformat_minor": 5
}
