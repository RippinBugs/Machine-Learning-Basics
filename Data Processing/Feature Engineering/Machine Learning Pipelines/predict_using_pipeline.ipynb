{
 "cells": [
  {
   "cell_type": "markdown",
   "id": "18730dab",
   "metadata": {},
   "source": [
    "In this notebook, we will see how using pipeline can give us an extra advantage. When we use pipeline for our models and we do some changes in that file and dump that file, we don't need to change our code for loading the pipeline object again. Because we will get a pipeline object which already fullfilled our requirement. In short, we don't need to change code here instead we got it all worked out in the pipeline.<br>\n",
    "<br>\n",
    "In production, you don't change your code. But you can change the file of pipeline in the server as per requirements and as a result the model will run smoothly. "
   ]
  },
  {
   "cell_type": "code",
   "execution_count": 1,
   "id": "80204999",
   "metadata": {},
   "outputs": [],
   "source": [
    "import pickle \n",
    "import numpy as np"
   ]
  },
  {
   "cell_type": "code",
   "execution_count": 2,
   "id": "1c8e7d21",
   "metadata": {},
   "outputs": [],
   "source": [
    "pipe = pickle.load(open('model/pipe.pkl','rb'))"
   ]
  },
  {
   "cell_type": "code",
   "execution_count": 4,
   "id": "7ab5e426",
   "metadata": {},
   "outputs": [],
   "source": [
    "test_input2 = np.array([1,1,0,10.2,24,'male','S'],dtype = object).reshape(1,7)"
   ]
  },
  {
   "cell_type": "code",
   "execution_count": 5,
   "id": "11e01eef",
   "metadata": {},
   "outputs": [
    {
     "data": {
      "text/plain": [
       "array([0], dtype=int64)"
      ]
     },
     "execution_count": 5,
     "metadata": {},
     "output_type": "execute_result"
    }
   ],
   "source": [
    "pipe.predict(test_input2)"
   ]
  },
  {
   "cell_type": "code",
   "execution_count": null,
   "id": "2db72386",
   "metadata": {},
   "outputs": [],
   "source": []
  }
 ],
 "metadata": {
  "kernelspec": {
   "display_name": "Python 3 (ipykernel)",
   "language": "python",
   "name": "python3"
  },
  "language_info": {
   "codemirror_mode": {
    "name": "ipython",
    "version": 3
   },
   "file_extension": ".py",
   "mimetype": "text/x-python",
   "name": "python",
   "nbconvert_exporter": "python",
   "pygments_lexer": "ipython3",
   "version": "3.9.7"
  }
 },
 "nbformat": 4,
 "nbformat_minor": 5
}
