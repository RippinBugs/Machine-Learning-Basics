{
 "cells": [
  {
   "cell_type": "markdown",
   "id": "c0b00098",
   "metadata": {},
   "source": [
    "Think about this notebook as a webpage, where the user will give us the detail of new passengers. But to be honest, this is a hectic work. So, we use <b style = 'color:red'>sklearn's pipeline</b> instead which is shown in another notebook. Here, we just do things <b style = 'color:orange'>manually</b>. Just imagine, while doing all these works, if something goes wrong what will affect on production stage. That's why it's wiser to use sklearn's pipelines"
   ]
  },
  {
   "cell_type": "code",
   "execution_count": 21,
   "id": "edc0c2a4",
   "metadata": {},
   "outputs": [],
   "source": [
    "import pickle\n",
    "import numpy as np"
   ]
  },
  {
   "cell_type": "code",
   "execution_count": 22,
   "id": "5b40cd26",
   "metadata": {},
   "outputs": [],
   "source": [
    "\"\"\"\n",
    "In load(), we decode these files from pkl format to objects.\n",
    "\"\"\"\n",
    "ohe_sex = pickle.load(open('models/ohe_sex.pkl','rb'))\n",
    "ohe_embarked = pickle.load(open('models/ohe_embarked.pkl','rb'))\n",
    "clf = pickle.load(open('models/clf.pkl','rb'))"
   ]
  },
  {
   "cell_type": "code",
   "execution_count": 32,
   "id": "77d6403c",
   "metadata": {},
   "outputs": [],
   "source": [
    "#Pclass\tSibSp\tParch\tFare/age/sex/embarked\n",
    "test_input = np.array([2,0,0,13.23,42,'female','S'],dtype = object).reshape(1,7)\n",
    "#np.array([[2,0,0,13.23,42,'female','S']],dtype = object)"
   ]
  },
  {
   "cell_type": "code",
   "execution_count": 33,
   "id": "73543cf9",
   "metadata": {},
   "outputs": [
    {
     "data": {
      "text/plain": [
       "array([[2, 0, 0, 13.23, 42, 'female', 'S']], dtype=object)"
      ]
     },
     "execution_count": 33,
     "metadata": {},
     "output_type": "execute_result"
    }
   ],
   "source": [
    "test_input"
   ]
  },
  {
   "cell_type": "code",
   "execution_count": 36,
   "id": "cfa93368",
   "metadata": {},
   "outputs": [
    {
     "name": "stdout",
     "output_type": "stream",
     "text": [
      "[['female']]\n"
     ]
    }
   ],
   "source": [
    "print(test_input[:,5].reshape(1,1))"
   ]
  },
  {
   "cell_type": "code",
   "execution_count": 40,
   "id": "c699b8cc",
   "metadata": {},
   "outputs": [],
   "source": [
    "test_input_sex = ohe_sex.transform(test_input[:,5].reshape(1,1))"
   ]
  },
  {
   "cell_type": "code",
   "execution_count": 43,
   "id": "0074e510",
   "metadata": {},
   "outputs": [
    {
     "data": {
      "text/plain": [
       "array([[1., 0.]])"
      ]
     },
     "execution_count": 43,
     "metadata": {},
     "output_type": "execute_result"
    }
   ],
   "source": [
    "test_input_sex"
   ]
  },
  {
   "cell_type": "code",
   "execution_count": 42,
   "id": "3e378fb3",
   "metadata": {},
   "outputs": [],
   "source": [
    "test_input_embarked = ohe_embarked.transform(test_input[:,-1].reshape(1,1))"
   ]
  },
  {
   "cell_type": "code",
   "execution_count": 44,
   "id": "45090175",
   "metadata": {},
   "outputs": [
    {
     "data": {
      "text/plain": [
       "array([[0., 0., 1.]])"
      ]
     },
     "execution_count": 44,
     "metadata": {},
     "output_type": "execute_result"
    }
   ],
   "source": [
    "test_input_embarked"
   ]
  },
  {
   "cell_type": "code",
   "execution_count": 52,
   "id": "4f4add21",
   "metadata": {},
   "outputs": [],
   "source": [
    "test_input_transformed = np.concatenate((test_input[:,0:5],test_input_sex,test_input_embarked),axis = 1)"
   ]
  },
  {
   "cell_type": "code",
   "execution_count": 53,
   "id": "10bcdc39",
   "metadata": {},
   "outputs": [
    {
     "data": {
      "text/plain": [
       "(1, 10)"
      ]
     },
     "execution_count": 53,
     "metadata": {},
     "output_type": "execute_result"
    }
   ],
   "source": [
    "test_input_transformed.shape"
   ]
  },
  {
   "cell_type": "code",
   "execution_count": 54,
   "id": "7073e42a",
   "metadata": {},
   "outputs": [
    {
     "data": {
      "text/plain": [
       "array([1], dtype=int64)"
      ]
     },
     "execution_count": 54,
     "metadata": {},
     "output_type": "execute_result"
    }
   ],
   "source": [
    "clf.predict(test_input_transformed)"
   ]
  },
  {
   "cell_type": "code",
   "execution_count": null,
   "id": "bd738c31",
   "metadata": {},
   "outputs": [],
   "source": []
  }
 ],
 "metadata": {
  "kernelspec": {
   "display_name": "Python 3 (ipykernel)",
   "language": "python",
   "name": "python3"
  },
  "language_info": {
   "codemirror_mode": {
    "name": "ipython",
    "version": 3
   },
   "file_extension": ".py",
   "mimetype": "text/x-python",
   "name": "python",
   "nbconvert_exporter": "python",
   "pygments_lexer": "ipython3",
   "version": "3.9.7"
  }
 },
 "nbformat": 4,
 "nbformat_minor": 5
}
