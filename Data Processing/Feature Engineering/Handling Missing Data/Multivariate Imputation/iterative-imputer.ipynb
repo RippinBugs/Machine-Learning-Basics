{
 "cells": [
  {
   "cell_type": "code",
   "execution_count": 79,
   "id": "dd9b157f",
   "metadata": {},
   "outputs": [],
   "source": [
    "import numpy as np\n",
    "import pandas as pd\n",
    "import seaborn as sns\n",
    "import matplotlib.pyplot as plt\n",
    "\n",
    "from sklearn.model_selection import train_test_split\n",
    "from sklearn.linear_model import LogisticRegression, LinearRegression\n",
    "from sklearn.metrics import accuracy_score,r2_score"
   ]
  },
  {
   "cell_type": "code",
   "execution_count": 45,
   "id": "5f024024",
   "metadata": {},
   "outputs": [],
   "source": [
    "#To use this Iterative imputer which is now in experimental phase you need to first enable it.\n",
    "from sklearn.experimental import enable_iterative_imputer\n",
    "from sklearn.impute import IterativeImputer, SimpleImputer"
   ]
  },
  {
   "cell_type": "code",
   "execution_count": 46,
   "id": "2b8e2ce7",
   "metadata": {},
   "outputs": [],
   "source": [
    "df = pd.read_csv('train.csv')[['Age','Fare','Survived']]"
   ]
  },
  {
   "cell_type": "code",
   "execution_count": 47,
   "id": "a5822fef",
   "metadata": {},
   "outputs": [
    {
     "data": {
      "text/plain": [
       "Age         177\n",
       "Fare          0\n",
       "Survived      0\n",
       "dtype: int64"
      ]
     },
     "execution_count": 47,
     "metadata": {},
     "output_type": "execute_result"
    }
   ],
   "source": [
    "df.isnull().sum()"
   ]
  },
  {
   "cell_type": "code",
   "execution_count": 48,
   "id": "15b5ad9c",
   "metadata": {},
   "outputs": [],
   "source": [
    "X = df.drop('Survived',axis=1)\n",
    "y = df['Survived']"
   ]
  },
  {
   "cell_type": "code",
   "execution_count": 49,
   "id": "87992b97",
   "metadata": {},
   "outputs": [],
   "source": [
    "X_train,X_test,y_train,y_test = train_test_split(X,y,test_size=0.2,random_state=42)"
   ]
  },
  {
   "cell_type": "code",
   "execution_count": 53,
   "id": "44f9a1f6",
   "metadata": {},
   "outputs": [],
   "source": [
    "#X_train"
   ]
  },
  {
   "cell_type": "code",
   "execution_count": 54,
   "id": "d7feb96c",
   "metadata": {},
   "outputs": [],
   "source": [
    "#X_test"
   ]
  },
  {
   "cell_type": "code",
   "execution_count": 56,
   "id": "99d19563",
   "metadata": {},
   "outputs": [],
   "source": [
    "#roman means left to right\n",
    "lr = LinearRegression()\n",
    "ii = IterativeImputer(estimator=lr,max_iter=5,tol=1e-10,verbose = 2,imputation_order='roman')"
   ]
  },
  {
   "cell_type": "code",
   "execution_count": 57,
   "id": "afa9689d",
   "metadata": {},
   "outputs": [
    {
     "name": "stdout",
     "output_type": "stream",
     "text": [
      "[IterativeImputer] Completing matrix with shape (712, 2)\n",
      "[IterativeImputer] Ending imputation round 1/5, elapsed time 0.00\n",
      "[IterativeImputer] Change: 4.37308304606481, scaled tolerance: 5.123292e-08 \n",
      "[IterativeImputer] Ending imputation round 2/5, elapsed time 0.00\n",
      "[IterativeImputer] Change: 0.0, scaled tolerance: 5.123292e-08 \n",
      "[IterativeImputer] Early stopping criterion reached.\n",
      "[IterativeImputer] Completing matrix with shape (179, 2)\n",
      "[IterativeImputer] Ending imputation round 1/2, elapsed time 0.00\n",
      "[IterativeImputer] Ending imputation round 2/2, elapsed time 0.00\n"
     ]
    }
   ],
   "source": [
    "X_train_trf = ii.fit_transform(X_train)\n",
    "X_test_trf = ii.transform(X_test)"
   ]
  },
  {
   "cell_type": "code",
   "execution_count": 58,
   "id": "5ed27017",
   "metadata": {},
   "outputs": [
    {
     "data": {
      "text/plain": [
       "[_ImputerTriplet(feat_idx=0, neighbor_feat_idx=array([1]), estimator=LinearRegression()),\n",
       " _ImputerTriplet(feat_idx=1, neighbor_feat_idx=array([0]), estimator=LinearRegression()),\n",
       " _ImputerTriplet(feat_idx=0, neighbor_feat_idx=array([1]), estimator=LinearRegression()),\n",
       " _ImputerTriplet(feat_idx=1, neighbor_feat_idx=array([0]), estimator=LinearRegression())]"
      ]
     },
     "execution_count": 58,
     "metadata": {},
     "output_type": "execute_result"
    }
   ],
   "source": [
    "ii.imputation_sequence_"
   ]
  },
  {
   "cell_type": "code",
   "execution_count": 74,
   "id": "331033a5",
   "metadata": {},
   "outputs": [],
   "source": [
    "#X_train_trf"
   ]
  },
  {
   "cell_type": "code",
   "execution_count": 75,
   "id": "1c4dcc19",
   "metadata": {},
   "outputs": [],
   "source": [
    "#X_test_trf"
   ]
  },
  {
   "cell_type": "code",
   "execution_count": 76,
   "id": "7fa93559",
   "metadata": {},
   "outputs": [
    {
     "data": {
      "text/plain": [
       "0.6480446927374302"
      ]
     },
     "execution_count": 76,
     "metadata": {},
     "output_type": "execute_result"
    }
   ],
   "source": [
    "lr = LogisticRegression()\n",
    "lr.fit(X_train_trf,y_train)\n",
    "y_pred = lr.predict(X_test_trf)\n",
    "accuracy_score(y_pred,y_test)\n",
    "print(r2_score())"
   ]
  },
  {
   "cell_type": "code",
   "execution_count": 77,
   "id": "5b5b158d",
   "metadata": {},
   "outputs": [],
   "source": [
    "si = SimpleImputer()\n",
    "X_train_trf2 = si.fit_transform(X_train)\n",
    "X_test_trf2 = si.transform(X_test)"
   ]
  },
  {
   "cell_type": "code",
   "execution_count": 78,
   "id": "8750af06",
   "metadata": {},
   "outputs": [
    {
     "data": {
      "text/plain": [
       "0.6480446927374302"
      ]
     },
     "execution_count": 78,
     "metadata": {},
     "output_type": "execute_result"
    }
   ],
   "source": [
    "lr = LogisticRegression()\n",
    "lr.fit(X_train_trf2,y_train)\n",
    "y_pred2 = lr.predict(X_test_trf2)\n",
    "accuracy_score(y_pred2,y_test)"
   ]
  },
  {
   "cell_type": "code",
   "execution_count": null,
   "id": "e36de4b2",
   "metadata": {},
   "outputs": [],
   "source": []
  }
 ],
 "metadata": {
  "kernelspec": {
   "display_name": "Python 3 (ipykernel)",
   "language": "python",
   "name": "python3"
  },
  "language_info": {
   "codemirror_mode": {
    "name": "ipython",
    "version": 3
   },
   "file_extension": ".py",
   "mimetype": "text/x-python",
   "name": "python",
   "nbconvert_exporter": "python",
   "pygments_lexer": "ipython3",
   "version": "3.9.12"
  }
 },
 "nbformat": 4,
 "nbformat_minor": 5
}
