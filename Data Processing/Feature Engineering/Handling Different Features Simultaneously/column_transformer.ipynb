{
 "cells": [
  {
   "cell_type": "markdown",
   "id": "f2382417",
   "metadata": {},
   "source": [
    "### Column Transfer\n",
    "In this notebook, we will apply different transformation techniques to different columns based on our requirements. \"age\" and \"fever\" are <b style = 'color:orange'>numeric columns</b> here. But \"fever\" has some missing values. \"gender\", \"cough\", \"city\", \"has_covid\" are <b style = 'color:red'>categorical columns</b> from which we apply <b style = 'color:red'>One-Hot Encoding</b> in both city and gender columns and use <b style = 'color:red'>Label encoding</b> for \"has_covid\" column and <b style = 'color:red'>Ordinal encoding</b> for \"cough\" column.\n"
   ]
  },
  {
   "cell_type": "code",
   "execution_count": 1,
   "id": "89f60f8e",
   "metadata": {},
   "outputs": [],
   "source": [
    "import numpy as np\n",
    "import pandas as pd"
   ]
  },
  {
   "cell_type": "code",
   "execution_count": 2,
   "id": "c4466ec1",
   "metadata": {},
   "outputs": [],
   "source": [
    "from sklearn.preprocessing import OneHotEncoder\n",
    "from sklearn.preprocessing import OrdinalEncoder\n",
    "from sklearn.impute import SimpleImputer\n",
    "from sklearn.preprocessing import LabelEncoder"
   ]
  },
  {
   "cell_type": "code",
   "execution_count": 3,
   "id": "c402e261",
   "metadata": {},
   "outputs": [
    {
     "data": {
      "text/html": [
       "<div>\n",
       "<style scoped>\n",
       "    .dataframe tbody tr th:only-of-type {\n",
       "        vertical-align: middle;\n",
       "    }\n",
       "\n",
       "    .dataframe tbody tr th {\n",
       "        vertical-align: top;\n",
       "    }\n",
       "\n",
       "    .dataframe thead th {\n",
       "        text-align: right;\n",
       "    }\n",
       "</style>\n",
       "<table border=\"1\" class=\"dataframe\">\n",
       "  <thead>\n",
       "    <tr style=\"text-align: right;\">\n",
       "      <th></th>\n",
       "      <th>age</th>\n",
       "      <th>gender</th>\n",
       "      <th>fever</th>\n",
       "      <th>cough</th>\n",
       "      <th>city</th>\n",
       "      <th>has_covid</th>\n",
       "    </tr>\n",
       "  </thead>\n",
       "  <tbody>\n",
       "    <tr>\n",
       "      <th>17</th>\n",
       "      <td>40</td>\n",
       "      <td>Female</td>\n",
       "      <td>98.0</td>\n",
       "      <td>Strong</td>\n",
       "      <td>Delhi</td>\n",
       "      <td>No</td>\n",
       "    </tr>\n",
       "    <tr>\n",
       "      <th>77</th>\n",
       "      <td>8</td>\n",
       "      <td>Female</td>\n",
       "      <td>101.0</td>\n",
       "      <td>Mild</td>\n",
       "      <td>Kolkata</td>\n",
       "      <td>No</td>\n",
       "    </tr>\n",
       "    <tr>\n",
       "      <th>27</th>\n",
       "      <td>33</td>\n",
       "      <td>Female</td>\n",
       "      <td>102.0</td>\n",
       "      <td>Strong</td>\n",
       "      <td>Delhi</td>\n",
       "      <td>No</td>\n",
       "    </tr>\n",
       "    <tr>\n",
       "      <th>2</th>\n",
       "      <td>42</td>\n",
       "      <td>Male</td>\n",
       "      <td>101.0</td>\n",
       "      <td>Mild</td>\n",
       "      <td>Delhi</td>\n",
       "      <td>No</td>\n",
       "    </tr>\n",
       "    <tr>\n",
       "      <th>15</th>\n",
       "      <td>70</td>\n",
       "      <td>Male</td>\n",
       "      <td>103.0</td>\n",
       "      <td>Strong</td>\n",
       "      <td>Kolkata</td>\n",
       "      <td>Yes</td>\n",
       "    </tr>\n",
       "  </tbody>\n",
       "</table>\n",
       "</div>"
      ],
      "text/plain": [
       "    age  gender  fever   cough     city has_covid\n",
       "17   40  Female   98.0  Strong    Delhi        No\n",
       "77    8  Female  101.0    Mild  Kolkata        No\n",
       "27   33  Female  102.0  Strong    Delhi        No\n",
       "2    42    Male  101.0    Mild    Delhi        No\n",
       "15   70    Male  103.0  Strong  Kolkata       Yes"
      ]
     },
     "execution_count": 3,
     "metadata": {},
     "output_type": "execute_result"
    }
   ],
   "source": [
    "df = pd.read_csv('covid_toy.csv')\n",
    "df.sample(5)"
   ]
  },
  {
   "cell_type": "code",
   "execution_count": 4,
   "id": "1f57f17e",
   "metadata": {},
   "outputs": [
    {
     "data": {
      "text/plain": [
       "'\\nDataframe is nothing but a 2-D numpy array when you convert it to an array'"
      ]
     },
     "execution_count": 4,
     "metadata": {},
     "output_type": "execute_result"
    }
   ],
   "source": [
    "\"\"\"\n",
    "Dataframe is nothing but a 2-D numpy array when you convert it to an array\"\"\"\n",
    "#df.values"
   ]
  },
  {
   "cell_type": "code",
   "execution_count": 6,
   "id": "b8d9fdff",
   "metadata": {},
   "outputs": [
    {
     "name": "stdout",
     "output_type": "stream",
     "text": [
      "<class 'pandas.core.frame.DataFrame'>\n",
      "RangeIndex: 100 entries, 0 to 99\n",
      "Data columns (total 6 columns):\n",
      " #   Column     Non-Null Count  Dtype  \n",
      "---  ------     --------------  -----  \n",
      " 0   age        100 non-null    int64  \n",
      " 1   gender     100 non-null    object \n",
      " 2   fever      90 non-null     float64\n",
      " 3   cough      100 non-null    object \n",
      " 4   city       100 non-null    object \n",
      " 5   has_covid  100 non-null    object \n",
      "dtypes: float64(1), int64(1), object(4)\n",
      "memory usage: 4.8+ KB\n"
     ]
    }
   ],
   "source": [
    "df.info()"
   ]
  },
  {
   "cell_type": "code",
   "execution_count": 7,
   "id": "98b5d1a5",
   "metadata": {},
   "outputs": [
    {
     "data": {
      "text/plain": [
       "age           0\n",
       "gender        0\n",
       "fever        10\n",
       "cough         0\n",
       "city          0\n",
       "has_covid     0\n",
       "dtype: int64"
      ]
     },
     "execution_count": 7,
     "metadata": {},
     "output_type": "execute_result"
    }
   ],
   "source": [
    "df.isnull().sum()"
   ]
  },
  {
   "cell_type": "code",
   "execution_count": 8,
   "id": "75ca667d",
   "metadata": {},
   "outputs": [
    {
     "data": {
      "text/plain": [
       "Mild      62\n",
       "Strong    38\n",
       "Name: cough, dtype: int64"
      ]
     },
     "execution_count": 8,
     "metadata": {},
     "output_type": "execute_result"
    }
   ],
   "source": [
    "df['cough'].value_counts()"
   ]
  },
  {
   "cell_type": "code",
   "execution_count": 9,
   "id": "787b4451",
   "metadata": {},
   "outputs": [
    {
     "data": {
      "text/plain": [
       "4"
      ]
     },
     "execution_count": 9,
     "metadata": {},
     "output_type": "execute_result"
    }
   ],
   "source": [
    "df['city'].nunique()"
   ]
  },
  {
   "cell_type": "code",
   "execution_count": 10,
   "id": "941ac992",
   "metadata": {},
   "outputs": [],
   "source": [
    "from sklearn.model_selection import train_test_split\n",
    "X_train,X_test,y_train,y_test = train_test_split(df.drop(columns = ['has_covid']),df['has_covid'],\n",
    "                                                test_size=0.2,random_state=2)"
   ]
  },
  {
   "cell_type": "code",
   "execution_count": 11,
   "id": "968583e2",
   "metadata": {},
   "outputs": [
    {
     "data": {
      "text/html": [
       "<div>\n",
       "<style scoped>\n",
       "    .dataframe tbody tr th:only-of-type {\n",
       "        vertical-align: middle;\n",
       "    }\n",
       "\n",
       "    .dataframe tbody tr th {\n",
       "        vertical-align: top;\n",
       "    }\n",
       "\n",
       "    .dataframe thead th {\n",
       "        text-align: right;\n",
       "    }\n",
       "</style>\n",
       "<table border=\"1\" class=\"dataframe\">\n",
       "  <thead>\n",
       "    <tr style=\"text-align: right;\">\n",
       "      <th></th>\n",
       "      <th>age</th>\n",
       "      <th>gender</th>\n",
       "      <th>fever</th>\n",
       "      <th>cough</th>\n",
       "      <th>city</th>\n",
       "    </tr>\n",
       "  </thead>\n",
       "  <tbody>\n",
       "    <tr>\n",
       "      <th>35</th>\n",
       "      <td>82</td>\n",
       "      <td>Female</td>\n",
       "      <td>102.0</td>\n",
       "      <td>Strong</td>\n",
       "      <td>Bangalore</td>\n",
       "    </tr>\n",
       "    <tr>\n",
       "      <th>11</th>\n",
       "      <td>65</td>\n",
       "      <td>Female</td>\n",
       "      <td>98.0</td>\n",
       "      <td>Mild</td>\n",
       "      <td>Mumbai</td>\n",
       "    </tr>\n",
       "    <tr>\n",
       "      <th>84</th>\n",
       "      <td>69</td>\n",
       "      <td>Female</td>\n",
       "      <td>98.0</td>\n",
       "      <td>Strong</td>\n",
       "      <td>Mumbai</td>\n",
       "    </tr>\n",
       "    <tr>\n",
       "      <th>44</th>\n",
       "      <td>20</td>\n",
       "      <td>Male</td>\n",
       "      <td>102.0</td>\n",
       "      <td>Strong</td>\n",
       "      <td>Delhi</td>\n",
       "    </tr>\n",
       "    <tr>\n",
       "      <th>73</th>\n",
       "      <td>34</td>\n",
       "      <td>Male</td>\n",
       "      <td>98.0</td>\n",
       "      <td>Strong</td>\n",
       "      <td>Kolkata</td>\n",
       "    </tr>\n",
       "    <tr>\n",
       "      <th>...</th>\n",
       "      <td>...</td>\n",
       "      <td>...</td>\n",
       "      <td>...</td>\n",
       "      <td>...</td>\n",
       "      <td>...</td>\n",
       "    </tr>\n",
       "    <tr>\n",
       "      <th>43</th>\n",
       "      <td>22</td>\n",
       "      <td>Female</td>\n",
       "      <td>99.0</td>\n",
       "      <td>Mild</td>\n",
       "      <td>Bangalore</td>\n",
       "    </tr>\n",
       "    <tr>\n",
       "      <th>22</th>\n",
       "      <td>71</td>\n",
       "      <td>Female</td>\n",
       "      <td>98.0</td>\n",
       "      <td>Strong</td>\n",
       "      <td>Kolkata</td>\n",
       "    </tr>\n",
       "    <tr>\n",
       "      <th>72</th>\n",
       "      <td>83</td>\n",
       "      <td>Female</td>\n",
       "      <td>101.0</td>\n",
       "      <td>Mild</td>\n",
       "      <td>Kolkata</td>\n",
       "    </tr>\n",
       "    <tr>\n",
       "      <th>15</th>\n",
       "      <td>70</td>\n",
       "      <td>Male</td>\n",
       "      <td>103.0</td>\n",
       "      <td>Strong</td>\n",
       "      <td>Kolkata</td>\n",
       "    </tr>\n",
       "    <tr>\n",
       "      <th>40</th>\n",
       "      <td>49</td>\n",
       "      <td>Female</td>\n",
       "      <td>102.0</td>\n",
       "      <td>Mild</td>\n",
       "      <td>Delhi</td>\n",
       "    </tr>\n",
       "  </tbody>\n",
       "</table>\n",
       "<p>80 rows × 5 columns</p>\n",
       "</div>"
      ],
      "text/plain": [
       "    age  gender  fever   cough       city\n",
       "35   82  Female  102.0  Strong  Bangalore\n",
       "11   65  Female   98.0    Mild     Mumbai\n",
       "84   69  Female   98.0  Strong     Mumbai\n",
       "44   20    Male  102.0  Strong      Delhi\n",
       "73   34    Male   98.0  Strong    Kolkata\n",
       "..  ...     ...    ...     ...        ...\n",
       "43   22  Female   99.0    Mild  Bangalore\n",
       "22   71  Female   98.0  Strong    Kolkata\n",
       "72   83  Female  101.0    Mild    Kolkata\n",
       "15   70    Male  103.0  Strong    Kolkata\n",
       "40   49  Female  102.0    Mild      Delhi\n",
       "\n",
       "[80 rows x 5 columns]"
      ]
     },
     "execution_count": 11,
     "metadata": {},
     "output_type": "execute_result"
    }
   ],
   "source": [
    "X_train"
   ]
  },
  {
   "cell_type": "markdown",
   "id": "b22802ba",
   "metadata": {},
   "source": [
    "### Without Column Transfer method.\n",
    "\n",
    "We will transfer columns manually one by one. And then append those columns into a new one. "
   ]
  },
  {
   "cell_type": "markdown",
   "id": "a45a11c2",
   "metadata": {},
   "source": [
    "###  \"Fever\" column"
   ]
  },
  {
   "cell_type": "code",
   "execution_count": 14,
   "id": "87337c2f",
   "metadata": {},
   "outputs": [],
   "source": [
    "\"\"\"\n",
    "SimpleImputer() uses a imputation strategy. This strategy defines which method we are going to use to fill our missing values.\n",
    "By default strategy is set to \"mean\".\n",
    "most_frequent,\n",
    "mean,\n",
    "median,\n",
    "constant.\n",
    "\n",
    "\"\"\"\n",
    "si = SimpleImputer()    "
   ]
  },
  {
   "cell_type": "code",
   "execution_count": 15,
   "id": "8e3dba67",
   "metadata": {},
   "outputs": [],
   "source": [
    "#X_train['fever'].shape"
   ]
  },
  {
   "cell_type": "code",
   "execution_count": 16,
   "id": "160f10d7",
   "metadata": {},
   "outputs": [],
   "source": [
    "X_train_fever = np.round(si.fit_transform(X_train[['fever']]),2)"
   ]
  },
  {
   "cell_type": "code",
   "execution_count": 17,
   "id": "baab0187",
   "metadata": {},
   "outputs": [
    {
     "data": {
      "text/plain": [
       "array([[104.  ],\n",
       "       [101.  ],\n",
       "       [101.06],\n",
       "       [100.  ],\n",
       "       [103.  ],\n",
       "       [ 98.  ],\n",
       "       [101.  ],\n",
       "       [102.  ],\n",
       "       [104.  ],\n",
       "       [102.  ],\n",
       "       [ 98.  ],\n",
       "       [102.  ],\n",
       "       [100.  ],\n",
       "       [104.  ],\n",
       "       [103.  ],\n",
       "       [ 98.  ],\n",
       "       [ 98.  ],\n",
       "       [101.06],\n",
       "       [ 98.  ],\n",
       "       [103.  ]])"
      ]
     },
     "execution_count": 17,
     "metadata": {},
     "output_type": "execute_result"
    }
   ],
   "source": [
    "X_test_fever = np.round(si.fit_transform(X_test[['fever']]),2)\n",
    "X_test_fever"
   ]
  },
  {
   "cell_type": "markdown",
   "id": "6e6c4afd",
   "metadata": {},
   "source": [
    "### \"Cough\" Column."
   ]
  },
  {
   "cell_type": "code",
   "execution_count": 18,
   "id": "b87b8d6a",
   "metadata": {},
   "outputs": [
    {
     "data": {
      "text/plain": [
       "array([[0.],\n",
       "       [0.],\n",
       "       [1.],\n",
       "       [1.],\n",
       "       [0.],\n",
       "       [0.],\n",
       "       [0.],\n",
       "       [1.],\n",
       "       [0.],\n",
       "       [0.],\n",
       "       [1.],\n",
       "       [1.],\n",
       "       [0.],\n",
       "       [0.],\n",
       "       [0.],\n",
       "       [0.],\n",
       "       [0.],\n",
       "       [1.],\n",
       "       [1.],\n",
       "       [0.]])"
      ]
     },
     "execution_count": 18,
     "metadata": {},
     "output_type": "execute_result"
    }
   ],
   "source": [
    "oe = OrdinalEncoder(categories=[['Mild','Strong']])\n",
    "X_train_cough = oe.fit_transform(X_train[['cough']])\n",
    "X_test_cough = oe.fit_transform(X_test[['cough']])\n",
    "X_test_cough"
   ]
  },
  {
   "cell_type": "markdown",
   "id": "792b6c08",
   "metadata": {},
   "source": [
    "### \"City\" and \"Gender\" Columns"
   ]
  },
  {
   "cell_type": "code",
   "execution_count": 21,
   "id": "960d338b",
   "metadata": {},
   "outputs": [],
   "source": [
    "ohe = OneHotEncoder(drop = 'first',sparse = False)\n",
    "X_train_gender_city = ohe.fit_transform(X_train[['gender','city']])\n",
    "X_test_gender_city = ohe.fit_transform(X_test[['gender','city']])"
   ]
  },
  {
   "cell_type": "code",
   "execution_count": 22,
   "id": "7d20cf01",
   "metadata": {},
   "outputs": [
    {
     "data": {
      "text/plain": [
       "array([[0., 0., 1., 0.],\n",
       "       [1., 1., 0., 0.],\n",
       "       [1., 0., 1., 0.],\n",
       "       [0., 0., 1., 0.],\n",
       "       [0., 0., 1., 0.],\n",
       "       [0., 1., 0., 0.],\n",
       "       [1., 1., 0., 0.],\n",
       "       [0., 1., 0., 0.],\n",
       "       [1., 0., 1., 0.],\n",
       "       [1., 0., 0., 0.],\n",
       "       [0., 0., 1., 0.],\n",
       "       [0., 0., 1., 0.],\n",
       "       [1., 0., 0., 0.],\n",
       "       [1., 0., 0., 0.],\n",
       "       [1., 0., 1., 0.],\n",
       "       [1., 0., 0., 0.],\n",
       "       [0., 0., 1., 0.],\n",
       "       [0., 0., 0., 1.],\n",
       "       [0., 0., 0., 1.],\n",
       "       [0., 0., 1., 0.]])"
      ]
     },
     "execution_count": 22,
     "metadata": {},
     "output_type": "execute_result"
    }
   ],
   "source": [
    "X_test_gender_city"
   ]
  },
  {
   "cell_type": "markdown",
   "id": "52f95763",
   "metadata": {},
   "source": [
    "### \"age\" Column\n",
    "Extracting age from the train and test set and then covert these into numpy arrays.\n"
   ]
  },
  {
   "cell_type": "code",
   "execution_count": 23,
   "id": "b572bf21",
   "metadata": {},
   "outputs": [],
   "source": [
    "X_train_age = X_train.drop(columns=['gender','fever','cough','city']).values\n",
    "X_test_age = X_test.drop(columns=['gender','fever','cough','city']).values\n",
    "#X_train_age"
   ]
  },
  {
   "cell_type": "code",
   "execution_count": 24,
   "id": "44d31105",
   "metadata": {},
   "outputs": [
    {
     "data": {
      "text/plain": [
       "(20, 7)"
      ]
     },
     "execution_count": 24,
     "metadata": {},
     "output_type": "execute_result"
    }
   ],
   "source": [
    "\"\"\"\n",
    "The arrays must have the same shape, except in the dimension.\n",
    "\"\"\"\n",
    "X_train_transformed = np.concatenate((X_train_age,X_train_cough,X_train_fever,X_train_gender_city),axis = 1)\n",
    "X_test_transformed = np.concatenate((X_test_age,X_test_cough,X_test_fever,X_test_gender_city),axis = 1)\n",
    "X_test_transformed.shape"
   ]
  },
  {
   "cell_type": "code",
   "execution_count": 25,
   "id": "bdc54bfe",
   "metadata": {},
   "outputs": [
    {
     "data": {
      "text/plain": [
       "array([[ 17.  ,   0.  , 104.  ,   0.  ,   0.  ,   1.  ,   0.  ],\n",
       "       [ 15.  ,   0.  , 101.  ,   1.  ,   1.  ,   0.  ,   0.  ],\n",
       "       [ 71.  ,   1.  , 101.06,   1.  ,   0.  ,   1.  ,   0.  ],\n",
       "       [ 13.  ,   1.  , 100.  ,   0.  ,   0.  ,   1.  ,   0.  ],\n",
       "       [ 69.  ,   0.  , 103.  ,   0.  ,   0.  ,   1.  ,   0.  ],\n",
       "       [ 80.  ,   0.  ,  98.  ,   0.  ,   1.  ,   0.  ,   0.  ],\n",
       "       [ 42.  ,   0.  , 101.  ,   1.  ,   1.  ,   0.  ,   0.  ],\n",
       "       [ 33.  ,   1.  , 102.  ,   0.  ,   1.  ,   0.  ,   0.  ],\n",
       "       [ 16.  ,   0.  , 104.  ,   1.  ,   0.  ,   1.  ,   0.  ],\n",
       "       [ 64.  ,   0.  , 102.  ,   1.  ,   0.  ,   0.  ,   0.  ],\n",
       "       [ 10.  ,   1.  ,  98.  ,   0.  ,   0.  ,   1.  ,   0.  ],\n",
       "       [ 82.  ,   1.  , 102.  ,   0.  ,   0.  ,   1.  ,   0.  ],\n",
       "       [ 80.  ,   0.  , 100.  ,   1.  ,   0.  ,   0.  ,   0.  ],\n",
       "       [ 51.  ,   0.  , 104.  ,   1.  ,   0.  ,   0.  ,   0.  ],\n",
       "       [ 60.  ,   0.  , 103.  ,   1.  ,   0.  ,   1.  ,   0.  ],\n",
       "       [ 73.  ,   0.  ,  98.  ,   1.  ,   0.  ,   0.  ,   0.  ],\n",
       "       [ 31.  ,   0.  ,  98.  ,   0.  ,   0.  ,   1.  ,   0.  ],\n",
       "       [ 34.  ,   1.  , 101.06,   0.  ,   0.  ,   0.  ,   1.  ],\n",
       "       [ 81.  ,   1.  ,  98.  ,   0.  ,   0.  ,   0.  ,   1.  ],\n",
       "       [ 48.  ,   0.  , 103.  ,   0.  ,   0.  ,   1.  ,   0.  ]])"
      ]
     },
     "execution_count": 25,
     "metadata": {},
     "output_type": "execute_result"
    }
   ],
   "source": [
    "X_test_transformed"
   ]
  },
  {
   "cell_type": "markdown",
   "id": "8d5cb1ff",
   "metadata": {},
   "source": [
    "### \"has_covid\" Column"
   ]
  },
  {
   "cell_type": "code",
   "execution_count": 37,
   "id": "315bf6d3",
   "metadata": {},
   "outputs": [
    {
     "data": {
      "text/plain": [
       "array([0, 1, 0, 0, 1, 1, 0, 0, 0, 1, 1, 0, 1, 0, 0, 1, 0, 1, 0, 1])"
      ]
     },
     "execution_count": 37,
     "metadata": {},
     "output_type": "execute_result"
    }
   ],
   "source": [
    "le = LabelEncoder()\n",
    "y_train_has_covid = le.fit_transform(y_train)\n",
    "y_test_has_covid = le.fit_transform(y_test)\n",
    "y_test_has_covid"
   ]
  },
  {
   "cell_type": "markdown",
   "id": "6a9019b8",
   "metadata": {},
   "source": [
    "# Using Column Transformer\n",
    "\n",
    "The <b style = 'color:orange'>ColumnTransformer</b> is a class in the scikit-learn Python machine learning library that allows you to selectively apply data preparation transforms."
   ]
  },
  {
   "cell_type": "code",
   "execution_count": 26,
   "id": "19d4450d",
   "metadata": {},
   "outputs": [],
   "source": [
    "from sklearn.compose import ColumnTransformer"
   ]
  },
  {
   "cell_type": "code",
   "execution_count": 27,
   "id": "0b765443",
   "metadata": {},
   "outputs": [],
   "source": [
    "\"\"\"\n",
    "We initially pass two parameters in time of creating ColumnTransformer object namely \"transformers\" and \"remainder\n",
    "List of (name, transformer, columns) tuples specifying the transformer objects to be applied to subsets of the data.\n",
    "    \n",
    "By default, only the specified columns in transformers are transformed and combined in the output, and the non-specified\n",
    "columns are dropped. By specifying \"remainder='passthrough\", all remaining columns that were not specified in transformers\n",
    "will be automatically passed through, Hence making no transformation for those non-specified columns. This subset of \n",
    "columns is concatenated with the output of the transformers.\n",
    "\"\"\"\n",
    "\n",
    "transformer = ColumnTransformer(transformers=[\n",
    "    ('tnf1',SimpleImputer(),['fever']),\n",
    "    ('tnf2',OrdinalEncoder(categories = [['Mild','Strong']]),['cough']),\n",
    "    ('tnf3',OneHotEncoder(drop = 'first',sparse = False),['gender','city'])\n",
    "],remainder='passthrough')"
   ]
  },
  {
   "cell_type": "code",
   "execution_count": 28,
   "id": "985bf9cc",
   "metadata": {},
   "outputs": [
    {
     "data": {
      "text/plain": [
       "(20, 7)"
      ]
     },
     "execution_count": 28,
     "metadata": {},
     "output_type": "execute_result"
    }
   ],
   "source": [
    "transformer.fit_transform(X_test).shape"
   ]
  },
  {
   "cell_type": "code",
   "execution_count": 29,
   "id": "d09d7ab8",
   "metadata": {},
   "outputs": [
    {
     "data": {
      "text/plain": [
       "(80, 7)"
      ]
     },
     "execution_count": 29,
     "metadata": {},
     "output_type": "execute_result"
    }
   ],
   "source": [
    "transformer.fit_transform(X_train).shape"
   ]
  },
  {
   "cell_type": "code",
   "execution_count": null,
   "id": "2a92d5fb",
   "metadata": {},
   "outputs": [],
   "source": []
  }
 ],
 "metadata": {
  "kernelspec": {
   "display_name": "Python 3 (ipykernel)",
   "language": "python",
   "name": "python3"
  },
  "language_info": {
   "codemirror_mode": {
    "name": "ipython",
    "version": 3
   },
   "file_extension": ".py",
   "mimetype": "text/x-python",
   "name": "python",
   "nbconvert_exporter": "python",
   "pygments_lexer": "ipython3",
   "version": "3.9.7"
  }
 },
 "nbformat": 4,
 "nbformat_minor": 5
}
