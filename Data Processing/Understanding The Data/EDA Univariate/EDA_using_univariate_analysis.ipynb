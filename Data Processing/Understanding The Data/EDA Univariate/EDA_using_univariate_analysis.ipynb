{
 "cells": [
  {
   "cell_type": "markdown",
   "id": "686c7bd6",
   "metadata": {},
   "source": [
    "### EDA\n",
    "Exploratory Data Analysis refers to the critical process of performing initial investigations on data so as to discover patterns,to spot anomalies,to test hypothesis and to check assumptions with the help of summary statistics and graphical representations."
   ]
  },
  {
   "cell_type": "markdown",
   "id": "b3e96166",
   "metadata": {},
   "source": [
    "### Univariate Analysis\n",
    "\n",
    "The term univariate analysis refers to the analysis of one(uni) variable(variate). Analysis of <b>single columns</b> in our case. When we do Univariate analysis we <b style=\"color:red\">first identify</b> about the type of column i.e. whether the data of our column is <b style=\"color:orange\">numerical</b> or <b style=\"color:orange\">categorical</b>. And on the basis of the type we perform analysis."
   ]
  },
  {
   "cell_type": "code",
   "execution_count": 2,
   "id": "16db4483",
   "metadata": {},
   "outputs": [],
   "source": [
    "import pandas as pd\n",
    "import numpy as np\n",
    "import matplotlib.pyplot as plt\n",
    "import seaborn as sns"
   ]
  },
  {
   "cell_type": "code",
   "execution_count": 3,
   "id": "21f112cb",
   "metadata": {},
   "outputs": [],
   "source": [
    "df = pd.read_csv('titanic.csv')"
   ]
  },
  {
   "cell_type": "code",
   "execution_count": 4,
   "id": "fbe785bb",
   "metadata": {},
   "outputs": [
    {
     "data": {
      "text/html": [
       "<div>\n",
       "<style scoped>\n",
       "    .dataframe tbody tr th:only-of-type {\n",
       "        vertical-align: middle;\n",
       "    }\n",
       "\n",
       "    .dataframe tbody tr th {\n",
       "        vertical-align: top;\n",
       "    }\n",
       "\n",
       "    .dataframe thead th {\n",
       "        text-align: right;\n",
       "    }\n",
       "</style>\n",
       "<table border=\"1\" class=\"dataframe\">\n",
       "  <thead>\n",
       "    <tr style=\"text-align: right;\">\n",
       "      <th></th>\n",
       "      <th>PassengerId</th>\n",
       "      <th>Survived</th>\n",
       "      <th>Pclass</th>\n",
       "      <th>Name</th>\n",
       "      <th>Sex</th>\n",
       "      <th>Age</th>\n",
       "      <th>SibSp</th>\n",
       "      <th>Parch</th>\n",
       "      <th>Ticket</th>\n",
       "      <th>Fare</th>\n",
       "      <th>Cabin</th>\n",
       "      <th>Embarked</th>\n",
       "    </tr>\n",
       "  </thead>\n",
       "  <tbody>\n",
       "    <tr>\n",
       "      <th>680</th>\n",
       "      <td>681</td>\n",
       "      <td>0</td>\n",
       "      <td>3</td>\n",
       "      <td>Peters, Miss. Katie</td>\n",
       "      <td>female</td>\n",
       "      <td>NaN</td>\n",
       "      <td>0</td>\n",
       "      <td>0</td>\n",
       "      <td>330935</td>\n",
       "      <td>8.1375</td>\n",
       "      <td>NaN</td>\n",
       "      <td>Q</td>\n",
       "    </tr>\n",
       "    <tr>\n",
       "      <th>516</th>\n",
       "      <td>517</td>\n",
       "      <td>1</td>\n",
       "      <td>2</td>\n",
       "      <td>Lemore, Mrs. (Amelia Milley)</td>\n",
       "      <td>female</td>\n",
       "      <td>34.0</td>\n",
       "      <td>0</td>\n",
       "      <td>0</td>\n",
       "      <td>C.A. 34260</td>\n",
       "      <td>10.5000</td>\n",
       "      <td>F33</td>\n",
       "      <td>S</td>\n",
       "    </tr>\n",
       "    <tr>\n",
       "      <th>773</th>\n",
       "      <td>774</td>\n",
       "      <td>0</td>\n",
       "      <td>3</td>\n",
       "      <td>Elias, Mr. Dibo</td>\n",
       "      <td>male</td>\n",
       "      <td>NaN</td>\n",
       "      <td>0</td>\n",
       "      <td>0</td>\n",
       "      <td>2674</td>\n",
       "      <td>7.2250</td>\n",
       "      <td>NaN</td>\n",
       "      <td>C</td>\n",
       "    </tr>\n",
       "    <tr>\n",
       "      <th>612</th>\n",
       "      <td>613</td>\n",
       "      <td>1</td>\n",
       "      <td>3</td>\n",
       "      <td>Murphy, Miss. Margaret Jane</td>\n",
       "      <td>female</td>\n",
       "      <td>NaN</td>\n",
       "      <td>1</td>\n",
       "      <td>0</td>\n",
       "      <td>367230</td>\n",
       "      <td>15.5000</td>\n",
       "      <td>NaN</td>\n",
       "      <td>Q</td>\n",
       "    </tr>\n",
       "  </tbody>\n",
       "</table>\n",
       "</div>"
      ],
      "text/plain": [
       "     PassengerId  Survived  Pclass                          Name     Sex  \\\n",
       "680          681         0       3           Peters, Miss. Katie  female   \n",
       "516          517         1       2  Lemore, Mrs. (Amelia Milley)  female   \n",
       "773          774         0       3               Elias, Mr. Dibo    male   \n",
       "612          613         1       3   Murphy, Miss. Margaret Jane  female   \n",
       "\n",
       "      Age  SibSp  Parch      Ticket     Fare Cabin Embarked  \n",
       "680   NaN      0      0      330935   8.1375   NaN        Q  \n",
       "516  34.0      0      0  C.A. 34260  10.5000   F33        S  \n",
       "773   NaN      0      0        2674   7.2250   NaN        C  \n",
       "612   NaN      1      0      367230  15.5000   NaN        Q  "
      ]
     },
     "execution_count": 4,
     "metadata": {},
     "output_type": "execute_result"
    }
   ],
   "source": [
    "df.sample(4)       #Randomly gives us 4 rows from the dataset."
   ]
  },
  {
   "cell_type": "markdown",
   "id": "327b7a12",
   "metadata": {},
   "source": [
    "Generally you perfrom EDA on left to right for all the columns in a dataset to gain insights about the columns. But in this notebook, we are going to do analysis for only a handful of columns(both numerical and categorical) for learning purpose."
   ]
  },
  {
   "cell_type": "markdown",
   "id": "00193a36",
   "metadata": {},
   "source": [
    "### Univariate Analysis for Categorical Data\n",
    "\n",
    "When you have categorical data, then normally we use <b style=\"color:orange\">countplot()</b> and <b style=\"color:orange\">pie chart</b>. Survived, Pclass, Sex, Embarked are some of the examples of categorical columns in this dataset. "
   ]
  },
  {
   "cell_type": "markdown",
   "id": "b9fb3d4d",
   "metadata": {},
   "source": [
    "#### <b style = \"color:green\">Countplot</b>"
   ]
  },
  {
   "cell_type": "code",
   "execution_count": 5,
   "id": "247775e0",
   "metadata": {},
   "outputs": [
    {
     "data": {
      "text/plain": [
       "0    549\n",
       "1    342\n",
       "Name: Survived, dtype: int64"
      ]
     },
     "execution_count": 5,
     "metadata": {},
     "output_type": "execute_result"
    },
    {
     "data": {
      "image/png": "[encoded data removed]",
      "text/plain": [
       "<Figure size 432x288 with 1 Axes>"
      ]
     },
     "metadata": {
      "needs_background": "light"
     },
     "output_type": "display_data"
    }
   ],
   "source": [
    "sns.countplot(x = df['Survived'])      #Gives us the frequency count of categories of a categorical column.\n",
    "df['Survived'].value_counts()      #Gives us the values of each category of that column."
   ]
  },
  {
   "cell_type": "code",
   "execution_count": 6,
   "id": "2bf05f2d",
   "metadata": {},
   "outputs": [
    {
     "data": {
      "text/plain": [
       "<AxesSubplot:>"
      ]
     },
     "execution_count": 6,
     "metadata": {},
     "output_type": "execute_result"
    },
    {
     "data": {
      "image/png": "[encoded data removed]",
      "text/plain": [
       "<Figure size 432x288 with 1 Axes>"
      ]
     },
     "metadata": {
      "needs_background": "light"
     },
     "output_type": "display_data"
    }
   ],
   "source": [
    "df['Survived'].value_counts().plot(kind = 'bar')  #First we find out the value counts and then plot this in a bar chart."
   ]
  },
  {
   "cell_type": "code",
   "execution_count": 7,
   "id": "c750ac33",
   "metadata": {},
   "outputs": [
    {
     "data": {
      "text/plain": [
       "<AxesSubplot:xlabel='Pclass', ylabel='count'>"
      ]
     },
     "execution_count": 7,
     "metadata": {},
     "output_type": "execute_result"
    },
    {
     "data": {
      "image/png": "[encoded data removed]",
      "text/plain": [
       "<Figure size 432x288 with 1 Axes>"
      ]
     },
     "metadata": {
      "needs_background": "light"
     },
     "output_type": "display_data"
    }
   ],
   "source": [
    "sns.countplot(x = df['Pclass'])"
   ]
  },
  {
   "cell_type": "markdown",
   "id": "407cf56d",
   "metadata": {},
   "source": [
    "### <b style = \"color:green\">Pie Chart</b>\n",
    "\n",
    "If you need the information of categorical column in percentage then you can use pie chart. seaborn does not have any built-in function to create Pie chart."
   ]
  },
  {
   "cell_type": "code",
   "execution_count": 8,
   "id": "2cf3fa8d",
   "metadata": {},
   "outputs": [
    {
     "data": {
      "text/plain": [
       "<AxesSubplot:ylabel='Pclass'>"
      ]
     },
     "execution_count": 8,
     "metadata": {},
     "output_type": "execute_result"
    },
    {
     "data": {
      "image/png": "[encoded data removed]",
      "text/plain": [
       "<Figure size 432x288 with 1 Axes>"
      ]
     },
     "metadata": {},
     "output_type": "display_data"
    }
   ],
   "source": [
    "colors = sns.color_palette('pastel')\n",
    "df['Pclass'].value_counts().plot(kind = 'pie',autopct = '%.1f',colors = colors)"
   ]
  },
  {
   "cell_type": "code",
   "execution_count": 9,
   "id": "2f6fb801",
   "metadata": {},
   "outputs": [
    {
     "data": {
      "text/plain": [
       "<AxesSubplot:ylabel='Survived'>"
      ]
     },
     "execution_count": 9,
     "metadata": {},
     "output_type": "execute_result"
    },
    {
     "data": {
      "image/png": "[encoded data removed]",
      "text/plain": [
       "<Figure size 432x288 with 1 Axes>"
      ]
     },
     "metadata": {},
     "output_type": "display_data"
    }
   ],
   "source": [
    "#Gives what percentage of people survived and what not.\n",
    "df['Survived'].value_counts().plot(kind = 'pie',autopct = '%.1f', shadow=True)\n"
   ]
  },
  {
   "cell_type": "code",
   "execution_count": 10,
   "id": "8848791c",
   "metadata": {},
   "outputs": [
    {
     "data": {
      "text/plain": [
       "<AxesSubplot:ylabel='Sex'>"
      ]
     },
     "execution_count": 10,
     "metadata": {},
     "output_type": "execute_result"
    },
    {
     "data": {
      "image/png": "[encoded data removed]",
      "text/plain": [
       "<Figure size 432x288 with 1 Axes>"
      ]
     },
     "metadata": {},
     "output_type": "display_data"
    }
   ],
   "source": [
    "df['Sex'].value_counts().plot(kind = 'pie',autopct = '%.2f')"
   ]
  },
  {
   "cell_type": "markdown",
   "id": "44e45184",
   "metadata": {},
   "source": [
    "### Univariate Analysis for Numerical Data\n",
    "\n",
    "We will work on Numerical data columns Age and Fare in this notebook."
   ]
  },
  {
   "cell_type": "markdown",
   "id": "ec7ae8a2",
   "metadata": {},
   "source": [
    "### <b style=\"color:green\">Histogram</b>\n",
    "A histogram is a graphical representation that organizes a group of data points into user-specified ranges. In short, by using histograms, we can understand the <b style=\"color:orange\">distribution</b> of numerical data."
   ]
  },
  {
   "cell_type": "code",
   "execution_count": 20,
   "id": "7701623c",
   "metadata": {},
   "outputs": [
    {
     "data": {
      "text/plain": [
       "<AxesSubplot:xlabel='Age', ylabel='Count'>"
      ]
     },
     "execution_count": 20,
     "metadata": {},
     "output_type": "execute_result"
    },
    {
     "data": {
      "image/png": "[encoded data removed]",
      "text/plain": [
       "<Figure size 432x288 with 1 Axes>"
      ]
     },
     "metadata": {
      "needs_background": "light"
     },
     "output_type": "display_data"
    }
   ],
   "source": [
    "\"\"\"\n",
    "In this case, we see that older and younger people were less than the middle aged people in the titanic.\n",
    "\"\"\"\n",
    "sns.histplot(df['Age'],bins = 8)"
   ]
  },
  {
   "cell_type": "code",
   "execution_count": 18,
   "id": "bcb9e004",
   "metadata": {},
   "outputs": [
    {
     "data": {
      "text/plain": [
       "(array([ 64., 115., 230., 155.,  86.,  42.,  17.,   5.]),\n",
       " array([ 0.42  , 10.3675, 20.315 , 30.2625, 40.21  , 50.1575, 60.105 ,\n",
       "        70.0525, 80.    ]),\n",
       " <BarContainer object of 8 artists>)"
      ]
     },
     "execution_count": 18,
     "metadata": {},
     "output_type": "execute_result"
    },
    {
     "data": {
      "image/png": "[encoded data removed]",
      "text/plain": [
       "<Figure size 432x288 with 1 Axes>"
      ]
     },
     "metadata": {
      "needs_background": "light"
     },
     "output_type": "display_data"
    }
   ],
   "source": [
    "plt.hist(df['Age'],bins = 8)"
   ]
  },
  {
   "cell_type": "markdown",
   "id": "b777b3cf",
   "metadata": {},
   "source": [
    "### <b style=\"color:green\">Displot</b>\n",
    "\n",
    "A Displot or distribution plot, depicts the variation in the data distribution. Seaborn Distplot represents the overall distribution of continuous data variables. We can also know about the <b style=\"color:orange\">skewness</b> of data."
   ]
  },
  {
   "cell_type": "code",
   "execution_count": 27,
   "id": "8c417021",
   "metadata": {},
   "outputs": [
    {
     "data": {
      "text/plain": [
       "<seaborn.axisgrid.FacetGrid at 0x1af51031cd0>"
      ]
     },
     "execution_count": 27,
     "metadata": {},
     "output_type": "execute_result"
    },
    {
     "data": {
      "image/png": "[encoded data removed]",
      "text/plain": [
       "<Figure size 360x360 with 1 Axes>"
      ]
     },
     "metadata": {
      "needs_background": "light"
     },
     "output_type": "display_data"
    }
   ],
   "source": [
    "sns.displot(data = df[\"Age\"],kde = True)"
   ]
  },
  {
   "cell_type": "code",
   "execution_count": 31,
   "id": "a7891f17",
   "metadata": {},
   "outputs": [
    {
     "data": {
      "text/plain": [
       "<seaborn.axisgrid.FacetGrid at 0x1af50bb2460>"
      ]
     },
     "execution_count": 31,
     "metadata": {},
     "output_type": "execute_result"
    },
    {
     "data": {
      "image/png": "[encoded data removed]",
      "text/plain": [
       "<Figure size 360x360 with 1 Axes>"
      ]
     },
     "metadata": {
      "needs_background": "light"
     },
     "output_type": "display_data"
    }
   ],
   "source": [
    "\"\"\"Kernel density estimation (KDE) is a non-parametric method for estimating the probability density function\n",
    "of a given random variable. In x axis, we have Age and in y axis, we have the probabily of that age. For example \n",
    "if the age is 40, then the probability associated with it is almost 0.015 or 1.5 percent\"\"\"\n",
    "sns.displot(data = df[\"Age\"],kind = 'kde') "
   ]
  },
  {
   "cell_type": "code",
   "execution_count": 53,
   "id": "a4ce5628",
   "metadata": {},
   "outputs": [
    {
     "data": {
      "text/plain": [
       "0.38910778230082704"
      ]
     },
     "execution_count": 53,
     "metadata": {},
     "output_type": "execute_result"
    }
   ],
   "source": [
    "\"\"\"\n",
    "If skew() method gives perfect 0, that means the data is normally distributed or symmetrical. If the value is positive,\n",
    "then it means the data is positively skewed. And if it's negative, then the data is negatively skewed.\n",
    "\"\"\"\n",
    "df['Age'].skew()"
   ]
  },
  {
   "cell_type": "markdown",
   "id": "bc3252ea",
   "metadata": {},
   "source": [
    "### <b style=\"color:green\">Boxplot</b>\n",
    "\n",
    "Boxplots divides the data set into three quartiles. This graph represents the <b style=\"color:orange\">minimum, maximum, median, first quartile and third quartile</b> in the numerical data. In short, it gives us a 5 number summary which are mentioned above. In this way, we can find out noisy data or outliers easily and make necessary steps according to it.\n",
    "\n",
    "[Understanding the boxplot](https://towardsdatascience.com/understanding-boxplots-5e2df7bcbd51#:~:text=of%20a%20boxplot-,The%20image%20above%20is%20a%20boxplot.,and%20what%20their%20values%20are.)"
   ]
  },
  {
   "cell_type": "code",
   "execution_count": 39,
   "id": "98f17b87",
   "metadata": {},
   "outputs": [
    {
     "data": {
      "text/plain": [
       "<AxesSubplot:ylabel='Age'>"
      ]
     },
     "execution_count": 39,
     "metadata": {},
     "output_type": "execute_result"
    },
    {
     "data": {
      "image/png": "[encoded data removed]",
      "text/plain": [
       "<Figure size 432x288 with 1 Axes>"
      ]
     },
     "metadata": {
      "needs_background": "light"
     },
     "output_type": "display_data"
    }
   ],
   "source": [
    "sns.boxplot(y = df['Age'])"
   ]
  },
  {
   "cell_type": "code",
   "execution_count": 40,
   "id": "12f3c44b",
   "metadata": {},
   "outputs": [
    {
     "data": {
      "text/plain": [
       "<AxesSubplot:xlabel='Fare'>"
      ]
     },
     "execution_count": 40,
     "metadata": {},
     "output_type": "execute_result"
    },
    {
     "data": {
      "image/png": "[encoded data removed]",
      "text/plain": [
       "<Figure size 432x288 with 1 Axes>"
      ]
     },
     "metadata": {
      "needs_background": "light"
     },
     "output_type": "display_data"
    }
   ],
   "source": [
    "\"\"\"\n",
    "So many outliers in this case and if you rely on this data to train your model then the result will not be optimal. \n",
    "And if you want you can eliminate those outliers or use other techniques to generate great output.\n",
    "\"\"\"\n",
    "sns.boxplot(x = df['Fare'])"
   ]
  },
  {
   "cell_type": "code",
   "execution_count": 43,
   "id": "a9db9abb",
   "metadata": {},
   "outputs": [
    {
     "data": {
      "text/plain": [
       "512.3292"
      ]
     },
     "execution_count": 43,
     "metadata": {},
     "output_type": "execute_result"
    }
   ],
   "source": [
    "df['Fare'].max()"
   ]
  },
  {
   "cell_type": "code",
   "execution_count": 49,
   "id": "4b07999f",
   "metadata": {},
   "outputs": [
    {
     "data": {
      "text/plain": [
       "0.42"
      ]
     },
     "execution_count": 49,
     "metadata": {},
     "output_type": "execute_result"
    }
   ],
   "source": [
    "df['Age'].min()"
   ]
  },
  {
   "cell_type": "code",
   "execution_count": 46,
   "id": "a72cf535",
   "metadata": {},
   "outputs": [
    {
     "data": {
      "text/plain": [
       "29.69911764705882"
      ]
     },
     "execution_count": 46,
     "metadata": {},
     "output_type": "execute_result"
    }
   ],
   "source": [
    "df['Age'].mean()"
   ]
  },
  {
   "cell_type": "code",
   "execution_count": 48,
   "id": "521c5ed0",
   "metadata": {},
   "outputs": [
    {
     "data": {
      "text/plain": [
       "19.0"
      ]
     },
     "execution_count": 48,
     "metadata": {},
     "output_type": "execute_result"
    }
   ],
   "source": [
    "df['Age'].quantile(0.2)"
   ]
  },
  {
   "cell_type": "code",
   "execution_count": null,
   "id": "3bc78869",
   "metadata": {},
   "outputs": [],
   "source": []
  }
 ],
 "metadata": {
  "kernelspec": {
   "display_name": "Python 3 (ipykernel)",
   "language": "python",
   "name": "python3"
  },
  "language_info": {
   "codemirror_mode": {
    "name": "ipython",
    "version": 3
   },
   "file_extension": ".py",
   "mimetype": "text/x-python",
   "name": "python",
   "nbconvert_exporter": "python",
   "pygments_lexer": "ipython3",
   "version": "3.9.7"
  }
 },
 "nbformat": 4,
 "nbformat_minor": 5
}
