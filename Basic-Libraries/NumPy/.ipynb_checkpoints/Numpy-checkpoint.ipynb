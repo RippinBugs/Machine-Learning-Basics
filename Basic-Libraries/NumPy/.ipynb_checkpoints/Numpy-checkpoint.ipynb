{
 "cells": [
  {
   "cell_type": "markdown",
   "id": "e3af5cd9",
   "metadata": {},
   "source": [
    "### Supplementary Information\n",
    "#### Changing cells for different purposes.\n",
    "We need to press Esc first, then type m to work with markup. It's the shortcut method. You can always choose Markdown from Jupyter notebooks toolbar. To get back to the coding cell again press y. To delete a cell, press Esc and then double press d.\n",
    "\n",
    "#### In case if you are wondering what is Markdown? \n",
    "Markdown is a lightweight and popular Markup language which is a writing standard for data scientists and analysts."
   ]
  },
  {
   "cell_type": "markdown",
   "id": "62928675",
   "metadata": {},
   "source": [
    "### Numpy\n",
    "NumPy is a Python library used for working with arrays. It stands for <b>Numerical Python.</b> Numpy creates an abstraction for us to work seemlessly. As a result we don't have to focus on the nitty gritty of how this works rather we can just focus more on the logical build up for our problems.<br><br> <b>Numpy</b> is so useful and powerful because it has only one data structure called ndarray(N-Dimensional Array)"
   ]
  },
  {
   "cell_type": "markdown",
   "id": "357f4c7f",
   "metadata": {},
   "source": [
    "### Properties of Numpy\n",
    "\n",
    "1. Homogeneous - That means, you can't store values of different types in a single ndarray\n",
    "2. Only use numbers but can hold strings too. Though we don't normally use numpy for this purpose.\n",
    "3. Fixed Item size "
   ]
  },
  {
   "cell_type": "code",
   "execution_count": 1,
   "id": "bf9f05f9",
   "metadata": {},
   "outputs": [],
   "source": [
    "#To include Numpy in our code, we need to write this statement where np used as an alias of the name numpy.\n",
    "import numpy as np"
   ]
  },
  {
   "cell_type": "markdown",
   "id": "75c4ec1d",
   "metadata": {},
   "source": [
    "### Creating Numpy Arrays\n",
    "\n",
    "Method 1"
   ]
  },
  {
   "cell_type": "code",
   "execution_count": 2,
   "id": "40e179dd",
   "metadata": {},
   "outputs": [
    {
     "name": "stdout",
     "output_type": "stream",
     "text": [
      "[1 2 3 4 5]\n"
     ]
    }
   ],
   "source": [
    "#np.array() method\n",
    "arr1 = np.array([1,2,3,4,5])\n",
    "print(arr1)"
   ]
  },
  {
   "cell_type": "code",
   "execution_count": 3,
   "id": "dadf46f9",
   "metadata": {},
   "outputs": [
    {
     "data": {
      "text/plain": [
       "numpy.ndarray"
      ]
     },
     "execution_count": 3,
     "metadata": {},
     "output_type": "execute_result"
    }
   ],
   "source": [
    "#To find out the data type of this array we write\n",
    "type(arr1)"
   ]
  },
  {
   "cell_type": "code",
   "execution_count": 4,
   "id": "838a84ce",
   "metadata": {},
   "outputs": [
    {
     "name": "stdout",
     "output_type": "stream",
     "text": [
      "[[1 2 3]\n",
      " [3 4 5]]\n"
     ]
    }
   ],
   "source": [
    "arr2 = np.array([[1,2,3],[3,4,5]])\n",
    "print(arr2)"
   ]
  },
  {
   "cell_type": "code",
   "execution_count": 5,
   "id": "29345216",
   "metadata": {},
   "outputs": [
    {
     "data": {
      "text/plain": [
       "2"
      ]
     },
     "execution_count": 5,
     "metadata": {},
     "output_type": "execute_result"
    }
   ],
   "source": [
    "#Dimension of an array can be found using ndim attribute.\n",
    "arr2.ndim"
   ]
  },
  {
   "cell_type": "markdown",
   "id": "840c86a3",
   "metadata": {},
   "source": [
    "#### Useful Info - Use Shift + Tab inside the function parenthesis to see its arguments if needed.\n",
    "\n",
    "Method 2"
   ]
  },
  {
   "cell_type": "code",
   "execution_count": 6,
   "id": "ef6514f2",
   "metadata": {},
   "outputs": [
    {
     "name": "stdout",
     "output_type": "stream",
     "text": [
      "[[0. 0. 0.]\n",
      " [0. 0. 0.]\n",
      " [0. 0. 0.]\n",
      " [0. 0. 0.]]\n"
     ]
    }
   ],
   "source": [
    "#Create a matrix of size 4x3 with only zeros in it\n",
    "arr3 = np.zeros((4,3))\n",
    "#arr3 = np.zeros((4,3)).astype('i')\n",
    "print(arr3)"
   ]
  },
  {
   "cell_type": "code",
   "execution_count": 7,
   "id": "5b8dca35",
   "metadata": {},
   "outputs": [
    {
     "data": {
      "text/plain": [
       "array([[1., 1., 1.],\n",
       "       [1., 1., 1.]])"
      ]
     },
     "execution_count": 7,
     "metadata": {},
     "output_type": "execute_result"
    }
   ],
   "source": [
    "arr4 = np.ones((2,3))\n",
    "arr4"
   ]
  },
  {
   "cell_type": "code",
   "execution_count": 8,
   "id": "f6385430",
   "metadata": {},
   "outputs": [
    {
     "name": "stdout",
     "output_type": "stream",
     "text": [
      "[[1. 0. 0. 0. 0.]\n",
      " [0. 1. 0. 0. 0.]\n",
      " [0. 0. 1. 0. 0.]\n",
      " [0. 0. 0. 1. 0.]\n",
      " [0. 0. 0. 0. 1.]]\n"
     ]
    }
   ],
   "source": [
    "#Identity matrix has ones(1) in the main diagonal and zeros(0) in elsewhere\n",
    "arr5 = np.identity(5)\n",
    "print(arr5)"
   ]
  },
  {
   "cell_type": "code",
   "execution_count": 9,
   "id": "bdb1c791",
   "metadata": {},
   "outputs": [
    {
     "name": "stdout",
     "output_type": "stream",
     "text": [
      "4\n",
      "[3. 5. 7. 9.]\n"
     ]
    }
   ],
   "source": [
    "#arange method generates an array for a given range\n",
    "#arr6 = np.arange(3,10)\n",
    "arr6 = np.arange(3,10,2,dtype = 'f')   #(start,stop,step_size)\n",
    "print(arr6.size)\n",
    "print(arr6)"
   ]
  },
  {
   "cell_type": "code",
   "execution_count": 10,
   "id": "2e5301a2",
   "metadata": {},
   "outputs": [
    {
     "data": {
      "text/plain": [
       "array([10.        , 12.14285714, 14.28571429, 16.42857143, 18.57142857,\n",
       "       20.71428571, 22.85714286, 25.        ])"
      ]
     },
     "execution_count": 10,
     "metadata": {},
     "output_type": "execute_result"
    }
   ],
   "source": [
    "#linspace returns evenly spaced numbers over a specified interval.ie. distance between 2 adjacent numbers are always same.\n",
    "arr7 = np.linspace(10,25,8)  #(start, end, no.of numbers)\n",
    "arr7"
   ]
  },
  {
   "cell_type": "markdown",
   "id": "428496ab",
   "metadata": {},
   "source": [
    "### Numpy copy() and view() method\n",
    "\n",
    "In Numpy <b>copy()</b> method, one can copy the values of one array to another array. Important property of copy() method \n",
    "is that the base of the copied array is None. That means if you change the value of an element in the new copied array \n",
    "the base array values will not be changed. <br><br>But in <b>view()</b> method the base remains the same for both the arrays. And any changes in any of those arrays will result in changes in both the arrays."
   ]
  },
  {
   "cell_type": "code",
   "execution_count": 11,
   "id": "0eec76c9",
   "metadata": {},
   "outputs": [
    {
     "data": {
      "text/plain": [
       "array([10.        , 12.14285714, 14.28571429, 16.42857143, 18.57142857,\n",
       "       20.71428571, 22.85714286, 25.        ])"
      ]
     },
     "execution_count": 11,
     "metadata": {},
     "output_type": "execute_result"
    }
   ],
   "source": [
    "arr8 = arr7.copy()\n",
    "arr8"
   ]
  },
  {
   "cell_type": "code",
   "execution_count": 12,
   "id": "9a4608e8",
   "metadata": {},
   "outputs": [
    {
     "name": "stdout",
     "output_type": "stream",
     "text": [
      "[10.         12.14285714 14.28571429 16.42857143 18.57142857 20.71428571\n",
      " 22.85714286 25.        ]\n",
      "None\n"
     ]
    }
   ],
   "source": [
    "#NumPy array has the attribute base that returns None if the array owns the data.\n",
    "\n",
    "print(arr7.base)  #arr7's base is arr7\n",
    "print(arr8.base)  #But arr8's base is None, as this array is created using copy()"
   ]
  },
  {
   "cell_type": "code",
   "execution_count": 13,
   "id": "0397c862",
   "metadata": {},
   "outputs": [
    {
     "data": {
      "text/plain": [
       "array([ 10.        ,  12.14285714,  14.28571429,  16.42857143,\n",
       "       100.        ,  20.71428571,  22.85714286,  25.        ])"
      ]
     },
     "execution_count": 13,
     "metadata": {},
     "output_type": "execute_result"
    }
   ],
   "source": [
    "arr9 = arr7.view()\n",
    "arr9[4] = 100\n",
    "arr9"
   ]
  },
  {
   "cell_type": "code",
   "execution_count": 14,
   "id": "101fa2cb",
   "metadata": {},
   "outputs": [
    {
     "name": "stdout",
     "output_type": "stream",
     "text": [
      "[ 10.          12.14285714  14.28571429  16.42857143 100.\n",
      "  20.71428571  22.85714286  25.        ]\n",
      "[ 10.          12.14285714  14.28571429  16.42857143 100.\n",
      "  20.71428571  22.85714286  25.        ]\n",
      "None\n"
     ]
    }
   ],
   "source": [
    "print(arr9)\n",
    "print(arr9.base)\n",
    "print(arr8.base)"
   ]
  },
  {
   "cell_type": "markdown",
   "id": "562057ff",
   "metadata": {},
   "source": [
    "### Numpy Attributes\n",
    "\n",
    "Any variable that is bound in a class is a class attribute . Any function defined within a class is a method.\n",
    "\n",
    "Attributes doesn't use parenthesis() at the end because it's a member variable of the class. We only use () when we are working with classes member functions. "
   ]
  },
  {
   "cell_type": "code",
   "execution_count": 15,
   "id": "2a8d91e2",
   "metadata": {},
   "outputs": [
    {
     "name": "stdout",
     "output_type": "stream",
     "text": [
      "[1 2 3 4 5]\n",
      "(5,)\n",
      "1\n",
      "5\n",
      "4\n",
      "int32\n"
     ]
    }
   ],
   "source": [
    "#shape - gives the shape of the array. For example (2,3) for 2-D array.\n",
    "print(arr1)\n",
    "print(arr1.shape)\n",
    "#ndim  - gives the no. of dimensions in an array. For example 3 for 3-D array\n",
    "print(arr1.ndim)\n",
    "#size - gives the no. of elements in an array\n",
    "print(arr1.size)\n",
    "#item_size - gives the size of the datatype\n",
    "print(arr1.itemsize)\n",
    "#dtype - gives the name of the data type\n",
    "print(arr1.dtype)"
   ]
  },
  {
   "cell_type": "markdown",
   "id": "64f9b70d",
   "metadata": {},
   "source": [
    "#### We use astype() method to convert one datatype to another.\n",
    "\n",
    "Suppose we have a huge dataset with some columns with floating type values but imagine for some of the columns this proved to be unnecessary somehow. So, in that case, we can use <b>astype()</b> to make those data as interger values. This will save us a lot of storage and the data will process much faster. "
   ]
  },
  {
   "cell_type": "code",
   "execution_count": 16,
   "id": "8063ebd7",
   "metadata": {},
   "outputs": [
    {
     "name": "stdout",
     "output_type": "stream",
     "text": [
      "[[[ 0.  1.  2.  3.  4.  5.]\n",
      "  [ 6.  7.  8.  9. 10. 11.]\n",
      "  [12. 13. 14. 15. 16. 17.]]\n",
      "\n",
      " [[18. 19. 20. 21. 22. 23.]\n",
      "  [24. 25. 26. 27. 28. 29.]\n",
      "  [30. 31. 32. 33. 34. 35.]]]\n",
      "(2, 3, 6)\n",
      "3\n",
      "36\n",
      "8\n",
      "float64\n"
     ]
    }
   ],
   "source": [
    "arr10 = np.arange(36).reshape(2,3,6).astype('float64')\n",
    "print(arr10)\n",
    "print(arr10.shape)\n",
    "print(arr10.ndim)\n",
    "print(arr10.size)\n",
    "print(arr10.itemsize)\n",
    "print(arr10.dtype)"
   ]
  },
  {
   "cell_type": "markdown",
   "id": "1294e93d",
   "metadata": {},
   "source": [
    "### Python Lists vs Numpy Arrays\n",
    "\n",
    "Numpy Arrays are\n",
    "1. Faster\n",
    "2. Convenient\n",
    "3. Less Memory"
   ]
  },
  {
   "cell_type": "code",
   "execution_count": 17,
   "id": "6352d321",
   "metadata": {},
   "outputs": [
    {
     "name": "stdout",
     "output_type": "stream",
     "text": [
      "[0, 1, 2, 3, 4, 5, 6, 7, 8, 9]\n",
      "[0 1 2 3 4 5 6 7 8 9]\n"
     ]
    }
   ],
   "source": [
    "# Python does not unpack the result of the range() function.So, we use argument-unpacking operator i.e. *\n",
    "list_a = [*range(10)]\n",
    "arr_a = np.arange(10)\n",
    "print(list_a)\n",
    "print(arr_a)"
   ]
  },
  {
   "cell_type": "code",
   "execution_count": 18,
   "id": "a2044166",
   "metadata": {},
   "outputs": [
    {
     "name": "stdout",
     "output_type": "stream",
     "text": [
      "list_a occupies 280 bytes\n",
      "arr_a occupies 40 bytes\n"
     ]
    }
   ],
   "source": [
    "#Example of less Memory.\n",
    "#We will calculate the amount of storage list and array are taking individually.\n",
    "\n",
    "import sys\n",
    "#Below we multiplied the size of an element with total no. of elements in a list.\n",
    "print(f'list_a occupies {sys.getsizeof(12) * len(list_a)} bytes')\n",
    "\n",
    "print(f'arr_a occupies {arr_a.itemsize * arr_a.size} bytes')\n",
    "\n",
    "#So, given same no. of items, numpy array occupies less amount of memory than python list. "
   ]
  },
  {
   "cell_type": "code",
   "execution_count": 19,
   "id": "7e1c1f8b",
   "metadata": {},
   "outputs": [
    {
     "name": "stdout",
     "output_type": "stream",
     "text": [
      "7.930303573608398\n"
     ]
    }
   ],
   "source": [
    "#Example of Faster\n",
    "#In this cell, we will calculate the amount of time it takes to process a sample list's data\n",
    "import time\n",
    "x = range(100000000)\n",
    "y = range(100000000,200000000)\n",
    "\n",
    "#time() - gives the current time.\n",
    "\n",
    "start_time = time.time()\n",
    "z = [(i+j) for i,j in zip(x,y)]\n",
    "timetaken = (time.time() - start_time)  #Gives you the duration of execution.\n",
    "print(timetaken)"
   ]
  },
  {
   "cell_type": "code",
   "execution_count": 20,
   "id": "53b4f4a3",
   "metadata": {},
   "outputs": [
    {
     "name": "stdout",
     "output_type": "stream",
     "text": [
      "0.11369633674621582\n"
     ]
    }
   ],
   "source": [
    "#In this cell, we will calculate the amount of time it takes to process a sample numpy array's data\n",
    "xa = np.arange(100000000)\n",
    "ya = np.arange(100000000,200000000)\n",
    "start_time = time.time()\n",
    "za = xa+ya\n",
    "print(time.time() - start_time)\n",
    "\n",
    "#So, Numpy array takes less amount of time to execute a process than the list. In real world problems,\n",
    "#we need to perform tons of process. So, it is better to use numpy array than list in those problems."
   ]
  },
  {
   "cell_type": "code",
   "execution_count": 21,
   "id": "a561c0d5",
   "metadata": {},
   "outputs": [],
   "source": [
    "#First line is a bit complex than the second one. Thus we can prove that Numpy array is more convenient.\n",
    "#z = [(i+j) for i,j in zip(x,y)]\n",
    "#za = xa+ya"
   ]
  },
  {
   "cell_type": "markdown",
   "id": "fd48d1d4",
   "metadata": {},
   "source": [
    "### Indexing, Slicing and Iteration\n",
    "\n",
    "<b>Indexing</b> - Indexing is a way to refer the individual items within an <b>iterable</b> (Lists, arrays, strings etc.) by its position. \n",
    "\n",
    "<b>Iterable</b> - Iterable is an object which can be iterated over with the help of a loop. Objects like lists, tuples, sets, dictionaries, strings, etc. are called iterables.\n",
    "\n",
    "<b>Slicing</b> - Slicing refers to accessing a specific portion or a subset of the data for some operation while the orginal list remains unaffected."
   ]
  },
  {
   "cell_type": "code",
   "execution_count": 22,
   "id": "0999d178",
   "metadata": {},
   "outputs": [
    {
     "data": {
      "text/plain": [
       "array([[ 0,  1,  2,  3,  4,  5],\n",
       "       [ 6,  7,  8,  9, 10, 11],\n",
       "       [12, 13, 14, 15, 16, 17],\n",
       "       [18, 19, 20, 21, 22, 23],\n",
       "       [24, 25, 26, 27, 28, 29],\n",
       "       [30, 31, 32, 33, 34, 35]])"
      ]
     },
     "execution_count": 22,
     "metadata": {},
     "output_type": "execute_result"
    }
   ],
   "source": [
    "ar1 = np.arange(36).reshape(6,6)\n",
    "ar1"
   ]
  },
  {
   "cell_type": "code",
   "execution_count": 23,
   "id": "7d1b464a",
   "metadata": {},
   "outputs": [
    {
     "name": "stdout",
     "output_type": "stream",
     "text": [
      "[12 13 14 15 16 17]\n",
      "[[12 13 14 15 16 17]\n",
      " [18 19 20 21 22 23]]\n",
      "[30 31 32 33 34 35]\n"
     ]
    }
   ],
   "source": [
    "print(ar1[2])    #indexing\n",
    "print(ar1[2:4])  #slicing\n",
    "print(ar1[-1])   #gives the last row"
   ]
  },
  {
   "cell_type": "code",
   "execution_count": 24,
   "id": "51ed0463",
   "metadata": {},
   "outputs": [
    {
     "name": "stdout",
     "output_type": "stream",
     "text": [
      "[ 4 10 16 22 28 34]\n",
      "[[ 3  4]\n",
      " [ 9 10]\n",
      " [15 16]\n",
      " [21 22]\n",
      " [27 28]\n",
      " [33 34]]\n",
      "[[20 21]\n",
      " [26 27]]\n"
     ]
    }
   ],
   "source": [
    "print(ar1[:,4])  #It will give us the values of the 5th column\n",
    "print(ar1[:,3:5])\n",
    "print(ar1[3:5,2:4])"
   ]
  },
  {
   "cell_type": "code",
   "execution_count": 25,
   "id": "f36dd5d8",
   "metadata": {},
   "outputs": [
    {
     "data": {
      "text/plain": [
       "array([30, 31, 32, 33, 34, 35])"
      ]
     },
     "execution_count": 25,
     "metadata": {},
     "output_type": "execute_result"
    }
   ],
   "source": [
    "ar1[-1]"
   ]
  },
  {
   "cell_type": "code",
   "execution_count": 26,
   "id": "82035f10",
   "metadata": {},
   "outputs": [
    {
     "name": "stdout",
     "output_type": "stream",
     "text": [
      "[1 2 3 4 5]\n",
      "4\n",
      "[2 3 4]\n"
     ]
    }
   ],
   "source": [
    "print(arr1)\n",
    "print(arr1[3])     #Indexing\n",
    "print(arr1[1:4])   #Slicing"
   ]
  },
  {
   "cell_type": "code",
   "execution_count": 27,
   "id": "6cbe0579",
   "metadata": {},
   "outputs": [
    {
     "name": "stdout",
     "output_type": "stream",
     "text": [
      "0\n",
      "1\n",
      "2\n",
      "3\n",
      "4\n",
      "5\n",
      "6\n",
      "7\n",
      "8\n",
      "9\n",
      "10\n",
      "11\n",
      "12\n",
      "13\n",
      "14\n",
      "15\n",
      "16\n",
      "17\n",
      "18\n",
      "19\n",
      "20\n",
      "21\n",
      "22\n",
      "23\n",
      "24\n",
      "25\n",
      "26\n",
      "27\n",
      "28\n",
      "29\n",
      "30\n",
      "31\n",
      "32\n",
      "33\n",
      "34\n",
      "35\n"
     ]
    }
   ],
   "source": [
    "#example of Iteration\n",
    "#for i in ar1:\n",
    "#    for j in i:\n",
    "#        print(j)\n",
    "        \n",
    "#the above code can be written simply using nditer() method\n",
    "for i in np.nditer(ar1):\n",
    "    print(i)"
   ]
  },
  {
   "cell_type": "markdown",
   "id": "38392a33",
   "metadata": {},
   "source": [
    "## Numpy operations\n",
    "\n",
    "<b>Fun Fact: </b> There are tons of functions to choose from. But honestly we can't remember all of these. Just remember Google is our friend."
   ]
  },
  {
   "cell_type": "code",
   "execution_count": 28,
   "id": "57373d5d",
   "metadata": {},
   "outputs": [
    {
     "data": {
      "text/plain": [
       "array([-2, -2, -2, -2, -2, -2])"
      ]
     },
     "execution_count": 28,
     "metadata": {},
     "output_type": "execute_result"
    }
   ],
   "source": [
    "array1 = np.arange(2,8)\n",
    "array2 = np.arange(4,10)\n",
    "array1 - array2"
   ]
  },
  {
   "cell_type": "code",
   "execution_count": 29,
   "id": "465518e8",
   "metadata": {},
   "outputs": [
    {
     "data": {
      "text/plain": [
       "array([ 8, 15, 24, 35, 48, 63])"
      ]
     },
     "execution_count": 29,
     "metadata": {},
     "output_type": "execute_result"
    }
   ],
   "source": [
    "array1 * array2       #Vector Multiplication"
   ]
  },
  {
   "cell_type": "code",
   "execution_count": 30,
   "id": "14bff58c",
   "metadata": {},
   "outputs": [
    {
     "data": {
      "text/plain": [
       "array([ 4,  6,  8, 10, 12, 14])"
      ]
     },
     "execution_count": 30,
     "metadata": {},
     "output_type": "execute_result"
    }
   ],
   "source": [
    "array1 * 2            #Scaler Multiplication."
   ]
  },
  {
   "cell_type": "code",
   "execution_count": 31,
   "id": "ac536b3b",
   "metadata": {},
   "outputs": [
    {
     "name": "stdout",
     "output_type": "stream",
     "text": [
      "[ 4  9 16 25 36 49]\n"
     ]
    }
   ],
   "source": [
    "print(array1 ** 2)    #2 to the power "
   ]
  },
  {
   "cell_type": "code",
   "execution_count": 32,
   "id": "316fb26e",
   "metadata": {},
   "outputs": [
    {
     "data": {
      "text/plain": [
       "array([False, False,  True,  True,  True,  True])"
      ]
     },
     "execution_count": 32,
     "metadata": {},
     "output_type": "execute_result"
    }
   ],
   "source": [
    "array1 > 3"
   ]
  },
  {
   "cell_type": "markdown",
   "id": "eff64b56",
   "metadata": {},
   "source": [
    "#### Array dot product"
   ]
  },
  {
   "cell_type": "code",
   "execution_count": 33,
   "id": "5edadb57",
   "metadata": {},
   "outputs": [
    {
     "data": {
      "text/plain": [
       "193"
      ]
     },
     "execution_count": 33,
     "metadata": {},
     "output_type": "execute_result"
    }
   ],
   "source": [
    "array1.dot(array2)"
   ]
  },
  {
   "cell_type": "code",
   "execution_count": 34,
   "id": "9a061265",
   "metadata": {},
   "outputs": [],
   "source": [
    "#multiplication possible when nxm *  mxa = nxa\n",
    "array3 = np.arange(12).reshape(3,4)\n",
    "array4 = np.arange(16).reshape(4,4)"
   ]
  },
  {
   "cell_type": "code",
   "execution_count": 35,
   "id": "53b3feef",
   "metadata": {},
   "outputs": [
    {
     "name": "stdout",
     "output_type": "stream",
     "text": [
      "[[ 56  62  68  74]\n",
      " [152 174 196 218]\n",
      " [248 286 324 362]]\n"
     ]
    }
   ],
   "source": [
    "result = array3.dot(array4)\n",
    "print(result)"
   ]
  },
  {
   "cell_type": "markdown",
   "id": "bc02e5b8",
   "metadata": {},
   "source": [
    "#### Some useful functions"
   ]
  },
  {
   "cell_type": "code",
   "execution_count": 36,
   "id": "ab53e7a5",
   "metadata": {},
   "outputs": [
    {
     "data": {
      "text/plain": [
       "11"
      ]
     },
     "execution_count": 36,
     "metadata": {},
     "output_type": "execute_result"
    }
   ],
   "source": [
    "array3.max()"
   ]
  },
  {
   "cell_type": "code",
   "execution_count": 37,
   "id": "ddcb7f6d",
   "metadata": {},
   "outputs": [
    {
     "data": {
      "text/plain": [
       "56"
      ]
     },
     "execution_count": 37,
     "metadata": {},
     "output_type": "execute_result"
    }
   ],
   "source": [
    "result.min()   #this function is defined inside the class."
   ]
  },
  {
   "cell_type": "code",
   "execution_count": 38,
   "id": "232ed98a",
   "metadata": {},
   "outputs": [
    {
     "data": {
      "text/plain": [
       "array([56, 62, 68, 74])"
      ]
     },
     "execution_count": 38,
     "metadata": {},
     "output_type": "execute_result"
    }
   ],
   "source": [
    "result.min(axis = 0)   #axis = 0 means columnwise operation"
   ]
  },
  {
   "cell_type": "code",
   "execution_count": 39,
   "id": "0a4e784a",
   "metadata": {},
   "outputs": [
    {
     "data": {
      "text/plain": [
       "array([ 74, 218, 362])"
      ]
     },
     "execution_count": 39,
     "metadata": {},
     "output_type": "execute_result"
    }
   ],
   "source": [
    "result.max(axis = 1)    #axis = 1 means rowwise operation."
   ]
  },
  {
   "cell_type": "code",
   "execution_count": 40,
   "id": "39c61754",
   "metadata": {},
   "outputs": [
    {
     "data": {
      "text/plain": [
       "2220"
      ]
     },
     "execution_count": 40,
     "metadata": {},
     "output_type": "execute_result"
    }
   ],
   "source": [
    "result.sum()"
   ]
  },
  {
   "cell_type": "code",
   "execution_count": 41,
   "id": "6bc9a9d0",
   "metadata": {},
   "outputs": [
    {
     "data": {
      "text/plain": [
       "array([ 260,  740, 1220])"
      ]
     },
     "execution_count": 41,
     "metadata": {},
     "output_type": "execute_result"
    }
   ],
   "source": [
    "result.sum(axis = 1)  #returns the sum of all the elements in every rows"
   ]
  },
  {
   "cell_type": "code",
   "execution_count": 42,
   "id": "741e1b3d",
   "metadata": {},
   "outputs": [
    {
     "data": {
      "text/plain": [
       "185.0"
      ]
     },
     "execution_count": 42,
     "metadata": {},
     "output_type": "execute_result"
    }
   ],
   "source": [
    "result.mean()"
   ]
  },
  {
   "cell_type": "code",
   "execution_count": 43,
   "id": "65530a2f",
   "metadata": {},
   "outputs": [
    {
     "data": {
      "text/plain": [
       "102.07023725520253"
      ]
     },
     "execution_count": 43,
     "metadata": {},
     "output_type": "execute_result"
    }
   ],
   "source": [
    "result.std()"
   ]
  },
  {
   "cell_type": "code",
   "execution_count": 44,
   "id": "38ed942c",
   "metadata": {},
   "outputs": [
    {
     "data": {
      "text/plain": [
       "185.0"
      ]
     },
     "execution_count": 44,
     "metadata": {},
     "output_type": "execute_result"
    }
   ],
   "source": [
    "np.median(result)    #static function. That is the function is defined outside of the class"
   ]
  },
  {
   "cell_type": "code",
   "execution_count": 45,
   "id": "d39d297b",
   "metadata": {},
   "outputs": [
    {
     "data": {
      "text/plain": [
       "array([[ 0.        ,  0.84147098,  0.90929743,  0.14112001],\n",
       "       [-0.7568025 , -0.95892427, -0.2794155 ,  0.6569866 ],\n",
       "       [ 0.98935825,  0.41211849, -0.54402111, -0.99999021],\n",
       "       [-0.53657292,  0.42016704,  0.99060736,  0.65028784]])"
      ]
     },
     "execution_count": 45,
     "metadata": {},
     "output_type": "execute_result"
    }
   ],
   "source": [
    "np.sin(array4)    #static function or Universal function."
   ]
  },
  {
   "cell_type": "code",
   "execution_count": 46,
   "id": "76b9b5db",
   "metadata": {},
   "outputs": [
    {
     "data": {
      "text/plain": [
       "array([[2.09165950e+024, 8.43835667e+026, 3.40427605e+029,\n",
       "        1.37338298e+032],\n",
       "       [1.02981983e+066, 3.69181433e+075, 1.32348326e+085,\n",
       "        4.74457215e+094],\n",
       "       [5.07027496e+107, 1.61518333e+124, 5.14531700e+140,\n",
       "        1.63908867e+157]])"
      ]
     },
     "execution_count": 46,
     "metadata": {},
     "output_type": "execute_result"
    }
   ],
   "source": [
    "np.exp(result)"
   ]
  },
  {
   "cell_type": "code",
   "execution_count": 47,
   "id": "07dcbab8",
   "metadata": {},
   "outputs": [
    {
     "data": {
      "text/plain": [
       "array([[4.02535169, 4.12713439, 4.21950771, 4.30406509],\n",
       "       [5.02388052, 5.1590553 , 5.27811466, 5.38449506],\n",
       "       [5.51342875, 5.65599181, 5.78074352, 5.89164421]])"
      ]
     },
     "execution_count": 47,
     "metadata": {},
     "output_type": "execute_result"
    }
   ],
   "source": [
    "np.log(result)      "
   ]
  },
  {
   "cell_type": "code",
   "execution_count": 48,
   "id": "5bb719c8",
   "metadata": {},
   "outputs": [
    {
     "data": {
      "text/plain": [
       "array([[4, 4, 4, 4],\n",
       "       [5, 5, 5, 5],\n",
       "       [5, 5, 5, 5]], dtype=int32)"
      ]
     },
     "execution_count": 48,
     "metadata": {},
     "output_type": "execute_result"
    }
   ],
   "source": [
    "np.log(result).astype('i')"
   ]
  },
  {
   "cell_type": "markdown",
   "id": "4b160a3f",
   "metadata": {},
   "source": [
    "## Reshaping Numpy Arrays\n",
    "\n",
    "<b>Ravel<br>Reshape</b>"
   ]
  },
  {
   "cell_type": "code",
   "execution_count": 49,
   "id": "f7560330",
   "metadata": {},
   "outputs": [
    {
     "data": {
      "text/plain": [
       "array([[ 0,  1,  2,  3],\n",
       "       [ 4,  5,  6,  7],\n",
       "       [ 8,  9, 10, 11],\n",
       "       [12, 13, 14, 15]])"
      ]
     },
     "execution_count": 49,
     "metadata": {},
     "output_type": "execute_result"
    }
   ],
   "source": [
    "array4"
   ]
  },
  {
   "cell_type": "code",
   "execution_count": 50,
   "id": "d3993e66",
   "metadata": {},
   "outputs": [
    {
     "data": {
      "text/plain": [
       "array([ 0,  1,  2,  3,  4,  5,  6,  7,  8,  9, 10, 11, 12, 13, 14, 15])"
      ]
     },
     "execution_count": 50,
     "metadata": {},
     "output_type": "execute_result"
    }
   ],
   "source": [
    "#array4.ravel()   #ravel() method will collapse the n-d array to 1-d array\n",
    "array4.reshape(-1)   #This also flattens the n-d array to 1-d array."
   ]
  },
  {
   "cell_type": "code",
   "execution_count": 51,
   "id": "0c9021e8",
   "metadata": {},
   "outputs": [
    {
     "data": {
      "text/plain": [
       "array([[ 0,  1,  2,  3],\n",
       "       [ 4,  5,  6,  7],\n",
       "       [ 8,  9, 10, 11]])"
      ]
     },
     "execution_count": 51,
     "metadata": {},
     "output_type": "execute_result"
    }
   ],
   "source": [
    "array3"
   ]
  },
  {
   "cell_type": "code",
   "execution_count": 52,
   "id": "87ccd596",
   "metadata": {},
   "outputs": [
    {
     "data": {
      "text/plain": [
       "array([[ 0,  4,  8],\n",
       "       [ 1,  5,  9],\n",
       "       [ 2,  6, 10],\n",
       "       [ 3,  7, 11]])"
      ]
     },
     "execution_count": 52,
     "metadata": {},
     "output_type": "execute_result"
    }
   ],
   "source": [
    "array3.transpose()  #The transpose of a matrix is found by interchanging its rows into columns or columns into rows."
   ]
  },
  {
   "cell_type": "markdown",
   "id": "5db9b8e2",
   "metadata": {},
   "source": [
    "<b>Transpose</b><br>[Transpose of 3-D array](https://www.youtube.com/watch?v=ydosxH65pdA)"
   ]
  },
  {
   "cell_type": "code",
   "execution_count": 53,
   "id": "677d0739",
   "metadata": {},
   "outputs": [
    {
     "data": {
      "text/plain": [
       "array([[[ 0,  1,  2,  3,  4,  5],\n",
       "        [ 6,  7,  8,  9, 10, 11],\n",
       "        [12, 13, 14, 15, 16, 17]],\n",
       "\n",
       "       [[18, 19, 20, 21, 22, 23],\n",
       "        [24, 25, 26, 27, 28, 29],\n",
       "        [30, 31, 32, 33, 34, 35]]])"
      ]
     },
     "execution_count": 53,
     "metadata": {},
     "output_type": "execute_result"
    }
   ],
   "source": [
    "array3d = np.arange(36).reshape(2,3,6)\n",
    "array3d"
   ]
  },
  {
   "cell_type": "code",
   "execution_count": 54,
   "id": "29d49b0e",
   "metadata": {},
   "outputs": [
    {
     "data": {
      "text/plain": [
       "array([[[ 0,  6, 12],\n",
       "        [18, 24, 30]],\n",
       "\n",
       "       [[ 1,  7, 13],\n",
       "        [19, 25, 31]],\n",
       "\n",
       "       [[ 2,  8, 14],\n",
       "        [20, 26, 32]],\n",
       "\n",
       "       [[ 3,  9, 15],\n",
       "        [21, 27, 33]],\n",
       "\n",
       "       [[ 4, 10, 16],\n",
       "        [22, 28, 34]],\n",
       "\n",
       "       [[ 5, 11, 17],\n",
       "        [23, 29, 35]]])"
      ]
     },
     "execution_count": 54,
     "metadata": {},
     "output_type": "execute_result"
    }
   ],
   "source": [
    "array3d.transpose(2,0,1)  #will produce 3-d array with (6,2,3) dimensions."
   ]
  },
  {
   "cell_type": "markdown",
   "id": "bae918d7",
   "metadata": {},
   "source": [
    "#### Stacking"
   ]
  },
  {
   "cell_type": "code",
   "execution_count": 55,
   "id": "7b85e482",
   "metadata": {},
   "outputs": [
    {
     "data": {
      "text/plain": [
       "array([[ 0,  1,  2,  3],\n",
       "       [ 4,  5,  6,  7],\n",
       "       [ 8,  9, 10, 11]])"
      ]
     },
     "execution_count": 55,
     "metadata": {},
     "output_type": "execute_result"
    }
   ],
   "source": [
    "array5 = np.arange(16,28).reshape(3,4)\n",
    "array3"
   ]
  },
  {
   "cell_type": "code",
   "execution_count": 56,
   "id": "05070698",
   "metadata": {},
   "outputs": [
    {
     "data": {
      "text/plain": [
       "array([[16, 17, 18, 19],\n",
       "       [20, 21, 22, 23],\n",
       "       [24, 25, 26, 27]])"
      ]
     },
     "execution_count": 56,
     "metadata": {},
     "output_type": "execute_result"
    }
   ],
   "source": [
    "array5"
   ]
  },
  {
   "cell_type": "code",
   "execution_count": 57,
   "id": "c3a1f697",
   "metadata": {},
   "outputs": [
    {
     "data": {
      "text/plain": [
       "array([[16, 17, 18, 19,  0,  1,  2,  3],\n",
       "       [20, 21, 22, 23,  4,  5,  6,  7],\n",
       "       [24, 25, 26, 27,  8,  9, 10, 11]])"
      ]
     },
     "execution_count": 57,
     "metadata": {},
     "output_type": "execute_result"
    }
   ],
   "source": [
    "np.hstack((array5,array3))    #this method needs a tuple"
   ]
  },
  {
   "cell_type": "code",
   "execution_count": 58,
   "id": "73e18022",
   "metadata": {},
   "outputs": [
    {
     "data": {
      "text/plain": [
       "array([[ 0,  1,  2,  3],\n",
       "       [ 4,  5,  6,  7],\n",
       "       [ 8,  9, 10, 11],\n",
       "       [16, 17, 18, 19],\n",
       "       [20, 21, 22, 23],\n",
       "       [24, 25, 26, 27]])"
      ]
     },
     "execution_count": 58,
     "metadata": {},
     "output_type": "execute_result"
    }
   ],
   "source": [
    "np.vstack((array3,array5))"
   ]
  },
  {
   "cell_type": "markdown",
   "id": "2164091c",
   "metadata": {},
   "source": [
    "#### Splitting"
   ]
  },
  {
   "cell_type": "code",
   "execution_count": 59,
   "id": "e2015d5d",
   "metadata": {},
   "outputs": [
    {
     "data": {
      "text/plain": [
       "[array([[0, 1],\n",
       "        [4, 5],\n",
       "        [8, 9]]),\n",
       " array([[ 2,  3],\n",
       "        [ 6,  7],\n",
       "        [10, 11]])]"
      ]
     },
     "execution_count": 59,
     "metadata": {},
     "output_type": "execute_result"
    }
   ],
   "source": [
    "np.hsplit(array3,2)                   #The method is counter intuitive. Just think columns are splitted horizontally."
   ]
  },
  {
   "cell_type": "code",
   "execution_count": 60,
   "id": "c1fca55c",
   "metadata": {},
   "outputs": [
    {
     "data": {
      "text/plain": [
       "[array([[16, 17, 18, 19]]),\n",
       " array([[20, 21, 22, 23]]),\n",
       " array([[24, 25, 26, 27]])]"
      ]
     },
     "execution_count": 60,
     "metadata": {},
     "output_type": "execute_result"
    }
   ],
   "source": [
    "np.vsplit(array5,3)           #this too is counterintuitive, just think rows are splitted vertically."
   ]
  },
  {
   "cell_type": "markdown",
   "id": "4a5a68eb",
   "metadata": {},
   "source": [
    "## Fancy Indexing"
   ]
  },
  {
   "cell_type": "code",
   "execution_count": 61,
   "id": "9323cbde",
   "metadata": {},
   "outputs": [],
   "source": [
    "fancy_array = np.arange(24,48).reshape(6,4)"
   ]
  },
  {
   "cell_type": "code",
   "execution_count": 62,
   "id": "79df8537",
   "metadata": {},
   "outputs": [
    {
     "data": {
      "text/plain": [
       "array([[24, 25, 26, 27],\n",
       "       [28, 29, 30, 31],\n",
       "       [32, 33, 34, 35],\n",
       "       [36, 37, 38, 39],\n",
       "       [40, 41, 42, 43],\n",
       "       [44, 45, 46, 47]])"
      ]
     },
     "execution_count": 62,
     "metadata": {},
     "output_type": "execute_result"
    }
   ],
   "source": [
    "fancy_array"
   ]
  },
  {
   "cell_type": "code",
   "execution_count": 63,
   "id": "b3e3fdea",
   "metadata": {},
   "outputs": [
    {
     "data": {
      "text/plain": [
       "array([[24, 25, 26, 27],\n",
       "       [32, 33, 34, 35],\n",
       "       [40, 41, 42, 43]])"
      ]
     },
     "execution_count": 63,
     "metadata": {},
     "output_type": "execute_result"
    }
   ],
   "source": [
    "#suppose we need first, third and fifth row to form a new matrix\n",
    "#fancy_array[0:6:2,:]      #we can use this\n",
    "\n",
    "#Or use the fancy method\n",
    "fl = [0,2,4]\n",
    "fancy_array[fl]            #passing a list of the rows.\n",
    "#fancy_array[:,[0,1]]      #works for columns as well."
   ]
  },
  {
   "cell_type": "markdown",
   "id": "9d2a2dc7",
   "metadata": {},
   "source": [
    "## Working with Random values in NumPy"
   ]
  },
  {
   "cell_type": "code",
   "execution_count": 65,
   "id": "71078e85",
   "metadata": {},
   "outputs": [
    {
     "data": {
      "text/plain": [
       "0.5534257591671142"
      ]
     },
     "execution_count": 65,
     "metadata": {},
     "output_type": "execute_result"
    }
   ],
   "source": [
    "np.random.random()"
   ]
  },
  {
   "cell_type": "code",
   "execution_count": null,
   "id": "50ba10b8",
   "metadata": {},
   "outputs": [],
   "source": []
  },
  {
   "cell_type": "markdown",
   "id": "8d5be08f",
   "metadata": {},
   "source": [
    "## Indexing Using Boolean Arrays"
   ]
  },
  {
   "cell_type": "code",
   "execution_count": null,
   "id": "f0f642b6",
   "metadata": {},
   "outputs": [],
   "source": []
  },
  {
   "cell_type": "code",
   "execution_count": null,
   "id": "1cab4e30",
   "metadata": {},
   "outputs": [],
   "source": []
  }
 ],
 "metadata": {
  "kernelspec": {
   "display_name": "Python 3 (ipykernel)",
   "language": "python",
   "name": "python3"
  },
  "language_info": {
   "codemirror_mode": {
    "name": "ipython",
    "version": 3
   },
   "file_extension": ".py",
   "mimetype": "text/x-python",
   "name": "python",
   "nbconvert_exporter": "python",
   "pygments_lexer": "ipython3",
   "version": "3.9.7"
  }
 },
 "nbformat": 4,
 "nbformat_minor": 5
}
