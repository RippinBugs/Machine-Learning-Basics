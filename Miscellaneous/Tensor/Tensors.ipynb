{
 "cells": [
  {
   "cell_type": "markdown",
   "id": "1bf49300",
   "metadata": {},
   "source": [
    "### What is a tensor?"
   ]
  },
  {
   "cell_type": "markdown",
   "id": "2b473117",
   "metadata": {},
   "source": [
    "Tensor is nothing but a container which stores data for Machine Learning models to learn from them. It mostly works with numerical values but in rare ocassions one might have to deal with strings and characters etc. It's a data structure that generally is a <b style = \"color:purple\">n-d</b> array."
   ]
  },
  {
   "cell_type": "code",
   "execution_count": 1,
   "id": "169bac16",
   "metadata": {},
   "outputs": [],
   "source": [
    "import numpy as np"
   ]
  },
  {
   "cell_type": "markdown",
   "id": "5f7eaf10",
   "metadata": {},
   "source": [
    "#### Scalar / 0-D tensor\n",
    "\n",
    "Scalar is just a variable/object with a single value."
   ]
  },
  {
   "cell_type": "code",
   "execution_count": 11,
   "id": "0b6a3ff9",
   "metadata": {},
   "outputs": [
    {
     "data": {
      "text/plain": [
       "array(5)"
      ]
     },
     "execution_count": 11,
     "metadata": {},
     "output_type": "execute_result"
    }
   ],
   "source": [
    "scalar_ = np.array(5)\n",
    "scalar_                     #This scalar_ is an example of scalar or 0-D tensor. "
   ]
  },
  {
   "cell_type": "code",
   "execution_count": 40,
   "id": "0e50a11e",
   "metadata": {},
   "outputs": [
    {
     "data": {
      "text/plain": [
       "()"
      ]
     },
     "execution_count": 40,
     "metadata": {},
     "output_type": "execute_result"
    }
   ],
   "source": [
    "scalar_.shape"
   ]
  },
  {
   "cell_type": "code",
   "execution_count": 25,
   "id": "86c7d81e",
   "metadata": {},
   "outputs": [
    {
     "data": {
      "text/plain": [
       "0"
      ]
     },
     "execution_count": 25,
     "metadata": {},
     "output_type": "execute_result"
    }
   ],
   "source": [
    "scalar_.ndim                #Gives us the dimension of the scalar or 0-D tensor."
   ]
  },
  {
   "cell_type": "markdown",
   "id": "a3d79341",
   "metadata": {},
   "source": [
    "#### Vector / 1-D tensor\n",
    "1-D tensor is simply a 1-D array. i.e. Vector. It contains a list of values(scalars). <br><br>\n",
    "In other words, 1-D tensor is a collection of 0-D tensors."
   ]
  },
  {
   "cell_type": "code",
   "execution_count": 15,
   "id": "5235173f",
   "metadata": {},
   "outputs": [
    {
     "data": {
      "text/plain": [
       "array([1, 2, 3, 4, 5])"
      ]
     },
     "execution_count": 15,
     "metadata": {},
     "output_type": "execute_result"
    }
   ],
   "source": [
    "vector_ = np.array([1,2,3,4,5])\n",
    "vector_"
   ]
  },
  {
   "cell_type": "code",
   "execution_count": 41,
   "id": "10bc76b3",
   "metadata": {},
   "outputs": [
    {
     "data": {
      "text/plain": [
       "(5,)"
      ]
     },
     "execution_count": 41,
     "metadata": {},
     "output_type": "execute_result"
    }
   ],
   "source": [
    "vector_.shape"
   ]
  },
  {
   "cell_type": "code",
   "execution_count": 16,
   "id": "0e33e380",
   "metadata": {},
   "outputs": [
    {
     "data": {
      "text/plain": [
       "1"
      ]
     },
     "execution_count": 16,
     "metadata": {},
     "output_type": "execute_result"
    }
   ],
   "source": [
    "vector_.ndim"
   ]
  },
  {
   "cell_type": "code",
   "execution_count": 19,
   "id": "1165a7d0",
   "metadata": {},
   "outputs": [
    {
     "data": {
      "text/plain": [
       "5"
      ]
     },
     "execution_count": 19,
     "metadata": {},
     "output_type": "execute_result"
    }
   ],
   "source": [
    "vector_.size            #no. of dimensions of vector or the number of elements in the vector."
   ]
  },
  {
   "cell_type": "markdown",
   "id": "396b564a",
   "metadata": {},
   "source": [
    "#### Matrix / 2-D tensor.\n",
    "\n",
    "2-D tensor is a collection of 1-D tensors. That is, when one adds up vectors to form a 2-D array then it is known as a 2-D tensor or Matrix."
   ]
  },
  {
   "cell_type": "code",
   "execution_count": 22,
   "id": "d75c04c0",
   "metadata": {},
   "outputs": [],
   "source": [
    "matrix_ = np.arange(1,13).reshape(4,3)"
   ]
  },
  {
   "cell_type": "code",
   "execution_count": 23,
   "id": "32d775b0",
   "metadata": {},
   "outputs": [
    {
     "data": {
      "text/plain": [
       "array([[ 1,  2,  3],\n",
       "       [ 4,  5,  6],\n",
       "       [ 7,  8,  9],\n",
       "       [10, 11, 12]])"
      ]
     },
     "execution_count": 23,
     "metadata": {},
     "output_type": "execute_result"
    }
   ],
   "source": [
    "matrix_"
   ]
  },
  {
   "cell_type": "code",
   "execution_count": 26,
   "id": "7fce20a2",
   "metadata": {},
   "outputs": [
    {
     "data": {
      "text/plain": [
       "2"
      ]
     },
     "execution_count": 26,
     "metadata": {},
     "output_type": "execute_result"
    }
   ],
   "source": [
    "matrix_.ndim      #Gives us the dimension of the Matrix or 2-D tensor."
   ]
  },
  {
   "cell_type": "code",
   "execution_count": 28,
   "id": "d231d529",
   "metadata": {},
   "outputs": [
    {
     "data": {
      "text/plain": [
       "12"
      ]
     },
     "execution_count": 28,
     "metadata": {},
     "output_type": "execute_result"
    }
   ],
   "source": [
    "matrix_.size      #gives us the no. of elements in the matrix."
   ]
  },
  {
   "cell_type": "markdown",
   "id": "e88c2034",
   "metadata": {},
   "source": [
    "#### 3-D tensor\n",
    "\n",
    "A collection of 2-D tensors/ Matrices forms a 3-D tensor. An image is an example of 3-D tensor because it forms by making 3 separate images in RGB and then by adding up these 3 matrices."
   ]
  },
  {
   "cell_type": "code",
   "execution_count": 31,
   "id": "ad50b6f9",
   "metadata": {},
   "outputs": [
    {
     "data": {
      "text/plain": [
       "array([[[ 0,  1,  2,  3],\n",
       "        [ 4,  5,  6,  7],\n",
       "        [ 8,  9, 10, 11]],\n",
       "\n",
       "       [[12, 13, 14, 15],\n",
       "        [16, 17, 18, 19],\n",
       "        [20, 21, 22, 23]]])"
      ]
     },
     "execution_count": 31,
     "metadata": {},
     "output_type": "execute_result"
    }
   ],
   "source": [
    "tensor_3D = np.arange(24).reshape(2,3,4)\n",
    "tensor_3D"
   ]
  },
  {
   "cell_type": "code",
   "execution_count": 32,
   "id": "58a89203",
   "metadata": {},
   "outputs": [
    {
     "data": {
      "text/plain": [
       "(2, 3, 4)"
      ]
     },
     "execution_count": 32,
     "metadata": {},
     "output_type": "execute_result"
    }
   ],
   "source": [
    "tensor_3D.shape"
   ]
  },
  {
   "cell_type": "code",
   "execution_count": 33,
   "id": "2051efa1",
   "metadata": {},
   "outputs": [
    {
     "data": {
      "text/plain": [
       "24"
      ]
     },
     "execution_count": 33,
     "metadata": {},
     "output_type": "execute_result"
    }
   ],
   "source": [
    "tensor_3D.size"
   ]
  },
  {
   "cell_type": "code",
   "execution_count": 34,
   "id": "d37cc736",
   "metadata": {},
   "outputs": [
    {
     "data": {
      "text/plain": [
       "3"
      ]
     },
     "execution_count": 34,
     "metadata": {},
     "output_type": "execute_result"
    }
   ],
   "source": [
    "tensor_3D.ndim"
   ]
  },
  {
   "cell_type": "markdown",
   "id": "999207ae",
   "metadata": {},
   "source": [
    "#### 4-D tensor and 5-D tensor\n",
    "\n",
    "A collection of 3-D tensors. Or in a way you can say that a vector of 3-D tensors. "
   ]
  },
  {
   "cell_type": "markdown",
   "id": "d7308ffd",
   "metadata": {},
   "source": [
    "Matrix of 3-D tensors or a vector of 4-D tensors."
   ]
  },
  {
   "cell_type": "code",
   "execution_count": 36,
   "id": "70c51c1d",
   "metadata": {},
   "outputs": [
    {
     "data": {
      "text/plain": [
       "array([[[[ 0,  1,  2],\n",
       "         [ 3,  4,  5],\n",
       "         [ 6,  7,  8]],\n",
       "\n",
       "        [[ 9, 10, 11],\n",
       "         [12, 13, 14],\n",
       "         [15, 16, 17]]],\n",
       "\n",
       "\n",
       "       [[[18, 19, 20],\n",
       "         [21, 22, 23],\n",
       "         [24, 25, 26]],\n",
       "\n",
       "        [[27, 28, 29],\n",
       "         [30, 31, 32],\n",
       "         [33, 34, 35]]]])"
      ]
     },
     "execution_count": 36,
     "metadata": {},
     "output_type": "execute_result"
    }
   ],
   "source": [
    "tensor_4d = np.arange(36).reshape(2,2,3,3)\n",
    "tensor_4d"
   ]
  },
  {
   "cell_type": "code",
   "execution_count": 39,
   "id": "cb53c249",
   "metadata": {},
   "outputs": [
    {
     "data": {
      "text/plain": [
       "4"
      ]
     },
     "execution_count": 39,
     "metadata": {},
     "output_type": "execute_result"
    }
   ],
   "source": [
    "tensor_4d.ndim"
   ]
  },
  {
   "cell_type": "code",
   "execution_count": 38,
   "id": "9ae79ee6",
   "metadata": {},
   "outputs": [
    {
     "data": {
      "text/plain": [
       "36"
      ]
     },
     "execution_count": 38,
     "metadata": {},
     "output_type": "execute_result"
    }
   ],
   "source": [
    "tensor_4d.size"
   ]
  },
  {
   "cell_type": "code",
   "execution_count": 37,
   "id": "5bdfe9db",
   "metadata": {},
   "outputs": [
    {
     "data": {
      "text/plain": [
       "(2, 2, 3, 3)"
      ]
     },
     "execution_count": 37,
     "metadata": {},
     "output_type": "execute_result"
    }
   ],
   "source": [
    "tensor_4d.shape"
   ]
  },
  {
   "cell_type": "markdown",
   "id": "2a09b850",
   "metadata": {},
   "source": [
    "#### N-D tensor\n",
    "N-D tensor is a collection of (N-1)-D tensors in general."
   ]
  },
  {
   "cell_type": "code",
   "execution_count": null,
   "id": "5f3bfd35",
   "metadata": {},
   "outputs": [],
   "source": []
  }
 ],
 "metadata": {
  "kernelspec": {
   "display_name": "Python 3 (ipykernel)",
   "language": "python",
   "name": "python3"
  },
  "language_info": {
   "codemirror_mode": {
    "name": "ipython",
    "version": 3
   },
   "file_extension": ".py",
   "mimetype": "text/x-python",
   "name": "python",
   "nbconvert_exporter": "python",
   "pygments_lexer": "ipython3",
   "version": "3.9.7"
  }
 },
 "nbformat": 4,
 "nbformat_minor": 5
}
